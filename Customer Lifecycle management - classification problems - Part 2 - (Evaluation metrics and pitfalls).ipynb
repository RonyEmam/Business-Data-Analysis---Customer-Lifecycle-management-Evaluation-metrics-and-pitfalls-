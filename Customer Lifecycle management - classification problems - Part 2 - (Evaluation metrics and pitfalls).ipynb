{
  "nbformat": 4,
  "nbformat_minor": 0,
  "metadata": {
    "colab": {
      "name": "Copy of Homework3.ipynb",
      "provenance": [],
      "collapsed_sections": [
        "on8nnIjpMLjE"
      ]
    },
    "kernelspec": {
      "display_name": "Python 3",
      "language": "python",
      "name": "python3"
    },
    "language_info": {
      "codemirror_mode": {
        "name": "ipython",
        "version": 3
      },
      "file_extension": ".py",
      "mimetype": "text/x-python",
      "name": "python",
      "nbconvert_exporter": "python",
      "pygments_lexer": "ipython3",
      "version": "3.6.9"
    }
  },
  "cells": [
    {
      "cell_type": "markdown",
      "metadata": {
        "id": "NR3tA_mpMLTq"
      },
      "source": [
        "<div class=\"alert alert-block alert-info\"><b></b>\n",
        "<h1><center> <font color='black'> Homework 03  </font></center></h1>\n",
        "<h2><center> <font color='black'> Classification problems</font></center></h2>    \n",
        "<h2><center> <font color='black'> MTAT.03.319 - Business Data Analytics</font></center></h2>\n",
        "<h2><center> <font color='black'> University of Tartu - Spring 2021</font></center></h2>\n",
        "</div>"
      ]
    },
    {
      "cell_type": "markdown",
      "metadata": {
        "id": "AVDAIuJlMLUI"
      },
      "source": [
        "# Homework instructions\n",
        "\n",
        "- Please provide the names and student IDs of the team-members (Maximum 2 person) in the field \"Team mates\" below. If you are not working in a team please insert only your name and student ID. \n",
        "\n",
        "- The accepted submission formats are Colab links or .ipynb files. If you are submitting Colab links please make sure that the privacy settings for the file is public so we can access your code. \n",
        "\n",
        "- The submission will automatically close on <font color='red'>**4 April at 23:59**</font>, so please make sure to submit before the deadline. \n",
        "\n",
        "- ONLY one of the teammates should submit the homework. We will grade the homework and the marks and feedback is applied for both the team members. So please communicate with your team member about marks and feedback if you are submit the homework.\n",
        "\n",
        "- If a question is not clear, please ask us in Moodle ONLY. \n",
        "\n",
        "- After you have finished solving the Homework, please restart the Kernel and run all the cells to check if there is any persisting issues. \n",
        "\n",
        "- Plagiarism is <font color='red'>**PROHIBITED**</font>. Any form of plagiarism will be dealt according to the university policy (https://www.ut.ee/en/current-students/academic-fraud).\n"
      ]
    },
    {
      "cell_type": "markdown",
      "metadata": {
        "id": "Ajm9qYjsMLUU"
      },
      "source": [
        "**<h2><font color='red'>Team mates:</font></h2>**\n",
        "\n",
        "\n",
        "<font color='red'>Name: Mohga Emam</font>&emsp;   <font color='red'>Student ID: C09505</font>\n",
        "\n",
        "\n",
        "<font color='red'>Name: Rewan Emam</font>&emsp;   <font color='red'>Student ID: C07851</font>\n",
        "\n",
        "\n"
      ]
    },
    {
      "cell_type": "markdown",
      "metadata": {
        "id": "OSA889NUZs_U"
      },
      "source": [
        "### The homework is divided into four sections and the points are distributed as below:\n",
        "<pre>\n",
        "- Classification tasks       -> 8 points\n",
        "- Improving classification   -> 2 points\n",
        "__________________________________________\n",
        "Total                        -> 10 points\n",
        "</pre>"
      ]
    },
    {
      "cell_type": "markdown",
      "metadata": {
        "id": "e3vqLGBCMLUh"
      },
      "source": [
        "# 1. Classification tasks (8 points)"
      ]
    },
    {
      "cell_type": "markdown",
      "metadata": {
        "id": "Sq8fuNbAMLUs"
      },
      "source": [
        "We are going to use the dataset from the file HR_Employee_Attrition.csv which contains data about the employees of a company and the fact if they have left the company due to reasons like retirement, resignation, elimination of a position, personal health, etc. It is important for companies to predict if their employees are going to leave because the hiring process is costly and requires planification. The data has the following columns:\n",
        "\n",
        "\n",
        "Age – self descriptive\n",
        "\n",
        "BusinessTravel – how frequent employee travels\n",
        "\n",
        "DailyRate – daily rate on terms of salary\n",
        "\n",
        "Department – self descriptive\n",
        "\n",
        "DistanceFromHome – distance between employee home and work\n",
        "\n",
        "Education – education level of employee\n",
        "\n",
        "EducationField – self descriptive\n",
        "\n",
        "EnvironmentSatisfaction – level of satisfaction with working environment\n",
        "\n",
        "Gender – self descriptive\n",
        "\n",
        "HourlyRate – self descriptive\n",
        "\n",
        "JobRole – self descriptive\n",
        "\n",
        "JobInvolvement – level of interest of the job\n",
        "\n",
        "JobSatisfaction – level of satisfaction with current job\n",
        "\n",
        "MaritalStatus – self descriptive\n",
        "\n",
        "MonthlyIncome – self descriptive\n",
        "\n",
        "MonthlyRate – self descriptive\n",
        "\n",
        "NumCompaniesWorked – self descriptive\n",
        "\n",
        "Over18 – whether customer age is more than 18\n",
        "\n",
        "OverTime – whether customer works overtime or not\n",
        "\n",
        "PerformanceRating – performance level of employee\n",
        "\n",
        "RelationshipSatisfaction – level of satisfaction with working community\n",
        "\n",
        "StandardHours – standard amount of hours that employee works\n",
        "\n",
        "TotalWorkingYears – whether customer age is more than 18\n",
        "\n",
        "TrainingTimesLastYear – whether customer age is more than 18"
      ]
    },
    {
      "cell_type": "code",
      "metadata": {
        "id": "Zjr3pwZCMLU6"
      },
      "source": [
        "import numpy as np \n",
        "import pandas as pd \n",
        "import matplotlib.pyplot as plt"
      ],
      "execution_count": null,
      "outputs": []
    },
    {
      "cell_type": "code",
      "metadata": {
        "colab": {
          "background_save": true,
          "base_uri": "https://localhost:8080/",
          "height": 292
        },
        "id": "sUsbyScxMLVd",
        "outputId": "2bed064c-e996-40ed-e30b-f98c77ccd238"
      },
      "source": [
        "df = pd.read_csv('https://raw.githubusercontent.com/RewanEmam/Customer-Segmentation-files/main/HR_Employee_Attrition.csv', sep= ',',header=0)\n",
        "df.head()"
      ],
      "execution_count": null,
      "outputs": [
        {
          "output_type": "error",
          "ename": "NameError",
          "evalue": "ignored",
          "traceback": [
            "\u001b[0;31m---------------------------------------------------------------------------\u001b[0m",
            "\u001b[0;31mNameError\u001b[0m                                 Traceback (most recent call last)",
            "\u001b[0;32m<ipython-input-2-d6f5e4fe1f90>\u001b[0m in \u001b[0;36m<module>\u001b[0;34m()\u001b[0m\n\u001b[0;32m----> 1\u001b[0;31m \u001b[0mdf\u001b[0m \u001b[0;34m=\u001b[0m \u001b[0mpd\u001b[0m\u001b[0;34m.\u001b[0m\u001b[0mread_csv\u001b[0m\u001b[0;34m(\u001b[0m\u001b[0;34m'https://raw.githubusercontent.com/RewanEmam/Customer-Segmentation-files/main/HR_Employee_Attrition.csv'\u001b[0m\u001b[0;34m,\u001b[0m \u001b[0msep\u001b[0m\u001b[0;34m=\u001b[0m \u001b[0;34m','\u001b[0m\u001b[0;34m,\u001b[0m\u001b[0mheader\u001b[0m\u001b[0;34m=\u001b[0m\u001b[0;36m0\u001b[0m\u001b[0;34m)\u001b[0m\u001b[0;34m\u001b[0m\u001b[0;34m\u001b[0m\u001b[0m\n\u001b[0m\u001b[1;32m      2\u001b[0m \u001b[0mdf\u001b[0m\u001b[0;34m.\u001b[0m\u001b[0mhead\u001b[0m\u001b[0;34m(\u001b[0m\u001b[0;34m)\u001b[0m\u001b[0;34m\u001b[0m\u001b[0;34m\u001b[0m\u001b[0m\n",
            "\u001b[0;31mNameError\u001b[0m: name 'pd' is not defined"
          ]
        }
      ]
    },
    {
      "cell_type": "markdown",
      "metadata": {
        "id": "Is8x9Ju4MLWJ"
      },
      "source": [
        "## 1.1 Dataset exploration (1.0 points)"
      ]
    },
    {
      "cell_type": "markdown",
      "metadata": {
        "id": "dJiBjvKEMLWV"
      },
      "source": [
        "**1.1.0.\n",
        "Plot the correlation of the variables against ```Attrition```. (0.3 points)<br>Make sure you perform necessary preprocessing required for the plot.** "
      ]
    },
    {
      "cell_type": "code",
      "metadata": {
        "colab": {
          "base_uri": "https://localhost:8080/",
          "height": 700
        },
        "id": "R-cHfZtbstAl",
        "outputId": "7cddc618-0cc1-4549-abf2-d0a5a09db471"
      },
      "source": [
        "#Converting the predictor variable in a binary numeric variable\n",
        "df['Attrition'].replace(to_replace='Yes', value=1, inplace=True)\n",
        "df['Attrition'].replace(to_replace='No',  value=0, inplace=True)\n",
        "\n",
        "df.corr()"
      ],
      "execution_count": null,
      "outputs": [
        {
          "output_type": "execute_result",
          "data": {
            "text/html": [
              "<div>\n",
              "<style scoped>\n",
              "    .dataframe tbody tr th:only-of-type {\n",
              "        vertical-align: middle;\n",
              "    }\n",
              "\n",
              "    .dataframe tbody tr th {\n",
              "        vertical-align: top;\n",
              "    }\n",
              "\n",
              "    .dataframe thead th {\n",
              "        text-align: right;\n",
              "    }\n",
              "</style>\n",
              "<table border=\"1\" class=\"dataframe\">\n",
              "  <thead>\n",
              "    <tr style=\"text-align: right;\">\n",
              "      <th></th>\n",
              "      <th>Age</th>\n",
              "      <th>Attrition</th>\n",
              "      <th>DailyRate</th>\n",
              "      <th>DistanceFromHome</th>\n",
              "      <th>Education</th>\n",
              "      <th>EnvironmentSatisfaction</th>\n",
              "      <th>HourlyRate</th>\n",
              "      <th>JobInvolvement</th>\n",
              "      <th>JobSatisfaction</th>\n",
              "      <th>MonthlyIncome</th>\n",
              "      <th>MonthlyRate</th>\n",
              "      <th>NumCompaniesWorked</th>\n",
              "      <th>PerformanceRating</th>\n",
              "      <th>RelationshipSatisfaction</th>\n",
              "      <th>StandardHours</th>\n",
              "      <th>TotalWorkingYears</th>\n",
              "      <th>TrainingTimesLastYear</th>\n",
              "      <th>WorkLifeBalance</th>\n",
              "      <th>YearsAtCompany</th>\n",
              "      <th>YearsInCurrentRole</th>\n",
              "      <th>YearsSinceLastPromotion</th>\n",
              "      <th>YearsWithCurrManager</th>\n",
              "    </tr>\n",
              "  </thead>\n",
              "  <tbody>\n",
              "    <tr>\n",
              "      <th>Age</th>\n",
              "      <td>1.000000</td>\n",
              "      <td>-0.159205</td>\n",
              "      <td>0.010661</td>\n",
              "      <td>-0.001686</td>\n",
              "      <td>0.208034</td>\n",
              "      <td>0.010146</td>\n",
              "      <td>0.024287</td>\n",
              "      <td>0.029820</td>\n",
              "      <td>-0.004892</td>\n",
              "      <td>0.497855</td>\n",
              "      <td>0.028051</td>\n",
              "      <td>0.299635</td>\n",
              "      <td>0.001904</td>\n",
              "      <td>0.053535</td>\n",
              "      <td>NaN</td>\n",
              "      <td>0.680381</td>\n",
              "      <td>-0.019621</td>\n",
              "      <td>-0.021490</td>\n",
              "      <td>0.311309</td>\n",
              "      <td>0.212901</td>\n",
              "      <td>0.216513</td>\n",
              "      <td>0.202089</td>\n",
              "    </tr>\n",
              "    <tr>\n",
              "      <th>Attrition</th>\n",
              "      <td>-0.159205</td>\n",
              "      <td>1.000000</td>\n",
              "      <td>-0.056652</td>\n",
              "      <td>0.077924</td>\n",
              "      <td>-0.031373</td>\n",
              "      <td>-0.103369</td>\n",
              "      <td>-0.006846</td>\n",
              "      <td>-0.130016</td>\n",
              "      <td>-0.103481</td>\n",
              "      <td>-0.159840</td>\n",
              "      <td>0.015170</td>\n",
              "      <td>0.043494</td>\n",
              "      <td>0.002889</td>\n",
              "      <td>-0.045872</td>\n",
              "      <td>NaN</td>\n",
              "      <td>-0.171063</td>\n",
              "      <td>-0.059478</td>\n",
              "      <td>-0.063939</td>\n",
              "      <td>-0.134392</td>\n",
              "      <td>-0.160545</td>\n",
              "      <td>-0.033019</td>\n",
              "      <td>-0.156199</td>\n",
              "    </tr>\n",
              "    <tr>\n",
              "      <th>DailyRate</th>\n",
              "      <td>0.010661</td>\n",
              "      <td>-0.056652</td>\n",
              "      <td>1.000000</td>\n",
              "      <td>-0.004985</td>\n",
              "      <td>-0.016806</td>\n",
              "      <td>0.018355</td>\n",
              "      <td>0.023381</td>\n",
              "      <td>0.046135</td>\n",
              "      <td>0.030571</td>\n",
              "      <td>0.007707</td>\n",
              "      <td>-0.032182</td>\n",
              "      <td>0.038153</td>\n",
              "      <td>0.000473</td>\n",
              "      <td>0.007846</td>\n",
              "      <td>NaN</td>\n",
              "      <td>0.014515</td>\n",
              "      <td>0.002453</td>\n",
              "      <td>-0.037848</td>\n",
              "      <td>-0.034055</td>\n",
              "      <td>0.009932</td>\n",
              "      <td>-0.033229</td>\n",
              "      <td>-0.026363</td>\n",
              "    </tr>\n",
              "    <tr>\n",
              "      <th>DistanceFromHome</th>\n",
              "      <td>-0.001686</td>\n",
              "      <td>0.077924</td>\n",
              "      <td>-0.004985</td>\n",
              "      <td>1.000000</td>\n",
              "      <td>0.021042</td>\n",
              "      <td>-0.016075</td>\n",
              "      <td>0.031131</td>\n",
              "      <td>0.008783</td>\n",
              "      <td>-0.003669</td>\n",
              "      <td>-0.017014</td>\n",
              "      <td>0.027473</td>\n",
              "      <td>-0.029251</td>\n",
              "      <td>0.027110</td>\n",
              "      <td>0.006557</td>\n",
              "      <td>NaN</td>\n",
              "      <td>0.004628</td>\n",
              "      <td>-0.036942</td>\n",
              "      <td>-0.026556</td>\n",
              "      <td>0.009508</td>\n",
              "      <td>0.018845</td>\n",
              "      <td>0.010029</td>\n",
              "      <td>0.014406</td>\n",
              "    </tr>\n",
              "    <tr>\n",
              "      <th>Education</th>\n",
              "      <td>0.208034</td>\n",
              "      <td>-0.031373</td>\n",
              "      <td>-0.016806</td>\n",
              "      <td>0.021042</td>\n",
              "      <td>1.000000</td>\n",
              "      <td>-0.027128</td>\n",
              "      <td>0.016775</td>\n",
              "      <td>0.042438</td>\n",
              "      <td>-0.011296</td>\n",
              "      <td>0.094961</td>\n",
              "      <td>-0.026084</td>\n",
              "      <td>0.126317</td>\n",
              "      <td>-0.024539</td>\n",
              "      <td>-0.009118</td>\n",
              "      <td>NaN</td>\n",
              "      <td>0.148280</td>\n",
              "      <td>-0.025100</td>\n",
              "      <td>0.009819</td>\n",
              "      <td>0.069114</td>\n",
              "      <td>0.060236</td>\n",
              "      <td>0.054254</td>\n",
              "      <td>0.069065</td>\n",
              "    </tr>\n",
              "    <tr>\n",
              "      <th>EnvironmentSatisfaction</th>\n",
              "      <td>0.010146</td>\n",
              "      <td>-0.103369</td>\n",
              "      <td>0.018355</td>\n",
              "      <td>-0.016075</td>\n",
              "      <td>-0.027128</td>\n",
              "      <td>1.000000</td>\n",
              "      <td>-0.049857</td>\n",
              "      <td>-0.008278</td>\n",
              "      <td>-0.006784</td>\n",
              "      <td>-0.006259</td>\n",
              "      <td>0.037600</td>\n",
              "      <td>0.012594</td>\n",
              "      <td>-0.029548</td>\n",
              "      <td>0.007665</td>\n",
              "      <td>NaN</td>\n",
              "      <td>-0.002693</td>\n",
              "      <td>-0.019359</td>\n",
              "      <td>0.027627</td>\n",
              "      <td>0.001458</td>\n",
              "      <td>0.018007</td>\n",
              "      <td>0.016194</td>\n",
              "      <td>-0.004999</td>\n",
              "    </tr>\n",
              "    <tr>\n",
              "      <th>HourlyRate</th>\n",
              "      <td>0.024287</td>\n",
              "      <td>-0.006846</td>\n",
              "      <td>0.023381</td>\n",
              "      <td>0.031131</td>\n",
              "      <td>0.016775</td>\n",
              "      <td>-0.049857</td>\n",
              "      <td>1.000000</td>\n",
              "      <td>0.042861</td>\n",
              "      <td>-0.071335</td>\n",
              "      <td>-0.015794</td>\n",
              "      <td>-0.015297</td>\n",
              "      <td>0.022157</td>\n",
              "      <td>-0.002172</td>\n",
              "      <td>0.001330</td>\n",
              "      <td>NaN</td>\n",
              "      <td>-0.002334</td>\n",
              "      <td>-0.008548</td>\n",
              "      <td>-0.004607</td>\n",
              "      <td>-0.019582</td>\n",
              "      <td>-0.024106</td>\n",
              "      <td>-0.026716</td>\n",
              "      <td>-0.020123</td>\n",
              "    </tr>\n",
              "    <tr>\n",
              "      <th>JobInvolvement</th>\n",
              "      <td>0.029820</td>\n",
              "      <td>-0.130016</td>\n",
              "      <td>0.046135</td>\n",
              "      <td>0.008783</td>\n",
              "      <td>0.042438</td>\n",
              "      <td>-0.008278</td>\n",
              "      <td>0.042861</td>\n",
              "      <td>1.000000</td>\n",
              "      <td>-0.021476</td>\n",
              "      <td>-0.015271</td>\n",
              "      <td>-0.016322</td>\n",
              "      <td>0.015012</td>\n",
              "      <td>-0.029071</td>\n",
              "      <td>0.034297</td>\n",
              "      <td>NaN</td>\n",
              "      <td>-0.005533</td>\n",
              "      <td>-0.015338</td>\n",
              "      <td>-0.014617</td>\n",
              "      <td>-0.021355</td>\n",
              "      <td>0.008717</td>\n",
              "      <td>-0.024184</td>\n",
              "      <td>0.025976</td>\n",
              "    </tr>\n",
              "    <tr>\n",
              "      <th>JobSatisfaction</th>\n",
              "      <td>-0.004892</td>\n",
              "      <td>-0.103481</td>\n",
              "      <td>0.030571</td>\n",
              "      <td>-0.003669</td>\n",
              "      <td>-0.011296</td>\n",
              "      <td>-0.006784</td>\n",
              "      <td>-0.071335</td>\n",
              "      <td>-0.021476</td>\n",
              "      <td>1.000000</td>\n",
              "      <td>-0.007157</td>\n",
              "      <td>0.000644</td>\n",
              "      <td>-0.055699</td>\n",
              "      <td>0.002297</td>\n",
              "      <td>-0.012454</td>\n",
              "      <td>NaN</td>\n",
              "      <td>-0.020185</td>\n",
              "      <td>-0.005779</td>\n",
              "      <td>-0.019459</td>\n",
              "      <td>-0.003803</td>\n",
              "      <td>-0.002305</td>\n",
              "      <td>-0.018214</td>\n",
              "      <td>-0.027656</td>\n",
              "    </tr>\n",
              "    <tr>\n",
              "      <th>MonthlyIncome</th>\n",
              "      <td>0.497855</td>\n",
              "      <td>-0.159840</td>\n",
              "      <td>0.007707</td>\n",
              "      <td>-0.017014</td>\n",
              "      <td>0.094961</td>\n",
              "      <td>-0.006259</td>\n",
              "      <td>-0.015794</td>\n",
              "      <td>-0.015271</td>\n",
              "      <td>-0.007157</td>\n",
              "      <td>1.000000</td>\n",
              "      <td>0.034814</td>\n",
              "      <td>0.149515</td>\n",
              "      <td>-0.017120</td>\n",
              "      <td>0.025873</td>\n",
              "      <td>NaN</td>\n",
              "      <td>0.772893</td>\n",
              "      <td>-0.021736</td>\n",
              "      <td>0.030683</td>\n",
              "      <td>0.514285</td>\n",
              "      <td>0.363818</td>\n",
              "      <td>0.344978</td>\n",
              "      <td>0.344079</td>\n",
              "    </tr>\n",
              "    <tr>\n",
              "      <th>MonthlyRate</th>\n",
              "      <td>0.028051</td>\n",
              "      <td>0.015170</td>\n",
              "      <td>-0.032182</td>\n",
              "      <td>0.027473</td>\n",
              "      <td>-0.026084</td>\n",
              "      <td>0.037600</td>\n",
              "      <td>-0.015297</td>\n",
              "      <td>-0.016322</td>\n",
              "      <td>0.000644</td>\n",
              "      <td>0.034814</td>\n",
              "      <td>1.000000</td>\n",
              "      <td>0.017521</td>\n",
              "      <td>-0.009811</td>\n",
              "      <td>-0.004085</td>\n",
              "      <td>NaN</td>\n",
              "      <td>0.026442</td>\n",
              "      <td>0.001467</td>\n",
              "      <td>0.007963</td>\n",
              "      <td>-0.023655</td>\n",
              "      <td>-0.012815</td>\n",
              "      <td>0.001567</td>\n",
              "      <td>-0.036746</td>\n",
              "    </tr>\n",
              "    <tr>\n",
              "      <th>NumCompaniesWorked</th>\n",
              "      <td>0.299635</td>\n",
              "      <td>0.043494</td>\n",
              "      <td>0.038153</td>\n",
              "      <td>-0.029251</td>\n",
              "      <td>0.126317</td>\n",
              "      <td>0.012594</td>\n",
              "      <td>0.022157</td>\n",
              "      <td>0.015012</td>\n",
              "      <td>-0.055699</td>\n",
              "      <td>0.149515</td>\n",
              "      <td>0.017521</td>\n",
              "      <td>1.000000</td>\n",
              "      <td>-0.014095</td>\n",
              "      <td>0.052733</td>\n",
              "      <td>NaN</td>\n",
              "      <td>0.237639</td>\n",
              "      <td>-0.066054</td>\n",
              "      <td>-0.008366</td>\n",
              "      <td>-0.118421</td>\n",
              "      <td>-0.090754</td>\n",
              "      <td>-0.036814</td>\n",
              "      <td>-0.110319</td>\n",
              "    </tr>\n",
              "    <tr>\n",
              "      <th>PerformanceRating</th>\n",
              "      <td>0.001904</td>\n",
              "      <td>0.002889</td>\n",
              "      <td>0.000473</td>\n",
              "      <td>0.027110</td>\n",
              "      <td>-0.024539</td>\n",
              "      <td>-0.029548</td>\n",
              "      <td>-0.002172</td>\n",
              "      <td>-0.029071</td>\n",
              "      <td>0.002297</td>\n",
              "      <td>-0.017120</td>\n",
              "      <td>-0.009811</td>\n",
              "      <td>-0.014095</td>\n",
              "      <td>1.000000</td>\n",
              "      <td>-0.031351</td>\n",
              "      <td>NaN</td>\n",
              "      <td>0.006744</td>\n",
              "      <td>-0.015579</td>\n",
              "      <td>0.002572</td>\n",
              "      <td>0.003435</td>\n",
              "      <td>0.034986</td>\n",
              "      <td>0.017896</td>\n",
              "      <td>0.022827</td>\n",
              "    </tr>\n",
              "    <tr>\n",
              "      <th>RelationshipSatisfaction</th>\n",
              "      <td>0.053535</td>\n",
              "      <td>-0.045872</td>\n",
              "      <td>0.007846</td>\n",
              "      <td>0.006557</td>\n",
              "      <td>-0.009118</td>\n",
              "      <td>0.007665</td>\n",
              "      <td>0.001330</td>\n",
              "      <td>0.034297</td>\n",
              "      <td>-0.012454</td>\n",
              "      <td>0.025873</td>\n",
              "      <td>-0.004085</td>\n",
              "      <td>0.052733</td>\n",
              "      <td>-0.031351</td>\n",
              "      <td>1.000000</td>\n",
              "      <td>NaN</td>\n",
              "      <td>0.024054</td>\n",
              "      <td>0.002497</td>\n",
              "      <td>0.019604</td>\n",
              "      <td>0.019367</td>\n",
              "      <td>-0.015123</td>\n",
              "      <td>0.033493</td>\n",
              "      <td>-0.000867</td>\n",
              "    </tr>\n",
              "    <tr>\n",
              "      <th>StandardHours</th>\n",
              "      <td>NaN</td>\n",
              "      <td>NaN</td>\n",
              "      <td>NaN</td>\n",
              "      <td>NaN</td>\n",
              "      <td>NaN</td>\n",
              "      <td>NaN</td>\n",
              "      <td>NaN</td>\n",
              "      <td>NaN</td>\n",
              "      <td>NaN</td>\n",
              "      <td>NaN</td>\n",
              "      <td>NaN</td>\n",
              "      <td>NaN</td>\n",
              "      <td>NaN</td>\n",
              "      <td>NaN</td>\n",
              "      <td>NaN</td>\n",
              "      <td>NaN</td>\n",
              "      <td>NaN</td>\n",
              "      <td>NaN</td>\n",
              "      <td>NaN</td>\n",
              "      <td>NaN</td>\n",
              "      <td>NaN</td>\n",
              "      <td>NaN</td>\n",
              "    </tr>\n",
              "    <tr>\n",
              "      <th>TotalWorkingYears</th>\n",
              "      <td>0.680381</td>\n",
              "      <td>-0.171063</td>\n",
              "      <td>0.014515</td>\n",
              "      <td>0.004628</td>\n",
              "      <td>0.148280</td>\n",
              "      <td>-0.002693</td>\n",
              "      <td>-0.002334</td>\n",
              "      <td>-0.005533</td>\n",
              "      <td>-0.020185</td>\n",
              "      <td>0.772893</td>\n",
              "      <td>0.026442</td>\n",
              "      <td>0.237639</td>\n",
              "      <td>0.006744</td>\n",
              "      <td>0.024054</td>\n",
              "      <td>NaN</td>\n",
              "      <td>1.000000</td>\n",
              "      <td>-0.035662</td>\n",
              "      <td>0.001008</td>\n",
              "      <td>0.628133</td>\n",
              "      <td>0.460365</td>\n",
              "      <td>0.404858</td>\n",
              "      <td>0.459188</td>\n",
              "    </tr>\n",
              "    <tr>\n",
              "      <th>TrainingTimesLastYear</th>\n",
              "      <td>-0.019621</td>\n",
              "      <td>-0.059478</td>\n",
              "      <td>0.002453</td>\n",
              "      <td>-0.036942</td>\n",
              "      <td>-0.025100</td>\n",
              "      <td>-0.019359</td>\n",
              "      <td>-0.008548</td>\n",
              "      <td>-0.015338</td>\n",
              "      <td>-0.005779</td>\n",
              "      <td>-0.021736</td>\n",
              "      <td>0.001467</td>\n",
              "      <td>-0.066054</td>\n",
              "      <td>-0.015579</td>\n",
              "      <td>0.002497</td>\n",
              "      <td>NaN</td>\n",
              "      <td>-0.035662</td>\n",
              "      <td>1.000000</td>\n",
              "      <td>0.028072</td>\n",
              "      <td>0.003569</td>\n",
              "      <td>-0.005738</td>\n",
              "      <td>-0.002067</td>\n",
              "      <td>-0.004096</td>\n",
              "    </tr>\n",
              "    <tr>\n",
              "      <th>WorkLifeBalance</th>\n",
              "      <td>-0.021490</td>\n",
              "      <td>-0.063939</td>\n",
              "      <td>-0.037848</td>\n",
              "      <td>-0.026556</td>\n",
              "      <td>0.009819</td>\n",
              "      <td>0.027627</td>\n",
              "      <td>-0.004607</td>\n",
              "      <td>-0.014617</td>\n",
              "      <td>-0.019459</td>\n",
              "      <td>0.030683</td>\n",
              "      <td>0.007963</td>\n",
              "      <td>-0.008366</td>\n",
              "      <td>0.002572</td>\n",
              "      <td>0.019604</td>\n",
              "      <td>NaN</td>\n",
              "      <td>0.001008</td>\n",
              "      <td>0.028072</td>\n",
              "      <td>1.000000</td>\n",
              "      <td>0.012089</td>\n",
              "      <td>0.049856</td>\n",
              "      <td>0.008941</td>\n",
              "      <td>0.002759</td>\n",
              "    </tr>\n",
              "    <tr>\n",
              "      <th>YearsAtCompany</th>\n",
              "      <td>0.311309</td>\n",
              "      <td>-0.134392</td>\n",
              "      <td>-0.034055</td>\n",
              "      <td>0.009508</td>\n",
              "      <td>0.069114</td>\n",
              "      <td>0.001458</td>\n",
              "      <td>-0.019582</td>\n",
              "      <td>-0.021355</td>\n",
              "      <td>-0.003803</td>\n",
              "      <td>0.514285</td>\n",
              "      <td>-0.023655</td>\n",
              "      <td>-0.118421</td>\n",
              "      <td>0.003435</td>\n",
              "      <td>0.019367</td>\n",
              "      <td>NaN</td>\n",
              "      <td>0.628133</td>\n",
              "      <td>0.003569</td>\n",
              "      <td>0.012089</td>\n",
              "      <td>1.000000</td>\n",
              "      <td>0.758754</td>\n",
              "      <td>0.618409</td>\n",
              "      <td>0.769212</td>\n",
              "    </tr>\n",
              "    <tr>\n",
              "      <th>YearsInCurrentRole</th>\n",
              "      <td>0.212901</td>\n",
              "      <td>-0.160545</td>\n",
              "      <td>0.009932</td>\n",
              "      <td>0.018845</td>\n",
              "      <td>0.060236</td>\n",
              "      <td>0.018007</td>\n",
              "      <td>-0.024106</td>\n",
              "      <td>0.008717</td>\n",
              "      <td>-0.002305</td>\n",
              "      <td>0.363818</td>\n",
              "      <td>-0.012815</td>\n",
              "      <td>-0.090754</td>\n",
              "      <td>0.034986</td>\n",
              "      <td>-0.015123</td>\n",
              "      <td>NaN</td>\n",
              "      <td>0.460365</td>\n",
              "      <td>-0.005738</td>\n",
              "      <td>0.049856</td>\n",
              "      <td>0.758754</td>\n",
              "      <td>1.000000</td>\n",
              "      <td>0.548056</td>\n",
              "      <td>0.714365</td>\n",
              "    </tr>\n",
              "    <tr>\n",
              "      <th>YearsSinceLastPromotion</th>\n",
              "      <td>0.216513</td>\n",
              "      <td>-0.033019</td>\n",
              "      <td>-0.033229</td>\n",
              "      <td>0.010029</td>\n",
              "      <td>0.054254</td>\n",
              "      <td>0.016194</td>\n",
              "      <td>-0.026716</td>\n",
              "      <td>-0.024184</td>\n",
              "      <td>-0.018214</td>\n",
              "      <td>0.344978</td>\n",
              "      <td>0.001567</td>\n",
              "      <td>-0.036814</td>\n",
              "      <td>0.017896</td>\n",
              "      <td>0.033493</td>\n",
              "      <td>NaN</td>\n",
              "      <td>0.404858</td>\n",
              "      <td>-0.002067</td>\n",
              "      <td>0.008941</td>\n",
              "      <td>0.618409</td>\n",
              "      <td>0.548056</td>\n",
              "      <td>1.000000</td>\n",
              "      <td>0.510224</td>\n",
              "    </tr>\n",
              "    <tr>\n",
              "      <th>YearsWithCurrManager</th>\n",
              "      <td>0.202089</td>\n",
              "      <td>-0.156199</td>\n",
              "      <td>-0.026363</td>\n",
              "      <td>0.014406</td>\n",
              "      <td>0.069065</td>\n",
              "      <td>-0.004999</td>\n",
              "      <td>-0.020123</td>\n",
              "      <td>0.025976</td>\n",
              "      <td>-0.027656</td>\n",
              "      <td>0.344079</td>\n",
              "      <td>-0.036746</td>\n",
              "      <td>-0.110319</td>\n",
              "      <td>0.022827</td>\n",
              "      <td>-0.000867</td>\n",
              "      <td>NaN</td>\n",
              "      <td>0.459188</td>\n",
              "      <td>-0.004096</td>\n",
              "      <td>0.002759</td>\n",
              "      <td>0.769212</td>\n",
              "      <td>0.714365</td>\n",
              "      <td>0.510224</td>\n",
              "      <td>1.000000</td>\n",
              "    </tr>\n",
              "  </tbody>\n",
              "</table>\n",
              "</div>"
            ],
            "text/plain": [
              "                               Age  ...  YearsWithCurrManager\n",
              "Age                       1.000000  ...              0.202089\n",
              "Attrition                -0.159205  ...             -0.156199\n",
              "DailyRate                 0.010661  ...             -0.026363\n",
              "DistanceFromHome         -0.001686  ...              0.014406\n",
              "Education                 0.208034  ...              0.069065\n",
              "EnvironmentSatisfaction   0.010146  ...             -0.004999\n",
              "HourlyRate                0.024287  ...             -0.020123\n",
              "JobInvolvement            0.029820  ...              0.025976\n",
              "JobSatisfaction          -0.004892  ...             -0.027656\n",
              "MonthlyIncome             0.497855  ...              0.344079\n",
              "MonthlyRate               0.028051  ...             -0.036746\n",
              "NumCompaniesWorked        0.299635  ...             -0.110319\n",
              "PerformanceRating         0.001904  ...              0.022827\n",
              "RelationshipSatisfaction  0.053535  ...             -0.000867\n",
              "StandardHours                  NaN  ...                   NaN\n",
              "TotalWorkingYears         0.680381  ...              0.459188\n",
              "TrainingTimesLastYear    -0.019621  ...             -0.004096\n",
              "WorkLifeBalance          -0.021490  ...              0.002759\n",
              "YearsAtCompany            0.311309  ...              0.769212\n",
              "YearsInCurrentRole        0.212901  ...              0.714365\n",
              "YearsSinceLastPromotion   0.216513  ...              0.510224\n",
              "YearsWithCurrManager      0.202089  ...              1.000000\n",
              "\n",
              "[22 rows x 22 columns]"
            ]
          },
          "metadata": {
            "tags": []
          },
          "execution_count": 4
        }
      ]
    },
    {
      "cell_type": "code",
      "metadata": {
        "colab": {
          "base_uri": "https://localhost:8080/",
          "height": 767
        },
        "id": "6S0dw0W7MLWd",
        "scrolled": false,
        "outputId": "c8b413ab-5d91-4784-96bc-a31f24782df6"
      },
      "source": [
        "# Recall the requiredlibraries:\n",
        "import matplotlib.cm as cm\n",
        "from sklearn.preprocessing import normalize\n",
        "\n",
        "plt.figure(figsize=(15,8))\n",
        "plt.style.use('ggplot')\n",
        "\n",
        "# Get a color map\n",
        "my_cmap = cm.get_cmap('Accent')\n",
        "\n",
        "df.corr()['Attrition'].sort_values(ascending = False).plot(kind='bar', cmap=my_cmap)\n",
        "\n",
        "# set titles for figure, x, y\n",
        "plt.title('Churn Rate Correlation',fontsize=20)\n",
        "plt.xlabel('Attrition', fontsize=20)\n",
        "plt.ylabel('Churn rate',fontsize=20)\n",
        "\n",
        "plt.xticks(fontsize = 20) \n",
        "plt.yticks(fontsize = 20) \n",
        "plt.grid(True)\n",
        "plt.show() "
      ],
      "execution_count": null,
      "outputs": [
        {
          "output_type": "display_data",
          "data": {
            "image/png": "[encoded data removed]",
            "text/plain": [
              "<Figure size 1080x576 with 1 Axes>"
            ]
          },
          "metadata": {
            "tags": []
          }
        }
      ]
    },
    {
      "cell_type": "markdown",
      "metadata": {
        "id": "pdQNOhknMLWv"
      },
      "source": [
        "**1.1.1. Write three interesting observation that you notice. (0.3 points)**"
      ]
    },
    {
      "cell_type": "markdown",
      "metadata": {
        "id": "yIubn6J7MLW6"
      },
      "source": [
        "**<font color='red'>Answer 1: First, how much some factors have an effect on the Attrition and other don't such as the Standard Hours [This factor as an example] doesn't have an effect on the Attrition.</font>** "
      ]
    },
    {
      "cell_type": "markdown",
      "metadata": {
        "id": "S1qgfB9UbbvC"
      },
      "source": [
        "**<font color='red'>Answer 3:Performance rating factor almost doesn't exist as an effect on this cor-relationship analysis.</font>** "
      ]
    },
    {
      "cell_type": "markdown",
      "metadata": {
        "id": "AQfSuYJGbdL0"
      },
      "source": [
        "**<font color='red'>Answer 2: JobSatisfactiion, Age,JobInvolovment, Years with current manager, Monthly Income, Years in the current role, Total working years. All these factors have strong negative correlationship with the Attrition.</font>** "
      ]
    },
    {
      "cell_type": "markdown",
      "metadata": {
        "id": "O-Hxf9mdMLXZ"
      },
      "source": [
        "**1.1.2 Plot a boxplot for ```TotalWorkingYears``` for both Attrition categories. Explain the result. (0.3 points)**"
      ]
    },
    {
      "cell_type": "code",
      "metadata": {
        "colab": {
          "base_uri": "https://localhost:8080/",
          "height": 292
        },
        "id": "PDoUwZs4MLXk",
        "outputId": "531c8c03-550d-4853-9d6c-c07cfeae64f7"
      },
      "source": [
        "import seaborn as sns # For creating plots\n",
        "sns.boxplot(x = df['Attrition'], y = df['TotalWorkingYears'])\n",
        "\n",
        "# Make the plot more visulaized\n",
        "plt.xlabel('Attrition', fontsize=20)\n",
        "plt.ylabel('TotalWorkingYears',fontsize=20)\n",
        "plt.xticks(np.arange(2), ['Yes', 'No'], fontsize = 15) \n",
        "plt.yticks(fontsize = 15) \n",
        "plt.grid(True)\n",
        "plt.show() "
      ],
      "execution_count": null,
      "outputs": [
        {
          "output_type": "display_data",
          "data": {
            "image/png": "[encoded data removed]",
            "text/plain": [
              "<Figure size 432x288 with 1 Axes>"
            ]
          },
          "metadata": {
            "tags": []
          }
        }
      ]
    },
    {
      "cell_type": "markdown",
      "metadata": {
        "id": "CRG9mu7EZs_Y"
      },
      "source": [
        "**<font color='red'>Answer:From the plot the customers who do attrition, they have hgher TotalWorkingYears.</font>** "
      ]
    },
    {
      "cell_type": "markdown",
      "metadata": {
        "id": "1jFZYAmkMLX3"
      },
      "source": [
        "**1.1.3. Plot the relative frequency of Attrition values (Yes/No)  (0.1 points)**"
      ]
    },
    {
      "cell_type": "code",
      "metadata": {
        "colab": {
          "base_uri": "https://localhost:8080/",
          "height": 717
        },
        "id": "Aj7FAx2oMLYA",
        "outputId": "92fc39bd-8453-49d1-b47b-992fc780cf1d"
      },
      "source": [
        "data = ['DistanceFromHome','NumCompaniesWorked','WorkLifeBalance','EnvironmentSatisfaction',\n",
        "           'JobSatisfaction','JobInvolvement','YearsAtCompany','YearsWithCurrManager','TotalWorkingYears']\n",
        "\n",
        "colors = [ '#66CDAA','#66CD00',  '#6495ED']\n",
        "\n",
        "fig, axes = plt.subplots(nrows = 3,ncols = 3,figsize = (15,12))\n",
        "for i, item in enumerate(data):\n",
        "    if i < 3:\n",
        "        ax = df[item].value_counts().plot(kind = 'bar',ax=axes[i,0],rot = 0, color = colors)\n",
        "        \n",
        "    elif i >=3 and i < 6:\n",
        "        ax = df[item].value_counts().plot(kind = 'bar',ax=axes[i-3,1],rot = 0, color = colors)\n",
        "        \n",
        "    elif i < 9:\n",
        "        ax = df[item].value_counts().plot(kind = 'bar',ax=axes[i-6,2],rot = 0, color = colors)\n",
        "    ax.set_title(item)"
      ],
      "execution_count": null,
      "outputs": [
        {
          "output_type": "display_data",
          "data": {
            "image/png": "[encoded data removed]",
            "text/plain": [
              "<Figure size 1080x864 with 9 Axes>"
            ]
          },
          "metadata": {
            "tags": []
          }
        }
      ]
    },
    {
      "cell_type": "markdown",
      "metadata": {
        "id": "CeHvmFAvMLYk"
      },
      "source": [
        "## 1.2 Classification  (7 points)"
      ]
    },
    {
      "cell_type": "markdown",
      "metadata": {
        "id": "ZYU-BjCIMLYv"
      },
      "source": [
        "**1.2.1 We will predict the variable ```Attrition``` by applying different classification algorithms and compare them. But before that we have to split the data into training and test set. And before splitting the dataset, please perform the following preprocessing. (0.5 points)**\n",
        "* One hot encoding (You probably performed this in ```1.1.0```, in case if you have not)\n",
        "* Drop three columns with least correlation values. (Use the plot from ```1.1.0```)\n",
        "* Be a vigilante, and look for columns that has suspicious values. Drop those columns (at least 2 columns), it will not be much of a help in classification.\n",
        "* Finally normalize the training variables, use the following Z-Score normalizing equation for normalization; <br>\n",
        "\n",
        "$$x_{norm}= \\frac{x -\\mu}{\\sigma}.$$ <br>\n",
        "\n",
        "Here, $\\mu$ = mean of the training variables, $\\sigma$ = standard deviation of the training variables. <br>\n",
        "\n",
        "What is **Z-score**: It is a a scaling method that represents the number of standard deviations away from the mean. You would use z-score to ensure your feature distributions have mean = 0 and std = 1. It’s useful when there are a few outliers, but not so extreme that you need clipping. Clipping is another technique when you clip off (remove) outliers by visualizing the distribution of your dataset [1]. the following figure shows how Z-score impacts the values, notice the x-axis for both the figures.\n",
        "<a href=\"https://ibb.co/XxL5S5y\"><img src=\"https://i.ibb.co/VY9C2CH/img.png\" alt=\"img\" border=\"0\"></a><br />\n",
        "Ref: https://developers.google.com/machine-learning/data-prep/transform/normalization"
      ]
    },
    {
      "cell_type": "code",
      "metadata": {
        "colab": {
          "base_uri": "https://localhost:8080/",
          "height": 227
        },
        "id": "xf8LikHbtDHK",
        "outputId": "4663f19a-141c-4eac-b6a0-aded3f2762ed"
      },
      "source": [
        "import pandas as pd\n",
        "\n",
        "#Let's convert all the categorical variables into dummy variables\n",
        "df = pd.get_dummies(df)\n",
        "df.head()"
      ],
      "execution_count": null,
      "outputs": [
        {
          "output_type": "execute_result",
          "data": {
            "text/html": [
              "<div>\n",
              "<style scoped>\n",
              "    .dataframe tbody tr th:only-of-type {\n",
              "        vertical-align: middle;\n",
              "    }\n",
              "\n",
              "    .dataframe tbody tr th {\n",
              "        vertical-align: top;\n",
              "    }\n",
              "\n",
              "    .dataframe thead th {\n",
              "        text-align: right;\n",
              "    }\n",
              "</style>\n",
              "<table border=\"1\" class=\"dataframe\">\n",
              "  <thead>\n",
              "    <tr style=\"text-align: right;\">\n",
              "      <th></th>\n",
              "      <th>Age</th>\n",
              "      <th>Attrition</th>\n",
              "      <th>DailyRate</th>\n",
              "      <th>DistanceFromHome</th>\n",
              "      <th>Education</th>\n",
              "      <th>EnvironmentSatisfaction</th>\n",
              "      <th>HourlyRate</th>\n",
              "      <th>JobInvolvement</th>\n",
              "      <th>JobSatisfaction</th>\n",
              "      <th>MonthlyIncome</th>\n",
              "      <th>MonthlyRate</th>\n",
              "      <th>NumCompaniesWorked</th>\n",
              "      <th>PerformanceRating</th>\n",
              "      <th>RelationshipSatisfaction</th>\n",
              "      <th>StandardHours</th>\n",
              "      <th>TotalWorkingYears</th>\n",
              "      <th>TrainingTimesLastYear</th>\n",
              "      <th>WorkLifeBalance</th>\n",
              "      <th>YearsAtCompany</th>\n",
              "      <th>YearsInCurrentRole</th>\n",
              "      <th>YearsSinceLastPromotion</th>\n",
              "      <th>YearsWithCurrManager</th>\n",
              "      <th>BusinessTravel_Non-Travel</th>\n",
              "      <th>BusinessTravel_Travel_Frequently</th>\n",
              "      <th>BusinessTravel_Travel_Rarely</th>\n",
              "      <th>Department_Human Resources</th>\n",
              "      <th>Department_Research &amp; Development</th>\n",
              "      <th>Department_Sales</th>\n",
              "      <th>EducationField_Human Resources</th>\n",
              "      <th>EducationField_Life Sciences</th>\n",
              "      <th>EducationField_Marketing</th>\n",
              "      <th>EducationField_Medical</th>\n",
              "      <th>EducationField_Other</th>\n",
              "      <th>EducationField_Technical Degree</th>\n",
              "      <th>Gender_Female</th>\n",
              "      <th>Gender_Male</th>\n",
              "      <th>JobRole_Healthcare Representative</th>\n",
              "      <th>JobRole_Human Resources</th>\n",
              "      <th>JobRole_Laboratory Technician</th>\n",
              "      <th>JobRole_Manager</th>\n",
              "      <th>JobRole_Manufacturing Director</th>\n",
              "      <th>JobRole_Research Director</th>\n",
              "      <th>JobRole_Research Scientist</th>\n",
              "      <th>JobRole_Sales Executive</th>\n",
              "      <th>JobRole_Sales Representative</th>\n",
              "      <th>MaritalStatus_Divorced</th>\n",
              "      <th>MaritalStatus_Married</th>\n",
              "      <th>MaritalStatus_Single</th>\n",
              "      <th>Over18_Y</th>\n",
              "      <th>OverTime_No</th>\n",
              "      <th>OverTime_Yes</th>\n",
              "    </tr>\n",
              "  </thead>\n",
              "  <tbody>\n",
              "    <tr>\n",
              "      <th>0</th>\n",
              "      <td>41</td>\n",
              "      <td>1</td>\n",
              "      <td>1102</td>\n",
              "      <td>1</td>\n",
              "      <td>2</td>\n",
              "      <td>2</td>\n",
              "      <td>94</td>\n",
              "      <td>3</td>\n",
              "      <td>4</td>\n",
              "      <td>5993</td>\n",
              "      <td>19479</td>\n",
              "      <td>8</td>\n",
              "      <td>3</td>\n",
              "      <td>1</td>\n",
              "      <td>80</td>\n",
              "      <td>8</td>\n",
              "      <td>0</td>\n",
              "      <td>1</td>\n",
              "      <td>6</td>\n",
              "      <td>4</td>\n",
              "      <td>0</td>\n",
              "      <td>5</td>\n",
              "      <td>0</td>\n",
              "      <td>0</td>\n",
              "      <td>1</td>\n",
              "      <td>0</td>\n",
              "      <td>0</td>\n",
              "      <td>1</td>\n",
              "      <td>0</td>\n",
              "      <td>1</td>\n",
              "      <td>0</td>\n",
              "      <td>0</td>\n",
              "      <td>0</td>\n",
              "      <td>0</td>\n",
              "      <td>1</td>\n",
              "      <td>0</td>\n",
              "      <td>0</td>\n",
              "      <td>0</td>\n",
              "      <td>0</td>\n",
              "      <td>0</td>\n",
              "      <td>0</td>\n",
              "      <td>0</td>\n",
              "      <td>0</td>\n",
              "      <td>1</td>\n",
              "      <td>0</td>\n",
              "      <td>0</td>\n",
              "      <td>0</td>\n",
              "      <td>1</td>\n",
              "      <td>1</td>\n",
              "      <td>0</td>\n",
              "      <td>1</td>\n",
              "    </tr>\n",
              "    <tr>\n",
              "      <th>1</th>\n",
              "      <td>49</td>\n",
              "      <td>0</td>\n",
              "      <td>279</td>\n",
              "      <td>8</td>\n",
              "      <td>1</td>\n",
              "      <td>3</td>\n",
              "      <td>61</td>\n",
              "      <td>2</td>\n",
              "      <td>2</td>\n",
              "      <td>5130</td>\n",
              "      <td>24907</td>\n",
              "      <td>1</td>\n",
              "      <td>4</td>\n",
              "      <td>4</td>\n",
              "      <td>80</td>\n",
              "      <td>10</td>\n",
              "      <td>3</td>\n",
              "      <td>3</td>\n",
              "      <td>10</td>\n",
              "      <td>7</td>\n",
              "      <td>1</td>\n",
              "      <td>7</td>\n",
              "      <td>0</td>\n",
              "      <td>1</td>\n",
              "      <td>0</td>\n",
              "      <td>0</td>\n",
              "      <td>1</td>\n",
              "      <td>0</td>\n",
              "      <td>0</td>\n",
              "      <td>1</td>\n",
              "      <td>0</td>\n",
              "      <td>0</td>\n",
              "      <td>0</td>\n",
              "      <td>0</td>\n",
              "      <td>0</td>\n",
              "      <td>1</td>\n",
              "      <td>0</td>\n",
              "      <td>0</td>\n",
              "      <td>0</td>\n",
              "      <td>0</td>\n",
              "      <td>0</td>\n",
              "      <td>0</td>\n",
              "      <td>1</td>\n",
              "      <td>0</td>\n",
              "      <td>0</td>\n",
              "      <td>0</td>\n",
              "      <td>1</td>\n",
              "      <td>0</td>\n",
              "      <td>1</td>\n",
              "      <td>1</td>\n",
              "      <td>0</td>\n",
              "    </tr>\n",
              "    <tr>\n",
              "      <th>2</th>\n",
              "      <td>37</td>\n",
              "      <td>1</td>\n",
              "      <td>1373</td>\n",
              "      <td>2</td>\n",
              "      <td>2</td>\n",
              "      <td>4</td>\n",
              "      <td>92</td>\n",
              "      <td>2</td>\n",
              "      <td>3</td>\n",
              "      <td>2090</td>\n",
              "      <td>2396</td>\n",
              "      <td>6</td>\n",
              "      <td>3</td>\n",
              "      <td>2</td>\n",
              "      <td>80</td>\n",
              "      <td>7</td>\n",
              "      <td>3</td>\n",
              "      <td>3</td>\n",
              "      <td>0</td>\n",
              "      <td>0</td>\n",
              "      <td>0</td>\n",
              "      <td>0</td>\n",
              "      <td>0</td>\n",
              "      <td>0</td>\n",
              "      <td>1</td>\n",
              "      <td>0</td>\n",
              "      <td>1</td>\n",
              "      <td>0</td>\n",
              "      <td>0</td>\n",
              "      <td>0</td>\n",
              "      <td>0</td>\n",
              "      <td>0</td>\n",
              "      <td>1</td>\n",
              "      <td>0</td>\n",
              "      <td>0</td>\n",
              "      <td>1</td>\n",
              "      <td>0</td>\n",
              "      <td>0</td>\n",
              "      <td>1</td>\n",
              "      <td>0</td>\n",
              "      <td>0</td>\n",
              "      <td>0</td>\n",
              "      <td>0</td>\n",
              "      <td>0</td>\n",
              "      <td>0</td>\n",
              "      <td>0</td>\n",
              "      <td>0</td>\n",
              "      <td>1</td>\n",
              "      <td>1</td>\n",
              "      <td>0</td>\n",
              "      <td>1</td>\n",
              "    </tr>\n",
              "    <tr>\n",
              "      <th>3</th>\n",
              "      <td>33</td>\n",
              "      <td>0</td>\n",
              "      <td>1392</td>\n",
              "      <td>3</td>\n",
              "      <td>4</td>\n",
              "      <td>4</td>\n",
              "      <td>56</td>\n",
              "      <td>3</td>\n",
              "      <td>3</td>\n",
              "      <td>2909</td>\n",
              "      <td>23159</td>\n",
              "      <td>1</td>\n",
              "      <td>3</td>\n",
              "      <td>3</td>\n",
              "      <td>80</td>\n",
              "      <td>8</td>\n",
              "      <td>3</td>\n",
              "      <td>3</td>\n",
              "      <td>8</td>\n",
              "      <td>7</td>\n",
              "      <td>3</td>\n",
              "      <td>0</td>\n",
              "      <td>0</td>\n",
              "      <td>1</td>\n",
              "      <td>0</td>\n",
              "      <td>0</td>\n",
              "      <td>1</td>\n",
              "      <td>0</td>\n",
              "      <td>0</td>\n",
              "      <td>1</td>\n",
              "      <td>0</td>\n",
              "      <td>0</td>\n",
              "      <td>0</td>\n",
              "      <td>0</td>\n",
              "      <td>1</td>\n",
              "      <td>0</td>\n",
              "      <td>0</td>\n",
              "      <td>0</td>\n",
              "      <td>0</td>\n",
              "      <td>0</td>\n",
              "      <td>0</td>\n",
              "      <td>0</td>\n",
              "      <td>1</td>\n",
              "      <td>0</td>\n",
              "      <td>0</td>\n",
              "      <td>0</td>\n",
              "      <td>1</td>\n",
              "      <td>0</td>\n",
              "      <td>1</td>\n",
              "      <td>0</td>\n",
              "      <td>1</td>\n",
              "    </tr>\n",
              "    <tr>\n",
              "      <th>4</th>\n",
              "      <td>27</td>\n",
              "      <td>0</td>\n",
              "      <td>591</td>\n",
              "      <td>2</td>\n",
              "      <td>1</td>\n",
              "      <td>1</td>\n",
              "      <td>40</td>\n",
              "      <td>3</td>\n",
              "      <td>2</td>\n",
              "      <td>3468</td>\n",
              "      <td>16632</td>\n",
              "      <td>9</td>\n",
              "      <td>3</td>\n",
              "      <td>4</td>\n",
              "      <td>80</td>\n",
              "      <td>6</td>\n",
              "      <td>3</td>\n",
              "      <td>3</td>\n",
              "      <td>2</td>\n",
              "      <td>2</td>\n",
              "      <td>2</td>\n",
              "      <td>2</td>\n",
              "      <td>0</td>\n",
              "      <td>0</td>\n",
              "      <td>1</td>\n",
              "      <td>0</td>\n",
              "      <td>1</td>\n",
              "      <td>0</td>\n",
              "      <td>0</td>\n",
              "      <td>0</td>\n",
              "      <td>0</td>\n",
              "      <td>1</td>\n",
              "      <td>0</td>\n",
              "      <td>0</td>\n",
              "      <td>0</td>\n",
              "      <td>1</td>\n",
              "      <td>0</td>\n",
              "      <td>0</td>\n",
              "      <td>1</td>\n",
              "      <td>0</td>\n",
              "      <td>0</td>\n",
              "      <td>0</td>\n",
              "      <td>0</td>\n",
              "      <td>0</td>\n",
              "      <td>0</td>\n",
              "      <td>0</td>\n",
              "      <td>1</td>\n",
              "      <td>0</td>\n",
              "      <td>1</td>\n",
              "      <td>1</td>\n",
              "      <td>0</td>\n",
              "    </tr>\n",
              "  </tbody>\n",
              "</table>\n",
              "</div>"
            ],
            "text/plain": [
              "   Age  Attrition  DailyRate  ...  Over18_Y  OverTime_No  OverTime_Yes\n",
              "0   41          1       1102  ...         1            0             1\n",
              "1   49          0        279  ...         1            1             0\n",
              "2   37          1       1373  ...         1            0             1\n",
              "3   33          0       1392  ...         1            0             1\n",
              "4   27          0        591  ...         1            1             0\n",
              "\n",
              "[5 rows x 51 columns]"
            ]
          },
          "metadata": {
            "tags": []
          },
          "execution_count": 9
        }
      ]
    },
    {
      "cell_type": "code",
      "metadata": {
        "id": "7sjN8R1YMLY8"
      },
      "source": [
        "from sklearn.model_selection import train_test_split\n",
        "\n",
        "#TODO: one hot encoding\n",
        "\n",
        "#TODO: drop three columns with least correlation\n",
        "del df['PerformanceRating']\n",
        "del df['MonthlyRate']\n",
        "del df['HourlyRate']\n",
        "df.columns.values\n",
        "#TODO: drop suspicious columns (there should be at least two)\n",
        "del df['Over18_Y']\n",
        "del df['StandardHours']\n",
        "\n",
        "#TODO: normalization\n",
        "y = df['Attrition'].values\n",
        "X = df.drop(columns = ['Attrition'])\n",
        "\n",
        "# Scaling all the variables to a range of 0 to 1\n",
        "from sklearn.preprocessing import MinMaxScaler\n",
        "features = X.columns.values\n",
        "scaler = MinMaxScaler(feature_range = (0,1))\n",
        "scaler.fit(X)\n",
        "X = pd.DataFrame(scaler.transform(X))\n",
        "X.columns = features\n",
        "\n",
        "#TODO: split the dataset\n",
        "from sklearn.model_selection import train_test_split\n",
        "X_train, X_test, y_train, y_test = train_test_split(X, y, test_size=0.3, random_state=101)"
      ],
      "execution_count": null,
      "outputs": []
    },
    {
      "cell_type": "markdown",
      "metadata": {
        "id": "hFrtucYjMLZy"
      },
      "source": [
        "**1.2.2 Use the scikit-learn DecisionTreeClassifier with default parameters to predict the attrition value for the test set. Set the random seed to 0. Calculate the accuracy score and print it. (0.4 points)**"
      ]
    },
    {
      "cell_type": "code",
      "metadata": {
        "colab": {
          "base_uri": "https://localhost:8080/",
          "height": 240
        },
        "id": "aZrOFyq2snj3",
        "outputId": "6923500a-e08c-4209-d84f-0b124ee31ded"
      },
      "source": [
        "#Let's convert all the categorical variables into dummy variables\n",
        "df = pd.get_dummies(df)\n",
        "df.head()"
      ],
      "execution_count": null,
      "outputs": [
        {
          "output_type": "execute_result",
          "data": {
            "text/html": [
              "<div>\n",
              "<style scoped>\n",
              "    .dataframe tbody tr th:only-of-type {\n",
              "        vertical-align: middle;\n",
              "    }\n",
              "\n",
              "    .dataframe tbody tr th {\n",
              "        vertical-align: top;\n",
              "    }\n",
              "\n",
              "    .dataframe thead th {\n",
              "        text-align: right;\n",
              "    }\n",
              "</style>\n",
              "<table border=\"1\" class=\"dataframe\">\n",
              "  <thead>\n",
              "    <tr style=\"text-align: right;\">\n",
              "      <th></th>\n",
              "      <th>Age</th>\n",
              "      <th>Attrition</th>\n",
              "      <th>DailyRate</th>\n",
              "      <th>DistanceFromHome</th>\n",
              "      <th>Education</th>\n",
              "      <th>EnvironmentSatisfaction</th>\n",
              "      <th>JobInvolvement</th>\n",
              "      <th>JobSatisfaction</th>\n",
              "      <th>MonthlyIncome</th>\n",
              "      <th>NumCompaniesWorked</th>\n",
              "      <th>RelationshipSatisfaction</th>\n",
              "      <th>TotalWorkingYears</th>\n",
              "      <th>TrainingTimesLastYear</th>\n",
              "      <th>WorkLifeBalance</th>\n",
              "      <th>YearsAtCompany</th>\n",
              "      <th>YearsInCurrentRole</th>\n",
              "      <th>YearsSinceLastPromotion</th>\n",
              "      <th>YearsWithCurrManager</th>\n",
              "      <th>BusinessTravel_Non-Travel</th>\n",
              "      <th>BusinessTravel_Travel_Frequently</th>\n",
              "      <th>BusinessTravel_Travel_Rarely</th>\n",
              "      <th>Department_Human Resources</th>\n",
              "      <th>Department_Research &amp; Development</th>\n",
              "      <th>Department_Sales</th>\n",
              "      <th>EducationField_Human Resources</th>\n",
              "      <th>EducationField_Life Sciences</th>\n",
              "      <th>EducationField_Marketing</th>\n",
              "      <th>EducationField_Medical</th>\n",
              "      <th>EducationField_Other</th>\n",
              "      <th>EducationField_Technical Degree</th>\n",
              "      <th>Gender_Female</th>\n",
              "      <th>Gender_Male</th>\n",
              "      <th>JobRole_Healthcare Representative</th>\n",
              "      <th>JobRole_Human Resources</th>\n",
              "      <th>JobRole_Laboratory Technician</th>\n",
              "      <th>JobRole_Manager</th>\n",
              "      <th>JobRole_Manufacturing Director</th>\n",
              "      <th>JobRole_Research Director</th>\n",
              "      <th>JobRole_Research Scientist</th>\n",
              "      <th>JobRole_Sales Executive</th>\n",
              "      <th>JobRole_Sales Representative</th>\n",
              "      <th>MaritalStatus_Divorced</th>\n",
              "      <th>MaritalStatus_Married</th>\n",
              "      <th>MaritalStatus_Single</th>\n",
              "      <th>OverTime_No</th>\n",
              "      <th>OverTime_Yes</th>\n",
              "    </tr>\n",
              "  </thead>\n",
              "  <tbody>\n",
              "    <tr>\n",
              "      <th>0</th>\n",
              "      <td>41</td>\n",
              "      <td>1</td>\n",
              "      <td>1102</td>\n",
              "      <td>1</td>\n",
              "      <td>2</td>\n",
              "      <td>2</td>\n",
              "      <td>3</td>\n",
              "      <td>4</td>\n",
              "      <td>5993</td>\n",
              "      <td>8</td>\n",
              "      <td>1</td>\n",
              "      <td>8</td>\n",
              "      <td>0</td>\n",
              "      <td>1</td>\n",
              "      <td>6</td>\n",
              "      <td>4</td>\n",
              "      <td>0</td>\n",
              "      <td>5</td>\n",
              "      <td>0</td>\n",
              "      <td>0</td>\n",
              "      <td>1</td>\n",
              "      <td>0</td>\n",
              "      <td>0</td>\n",
              "      <td>1</td>\n",
              "      <td>0</td>\n",
              "      <td>1</td>\n",
              "      <td>0</td>\n",
              "      <td>0</td>\n",
              "      <td>0</td>\n",
              "      <td>0</td>\n",
              "      <td>1</td>\n",
              "      <td>0</td>\n",
              "      <td>0</td>\n",
              "      <td>0</td>\n",
              "      <td>0</td>\n",
              "      <td>0</td>\n",
              "      <td>0</td>\n",
              "      <td>0</td>\n",
              "      <td>0</td>\n",
              "      <td>1</td>\n",
              "      <td>0</td>\n",
              "      <td>0</td>\n",
              "      <td>0</td>\n",
              "      <td>1</td>\n",
              "      <td>0</td>\n",
              "      <td>1</td>\n",
              "    </tr>\n",
              "    <tr>\n",
              "      <th>1</th>\n",
              "      <td>49</td>\n",
              "      <td>0</td>\n",
              "      <td>279</td>\n",
              "      <td>8</td>\n",
              "      <td>1</td>\n",
              "      <td>3</td>\n",
              "      <td>2</td>\n",
              "      <td>2</td>\n",
              "      <td>5130</td>\n",
              "      <td>1</td>\n",
              "      <td>4</td>\n",
              "      <td>10</td>\n",
              "      <td>3</td>\n",
              "      <td>3</td>\n",
              "      <td>10</td>\n",
              "      <td>7</td>\n",
              "      <td>1</td>\n",
              "      <td>7</td>\n",
              "      <td>0</td>\n",
              "      <td>1</td>\n",
              "      <td>0</td>\n",
              "      <td>0</td>\n",
              "      <td>1</td>\n",
              "      <td>0</td>\n",
              "      <td>0</td>\n",
              "      <td>1</td>\n",
              "      <td>0</td>\n",
              "      <td>0</td>\n",
              "      <td>0</td>\n",
              "      <td>0</td>\n",
              "      <td>0</td>\n",
              "      <td>1</td>\n",
              "      <td>0</td>\n",
              "      <td>0</td>\n",
              "      <td>0</td>\n",
              "      <td>0</td>\n",
              "      <td>0</td>\n",
              "      <td>0</td>\n",
              "      <td>1</td>\n",
              "      <td>0</td>\n",
              "      <td>0</td>\n",
              "      <td>0</td>\n",
              "      <td>1</td>\n",
              "      <td>0</td>\n",
              "      <td>1</td>\n",
              "      <td>0</td>\n",
              "    </tr>\n",
              "    <tr>\n",
              "      <th>2</th>\n",
              "      <td>37</td>\n",
              "      <td>1</td>\n",
              "      <td>1373</td>\n",
              "      <td>2</td>\n",
              "      <td>2</td>\n",
              "      <td>4</td>\n",
              "      <td>2</td>\n",
              "      <td>3</td>\n",
              "      <td>2090</td>\n",
              "      <td>6</td>\n",
              "      <td>2</td>\n",
              "      <td>7</td>\n",
              "      <td>3</td>\n",
              "      <td>3</td>\n",
              "      <td>0</td>\n",
              "      <td>0</td>\n",
              "      <td>0</td>\n",
              "      <td>0</td>\n",
              "      <td>0</td>\n",
              "      <td>0</td>\n",
              "      <td>1</td>\n",
              "      <td>0</td>\n",
              "      <td>1</td>\n",
              "      <td>0</td>\n",
              "      <td>0</td>\n",
              "      <td>0</td>\n",
              "      <td>0</td>\n",
              "      <td>0</td>\n",
              "      <td>1</td>\n",
              "      <td>0</td>\n",
              "      <td>0</td>\n",
              "      <td>1</td>\n",
              "      <td>0</td>\n",
              "      <td>0</td>\n",
              "      <td>1</td>\n",
              "      <td>0</td>\n",
              "      <td>0</td>\n",
              "      <td>0</td>\n",
              "      <td>0</td>\n",
              "      <td>0</td>\n",
              "      <td>0</td>\n",
              "      <td>0</td>\n",
              "      <td>0</td>\n",
              "      <td>1</td>\n",
              "      <td>0</td>\n",
              "      <td>1</td>\n",
              "    </tr>\n",
              "    <tr>\n",
              "      <th>3</th>\n",
              "      <td>33</td>\n",
              "      <td>0</td>\n",
              "      <td>1392</td>\n",
              "      <td>3</td>\n",
              "      <td>4</td>\n",
              "      <td>4</td>\n",
              "      <td>3</td>\n",
              "      <td>3</td>\n",
              "      <td>2909</td>\n",
              "      <td>1</td>\n",
              "      <td>3</td>\n",
              "      <td>8</td>\n",
              "      <td>3</td>\n",
              "      <td>3</td>\n",
              "      <td>8</td>\n",
              "      <td>7</td>\n",
              "      <td>3</td>\n",
              "      <td>0</td>\n",
              "      <td>0</td>\n",
              "      <td>1</td>\n",
              "      <td>0</td>\n",
              "      <td>0</td>\n",
              "      <td>1</td>\n",
              "      <td>0</td>\n",
              "      <td>0</td>\n",
              "      <td>1</td>\n",
              "      <td>0</td>\n",
              "      <td>0</td>\n",
              "      <td>0</td>\n",
              "      <td>0</td>\n",
              "      <td>1</td>\n",
              "      <td>0</td>\n",
              "      <td>0</td>\n",
              "      <td>0</td>\n",
              "      <td>0</td>\n",
              "      <td>0</td>\n",
              "      <td>0</td>\n",
              "      <td>0</td>\n",
              "      <td>1</td>\n",
              "      <td>0</td>\n",
              "      <td>0</td>\n",
              "      <td>0</td>\n",
              "      <td>1</td>\n",
              "      <td>0</td>\n",
              "      <td>0</td>\n",
              "      <td>1</td>\n",
              "    </tr>\n",
              "    <tr>\n",
              "      <th>4</th>\n",
              "      <td>27</td>\n",
              "      <td>0</td>\n",
              "      <td>591</td>\n",
              "      <td>2</td>\n",
              "      <td>1</td>\n",
              "      <td>1</td>\n",
              "      <td>3</td>\n",
              "      <td>2</td>\n",
              "      <td>3468</td>\n",
              "      <td>9</td>\n",
              "      <td>4</td>\n",
              "      <td>6</td>\n",
              "      <td>3</td>\n",
              "      <td>3</td>\n",
              "      <td>2</td>\n",
              "      <td>2</td>\n",
              "      <td>2</td>\n",
              "      <td>2</td>\n",
              "      <td>0</td>\n",
              "      <td>0</td>\n",
              "      <td>1</td>\n",
              "      <td>0</td>\n",
              "      <td>1</td>\n",
              "      <td>0</td>\n",
              "      <td>0</td>\n",
              "      <td>0</td>\n",
              "      <td>0</td>\n",
              "      <td>1</td>\n",
              "      <td>0</td>\n",
              "      <td>0</td>\n",
              "      <td>0</td>\n",
              "      <td>1</td>\n",
              "      <td>0</td>\n",
              "      <td>0</td>\n",
              "      <td>1</td>\n",
              "      <td>0</td>\n",
              "      <td>0</td>\n",
              "      <td>0</td>\n",
              "      <td>0</td>\n",
              "      <td>0</td>\n",
              "      <td>0</td>\n",
              "      <td>0</td>\n",
              "      <td>1</td>\n",
              "      <td>0</td>\n",
              "      <td>1</td>\n",
              "      <td>0</td>\n",
              "    </tr>\n",
              "  </tbody>\n",
              "</table>\n",
              "</div>"
            ],
            "text/plain": [
              "   Age  Attrition  DailyRate  ...  MaritalStatus_Single  OverTime_No  OverTime_Yes\n",
              "0   41          1       1102  ...                     1            0             1\n",
              "1   49          0        279  ...                     0            1             0\n",
              "2   37          1       1373  ...                     1            0             1\n",
              "3   33          0       1392  ...                     0            0             1\n",
              "4   27          0        591  ...                     0            1             0\n",
              "\n",
              "[5 rows x 46 columns]"
            ]
          },
          "metadata": {
            "tags": []
          },
          "execution_count": 13
        }
      ]
    },
    {
      "cell_type": "code",
      "metadata": {
        "colab": {
          "base_uri": "https://localhost:8080/"
        },
        "id": "l5ytUenLMLZ5",
        "outputId": "4538d417-7456-45e7-f4cb-1daa9e9328f3"
      },
      "source": [
        "from sklearn.tree import DecisionTreeClassifier as DT\n",
        "from sklearn import metrics\n",
        "\n",
        "\n",
        "model = DT(random_state=0)\n",
        "#TODO: train the model\n",
        "model.fit(X_train,y_train)\n",
        "#TODO: predict on test set\n",
        "preds = model.predict(X_test)\n",
        "#TODO: print accuracy\n",
        "accuracy = metrics.accuracy_score(y_test, preds)\n",
        "print('Accuracy of AdaBoostClassifier on test set: ', accuracy)"
      ],
      "execution_count": null,
      "outputs": [
        {
          "output_type": "stream",
          "text": [
            "Accuracy of AdaBoostClassifier on test set:  0.7619047619047619\n"
          ],
          "name": "stdout"
        }
      ]
    },
    {
      "cell_type": "markdown",
      "metadata": {
        "id": "KFj7-9m-MLaF"
      },
      "source": [
        "**1.2.3 Plot the confusion matrix for the predicted values. Why accuracy is not a good metric to use in this case ? (0.4 points)**"
      ]
    },
    {
      "cell_type": "code",
      "metadata": {
        "colab": {
          "base_uri": "https://localhost:8080/",
          "height": 352
        },
        "id": "UJOLZ7JJMLaN",
        "outputId": "ddac5b8a-9c31-40e7-ad82-e51eff8c1c6a"
      },
      "source": [
        "from mlxtend.plotting import plot_confusion_matrix\n",
        "y_pred = model.predict(X_test)\n",
        "\n",
        "\n",
        "print(\"\\nConfusion Matrix\")\n",
        "\n",
        "confusion_matrix = metrics.confusion_matrix(y_test, y_pred)\n",
        "\n",
        "print(confusion_matrix)\n",
        "\n",
        "\n",
        "\n",
        "binary = confusion_matrix\n",
        "\n",
        "fig, ax = plot_confusion_matrix(conf_mat=binary)\n",
        "plt.show()"
      ],
      "execution_count": null,
      "outputs": [
        {
          "output_type": "stream",
          "text": [
            "\n",
            "Confusion Matrix\n",
            "[[313  58]\n",
            " [ 47  23]]\n"
          ],
          "name": "stdout"
        },
        {
          "output_type": "display_data",
          "data": {
            "image/png": "[encoded data removed]",
            "text/plain": [
              "<Figure size 432x288 with 1 Axes>"
            ]
          },
          "metadata": {
            "tags": []
          }
        }
      ]
    },
    {
      "cell_type": "markdown",
      "metadata": {
        "id": "O3nN1_M3Zs_d"
      },
      "source": [
        "**<font color='red'>Answer: We can see that we have high type 1 error and relatively high type 2 error. Also, some variables have a negative relation to our predicted variable (Attrition), while some have positive relation. Negative relation means that likeliness of Attrition decreases with that variable</font>**"
      ]
    },
    {
      "cell_type": "markdown",
      "metadata": {
        "id": "l_DZJ_vlMLap"
      },
      "source": [
        "**1.2.4 Formulate a dumy model (not a machine learning approach) to get 83.88% accuracy. Considering the label ratios how this model would look like? Be creative. You do not require to code for this, just a simple assumption and mathematical proof is necessary. (0.4 points)** <br>\n",
        "Hint: There are two labels (yes, no) in your data."
      ]
    },
    {
      "cell_type": "markdown",
      "metadata": {
        "id": "ov12wEZWMLat"
      },
      "source": [
        "**<font color='red'>Answer: I will convert all the categorical data in my dataset into binary numerical data in order to get higher accuracy results. and I will train the model multiple times in order for it to have better predictions. </font>**\n",
        "\n",
        "\n",
        "**<font color='red'> proof: This will enhance the confusion materix results because we will have better values of the TP,FP,FN,TN. And we use these values in order to calculate the confusion materix as the following:</font>**\n",
        "\n",
        "**<font color='red'>the confusion materix: [[TP FP][FN TN]]</font>**"
      ]
    },
    {
      "cell_type": "markdown",
      "metadata": {
        "id": "aCogwmH-MLay"
      },
      "source": [
        "**1.2.5 Use export_graphviz from sklearn.tree to visualize the trained decision tree of ```1.2.2```. (0.4 points)**"
      ]
    },
    {
      "cell_type": "code",
      "metadata": {
        "colab": {
          "base_uri": "https://localhost:8080/"
        },
        "id": "q0rwCCqDMLa7",
        "scrolled": false,
        "outputId": "22833881-9b1f-43da-c1c6-4d7da76e17b0"
      },
      "source": [
        "!pip3 install graphviz"
      ],
      "execution_count": null,
      "outputs": [
        {
          "output_type": "stream",
          "text": [
            "Requirement already satisfied: graphviz in /usr/local/lib/python3.7/dist-packages (0.10.1)\n"
          ],
          "name": "stdout"
        }
      ]
    },
    {
      "cell_type": "code",
      "metadata": {
        "colab": {
          "base_uri": "https://localhost:8080/",
          "height": 1000
        },
        "id": "Z37sv6zIEtUO",
        "outputId": "7d9d4ae6-b0aa-42c5-da6e-e39eac23e92c"
      },
      "source": [
        "from graphviz import Source\n",
        "from sklearn import tree\n",
        "Source( tree.export_graphviz(model, out_file=None, feature_names=X.columns))"
      ],
      "execution_count": null,
      "outputs": [
        {
          "output_type": "execute_result",
          "data": {
            "image/svg+xml": "<?xml version=\"1.0\" encoding=\"UTF-8\" standalone=\"no\"?>\n<!DOCTYPE svg PUBLIC \"-//W3C//DTD SVG 1.1//EN\"\n \"http://www.w3.org/Graphics/SVG/1.1/DTD/svg11.dtd\">\n<!-- Generated by graphviz version 2.40.1 (20161225.0304)\n -->\n<!-- Title: Tree Pages: 1 -->\n<svg width=\"7102pt\" height=\"1621pt\"\n viewBox=\"0.00 0.00 7102.00 1621.00\" xmlns=\"http://www.w3.org/2000/svg\" xmlns:xlink=\"http://www.w3.org/1999/xlink\">\n<g id=\"graph0\" class=\"graph\" transform=\"scale(1 1) rotate(0) translate(4 1617)\">\n<title>Tree</title>\n<polygon fill=\"#ffffff\" stroke=\"transparent\" points=\"-4,4 -4,-1617 7098,-1617 7098,4 -4,4\"/>\n<!-- 0 -->\n<g id=\"node1\" class=\"node\">\n<title>0</title>\n<polygon fill=\"none\" stroke=\"#000000\" points=\"4009,-1613 3864,-1613 3864,-1545 4009,-1545 4009,-1613\"/>\n<text text-anchor=\"middle\" x=\"3936.5\" y=\"-1597.8\" font-family=\"Times,serif\" font-size=\"14.00\" fill=\"#000000\">OverTime_Yes &lt;= 0.5</text>\n<text text-anchor=\"middle\" x=\"3936.5\" y=\"-1582.8\" font-family=\"Times,serif\" font-size=\"14.00\" fill=\"#000000\">gini = 0.272</text>\n<text text-anchor=\"middle\" x=\"3936.5\" y=\"-1567.8\" font-family=\"Times,serif\" font-size=\"14.00\" fill=\"#000000\">samples = 1029</text>\n<text text-anchor=\"middle\" x=\"3936.5\" y=\"-1552.8\" font-family=\"Times,serif\" font-size=\"14.00\" fill=\"#000000\">value = [862, 167]</text>\n</g>\n<!-- 1 -->\n<g id=\"node2\" class=\"node\">\n<title>1</title>\n<polygon fill=\"none\" stroke=\"#000000\" points=\"2883,-1509 2698,-1509 2698,-1441 2883,-1441 2883,-1509\"/>\n<text text-anchor=\"middle\" x=\"2790.5\" y=\"-1493.8\" font-family=\"Times,serif\" font-size=\"14.00\" fill=\"#000000\">TotalWorkingYears &lt;= 0.038</text>\n<text text-anchor=\"middle\" x=\"2790.5\" y=\"-1478.8\" font-family=\"Times,serif\" font-size=\"14.00\" fill=\"#000000\">gini = 0.185</text>\n<text text-anchor=\"middle\" x=\"2790.5\" y=\"-1463.8\" font-family=\"Times,serif\" font-size=\"14.00\" fill=\"#000000\">samples = 738</text>\n<text text-anchor=\"middle\" x=\"2790.5\" y=\"-1448.8\" font-family=\"Times,serif\" font-size=\"14.00\" fill=\"#000000\">value = [662, 76]</text>\n</g>\n<!-- 0&#45;&gt;1 -->\n<g id=\"edge1\" class=\"edge\">\n<title>0&#45;&gt;1</title>\n<path fill=\"none\" stroke=\"#000000\" d=\"M3863.9432,-1572.4154C3666.9881,-1554.5417 3121.8476,-1505.0699 2893.3598,-1484.3346\"/>\n<polygon fill=\"#000000\" stroke=\"#000000\" points=\"2893.6572,-1480.8473 2883.3817,-1483.4291 2893.0245,-1487.8186 2893.6572,-1480.8473\"/>\n<text text-anchor=\"middle\" x=\"2899.3894\" y=\"-1498.9321\" font-family=\"Times,serif\" font-size=\"14.00\" fill=\"#000000\">True</text>\n</g>\n<!-- 156 -->\n<g id=\"node157\" class=\"node\">\n<title>156</title>\n<polygon fill=\"none\" stroke=\"#000000\" points=\"4367,-1509 4200,-1509 4200,-1441 4367,-1441 4367,-1509\"/>\n<text text-anchor=\"middle\" x=\"4283.5\" y=\"-1493.8\" font-family=\"Times,serif\" font-size=\"14.00\" fill=\"#000000\">MonthlyIncome &lt;= 0.146</text>\n<text text-anchor=\"middle\" x=\"4283.5\" y=\"-1478.8\" font-family=\"Times,serif\" font-size=\"14.00\" fill=\"#000000\">gini = 0.43</text>\n<text text-anchor=\"middle\" x=\"4283.5\" y=\"-1463.8\" font-family=\"Times,serif\" font-size=\"14.00\" fill=\"#000000\">samples = 291</text>\n<text text-anchor=\"middle\" x=\"4283.5\" y=\"-1448.8\" font-family=\"Times,serif\" font-size=\"14.00\" fill=\"#000000\">value = [200, 91]</text>\n</g>\n<!-- 0&#45;&gt;156 -->\n<g id=\"edge156\" class=\"edge\">\n<title>0&#45;&gt;156</title>\n<path fill=\"none\" stroke=\"#000000\" d=\"M4009.2426,-1557.1982C4061.8448,-1541.4327 4133.3566,-1519.9998 4190.1684,-1502.9726\"/>\n<polygon fill=\"#000000\" stroke=\"#000000\" points=\"4191.3,-1506.2873 4199.8742,-1500.0636 4189.2903,-1499.582 4191.3,-1506.2873\"/>\n<text text-anchor=\"middle\" x=\"4188.0159\" y=\"-1518.3723\" font-family=\"Times,serif\" font-size=\"14.00\" fill=\"#000000\">False</text>\n</g>\n<!-- 2 -->\n<g id=\"node3\" class=\"node\">\n<title>2</title>\n<polygon fill=\"none\" stroke=\"#000000\" points=\"1247,-1405 1068,-1405 1068,-1337 1247,-1337 1247,-1405\"/>\n<text text-anchor=\"middle\" x=\"1157.5\" y=\"-1389.8\" font-family=\"Times,serif\" font-size=\"14.00\" fill=\"#000000\">MaritalStatus_Single &lt;= 0.5</text>\n<text text-anchor=\"middle\" x=\"1157.5\" y=\"-1374.8\" font-family=\"Times,serif\" font-size=\"14.00\" fill=\"#000000\">gini = 0.488</text>\n<text text-anchor=\"middle\" x=\"1157.5\" y=\"-1359.8\" font-family=\"Times,serif\" font-size=\"14.00\" fill=\"#000000\">samples = 45</text>\n<text text-anchor=\"middle\" x=\"1157.5\" y=\"-1344.8\" font-family=\"Times,serif\" font-size=\"14.00\" fill=\"#000000\">value = [26, 19]</text>\n</g>\n<!-- 1&#45;&gt;2 -->\n<g id=\"edge2\" class=\"edge\">\n<title>1&#45;&gt;2</title>\n<path fill=\"none\" stroke=\"#000000\" d=\"M2697.728,-1469.0917C2412.7688,-1450.9436 1551.7039,-1396.1055 1257.387,-1377.3615\"/>\n<polygon fill=\"#000000\" stroke=\"#000000\" points=\"1257.3605,-1373.8528 1247.1582,-1376.71 1256.9155,-1380.8386 1257.3605,-1373.8528\"/>\n</g>\n<!-- 23 -->\n<g id=\"node24\" class=\"node\">\n<title>23</title>\n<polygon fill=\"none\" stroke=\"#000000\" points=\"2890,-1405 2691,-1405 2691,-1337 2890,-1337 2890,-1405\"/>\n<text text-anchor=\"middle\" x=\"2790.5\" y=\"-1389.8\" font-family=\"Times,serif\" font-size=\"14.00\" fill=\"#000000\">NumCompaniesWorked &lt;= 0.5</text>\n<text text-anchor=\"middle\" x=\"2790.5\" y=\"-1374.8\" font-family=\"Times,serif\" font-size=\"14.00\" fill=\"#000000\">gini = 0.151</text>\n<text text-anchor=\"middle\" x=\"2790.5\" y=\"-1359.8\" font-family=\"Times,serif\" font-size=\"14.00\" fill=\"#000000\">samples = 693</text>\n<text text-anchor=\"middle\" x=\"2790.5\" y=\"-1344.8\" font-family=\"Times,serif\" font-size=\"14.00\" fill=\"#000000\">value = [636, 57]</text>\n</g>\n<!-- 1&#45;&gt;23 -->\n<g id=\"edge23\" class=\"edge\">\n<title>1&#45;&gt;23</title>\n<path fill=\"none\" stroke=\"#000000\" d=\"M2790.5,-1440.9465C2790.5,-1432.776 2790.5,-1423.9318 2790.5,-1415.3697\"/>\n<polygon fill=\"#000000\" stroke=\"#000000\" points=\"2794.0001,-1415.13 2790.5,-1405.13 2787.0001,-1415.13 2794.0001,-1415.13\"/>\n</g>\n<!-- 3 -->\n<g id=\"node4\" class=\"node\">\n<title>3</title>\n<polygon fill=\"none\" stroke=\"#000000\" points=\"1004,-1301 745,-1301 745,-1233 1004,-1233 1004,-1301\"/>\n<text text-anchor=\"middle\" x=\"874.5\" y=\"-1285.8\" font-family=\"Times,serif\" font-size=\"14.00\" fill=\"#000000\">BusinessTravel_Travel_Frequently &lt;= 0.5</text>\n<text text-anchor=\"middle\" x=\"874.5\" y=\"-1270.8\" font-family=\"Times,serif\" font-size=\"14.00\" fill=\"#000000\">gini = 0.33</text>\n<text text-anchor=\"middle\" x=\"874.5\" y=\"-1255.8\" font-family=\"Times,serif\" font-size=\"14.00\" fill=\"#000000\">samples = 24</text>\n<text text-anchor=\"middle\" x=\"874.5\" y=\"-1240.8\" font-family=\"Times,serif\" font-size=\"14.00\" fill=\"#000000\">value = [19, 5]</text>\n</g>\n<!-- 2&#45;&gt;3 -->\n<g id=\"edge3\" class=\"edge\">\n<title>2&#45;&gt;3</title>\n<path fill=\"none\" stroke=\"#000000\" d=\"M1067.957,-1338.0938C1039.0253,-1327.4616 1006.7282,-1315.5927 976.9375,-1304.6449\"/>\n<polygon fill=\"#000000\" stroke=\"#000000\" points=\"977.9543,-1301.2897 967.3607,-1301.1255 975.5397,-1307.8601 977.9543,-1301.2897\"/>\n</g>\n<!-- 10 -->\n<g id=\"node11\" class=\"node\">\n<title>10</title>\n<polygon fill=\"none\" stroke=\"#000000\" points=\"1266,-1301 1049,-1301 1049,-1233 1266,-1233 1266,-1301\"/>\n<text text-anchor=\"middle\" x=\"1157.5\" y=\"-1285.8\" font-family=\"Times,serif\" font-size=\"14.00\" fill=\"#000000\">JobRole_Research Scientist &lt;= 0.5</text>\n<text text-anchor=\"middle\" x=\"1157.5\" y=\"-1270.8\" font-family=\"Times,serif\" font-size=\"14.00\" fill=\"#000000\">gini = 0.444</text>\n<text text-anchor=\"middle\" x=\"1157.5\" y=\"-1255.8\" font-family=\"Times,serif\" font-size=\"14.00\" fill=\"#000000\">samples = 21</text>\n<text text-anchor=\"middle\" x=\"1157.5\" y=\"-1240.8\" font-family=\"Times,serif\" font-size=\"14.00\" fill=\"#000000\">value = [7, 14]</text>\n</g>\n<!-- 2&#45;&gt;10 -->\n<g id=\"edge10\" class=\"edge\">\n<title>2&#45;&gt;10</title>\n<path fill=\"none\" stroke=\"#000000\" d=\"M1157.5,-1336.9465C1157.5,-1328.776 1157.5,-1319.9318 1157.5,-1311.3697\"/>\n<polygon fill=\"#000000\" stroke=\"#000000\" points=\"1161.0001,-1311.13 1157.5,-1301.13 1154.0001,-1311.13 1161.0001,-1311.13\"/>\n</g>\n<!-- 4 -->\n<g id=\"node5\" class=\"node\">\n<title>4</title>\n<polygon fill=\"none\" stroke=\"#000000\" points=\"760,-1197 585,-1197 585,-1129 760,-1129 760,-1197\"/>\n<text text-anchor=\"middle\" x=\"672.5\" y=\"-1181.8\" font-family=\"Times,serif\" font-size=\"14.00\" fill=\"#000000\">DistanceFromHome &lt;= 0.5</text>\n<text text-anchor=\"middle\" x=\"672.5\" y=\"-1166.8\" font-family=\"Times,serif\" font-size=\"14.00\" fill=\"#000000\">gini = 0.172</text>\n<text text-anchor=\"middle\" x=\"672.5\" y=\"-1151.8\" font-family=\"Times,serif\" font-size=\"14.00\" fill=\"#000000\">samples = 21</text>\n<text text-anchor=\"middle\" x=\"672.5\" y=\"-1136.8\" font-family=\"Times,serif\" font-size=\"14.00\" fill=\"#000000\">value = [19, 2]</text>\n</g>\n<!-- 3&#45;&gt;4 -->\n<g id=\"edge4\" class=\"edge\">\n<title>3&#45;&gt;4</title>\n<path fill=\"none\" stroke=\"#000000\" d=\"M808.3576,-1232.9465C789.0003,-1222.9803 767.6958,-1212.0117 747.8138,-1201.7754\"/>\n<polygon fill=\"#000000\" stroke=\"#000000\" points=\"749.2839,-1198.5957 738.791,-1197.13 746.0797,-1204.8193 749.2839,-1198.5957\"/>\n</g>\n<!-- 9 -->\n<g id=\"node10\" class=\"node\">\n<title>9</title>\n<polygon fill=\"none\" stroke=\"#000000\" points=\"922,-1189.5 827,-1189.5 827,-1136.5 922,-1136.5 922,-1189.5\"/>\n<text text-anchor=\"middle\" x=\"874.5\" y=\"-1174.3\" font-family=\"Times,serif\" font-size=\"14.00\" fill=\"#000000\">gini = 0.0</text>\n<text text-anchor=\"middle\" x=\"874.5\" y=\"-1159.3\" font-family=\"Times,serif\" font-size=\"14.00\" fill=\"#000000\">samples = 3</text>\n<text text-anchor=\"middle\" x=\"874.5\" y=\"-1144.3\" font-family=\"Times,serif\" font-size=\"14.00\" fill=\"#000000\">value = [0, 3]</text>\n</g>\n<!-- 3&#45;&gt;9 -->\n<g id=\"edge9\" class=\"edge\">\n<title>3&#45;&gt;9</title>\n<path fill=\"none\" stroke=\"#000000\" d=\"M874.5,-1232.9465C874.5,-1222.2621 874.5,-1210.4254 874.5,-1199.5742\"/>\n<polygon fill=\"#000000\" stroke=\"#000000\" points=\"878.0001,-1199.5421 874.5,-1189.5422 871.0001,-1199.5422 878.0001,-1199.5421\"/>\n</g>\n<!-- 5 -->\n<g id=\"node6\" class=\"node\">\n<title>5</title>\n<polygon fill=\"none\" stroke=\"#000000\" points=\"560.5,-1085.5 458.5,-1085.5 458.5,-1032.5 560.5,-1032.5 560.5,-1085.5\"/>\n<text text-anchor=\"middle\" x=\"509.5\" y=\"-1070.3\" font-family=\"Times,serif\" font-size=\"14.00\" fill=\"#000000\">gini = 0.0</text>\n<text text-anchor=\"middle\" x=\"509.5\" y=\"-1055.3\" font-family=\"Times,serif\" font-size=\"14.00\" fill=\"#000000\">samples = 18</text>\n<text text-anchor=\"middle\" x=\"509.5\" y=\"-1040.3\" font-family=\"Times,serif\" font-size=\"14.00\" fill=\"#000000\">value = [18, 0]</text>\n</g>\n<!-- 4&#45;&gt;5 -->\n<g id=\"edge5\" class=\"edge\">\n<title>4&#45;&gt;5</title>\n<path fill=\"none\" stroke=\"#000000\" d=\"M619.1277,-1128.9465C599.9649,-1116.72 578.4375,-1102.9847 559.5657,-1090.9437\"/>\n<polygon fill=\"#000000\" stroke=\"#000000\" points=\"561.4126,-1087.9704 551.0997,-1085.5422 557.6474,-1093.8716 561.4126,-1087.9704\"/>\n</g>\n<!-- 6 -->\n<g id=\"node7\" class=\"node\">\n<title>6</title>\n<polygon fill=\"none\" stroke=\"#000000\" points=\"766,-1093 579,-1093 579,-1025 766,-1025 766,-1093\"/>\n<text text-anchor=\"middle\" x=\"672.5\" y=\"-1077.8\" font-family=\"Times,serif\" font-size=\"14.00\" fill=\"#000000\">EducationField_Other &lt;= 0.5</text>\n<text text-anchor=\"middle\" x=\"672.5\" y=\"-1062.8\" font-family=\"Times,serif\" font-size=\"14.00\" fill=\"#000000\">gini = 0.444</text>\n<text text-anchor=\"middle\" x=\"672.5\" y=\"-1047.8\" font-family=\"Times,serif\" font-size=\"14.00\" fill=\"#000000\">samples = 3</text>\n<text text-anchor=\"middle\" x=\"672.5\" y=\"-1032.8\" font-family=\"Times,serif\" font-size=\"14.00\" fill=\"#000000\">value = [1, 2]</text>\n</g>\n<!-- 4&#45;&gt;6 -->\n<g id=\"edge6\" class=\"edge\">\n<title>4&#45;&gt;6</title>\n<path fill=\"none\" stroke=\"#000000\" d=\"M672.5,-1128.9465C672.5,-1120.776 672.5,-1111.9318 672.5,-1103.3697\"/>\n<polygon fill=\"#000000\" stroke=\"#000000\" points=\"676.0001,-1103.13 672.5,-1093.13 669.0001,-1103.13 676.0001,-1103.13\"/>\n</g>\n<!-- 7 -->\n<g id=\"node8\" class=\"node\">\n<title>7</title>\n<polygon fill=\"none\" stroke=\"#000000\" points=\"607,-981.5 512,-981.5 512,-928.5 607,-928.5 607,-981.5\"/>\n<text text-anchor=\"middle\" x=\"559.5\" y=\"-966.3\" font-family=\"Times,serif\" font-size=\"14.00\" fill=\"#000000\">gini = 0.0</text>\n<text text-anchor=\"middle\" x=\"559.5\" y=\"-951.3\" font-family=\"Times,serif\" font-size=\"14.00\" fill=\"#000000\">samples = 2</text>\n<text text-anchor=\"middle\" x=\"559.5\" y=\"-936.3\" font-family=\"Times,serif\" font-size=\"14.00\" fill=\"#000000\">value = [0, 2]</text>\n</g>\n<!-- 6&#45;&gt;7 -->\n<g id=\"edge7\" class=\"edge\">\n<title>6&#45;&gt;7</title>\n<path fill=\"none\" stroke=\"#000000\" d=\"M635.4996,-1024.9465C622.8134,-1013.2707 608.6322,-1000.219 595.987,-988.5809\"/>\n<polygon fill=\"#000000\" stroke=\"#000000\" points=\"598.0673,-985.7389 588.3391,-981.5422 593.3269,-990.8895 598.0673,-985.7389\"/>\n</g>\n<!-- 8 -->\n<g id=\"node9\" class=\"node\">\n<title>8</title>\n<polygon fill=\"none\" stroke=\"#000000\" points=\"720,-981.5 625,-981.5 625,-928.5 720,-928.5 720,-981.5\"/>\n<text text-anchor=\"middle\" x=\"672.5\" y=\"-966.3\" font-family=\"Times,serif\" font-size=\"14.00\" fill=\"#000000\">gini = 0.0</text>\n<text text-anchor=\"middle\" x=\"672.5\" y=\"-951.3\" font-family=\"Times,serif\" font-size=\"14.00\" fill=\"#000000\">samples = 1</text>\n<text text-anchor=\"middle\" x=\"672.5\" y=\"-936.3\" font-family=\"Times,serif\" font-size=\"14.00\" fill=\"#000000\">value = [1, 0]</text>\n</g>\n<!-- 6&#45;&gt;8 -->\n<g id=\"edge8\" class=\"edge\">\n<title>6&#45;&gt;8</title>\n<path fill=\"none\" stroke=\"#000000\" d=\"M672.5,-1024.9465C672.5,-1014.2621 672.5,-1002.4254 672.5,-991.5742\"/>\n<polygon fill=\"#000000\" stroke=\"#000000\" points=\"676.0001,-991.5421 672.5,-981.5422 669.0001,-991.5422 676.0001,-991.5421\"/>\n</g>\n<!-- 11 -->\n<g id=\"node12\" class=\"node\">\n<title>11</title>\n<polygon fill=\"none\" stroke=\"#000000\" points=\"1142,-1197 1011,-1197 1011,-1129 1142,-1129 1142,-1197\"/>\n<text text-anchor=\"middle\" x=\"1076.5\" y=\"-1181.8\" font-family=\"Times,serif\" font-size=\"14.00\" fill=\"#000000\">DailyRate &lt;= 0.912</text>\n<text text-anchor=\"middle\" x=\"1076.5\" y=\"-1166.8\" font-family=\"Times,serif\" font-size=\"14.00\" fill=\"#000000\">gini = 0.245</text>\n<text text-anchor=\"middle\" x=\"1076.5\" y=\"-1151.8\" font-family=\"Times,serif\" font-size=\"14.00\" fill=\"#000000\">samples = 14</text>\n<text text-anchor=\"middle\" x=\"1076.5\" y=\"-1136.8\" font-family=\"Times,serif\" font-size=\"14.00\" fill=\"#000000\">value = [2, 12]</text>\n</g>\n<!-- 10&#45;&gt;11 -->\n<g id=\"edge11\" class=\"edge\">\n<title>10&#45;&gt;11</title>\n<path fill=\"none\" stroke=\"#000000\" d=\"M1130.9776,-1232.9465C1124.0546,-1224.0578 1116.5106,-1214.3716 1109.304,-1205.1188\"/>\n<polygon fill=\"#000000\" stroke=\"#000000\" points=\"1111.988,-1202.8688 1103.082,-1197.13 1106.4654,-1207.1701 1111.988,-1202.8688\"/>\n</g>\n<!-- 18 -->\n<g id=\"node19\" class=\"node\">\n<title>18</title>\n<polygon fill=\"none\" stroke=\"#000000\" points=\"1350.5,-1197 1160.5,-1197 1160.5,-1129 1350.5,-1129 1350.5,-1197\"/>\n<text text-anchor=\"middle\" x=\"1255.5\" y=\"-1181.8\" font-family=\"Times,serif\" font-size=\"14.00\" fill=\"#000000\">DistanceFromHome &lt;= 0.196</text>\n<text text-anchor=\"middle\" x=\"1255.5\" y=\"-1166.8\" font-family=\"Times,serif\" font-size=\"14.00\" fill=\"#000000\">gini = 0.408</text>\n<text text-anchor=\"middle\" x=\"1255.5\" y=\"-1151.8\" font-family=\"Times,serif\" font-size=\"14.00\" fill=\"#000000\">samples = 7</text>\n<text text-anchor=\"middle\" x=\"1255.5\" y=\"-1136.8\" font-family=\"Times,serif\" font-size=\"14.00\" fill=\"#000000\">value = [5, 2]</text>\n</g>\n<!-- 10&#45;&gt;18 -->\n<g id=\"edge18\" class=\"edge\">\n<title>10&#45;&gt;18</title>\n<path fill=\"none\" stroke=\"#000000\" d=\"M1189.5889,-1232.9465C1198.134,-1223.8782 1207.4613,-1213.9799 1216.3391,-1204.5585\"/>\n<polygon fill=\"#000000\" stroke=\"#000000\" points=\"1219.0283,-1206.8082 1223.339,-1197.13 1213.9337,-1202.0076 1219.0283,-1206.8082\"/>\n</g>\n<!-- 12 -->\n<g id=\"node13\" class=\"node\">\n<title>12</title>\n<polygon fill=\"none\" stroke=\"#000000\" points=\"1033.5,-1093 817.5,-1093 817.5,-1025 1033.5,-1025 1033.5,-1093\"/>\n<text text-anchor=\"middle\" x=\"925.5\" y=\"-1077.8\" font-family=\"Times,serif\" font-size=\"14.00\" fill=\"#000000\">EnvironmentSatisfaction &lt;= 0.833</text>\n<text text-anchor=\"middle\" x=\"925.5\" y=\"-1062.8\" font-family=\"Times,serif\" font-size=\"14.00\" fill=\"#000000\">gini = 0.142</text>\n<text text-anchor=\"middle\" x=\"925.5\" y=\"-1047.8\" font-family=\"Times,serif\" font-size=\"14.00\" fill=\"#000000\">samples = 13</text>\n<text text-anchor=\"middle\" x=\"925.5\" y=\"-1032.8\" font-family=\"Times,serif\" font-size=\"14.00\" fill=\"#000000\">value = [1, 12]</text>\n</g>\n<!-- 11&#45;&gt;12 -->\n<g id=\"edge12\" class=\"edge\">\n<title>11&#45;&gt;12</title>\n<path fill=\"none\" stroke=\"#000000\" d=\"M1027.057,-1128.9465C1013.1083,-1119.3395 997.8071,-1108.8009 983.4097,-1098.8848\"/>\n<polygon fill=\"#000000\" stroke=\"#000000\" points=\"985.2751,-1095.9198 975.0541,-1093.13 981.3045,-1101.6848 985.2751,-1095.9198\"/>\n</g>\n<!-- 17 -->\n<g id=\"node18\" class=\"node\">\n<title>17</title>\n<polygon fill=\"none\" stroke=\"#000000\" points=\"1147,-1085.5 1052,-1085.5 1052,-1032.5 1147,-1032.5 1147,-1085.5\"/>\n<text text-anchor=\"middle\" x=\"1099.5\" y=\"-1070.3\" font-family=\"Times,serif\" font-size=\"14.00\" fill=\"#000000\">gini = 0.0</text>\n<text text-anchor=\"middle\" x=\"1099.5\" y=\"-1055.3\" font-family=\"Times,serif\" font-size=\"14.00\" fill=\"#000000\">samples = 1</text>\n<text text-anchor=\"middle\" x=\"1099.5\" y=\"-1040.3\" font-family=\"Times,serif\" font-size=\"14.00\" fill=\"#000000\">value = [1, 0]</text>\n</g>\n<!-- 11&#45;&gt;17 -->\n<g id=\"edge17\" class=\"edge\">\n<title>11&#45;&gt;17</title>\n<path fill=\"none\" stroke=\"#000000\" d=\"M1084.0311,-1128.9465C1086.394,-1118.2621 1089.0117,-1106.4254 1091.4115,-1095.5742\"/>\n<polygon fill=\"#000000\" stroke=\"#000000\" points=\"1094.8881,-1096.062 1093.6301,-1085.5422 1088.0532,-1094.5504 1094.8881,-1096.062\"/>\n</g>\n<!-- 13 -->\n<g id=\"node14\" class=\"node\">\n<title>13</title>\n<polygon fill=\"none\" stroke=\"#000000\" points=\"839,-981.5 738,-981.5 738,-928.5 839,-928.5 839,-981.5\"/>\n<text text-anchor=\"middle\" x=\"788.5\" y=\"-966.3\" font-family=\"Times,serif\" font-size=\"14.00\" fill=\"#000000\">gini = 0.0</text>\n<text text-anchor=\"middle\" x=\"788.5\" y=\"-951.3\" font-family=\"Times,serif\" font-size=\"14.00\" fill=\"#000000\">samples = 11</text>\n<text text-anchor=\"middle\" x=\"788.5\" y=\"-936.3\" font-family=\"Times,serif\" font-size=\"14.00\" fill=\"#000000\">value = [0, 11]</text>\n</g>\n<!-- 12&#45;&gt;13 -->\n<g id=\"edge13\" class=\"edge\">\n<title>12&#45;&gt;13</title>\n<path fill=\"none\" stroke=\"#000000\" d=\"M880.6411,-1024.9465C864.8252,-1012.9403 847.0927,-999.4791 831.4393,-987.5962\"/>\n<polygon fill=\"#000000\" stroke=\"#000000\" points=\"833.5455,-984.8009 823.4642,-981.5422 829.3129,-990.3764 833.5455,-984.8009\"/>\n</g>\n<!-- 14 -->\n<g id=\"node15\" class=\"node\">\n<title>14</title>\n<polygon fill=\"none\" stroke=\"#000000\" points=\"1057.5,-989 857.5,-989 857.5,-921 1057.5,-921 1057.5,-989\"/>\n<text text-anchor=\"middle\" x=\"957.5\" y=\"-973.8\" font-family=\"Times,serif\" font-size=\"14.00\" fill=\"#000000\">EducationField_Medical &lt;= 0.5</text>\n<text text-anchor=\"middle\" x=\"957.5\" y=\"-958.8\" font-family=\"Times,serif\" font-size=\"14.00\" fill=\"#000000\">gini = 0.5</text>\n<text text-anchor=\"middle\" x=\"957.5\" y=\"-943.8\" font-family=\"Times,serif\" font-size=\"14.00\" fill=\"#000000\">samples = 2</text>\n<text text-anchor=\"middle\" x=\"957.5\" y=\"-928.8\" font-family=\"Times,serif\" font-size=\"14.00\" fill=\"#000000\">value = [1, 1]</text>\n</g>\n<!-- 12&#45;&gt;14 -->\n<g id=\"edge14\" class=\"edge\">\n<title>12&#45;&gt;14</title>\n<path fill=\"none\" stroke=\"#000000\" d=\"M935.978,-1024.9465C938.5472,-1016.5965 941.333,-1007.5427 944.0214,-998.8056\"/>\n<polygon fill=\"#000000\" stroke=\"#000000\" points=\"947.4028,-999.7171 946.9985,-989.13 940.7123,-997.6585 947.4028,-999.7171\"/>\n</g>\n<!-- 15 -->\n<g id=\"node16\" class=\"node\">\n<title>15</title>\n<polygon fill=\"none\" stroke=\"#000000\" points=\"892,-877.5 797,-877.5 797,-824.5 892,-824.5 892,-877.5\"/>\n<text text-anchor=\"middle\" x=\"844.5\" y=\"-862.3\" font-family=\"Times,serif\" font-size=\"14.00\" fill=\"#000000\">gini = 0.0</text>\n<text text-anchor=\"middle\" x=\"844.5\" y=\"-847.3\" font-family=\"Times,serif\" font-size=\"14.00\" fill=\"#000000\">samples = 1</text>\n<text text-anchor=\"middle\" x=\"844.5\" y=\"-832.3\" font-family=\"Times,serif\" font-size=\"14.00\" fill=\"#000000\">value = [0, 1]</text>\n</g>\n<!-- 14&#45;&gt;15 -->\n<g id=\"edge15\" class=\"edge\">\n<title>14&#45;&gt;15</title>\n<path fill=\"none\" stroke=\"#000000\" d=\"M920.4996,-920.9465C907.8134,-909.2707 893.6322,-896.219 880.987,-884.5809\"/>\n<polygon fill=\"#000000\" stroke=\"#000000\" points=\"883.0673,-881.7389 873.3391,-877.5422 878.3269,-886.8895 883.0673,-881.7389\"/>\n</g>\n<!-- 16 -->\n<g id=\"node17\" class=\"node\">\n<title>16</title>\n<polygon fill=\"none\" stroke=\"#000000\" points=\"1005,-877.5 910,-877.5 910,-824.5 1005,-824.5 1005,-877.5\"/>\n<text text-anchor=\"middle\" x=\"957.5\" y=\"-862.3\" font-family=\"Times,serif\" font-size=\"14.00\" fill=\"#000000\">gini = 0.0</text>\n<text text-anchor=\"middle\" x=\"957.5\" y=\"-847.3\" font-family=\"Times,serif\" font-size=\"14.00\" fill=\"#000000\">samples = 1</text>\n<text text-anchor=\"middle\" x=\"957.5\" y=\"-832.3\" font-family=\"Times,serif\" font-size=\"14.00\" fill=\"#000000\">value = [1, 0]</text>\n</g>\n<!-- 14&#45;&gt;16 -->\n<g id=\"edge16\" class=\"edge\">\n<title>14&#45;&gt;16</title>\n<path fill=\"none\" stroke=\"#000000\" d=\"M957.5,-920.9465C957.5,-910.2621 957.5,-898.4254 957.5,-887.5742\"/>\n<polygon fill=\"#000000\" stroke=\"#000000\" points=\"961.0001,-887.5421 957.5,-877.5422 954.0001,-887.5422 961.0001,-887.5421\"/>\n</g>\n<!-- 19 -->\n<g id=\"node20\" class=\"node\">\n<title>19</title>\n<polygon fill=\"none\" stroke=\"#000000\" points=\"1279,-1085.5 1184,-1085.5 1184,-1032.5 1279,-1032.5 1279,-1085.5\"/>\n<text text-anchor=\"middle\" x=\"1231.5\" y=\"-1070.3\" font-family=\"Times,serif\" font-size=\"14.00\" fill=\"#000000\">gini = 0.0</text>\n<text text-anchor=\"middle\" x=\"1231.5\" y=\"-1055.3\" font-family=\"Times,serif\" font-size=\"14.00\" fill=\"#000000\">samples = 4</text>\n<text text-anchor=\"middle\" x=\"1231.5\" y=\"-1040.3\" font-family=\"Times,serif\" font-size=\"14.00\" fill=\"#000000\">value = [4, 0]</text>\n</g>\n<!-- 18&#45;&gt;19 -->\n<g id=\"edge19\" class=\"edge\">\n<title>18&#45;&gt;19</title>\n<path fill=\"none\" stroke=\"#000000\" d=\"M1247.6415,-1128.9465C1245.1759,-1118.2621 1242.4443,-1106.4254 1239.9402,-1095.5742\"/>\n<polygon fill=\"#000000\" stroke=\"#000000\" points=\"1243.2842,-1094.499 1237.6251,-1085.5422 1236.4634,-1096.0731 1243.2842,-1094.499\"/>\n</g>\n<!-- 20 -->\n<g id=\"node21\" class=\"node\">\n<title>20</title>\n<polygon fill=\"none\" stroke=\"#000000\" points=\"1473.5,-1093 1297.5,-1093 1297.5,-1025 1473.5,-1025 1473.5,-1093\"/>\n<text text-anchor=\"middle\" x=\"1385.5\" y=\"-1077.8\" font-family=\"Times,serif\" font-size=\"14.00\" fill=\"#000000\">YearsAtCompany &lt;= 0.013</text>\n<text text-anchor=\"middle\" x=\"1385.5\" y=\"-1062.8\" font-family=\"Times,serif\" font-size=\"14.00\" fill=\"#000000\">gini = 0.444</text>\n<text text-anchor=\"middle\" x=\"1385.5\" y=\"-1047.8\" font-family=\"Times,serif\" font-size=\"14.00\" fill=\"#000000\">samples = 3</text>\n<text text-anchor=\"middle\" x=\"1385.5\" y=\"-1032.8\" font-family=\"Times,serif\" font-size=\"14.00\" fill=\"#000000\">value = [1, 2]</text>\n</g>\n<!-- 18&#45;&gt;20 -->\n<g id=\"edge20\" class=\"edge\">\n<title>18&#45;&gt;20</title>\n<path fill=\"none\" stroke=\"#000000\" d=\"M1298.0669,-1128.9465C1309.8512,-1119.519 1322.7568,-1109.1946 1334.9481,-1099.4415\"/>\n<polygon fill=\"#000000\" stroke=\"#000000\" points=\"1337.2152,-1102.11 1342.8375,-1093.13 1332.8423,-1096.6439 1337.2152,-1102.11\"/>\n</g>\n<!-- 21 -->\n<g id=\"node22\" class=\"node\">\n<title>21</title>\n<polygon fill=\"none\" stroke=\"#000000\" points=\"1330,-981.5 1235,-981.5 1235,-928.5 1330,-928.5 1330,-981.5\"/>\n<text text-anchor=\"middle\" x=\"1282.5\" y=\"-966.3\" font-family=\"Times,serif\" font-size=\"14.00\" fill=\"#000000\">gini = 0.0</text>\n<text text-anchor=\"middle\" x=\"1282.5\" y=\"-951.3\" font-family=\"Times,serif\" font-size=\"14.00\" fill=\"#000000\">samples = 1</text>\n<text text-anchor=\"middle\" x=\"1282.5\" y=\"-936.3\" font-family=\"Times,serif\" font-size=\"14.00\" fill=\"#000000\">value = [1, 0]</text>\n</g>\n<!-- 20&#45;&gt;21 -->\n<g id=\"edge21\" class=\"edge\">\n<title>20&#45;&gt;21</title>\n<path fill=\"none\" stroke=\"#000000\" d=\"M1351.7739,-1024.9465C1340.3195,-1013.3809 1327.528,-1000.4652 1316.0846,-988.9107\"/>\n<polygon fill=\"#000000\" stroke=\"#000000\" points=\"1318.3106,-986.1844 1308.787,-981.5422 1313.337,-991.1102 1318.3106,-986.1844\"/>\n</g>\n<!-- 22 -->\n<g id=\"node23\" class=\"node\">\n<title>22</title>\n<polygon fill=\"none\" stroke=\"#000000\" points=\"1443,-981.5 1348,-981.5 1348,-928.5 1443,-928.5 1443,-981.5\"/>\n<text text-anchor=\"middle\" x=\"1395.5\" y=\"-966.3\" font-family=\"Times,serif\" font-size=\"14.00\" fill=\"#000000\">gini = 0.0</text>\n<text text-anchor=\"middle\" x=\"1395.5\" y=\"-951.3\" font-family=\"Times,serif\" font-size=\"14.00\" fill=\"#000000\">samples = 2</text>\n<text text-anchor=\"middle\" x=\"1395.5\" y=\"-936.3\" font-family=\"Times,serif\" font-size=\"14.00\" fill=\"#000000\">value = [0, 2]</text>\n</g>\n<!-- 20&#45;&gt;22 -->\n<g id=\"edge22\" class=\"edge\">\n<title>20&#45;&gt;22</title>\n<path fill=\"none\" stroke=\"#000000\" d=\"M1388.7744,-1024.9465C1389.8017,-1014.2621 1390.9399,-1002.4254 1391.9832,-991.5742\"/>\n<polygon fill=\"#000000\" stroke=\"#000000\" points=\"1395.4746,-991.8313 1392.9479,-981.5422 1388.5067,-991.1612 1395.4746,-991.8313\"/>\n</g>\n<!-- 24 -->\n<g id=\"node25\" class=\"node\">\n<title>24</title>\n<polygon fill=\"none\" stroke=\"#000000\" points=\"2636.5,-1301 2460.5,-1301 2460.5,-1233 2636.5,-1233 2636.5,-1301\"/>\n<text text-anchor=\"middle\" x=\"2548.5\" y=\"-1285.8\" font-family=\"Times,serif\" font-size=\"14.00\" fill=\"#000000\">YearsAtCompany &lt;= 0.738</text>\n<text text-anchor=\"middle\" x=\"2548.5\" y=\"-1270.8\" font-family=\"Times,serif\" font-size=\"14.00\" fill=\"#000000\">gini = 0.109</text>\n<text text-anchor=\"middle\" x=\"2548.5\" y=\"-1255.8\" font-family=\"Times,serif\" font-size=\"14.00\" fill=\"#000000\">samples = 536</text>\n<text text-anchor=\"middle\" x=\"2548.5\" y=\"-1240.8\" font-family=\"Times,serif\" font-size=\"14.00\" fill=\"#000000\">value = [505, 31]</text>\n</g>\n<!-- 23&#45;&gt;24 -->\n<g id=\"edge24\" class=\"edge\">\n<title>23&#45;&gt;24</title>\n<path fill=\"none\" stroke=\"#000000\" d=\"M2711.2601,-1336.9465C2687.5473,-1326.7559 2661.3956,-1315.5171 2637.1206,-1305.0849\"/>\n<polygon fill=\"#000000\" stroke=\"#000000\" points=\"2638.4873,-1301.8628 2627.9179,-1301.13 2635.7235,-1308.294 2638.4873,-1301.8628\"/>\n</g>\n<!-- 113 -->\n<g id=\"node114\" class=\"node\">\n<title>113</title>\n<polygon fill=\"none\" stroke=\"#000000\" points=\"3038,-1301 2921,-1301 2921,-1233 3038,-1233 3038,-1301\"/>\n<text text-anchor=\"middle\" x=\"2979.5\" y=\"-1285.8\" font-family=\"Times,serif\" font-size=\"14.00\" fill=\"#000000\">Age &lt;= 0.369</text>\n<text text-anchor=\"middle\" x=\"2979.5\" y=\"-1270.8\" font-family=\"Times,serif\" font-size=\"14.00\" fill=\"#000000\">gini = 0.276</text>\n<text text-anchor=\"middle\" x=\"2979.5\" y=\"-1255.8\" font-family=\"Times,serif\" font-size=\"14.00\" fill=\"#000000\">samples = 157</text>\n<text text-anchor=\"middle\" x=\"2979.5\" y=\"-1240.8\" font-family=\"Times,serif\" font-size=\"14.00\" fill=\"#000000\">value = [131, 26]</text>\n</g>\n<!-- 23&#45;&gt;113 -->\n<g id=\"edge113\" class=\"edge\">\n<title>23&#45;&gt;113</title>\n<path fill=\"none\" stroke=\"#000000\" d=\"M2852.3857,-1336.9465C2871.4309,-1326.4666 2892.4905,-1314.8782 2911.8988,-1304.1985\"/>\n<polygon fill=\"#000000\" stroke=\"#000000\" points=\"2913.6129,-1307.2503 2920.6868,-1299.3628 2910.2382,-1301.1174 2913.6129,-1307.2503\"/>\n</g>\n<!-- 25 -->\n<g id=\"node26\" class=\"node\">\n<title>25</title>\n<polygon fill=\"none\" stroke=\"#000000\" points=\"2241,-1197 2056,-1197 2056,-1129 2241,-1129 2241,-1197\"/>\n<text text-anchor=\"middle\" x=\"2148.5\" y=\"-1181.8\" font-family=\"Times,serif\" font-size=\"14.00\" fill=\"#000000\">TotalWorkingYears &lt;= 0.288</text>\n<text text-anchor=\"middle\" x=\"2148.5\" y=\"-1166.8\" font-family=\"Times,serif\" font-size=\"14.00\" fill=\"#000000\">gini = 0.103</text>\n<text text-anchor=\"middle\" x=\"2148.5\" y=\"-1151.8\" font-family=\"Times,serif\" font-size=\"14.00\" fill=\"#000000\">samples = 530</text>\n<text text-anchor=\"middle\" x=\"2148.5\" y=\"-1136.8\" font-family=\"Times,serif\" font-size=\"14.00\" fill=\"#000000\">value = [501, 29]</text>\n</g>\n<!-- 24&#45;&gt;25 -->\n<g id=\"edge25\" class=\"edge\">\n<title>24&#45;&gt;25</title>\n<path fill=\"none\" stroke=\"#000000\" d=\"M2460.2231,-1244.048C2398.402,-1227.9745 2315.6117,-1206.449 2250.8897,-1189.6213\"/>\n<polygon fill=\"#000000\" stroke=\"#000000\" points=\"2251.6294,-1186.1973 2241.0704,-1187.0683 2249.8679,-1192.9721 2251.6294,-1186.1973\"/>\n</g>\n<!-- 110 -->\n<g id=\"node111\" class=\"node\">\n<title>110</title>\n<polygon fill=\"none\" stroke=\"#000000\" points=\"2623.5,-1197 2473.5,-1197 2473.5,-1129 2623.5,-1129 2623.5,-1197\"/>\n<text text-anchor=\"middle\" x=\"2548.5\" y=\"-1181.8\" font-family=\"Times,serif\" font-size=\"14.00\" fill=\"#000000\">Gender_Female &lt;= 0.5</text>\n<text text-anchor=\"middle\" x=\"2548.5\" y=\"-1166.8\" font-family=\"Times,serif\" font-size=\"14.00\" fill=\"#000000\">gini = 0.444</text>\n<text text-anchor=\"middle\" x=\"2548.5\" y=\"-1151.8\" font-family=\"Times,serif\" font-size=\"14.00\" fill=\"#000000\">samples = 6</text>\n<text text-anchor=\"middle\" x=\"2548.5\" y=\"-1136.8\" font-family=\"Times,serif\" font-size=\"14.00\" fill=\"#000000\">value = [4, 2]</text>\n</g>\n<!-- 24&#45;&gt;110 -->\n<g id=\"edge110\" class=\"edge\">\n<title>24&#45;&gt;110</title>\n<path fill=\"none\" stroke=\"#000000\" d=\"M2548.5,-1232.9465C2548.5,-1224.776 2548.5,-1215.9318 2548.5,-1207.3697\"/>\n<polygon fill=\"#000000\" stroke=\"#000000\" points=\"2552.0001,-1207.13 2548.5,-1197.13 2545.0001,-1207.13 2552.0001,-1207.13\"/>\n</g>\n<!-- 26 -->\n<g id=\"node27\" class=\"node\">\n<title>26</title>\n<polygon fill=\"none\" stroke=\"#000000\" points=\"1879,-1093 1762,-1093 1762,-1025 1879,-1025 1879,-1093\"/>\n<text text-anchor=\"middle\" x=\"1820.5\" y=\"-1077.8\" font-family=\"Times,serif\" font-size=\"14.00\" fill=\"#000000\">Age &lt;= 0.655</text>\n<text text-anchor=\"middle\" x=\"1820.5\" y=\"-1062.8\" font-family=\"Times,serif\" font-size=\"14.00\" fill=\"#000000\">gini = 0.142</text>\n<text text-anchor=\"middle\" x=\"1820.5\" y=\"-1047.8\" font-family=\"Times,serif\" font-size=\"14.00\" fill=\"#000000\">samples = 352</text>\n<text text-anchor=\"middle\" x=\"1820.5\" y=\"-1032.8\" font-family=\"Times,serif\" font-size=\"14.00\" fill=\"#000000\">value = [325, 27]</text>\n</g>\n<!-- 25&#45;&gt;26 -->\n<g id=\"edge26\" class=\"edge\">\n<title>25&#45;&gt;26</title>\n<path fill=\"none\" stroke=\"#000000\" d=\"M2055.8236,-1133.6148C2002.8318,-1116.8125 1937.5012,-1096.0979 1889.132,-1080.7614\"/>\n<polygon fill=\"#000000\" stroke=\"#000000\" points=\"1889.9763,-1077.3574 1879.3861,-1077.6712 1887.8605,-1084.03 1889.9763,-1077.3574\"/>\n</g>\n<!-- 99 -->\n<g id=\"node100\" class=\"node\">\n<title>99</title>\n<polygon fill=\"none\" stroke=\"#000000\" points=\"2232,-1093 2065,-1093 2065,-1025 2232,-1025 2232,-1093\"/>\n<text text-anchor=\"middle\" x=\"2148.5\" y=\"-1077.8\" font-family=\"Times,serif\" font-size=\"14.00\" fill=\"#000000\">JobInvolvement &lt;= 0.167</text>\n<text text-anchor=\"middle\" x=\"2148.5\" y=\"-1062.8\" font-family=\"Times,serif\" font-size=\"14.00\" fill=\"#000000\">gini = 0.022</text>\n<text text-anchor=\"middle\" x=\"2148.5\" y=\"-1047.8\" font-family=\"Times,serif\" font-size=\"14.00\" fill=\"#000000\">samples = 178</text>\n<text text-anchor=\"middle\" x=\"2148.5\" y=\"-1032.8\" font-family=\"Times,serif\" font-size=\"14.00\" fill=\"#000000\">value = [176, 2]</text>\n</g>\n<!-- 25&#45;&gt;99 -->\n<g id=\"edge99\" class=\"edge\">\n<title>25&#45;&gt;99</title>\n<path fill=\"none\" stroke=\"#000000\" d=\"M2148.5,-1128.9465C2148.5,-1120.776 2148.5,-1111.9318 2148.5,-1103.3697\"/>\n<polygon fill=\"#000000\" stroke=\"#000000\" points=\"2152.0001,-1103.13 2148.5,-1093.13 2145.0001,-1103.13 2152.0001,-1103.13\"/>\n</g>\n<!-- 27 -->\n<g id=\"node28\" class=\"node\">\n<title>27</title>\n<polygon fill=\"none\" stroke=\"#000000\" points=\"1591.5,-989 1467.5,-989 1467.5,-921 1591.5,-921 1591.5,-989\"/>\n<text text-anchor=\"middle\" x=\"1529.5\" y=\"-973.8\" font-family=\"Times,serif\" font-size=\"14.00\" fill=\"#000000\">DailyRate &lt;= 0.34</text>\n<text text-anchor=\"middle\" x=\"1529.5\" y=\"-958.8\" font-family=\"Times,serif\" font-size=\"14.00\" fill=\"#000000\">gini = 0.122</text>\n<text text-anchor=\"middle\" x=\"1529.5\" y=\"-943.8\" font-family=\"Times,serif\" font-size=\"14.00\" fill=\"#000000\">samples = 338</text>\n<text text-anchor=\"middle\" x=\"1529.5\" y=\"-928.8\" font-family=\"Times,serif\" font-size=\"14.00\" fill=\"#000000\">value = [316, 22]</text>\n</g>\n<!-- 26&#45;&gt;27 -->\n<g id=\"edge27\" class=\"edge\">\n<title>26&#45;&gt;27</title>\n<path fill=\"none\" stroke=\"#000000\" d=\"M1761.9619,-1038.0792C1715.6717,-1021.5356 1650.8328,-998.3629 1601.3898,-980.6926\"/>\n<polygon fill=\"#000000\" stroke=\"#000000\" points=\"1602.3111,-977.3051 1591.7165,-977.2355 1599.9553,-983.8968 1602.3111,-977.3051\"/>\n</g>\n<!-- 94 -->\n<g id=\"node95\" class=\"node\">\n<title>94</title>\n<polygon fill=\"none\" stroke=\"#000000\" points=\"1910,-989 1731,-989 1731,-921 1910,-921 1910,-989\"/>\n<text text-anchor=\"middle\" x=\"1820.5\" y=\"-973.8\" font-family=\"Times,serif\" font-size=\"14.00\" fill=\"#000000\">MaritalStatus_Single &lt;= 0.5</text>\n<text text-anchor=\"middle\" x=\"1820.5\" y=\"-958.8\" font-family=\"Times,serif\" font-size=\"14.00\" fill=\"#000000\">gini = 0.459</text>\n<text text-anchor=\"middle\" x=\"1820.5\" y=\"-943.8\" font-family=\"Times,serif\" font-size=\"14.00\" fill=\"#000000\">samples = 14</text>\n<text text-anchor=\"middle\" x=\"1820.5\" y=\"-928.8\" font-family=\"Times,serif\" font-size=\"14.00\" fill=\"#000000\">value = [9, 5]</text>\n</g>\n<!-- 26&#45;&gt;94 -->\n<g id=\"edge94\" class=\"edge\">\n<title>26&#45;&gt;94</title>\n<path fill=\"none\" stroke=\"#000000\" d=\"M1820.5,-1024.9465C1820.5,-1016.776 1820.5,-1007.9318 1820.5,-999.3697\"/>\n<polygon fill=\"#000000\" stroke=\"#000000\" points=\"1824.0001,-999.13 1820.5,-989.13 1817.0001,-999.13 1824.0001,-999.13\"/>\n</g>\n<!-- 28 -->\n<g id=\"node29\" class=\"node\">\n<title>28</title>\n<polygon fill=\"none\" stroke=\"#000000\" points=\"1282,-885 1023,-885 1023,-817 1282,-817 1282,-885\"/>\n<text text-anchor=\"middle\" x=\"1152.5\" y=\"-869.8\" font-family=\"Times,serif\" font-size=\"14.00\" fill=\"#000000\">BusinessTravel_Travel_Frequently &lt;= 0.5</text>\n<text text-anchor=\"middle\" x=\"1152.5\" y=\"-854.8\" font-family=\"Times,serif\" font-size=\"14.00\" fill=\"#000000\">gini = 0.212</text>\n<text text-anchor=\"middle\" x=\"1152.5\" y=\"-839.8\" font-family=\"Times,serif\" font-size=\"14.00\" fill=\"#000000\">samples = 108</text>\n<text text-anchor=\"middle\" x=\"1152.5\" y=\"-824.8\" font-family=\"Times,serif\" font-size=\"14.00\" fill=\"#000000\">value = [95, 13]</text>\n</g>\n<!-- 27&#45;&gt;28 -->\n<g id=\"edge28\" class=\"edge\">\n<title>27&#45;&gt;28</title>\n<path fill=\"none\" stroke=\"#000000\" d=\"M1467.3059,-926.7061C1462.0046,-924.6565 1456.6874,-922.722 1451.5,-921 1400.3879,-904.0326 1343.0575,-889.5564 1292.3744,-878.2472\"/>\n<polygon fill=\"#000000\" stroke=\"#000000\" points=\"1292.8499,-874.768 1282.3303,-876.0278 1291.3396,-881.6031 1292.8499,-874.768\"/>\n</g>\n<!-- 55 -->\n<g id=\"node56\" class=\"node\">\n<title>55</title>\n<polygon fill=\"none\" stroke=\"#000000\" points=\"1595,-885 1464,-885 1464,-817 1595,-817 1595,-885\"/>\n<text text-anchor=\"middle\" x=\"1529.5\" y=\"-869.8\" font-family=\"Times,serif\" font-size=\"14.00\" fill=\"#000000\">DailyRate &lt;= 0.992</text>\n<text text-anchor=\"middle\" x=\"1529.5\" y=\"-854.8\" font-family=\"Times,serif\" font-size=\"14.00\" fill=\"#000000\">gini = 0.075</text>\n<text text-anchor=\"middle\" x=\"1529.5\" y=\"-839.8\" font-family=\"Times,serif\" font-size=\"14.00\" fill=\"#000000\">samples = 230</text>\n<text text-anchor=\"middle\" x=\"1529.5\" y=\"-824.8\" font-family=\"Times,serif\" font-size=\"14.00\" fill=\"#000000\">value = [221, 9]</text>\n</g>\n<!-- 27&#45;&gt;55 -->\n<g id=\"edge55\" class=\"edge\">\n<title>27&#45;&gt;55</title>\n<path fill=\"none\" stroke=\"#000000\" d=\"M1529.5,-920.9465C1529.5,-912.776 1529.5,-903.9318 1529.5,-895.3697\"/>\n<polygon fill=\"#000000\" stroke=\"#000000\" points=\"1533.0001,-895.13 1529.5,-885.13 1526.0001,-895.13 1533.0001,-895.13\"/>\n</g>\n<!-- 29 -->\n<g id=\"node30\" class=\"node\">\n<title>29</title>\n<polygon fill=\"none\" stroke=\"#000000\" points=\"562,-781 395,-781 395,-713 562,-713 562,-781\"/>\n<text text-anchor=\"middle\" x=\"478.5\" y=\"-765.8\" font-family=\"Times,serif\" font-size=\"14.00\" fill=\"#000000\">MonthlyIncome &lt;= 0.055</text>\n<text text-anchor=\"middle\" x=\"478.5\" y=\"-750.8\" font-family=\"Times,serif\" font-size=\"14.00\" fill=\"#000000\">gini = 0.127</text>\n<text text-anchor=\"middle\" x=\"478.5\" y=\"-735.8\" font-family=\"Times,serif\" font-size=\"14.00\" fill=\"#000000\">samples = 88</text>\n<text text-anchor=\"middle\" x=\"478.5\" y=\"-720.8\" font-family=\"Times,serif\" font-size=\"14.00\" fill=\"#000000\">value = [82, 6]</text>\n</g>\n<!-- 28&#45;&gt;29 -->\n<g id=\"edge29\" class=\"edge\">\n<title>28&#45;&gt;29</title>\n<path fill=\"none\" stroke=\"#000000\" d=\"M1022.7467,-818.7857C1019.6382,-818.1677 1016.5524,-817.5712 1013.5,-817 860.0797,-788.2893 679.7263,-767.2979 572.4956,-756.1403\"/>\n<polygon fill=\"#000000\" stroke=\"#000000\" points=\"572.6571,-752.6384 562.3501,-755.0913 571.9371,-759.6013 572.6571,-752.6384\"/>\n</g>\n<!-- 46 -->\n<g id=\"node47\" class=\"node\">\n<title>46</title>\n<polygon fill=\"none\" stroke=\"#000000\" points=\"1228,-781 1067,-781 1067,-713 1228,-713 1228,-781\"/>\n<text text-anchor=\"middle\" x=\"1147.5\" y=\"-765.8\" font-family=\"Times,serif\" font-size=\"14.00\" fill=\"#000000\">JobSatisfaction &lt;= 0.833</text>\n<text text-anchor=\"middle\" x=\"1147.5\" y=\"-750.8\" font-family=\"Times,serif\" font-size=\"14.00\" fill=\"#000000\">gini = 0.455</text>\n<text text-anchor=\"middle\" x=\"1147.5\" y=\"-735.8\" font-family=\"Times,serif\" font-size=\"14.00\" fill=\"#000000\">samples = 20</text>\n<text text-anchor=\"middle\" x=\"1147.5\" y=\"-720.8\" font-family=\"Times,serif\" font-size=\"14.00\" fill=\"#000000\">value = [13, 7]</text>\n</g>\n<!-- 28&#45;&gt;46 -->\n<g id=\"edge46\" class=\"edge\">\n<title>28&#45;&gt;46</title>\n<path fill=\"none\" stroke=\"#000000\" d=\"M1150.8628,-816.9465C1150.47,-808.776 1150.0448,-799.9318 1149.6332,-791.3697\"/>\n<polygon fill=\"#000000\" stroke=\"#000000\" points=\"1153.1171,-790.9504 1149.1409,-781.13 1146.1252,-791.2866 1153.1171,-790.9504\"/>\n</g>\n<!-- 30 -->\n<g id=\"node31\" class=\"node\">\n<title>30</title>\n<polygon fill=\"none\" stroke=\"#000000\" points=\"373,-669.5 278,-669.5 278,-616.5 373,-616.5 373,-669.5\"/>\n<text text-anchor=\"middle\" x=\"325.5\" y=\"-654.3\" font-family=\"Times,serif\" font-size=\"14.00\" fill=\"#000000\">gini = 0.0</text>\n<text text-anchor=\"middle\" x=\"325.5\" y=\"-639.3\" font-family=\"Times,serif\" font-size=\"14.00\" fill=\"#000000\">samples = 1</text>\n<text text-anchor=\"middle\" x=\"325.5\" y=\"-624.3\" font-family=\"Times,serif\" font-size=\"14.00\" fill=\"#000000\">value = [0, 1]</text>\n</g>\n<!-- 29&#45;&gt;30 -->\n<g id=\"edge30\" class=\"edge\">\n<title>29&#45;&gt;30</title>\n<path fill=\"none\" stroke=\"#000000\" d=\"M428.4021,-712.9465C410.577,-700.8301 390.5721,-687.232 372.9735,-675.2696\"/>\n<polygon fill=\"#000000\" stroke=\"#000000\" points=\"374.7855,-672.2692 364.5476,-669.5422 370.8503,-678.0584 374.7855,-672.2692\"/>\n</g>\n<!-- 31 -->\n<g id=\"node32\" class=\"node\">\n<title>31</title>\n<polygon fill=\"none\" stroke=\"#000000\" points=\"566,-677 391,-677 391,-609 566,-609 566,-677\"/>\n<text text-anchor=\"middle\" x=\"478.5\" y=\"-661.8\" font-family=\"Times,serif\" font-size=\"14.00\" fill=\"#000000\">WorkLifeBalance &lt;= 0.167</text>\n<text text-anchor=\"middle\" x=\"478.5\" y=\"-646.8\" font-family=\"Times,serif\" font-size=\"14.00\" fill=\"#000000\">gini = 0.108</text>\n<text text-anchor=\"middle\" x=\"478.5\" y=\"-631.8\" font-family=\"Times,serif\" font-size=\"14.00\" fill=\"#000000\">samples = 87</text>\n<text text-anchor=\"middle\" x=\"478.5\" y=\"-616.8\" font-family=\"Times,serif\" font-size=\"14.00\" fill=\"#000000\">value = [82, 5]</text>\n</g>\n<!-- 29&#45;&gt;31 -->\n<g id=\"edge31\" class=\"edge\">\n<title>29&#45;&gt;31</title>\n<path fill=\"none\" stroke=\"#000000\" d=\"M478.5,-712.9465C478.5,-704.776 478.5,-695.9318 478.5,-687.3697\"/>\n<polygon fill=\"#000000\" stroke=\"#000000\" points=\"482.0001,-687.13 478.5,-677.13 475.0001,-687.13 482.0001,-687.13\"/>\n</g>\n<!-- 32 -->\n<g id=\"node33\" class=\"node\">\n<title>32</title>\n<polygon fill=\"none\" stroke=\"#000000\" points=\"264,-573 57,-573 57,-505 264,-505 264,-573\"/>\n<text text-anchor=\"middle\" x=\"160.5\" y=\"-557.8\" font-family=\"Times,serif\" font-size=\"14.00\" fill=\"#000000\">TrainingTimesLastYear &lt;= 0.583</text>\n<text text-anchor=\"middle\" x=\"160.5\" y=\"-542.8\" font-family=\"Times,serif\" font-size=\"14.00\" fill=\"#000000\">gini = 0.444</text>\n<text text-anchor=\"middle\" x=\"160.5\" y=\"-527.8\" font-family=\"Times,serif\" font-size=\"14.00\" fill=\"#000000\">samples = 6</text>\n<text text-anchor=\"middle\" x=\"160.5\" y=\"-512.8\" font-family=\"Times,serif\" font-size=\"14.00\" fill=\"#000000\">value = [4, 2]</text>\n</g>\n<!-- 31&#45;&gt;32 -->\n<g id=\"edge32\" class=\"edge\">\n<title>31&#45;&gt;32</title>\n<path fill=\"none\" stroke=\"#000000\" d=\"M390.7721,-612.1159C387.6452,-611.0578 384.547,-610.0163 381.5,-609 346.602,-597.36 308.4501,-585.1081 273.817,-574.1651\"/>\n<polygon fill=\"#000000\" stroke=\"#000000\" points=\"274.7373,-570.7855 264.1476,-571.115 272.6314,-577.4612 274.7373,-570.7855\"/>\n</g>\n<!-- 35 -->\n<g id=\"node36\" class=\"node\">\n<title>35</title>\n<polygon fill=\"none\" stroke=\"#000000\" points=\"573.5,-573 383.5,-573 383.5,-505 573.5,-505 573.5,-573\"/>\n<text text-anchor=\"middle\" x=\"478.5\" y=\"-557.8\" font-family=\"Times,serif\" font-size=\"14.00\" fill=\"#000000\">DistanceFromHome &lt;= 0.768</text>\n<text text-anchor=\"middle\" x=\"478.5\" y=\"-542.8\" font-family=\"Times,serif\" font-size=\"14.00\" fill=\"#000000\">gini = 0.071</text>\n<text text-anchor=\"middle\" x=\"478.5\" y=\"-527.8\" font-family=\"Times,serif\" font-size=\"14.00\" fill=\"#000000\">samples = 81</text>\n<text text-anchor=\"middle\" x=\"478.5\" y=\"-512.8\" font-family=\"Times,serif\" font-size=\"14.00\" fill=\"#000000\">value = [78, 3]</text>\n</g>\n<!-- 31&#45;&gt;35 -->\n<g id=\"edge35\" class=\"edge\">\n<title>31&#45;&gt;35</title>\n<path fill=\"none\" stroke=\"#000000\" d=\"M478.5,-608.9465C478.5,-600.776 478.5,-591.9318 478.5,-583.3697\"/>\n<polygon fill=\"#000000\" stroke=\"#000000\" points=\"482.0001,-583.13 478.5,-573.13 475.0001,-583.13 482.0001,-583.13\"/>\n</g>\n<!-- 33 -->\n<g id=\"node34\" class=\"node\">\n<title>33</title>\n<polygon fill=\"none\" stroke=\"#000000\" points=\"95,-461.5 0,-461.5 0,-408.5 95,-408.5 95,-461.5\"/>\n<text text-anchor=\"middle\" x=\"47.5\" y=\"-446.3\" font-family=\"Times,serif\" font-size=\"14.00\" fill=\"#000000\">gini = 0.0</text>\n<text text-anchor=\"middle\" x=\"47.5\" y=\"-431.3\" font-family=\"Times,serif\" font-size=\"14.00\" fill=\"#000000\">samples = 4</text>\n<text text-anchor=\"middle\" x=\"47.5\" y=\"-416.3\" font-family=\"Times,serif\" font-size=\"14.00\" fill=\"#000000\">value = [4, 0]</text>\n</g>\n<!-- 32&#45;&gt;33 -->\n<g id=\"edge33\" class=\"edge\">\n<title>32&#45;&gt;33</title>\n<path fill=\"none\" stroke=\"#000000\" d=\"M123.4996,-504.9465C110.8134,-493.2707 96.6322,-480.219 83.987,-468.5809\"/>\n<polygon fill=\"#000000\" stroke=\"#000000\" points=\"86.0673,-465.7389 76.3391,-461.5422 81.3269,-470.8895 86.0673,-465.7389\"/>\n</g>\n<!-- 34 -->\n<g id=\"node35\" class=\"node\">\n<title>34</title>\n<polygon fill=\"none\" stroke=\"#000000\" points=\"208,-461.5 113,-461.5 113,-408.5 208,-408.5 208,-461.5\"/>\n<text text-anchor=\"middle\" x=\"160.5\" y=\"-446.3\" font-family=\"Times,serif\" font-size=\"14.00\" fill=\"#000000\">gini = 0.0</text>\n<text text-anchor=\"middle\" x=\"160.5\" y=\"-431.3\" font-family=\"Times,serif\" font-size=\"14.00\" fill=\"#000000\">samples = 2</text>\n<text text-anchor=\"middle\" x=\"160.5\" y=\"-416.3\" font-family=\"Times,serif\" font-size=\"14.00\" fill=\"#000000\">value = [0, 2]</text>\n</g>\n<!-- 32&#45;&gt;34 -->\n<g id=\"edge34\" class=\"edge\">\n<title>32&#45;&gt;34</title>\n<path fill=\"none\" stroke=\"#000000\" d=\"M160.5,-504.9465C160.5,-494.2621 160.5,-482.4254 160.5,-471.5742\"/>\n<polygon fill=\"#000000\" stroke=\"#000000\" points=\"164.0001,-471.5421 160.5,-461.5422 157.0001,-471.5422 164.0001,-471.5421\"/>\n</g>\n<!-- 36 -->\n<g id=\"node37\" class=\"node\">\n<title>36</title>\n<polygon fill=\"none\" stroke=\"#000000\" points=\"456.5,-469 226.5,-469 226.5,-401 456.5,-401 456.5,-469\"/>\n<text text-anchor=\"middle\" x=\"341.5\" y=\"-453.8\" font-family=\"Times,serif\" font-size=\"14.00\" fill=\"#000000\">JobRole_Sales Representative &lt;= 0.5</text>\n<text text-anchor=\"middle\" x=\"341.5\" y=\"-438.8\" font-family=\"Times,serif\" font-size=\"14.00\" fill=\"#000000\">gini = 0.027</text>\n<text text-anchor=\"middle\" x=\"341.5\" y=\"-423.8\" font-family=\"Times,serif\" font-size=\"14.00\" fill=\"#000000\">samples = 72</text>\n<text text-anchor=\"middle\" x=\"341.5\" y=\"-408.8\" font-family=\"Times,serif\" font-size=\"14.00\" fill=\"#000000\">value = [71, 1]</text>\n</g>\n<!-- 35&#45;&gt;36 -->\n<g id=\"edge36\" class=\"edge\">\n<title>35&#45;&gt;36</title>\n<path fill=\"none\" stroke=\"#000000\" d=\"M433.6411,-504.9465C421.2222,-495.519 407.6217,-485.1946 394.7739,-475.4415\"/>\n<polygon fill=\"#000000\" stroke=\"#000000\" points=\"396.541,-472.3887 386.4597,-469.13 392.3085,-477.9642 396.541,-472.3887\"/>\n</g>\n<!-- 41 -->\n<g id=\"node42\" class=\"node\">\n<title>41</title>\n<polygon fill=\"none\" stroke=\"#000000\" points=\"684,-469 475,-469 475,-401 684,-401 684,-469\"/>\n<text text-anchor=\"middle\" x=\"579.5\" y=\"-453.8\" font-family=\"Times,serif\" font-size=\"14.00\" fill=\"#000000\">YearsWithCurrManager &lt;= 0.471</text>\n<text text-anchor=\"middle\" x=\"579.5\" y=\"-438.8\" font-family=\"Times,serif\" font-size=\"14.00\" fill=\"#000000\">gini = 0.346</text>\n<text text-anchor=\"middle\" x=\"579.5\" y=\"-423.8\" font-family=\"Times,serif\" font-size=\"14.00\" fill=\"#000000\">samples = 9</text>\n<text text-anchor=\"middle\" x=\"579.5\" y=\"-408.8\" font-family=\"Times,serif\" font-size=\"14.00\" fill=\"#000000\">value = [7, 2]</text>\n</g>\n<!-- 35&#45;&gt;41 -->\n<g id=\"edge41\" class=\"edge\">\n<title>35&#45;&gt;41</title>\n<path fill=\"none\" stroke=\"#000000\" d=\"M511.5712,-504.9465C520.3779,-495.8782 529.9907,-485.9799 539.1403,-476.5585\"/>\n<polygon fill=\"#000000\" stroke=\"#000000\" points=\"541.8985,-478.7422 546.3545,-469.13 536.8768,-473.8654 541.8985,-478.7422\"/>\n</g>\n<!-- 37 -->\n<g id=\"node38\" class=\"node\">\n<title>37</title>\n<polygon fill=\"none\" stroke=\"#000000\" points=\"230.5,-357.5 128.5,-357.5 128.5,-304.5 230.5,-304.5 230.5,-357.5\"/>\n<text text-anchor=\"middle\" x=\"179.5\" y=\"-342.3\" font-family=\"Times,serif\" font-size=\"14.00\" fill=\"#000000\">gini = 0.0</text>\n<text text-anchor=\"middle\" x=\"179.5\" y=\"-327.3\" font-family=\"Times,serif\" font-size=\"14.00\" fill=\"#000000\">samples = 66</text>\n<text text-anchor=\"middle\" x=\"179.5\" y=\"-312.3\" font-family=\"Times,serif\" font-size=\"14.00\" fill=\"#000000\">value = [66, 0]</text>\n</g>\n<!-- 36&#45;&gt;37 -->\n<g id=\"edge37\" class=\"edge\">\n<title>36&#45;&gt;37</title>\n<path fill=\"none\" stroke=\"#000000\" d=\"M288.4551,-400.9465C269.4957,-388.775 248.2073,-375.1084 229.5121,-363.1066\"/>\n<polygon fill=\"#000000\" stroke=\"#000000\" points=\"231.1505,-359.9992 220.8445,-357.5422 227.3689,-365.8898 231.1505,-359.9992\"/>\n</g>\n<!-- 38 -->\n<g id=\"node39\" class=\"node\">\n<title>38</title>\n<polygon fill=\"none\" stroke=\"#000000\" points=\"434,-365 249,-365 249,-297 434,-297 434,-365\"/>\n<text text-anchor=\"middle\" x=\"341.5\" y=\"-349.8\" font-family=\"Times,serif\" font-size=\"14.00\" fill=\"#000000\">TotalWorkingYears &lt;= 0.125</text>\n<text text-anchor=\"middle\" x=\"341.5\" y=\"-334.8\" font-family=\"Times,serif\" font-size=\"14.00\" fill=\"#000000\">gini = 0.278</text>\n<text text-anchor=\"middle\" x=\"341.5\" y=\"-319.8\" font-family=\"Times,serif\" font-size=\"14.00\" fill=\"#000000\">samples = 6</text>\n<text text-anchor=\"middle\" x=\"341.5\" y=\"-304.8\" font-family=\"Times,serif\" font-size=\"14.00\" fill=\"#000000\">value = [5, 1]</text>\n</g>\n<!-- 36&#45;&gt;38 -->\n<g id=\"edge38\" class=\"edge\">\n<title>36&#45;&gt;38</title>\n<path fill=\"none\" stroke=\"#000000\" d=\"M341.5,-400.9465C341.5,-392.776 341.5,-383.9318 341.5,-375.3697\"/>\n<polygon fill=\"#000000\" stroke=\"#000000\" points=\"345.0001,-375.13 341.5,-365.13 338.0001,-375.13 345.0001,-375.13\"/>\n</g>\n<!-- 39 -->\n<g id=\"node40\" class=\"node\">\n<title>39</title>\n<polygon fill=\"none\" stroke=\"#000000\" points=\"303,-253.5 208,-253.5 208,-200.5 303,-200.5 303,-253.5\"/>\n<text text-anchor=\"middle\" x=\"255.5\" y=\"-238.3\" font-family=\"Times,serif\" font-size=\"14.00\" fill=\"#000000\">gini = 0.0</text>\n<text text-anchor=\"middle\" x=\"255.5\" y=\"-223.3\" font-family=\"Times,serif\" font-size=\"14.00\" fill=\"#000000\">samples = 5</text>\n<text text-anchor=\"middle\" x=\"255.5\" y=\"-208.3\" font-family=\"Times,serif\" font-size=\"14.00\" fill=\"#000000\">value = [5, 0]</text>\n</g>\n<!-- 38&#45;&gt;39 -->\n<g id=\"edge39\" class=\"edge\">\n<title>38&#45;&gt;39</title>\n<path fill=\"none\" stroke=\"#000000\" d=\"M313.3404,-296.9465C303.9587,-285.6012 293.5027,-272.9567 284.0887,-261.5724\"/>\n<polygon fill=\"#000000\" stroke=\"#000000\" points=\"286.5183,-259.0182 277.4483,-253.5422 281.1237,-263.4791 286.5183,-259.0182\"/>\n</g>\n<!-- 40 -->\n<g id=\"node41\" class=\"node\">\n<title>40</title>\n<polygon fill=\"none\" stroke=\"#000000\" points=\"416,-253.5 321,-253.5 321,-200.5 416,-200.5 416,-253.5\"/>\n<text text-anchor=\"middle\" x=\"368.5\" y=\"-238.3\" font-family=\"Times,serif\" font-size=\"14.00\" fill=\"#000000\">gini = 0.0</text>\n<text text-anchor=\"middle\" x=\"368.5\" y=\"-223.3\" font-family=\"Times,serif\" font-size=\"14.00\" fill=\"#000000\">samples = 1</text>\n<text text-anchor=\"middle\" x=\"368.5\" y=\"-208.3\" font-family=\"Times,serif\" font-size=\"14.00\" fill=\"#000000\">value = [0, 1]</text>\n</g>\n<!-- 38&#45;&gt;40 -->\n<g id=\"edge40\" class=\"edge\">\n<title>38&#45;&gt;40</title>\n<path fill=\"none\" stroke=\"#000000\" d=\"M350.3408,-296.9465C353.1433,-286.1519 356.251,-274.1813 359.0918,-263.2389\"/>\n<polygon fill=\"#000000\" stroke=\"#000000\" points=\"362.484,-264.1008 361.6092,-253.5422 355.7086,-262.3418 362.484,-264.1008\"/>\n</g>\n<!-- 42 -->\n<g id=\"node43\" class=\"node\">\n<title>42</title>\n<polygon fill=\"none\" stroke=\"#000000\" points=\"669,-365 452,-365 452,-297 669,-297 669,-365\"/>\n<text text-anchor=\"middle\" x=\"560.5\" y=\"-349.8\" font-family=\"Times,serif\" font-size=\"14.00\" fill=\"#000000\">JobRole_Research Scientist &lt;= 0.5</text>\n<text text-anchor=\"middle\" x=\"560.5\" y=\"-334.8\" font-family=\"Times,serif\" font-size=\"14.00\" fill=\"#000000\">gini = 0.219</text>\n<text text-anchor=\"middle\" x=\"560.5\" y=\"-319.8\" font-family=\"Times,serif\" font-size=\"14.00\" fill=\"#000000\">samples = 8</text>\n<text text-anchor=\"middle\" x=\"560.5\" y=\"-304.8\" font-family=\"Times,serif\" font-size=\"14.00\" fill=\"#000000\">value = [7, 1]</text>\n</g>\n<!-- 41&#45;&gt;42 -->\n<g id=\"edge42\" class=\"edge\">\n<title>41&#45;&gt;42</title>\n<path fill=\"none\" stroke=\"#000000\" d=\"M573.2787,-400.9465C571.7696,-392.6863 570.1347,-383.7374 568.5545,-375.0875\"/>\n<polygon fill=\"#000000\" stroke=\"#000000\" points=\"571.9756,-374.3381 566.7353,-365.13 565.0895,-375.5962 571.9756,-374.3381\"/>\n</g>\n<!-- 45 -->\n<g id=\"node46\" class=\"node\">\n<title>45</title>\n<polygon fill=\"none\" stroke=\"#000000\" points=\"782,-357.5 687,-357.5 687,-304.5 782,-304.5 782,-357.5\"/>\n<text text-anchor=\"middle\" x=\"734.5\" y=\"-342.3\" font-family=\"Times,serif\" font-size=\"14.00\" fill=\"#000000\">gini = 0.0</text>\n<text text-anchor=\"middle\" x=\"734.5\" y=\"-327.3\" font-family=\"Times,serif\" font-size=\"14.00\" fill=\"#000000\">samples = 1</text>\n<text text-anchor=\"middle\" x=\"734.5\" y=\"-312.3\" font-family=\"Times,serif\" font-size=\"14.00\" fill=\"#000000\">value = [0, 1]</text>\n</g>\n<!-- 41&#45;&gt;45 -->\n<g id=\"edge45\" class=\"edge\">\n<title>41&#45;&gt;45</title>\n<path fill=\"none\" stroke=\"#000000\" d=\"M630.2528,-400.9465C648.3109,-388.8301 668.5773,-375.232 686.4059,-363.2696\"/>\n<polygon fill=\"#000000\" stroke=\"#000000\" points=\"688.5881,-366.0203 694.942,-357.5422 684.6879,-360.2075 688.5881,-366.0203\"/>\n</g>\n<!-- 43 -->\n<g id=\"node44\" class=\"node\">\n<title>43</title>\n<polygon fill=\"none\" stroke=\"#000000\" points=\"582,-253.5 487,-253.5 487,-200.5 582,-200.5 582,-253.5\"/>\n<text text-anchor=\"middle\" x=\"534.5\" y=\"-238.3\" font-family=\"Times,serif\" font-size=\"14.00\" fill=\"#000000\">gini = 0.0</text>\n<text text-anchor=\"middle\" x=\"534.5\" y=\"-223.3\" font-family=\"Times,serif\" font-size=\"14.00\" fill=\"#000000\">samples = 7</text>\n<text text-anchor=\"middle\" x=\"534.5\" y=\"-208.3\" font-family=\"Times,serif\" font-size=\"14.00\" fill=\"#000000\">value = [7, 0]</text>\n</g>\n<!-- 42&#45;&gt;43 -->\n<g id=\"edge43\" class=\"edge\">\n<title>42&#45;&gt;43</title>\n<path fill=\"none\" stroke=\"#000000\" d=\"M551.9866,-296.9465C549.3155,-286.2621 546.3564,-274.4254 543.6436,-263.5742\"/>\n<polygon fill=\"#000000\" stroke=\"#000000\" points=\"546.9565,-262.3947 541.1355,-253.5422 540.1655,-264.0925 546.9565,-262.3947\"/>\n</g>\n<!-- 44 -->\n<g id=\"node45\" class=\"node\">\n<title>44</title>\n<polygon fill=\"none\" stroke=\"#000000\" points=\"695,-253.5 600,-253.5 600,-200.5 695,-200.5 695,-253.5\"/>\n<text text-anchor=\"middle\" x=\"647.5\" y=\"-238.3\" font-family=\"Times,serif\" font-size=\"14.00\" fill=\"#000000\">gini = 0.0</text>\n<text text-anchor=\"middle\" x=\"647.5\" y=\"-223.3\" font-family=\"Times,serif\" font-size=\"14.00\" fill=\"#000000\">samples = 1</text>\n<text text-anchor=\"middle\" x=\"647.5\" y=\"-208.3\" font-family=\"Times,serif\" font-size=\"14.00\" fill=\"#000000\">value = [0, 1]</text>\n</g>\n<!-- 42&#45;&gt;44 -->\n<g id=\"edge44\" class=\"edge\">\n<title>42&#45;&gt;44</title>\n<path fill=\"none\" stroke=\"#000000\" d=\"M588.9871,-296.9465C598.57,-285.491 609.261,-272.711 618.8559,-261.2412\"/>\n<polygon fill=\"#000000\" stroke=\"#000000\" points=\"621.5646,-263.458 625.2965,-253.5422 616.1955,-258.9666 621.5646,-263.458\"/>\n</g>\n<!-- 47 -->\n<g id=\"node48\" class=\"node\">\n<title>47</title>\n<polygon fill=\"none\" stroke=\"#000000\" points=\"1055.5,-677 865.5,-677 865.5,-609 1055.5,-609 1055.5,-677\"/>\n<text text-anchor=\"middle\" x=\"960.5\" y=\"-661.8\" font-family=\"Times,serif\" font-size=\"14.00\" fill=\"#000000\">DistanceFromHome &lt;= 0.054</text>\n<text text-anchor=\"middle\" x=\"960.5\" y=\"-646.8\" font-family=\"Times,serif\" font-size=\"14.00\" fill=\"#000000\">gini = 0.486</text>\n<text text-anchor=\"middle\" x=\"960.5\" y=\"-631.8\" font-family=\"Times,serif\" font-size=\"14.00\" fill=\"#000000\">samples = 12</text>\n<text text-anchor=\"middle\" x=\"960.5\" y=\"-616.8\" font-family=\"Times,serif\" font-size=\"14.00\" fill=\"#000000\">value = [5, 7]</text>\n</g>\n<!-- 46&#45;&gt;47 -->\n<g id=\"edge47\" class=\"edge\">\n<title>46&#45;&gt;47</title>\n<path fill=\"none\" stroke=\"#000000\" d=\"M1086.2692,-712.9465C1068.5107,-703.0701 1048.982,-692.2093 1030.7189,-682.0522\"/>\n<polygon fill=\"#000000\" stroke=\"#000000\" points=\"1032.3089,-678.9317 1021.8684,-677.13 1028.9066,-685.0492 1032.3089,-678.9317\"/>\n</g>\n<!-- 54 -->\n<g id=\"node55\" class=\"node\">\n<title>54</title>\n<polygon fill=\"none\" stroke=\"#000000\" points=\"1195,-669.5 1100,-669.5 1100,-616.5 1195,-616.5 1195,-669.5\"/>\n<text text-anchor=\"middle\" x=\"1147.5\" y=\"-654.3\" font-family=\"Times,serif\" font-size=\"14.00\" fill=\"#000000\">gini = 0.0</text>\n<text text-anchor=\"middle\" x=\"1147.5\" y=\"-639.3\" font-family=\"Times,serif\" font-size=\"14.00\" fill=\"#000000\">samples = 8</text>\n<text text-anchor=\"middle\" x=\"1147.5\" y=\"-624.3\" font-family=\"Times,serif\" font-size=\"14.00\" fill=\"#000000\">value = [8, 0]</text>\n</g>\n<!-- 46&#45;&gt;54 -->\n<g id=\"edge54\" class=\"edge\">\n<title>46&#45;&gt;54</title>\n<path fill=\"none\" stroke=\"#000000\" d=\"M1147.5,-712.9465C1147.5,-702.2621 1147.5,-690.4254 1147.5,-679.5742\"/>\n<polygon fill=\"#000000\" stroke=\"#000000\" points=\"1151.0001,-679.5421 1147.5,-669.5422 1144.0001,-679.5422 1151.0001,-679.5421\"/>\n</g>\n<!-- 48 -->\n<g id=\"node49\" class=\"node\">\n<title>48</title>\n<polygon fill=\"none\" stroke=\"#000000\" points=\"827,-565.5 732,-565.5 732,-512.5 827,-512.5 827,-565.5\"/>\n<text text-anchor=\"middle\" x=\"779.5\" y=\"-550.3\" font-family=\"Times,serif\" font-size=\"14.00\" fill=\"#000000\">gini = 0.0</text>\n<text text-anchor=\"middle\" x=\"779.5\" y=\"-535.3\" font-family=\"Times,serif\" font-size=\"14.00\" fill=\"#000000\">samples = 2</text>\n<text text-anchor=\"middle\" x=\"779.5\" y=\"-520.3\" font-family=\"Times,serif\" font-size=\"14.00\" fill=\"#000000\">value = [2, 0]</text>\n</g>\n<!-- 47&#45;&gt;48 -->\n<g id=\"edge48\" class=\"edge\">\n<title>47&#45;&gt;48</title>\n<path fill=\"none\" stroke=\"#000000\" d=\"M899.4722,-608.9311C879.3596,-597.6014 856.9188,-584.8509 836.5,-573 835.2231,-572.2589 833.9313,-571.5069 832.6292,-570.7468\"/>\n<polygon fill=\"#000000\" stroke=\"#000000\" points=\"834.3323,-567.688 823.9363,-565.645 830.7892,-573.7252 834.3323,-567.688\"/>\n</g>\n<!-- 49 -->\n<g id=\"node50\" class=\"node\">\n<title>49</title>\n<polygon fill=\"none\" stroke=\"#000000\" points=\"1075.5,-573 845.5,-573 845.5,-505 1075.5,-505 1075.5,-573\"/>\n<text text-anchor=\"middle\" x=\"960.5\" y=\"-557.8\" font-family=\"Times,serif\" font-size=\"14.00\" fill=\"#000000\">EducationField_Life Sciences &lt;= 0.5</text>\n<text text-anchor=\"middle\" x=\"960.5\" y=\"-542.8\" font-family=\"Times,serif\" font-size=\"14.00\" fill=\"#000000\">gini = 0.42</text>\n<text text-anchor=\"middle\" x=\"960.5\" y=\"-527.8\" font-family=\"Times,serif\" font-size=\"14.00\" fill=\"#000000\">samples = 10</text>\n<text text-anchor=\"middle\" x=\"960.5\" y=\"-512.8\" font-family=\"Times,serif\" font-size=\"14.00\" fill=\"#000000\">value = [3, 7]</text>\n</g>\n<!-- 47&#45;&gt;49 -->\n<g id=\"edge49\" class=\"edge\">\n<title>47&#45;&gt;49</title>\n<path fill=\"none\" stroke=\"#000000\" d=\"M960.5,-608.9465C960.5,-600.776 960.5,-591.9318 960.5,-583.3697\"/>\n<polygon fill=\"#000000\" stroke=\"#000000\" points=\"964.0001,-583.13 960.5,-573.13 957.0001,-583.13 964.0001,-583.13\"/>\n</g>\n<!-- 50 -->\n<g id=\"node51\" class=\"node\">\n<title>50</title>\n<polygon fill=\"none\" stroke=\"#000000\" points=\"835,-461.5 740,-461.5 740,-408.5 835,-408.5 835,-461.5\"/>\n<text text-anchor=\"middle\" x=\"787.5\" y=\"-446.3\" font-family=\"Times,serif\" font-size=\"14.00\" fill=\"#000000\">gini = 0.0</text>\n<text text-anchor=\"middle\" x=\"787.5\" y=\"-431.3\" font-family=\"Times,serif\" font-size=\"14.00\" fill=\"#000000\">samples = 5</text>\n<text text-anchor=\"middle\" x=\"787.5\" y=\"-416.3\" font-family=\"Times,serif\" font-size=\"14.00\" fill=\"#000000\">value = [0, 5]</text>\n</g>\n<!-- 49&#45;&gt;50 -->\n<g id=\"edge50\" class=\"edge\">\n<title>49&#45;&gt;50</title>\n<path fill=\"none\" stroke=\"#000000\" d=\"M903.8533,-504.9465C883.4233,-492.6649 860.4609,-478.8609 840.3667,-466.7811\"/>\n<polygon fill=\"#000000\" stroke=\"#000000\" points=\"842.0257,-463.6948 831.6519,-461.5422 838.4191,-469.6942 842.0257,-463.6948\"/>\n</g>\n<!-- 51 -->\n<g id=\"node52\" class=\"node\">\n<title>51</title>\n<polygon fill=\"none\" stroke=\"#000000\" points=\"1067.5,-469 853.5,-469 853.5,-401 1067.5,-401 1067.5,-469\"/>\n<text text-anchor=\"middle\" x=\"960.5\" y=\"-453.8\" font-family=\"Times,serif\" font-size=\"14.00\" fill=\"#000000\">NumCompaniesWorked &lt;= 0.056</text>\n<text text-anchor=\"middle\" x=\"960.5\" y=\"-438.8\" font-family=\"Times,serif\" font-size=\"14.00\" fill=\"#000000\">gini = 0.48</text>\n<text text-anchor=\"middle\" x=\"960.5\" y=\"-423.8\" font-family=\"Times,serif\" font-size=\"14.00\" fill=\"#000000\">samples = 5</text>\n<text text-anchor=\"middle\" x=\"960.5\" y=\"-408.8\" font-family=\"Times,serif\" font-size=\"14.00\" fill=\"#000000\">value = [3, 2]</text>\n</g>\n<!-- 49&#45;&gt;51 -->\n<g id=\"edge51\" class=\"edge\">\n<title>49&#45;&gt;51</title>\n<path fill=\"none\" stroke=\"#000000\" d=\"M960.5,-504.9465C960.5,-496.776 960.5,-487.9318 960.5,-479.3697\"/>\n<polygon fill=\"#000000\" stroke=\"#000000\" points=\"964.0001,-479.13 960.5,-469.13 957.0001,-479.13 964.0001,-479.13\"/>\n</g>\n<!-- 52 -->\n<g id=\"node53\" class=\"node\">\n<title>52</title>\n<polygon fill=\"none\" stroke=\"#000000\" points=\"895,-357.5 800,-357.5 800,-304.5 895,-304.5 895,-357.5\"/>\n<text text-anchor=\"middle\" x=\"847.5\" y=\"-342.3\" font-family=\"Times,serif\" font-size=\"14.00\" fill=\"#000000\">gini = 0.0</text>\n<text text-anchor=\"middle\" x=\"847.5\" y=\"-327.3\" font-family=\"Times,serif\" font-size=\"14.00\" fill=\"#000000\">samples = 3</text>\n<text text-anchor=\"middle\" x=\"847.5\" y=\"-312.3\" font-family=\"Times,serif\" font-size=\"14.00\" fill=\"#000000\">value = [3, 0]</text>\n</g>\n<!-- 51&#45;&gt;52 -->\n<g id=\"edge52\" class=\"edge\">\n<title>51&#45;&gt;52</title>\n<path fill=\"none\" stroke=\"#000000\" d=\"M923.4996,-400.9465C910.8134,-389.2707 896.6322,-376.219 883.987,-364.5809\"/>\n<polygon fill=\"#000000\" stroke=\"#000000\" points=\"886.0673,-361.7389 876.3391,-357.5422 881.3269,-366.8895 886.0673,-361.7389\"/>\n</g>\n<!-- 53 -->\n<g id=\"node54\" class=\"node\">\n<title>53</title>\n<polygon fill=\"none\" stroke=\"#000000\" points=\"1008,-357.5 913,-357.5 913,-304.5 1008,-304.5 1008,-357.5\"/>\n<text text-anchor=\"middle\" x=\"960.5\" y=\"-342.3\" font-family=\"Times,serif\" font-size=\"14.00\" fill=\"#000000\">gini = 0.0</text>\n<text text-anchor=\"middle\" x=\"960.5\" y=\"-327.3\" font-family=\"Times,serif\" font-size=\"14.00\" fill=\"#000000\">samples = 2</text>\n<text text-anchor=\"middle\" x=\"960.5\" y=\"-312.3\" font-family=\"Times,serif\" font-size=\"14.00\" fill=\"#000000\">value = [0, 2]</text>\n</g>\n<!-- 51&#45;&gt;53 -->\n<g id=\"edge53\" class=\"edge\">\n<title>51&#45;&gt;53</title>\n<path fill=\"none\" stroke=\"#000000\" d=\"M960.5,-400.9465C960.5,-390.2621 960.5,-378.4254 960.5,-367.5742\"/>\n<polygon fill=\"#000000\" stroke=\"#000000\" points=\"964.0001,-367.5421 960.5,-357.5422 957.0001,-367.5422 964.0001,-367.5421\"/>\n</g>\n<!-- 56 -->\n<g id=\"node57\" class=\"node\">\n<title>56</title>\n<polygon fill=\"none\" stroke=\"#000000\" points=\"1581,-781 1414,-781 1414,-713 1581,-713 1581,-781\"/>\n<text text-anchor=\"middle\" x=\"1497.5\" y=\"-765.8\" font-family=\"Times,serif\" font-size=\"14.00\" fill=\"#000000\">MonthlyIncome &lt;= 0.365</text>\n<text text-anchor=\"middle\" x=\"1497.5\" y=\"-750.8\" font-family=\"Times,serif\" font-size=\"14.00\" fill=\"#000000\">gini = 0.068</text>\n<text text-anchor=\"middle\" x=\"1497.5\" y=\"-735.8\" font-family=\"Times,serif\" font-size=\"14.00\" fill=\"#000000\">samples = 228</text>\n<text text-anchor=\"middle\" x=\"1497.5\" y=\"-720.8\" font-family=\"Times,serif\" font-size=\"14.00\" fill=\"#000000\">value = [220, 8]</text>\n</g>\n<!-- 55&#45;&gt;56 -->\n<g id=\"edge56\" class=\"edge\">\n<title>55&#45;&gt;56</title>\n<path fill=\"none\" stroke=\"#000000\" d=\"M1519.022,-816.9465C1516.4528,-808.5965 1513.667,-799.5427 1510.9786,-790.8056\"/>\n<polygon fill=\"#000000\" stroke=\"#000000\" points=\"1514.2877,-789.6585 1508.0015,-781.13 1507.5972,-791.7171 1514.2877,-789.6585\"/>\n</g>\n<!-- 91 -->\n<g id=\"node92\" class=\"node\">\n<title>91</title>\n<polygon fill=\"none\" stroke=\"#000000\" points=\"1774.5,-781 1598.5,-781 1598.5,-713 1774.5,-713 1774.5,-781\"/>\n<text text-anchor=\"middle\" x=\"1686.5\" y=\"-765.8\" font-family=\"Times,serif\" font-size=\"14.00\" fill=\"#000000\">YearsAtCompany &lt;= 0.163</text>\n<text text-anchor=\"middle\" x=\"1686.5\" y=\"-750.8\" font-family=\"Times,serif\" font-size=\"14.00\" fill=\"#000000\">gini = 0.5</text>\n<text text-anchor=\"middle\" x=\"1686.5\" y=\"-735.8\" font-family=\"Times,serif\" font-size=\"14.00\" fill=\"#000000\">samples = 2</text>\n<text text-anchor=\"middle\" x=\"1686.5\" y=\"-720.8\" font-family=\"Times,serif\" font-size=\"14.00\" fill=\"#000000\">value = [1, 1]</text>\n</g>\n<!-- 55&#45;&gt;91 -->\n<g id=\"edge91\" class=\"edge\">\n<title>55&#45;&gt;91</title>\n<path fill=\"none\" stroke=\"#000000\" d=\"M1580.9077,-816.9465C1595.4106,-807.3395 1611.3198,-796.8009 1626.2893,-786.8848\"/>\n<polygon fill=\"#000000\" stroke=\"#000000\" points=\"1628.5729,-789.5704 1634.9768,-781.13 1624.7071,-783.7346 1628.5729,-789.5704\"/>\n</g>\n<!-- 57 -->\n<g id=\"node58\" class=\"node\">\n<title>57</title>\n<polygon fill=\"none\" stroke=\"#000000\" points=\"1512,-677 1345,-677 1345,-609 1512,-609 1512,-677\"/>\n<text text-anchor=\"middle\" x=\"1428.5\" y=\"-661.8\" font-family=\"Times,serif\" font-size=\"14.00\" fill=\"#000000\">MonthlyIncome &lt;= 0.084</text>\n<text text-anchor=\"middle\" x=\"1428.5\" y=\"-646.8\" font-family=\"Times,serif\" font-size=\"14.00\" fill=\"#000000\">gini = 0.04</text>\n<text text-anchor=\"middle\" x=\"1428.5\" y=\"-631.8\" font-family=\"Times,serif\" font-size=\"14.00\" fill=\"#000000\">samples = 198</text>\n<text text-anchor=\"middle\" x=\"1428.5\" y=\"-616.8\" font-family=\"Times,serif\" font-size=\"14.00\" fill=\"#000000\">value = [194, 4]</text>\n</g>\n<!-- 56&#45;&gt;57 -->\n<g id=\"edge57\" class=\"edge\">\n<title>56&#45;&gt;57</title>\n<path fill=\"none\" stroke=\"#000000\" d=\"M1474.9068,-712.9465C1469.1286,-704.2373 1462.8425,-694.7626 1456.8166,-685.6801\"/>\n<polygon fill=\"#000000\" stroke=\"#000000\" points=\"1459.589,-683.5278 1451.1439,-677.13 1453.756,-687.3978 1459.589,-683.5278\"/>\n</g>\n<!-- 78 -->\n<g id=\"node79\" class=\"node\">\n<title>78</title>\n<polygon fill=\"none\" stroke=\"#000000\" points=\"1697,-677 1530,-677 1530,-609 1697,-609 1697,-677\"/>\n<text text-anchor=\"middle\" x=\"1613.5\" y=\"-661.8\" font-family=\"Times,serif\" font-size=\"14.00\" fill=\"#000000\">MonthlyIncome &lt;= 0.379</text>\n<text text-anchor=\"middle\" x=\"1613.5\" y=\"-646.8\" font-family=\"Times,serif\" font-size=\"14.00\" fill=\"#000000\">gini = 0.231</text>\n<text text-anchor=\"middle\" x=\"1613.5\" y=\"-631.8\" font-family=\"Times,serif\" font-size=\"14.00\" fill=\"#000000\">samples = 30</text>\n<text text-anchor=\"middle\" x=\"1613.5\" y=\"-616.8\" font-family=\"Times,serif\" font-size=\"14.00\" fill=\"#000000\">value = [26, 4]</text>\n</g>\n<!-- 56&#45;&gt;78 -->\n<g id=\"edge78\" class=\"edge\">\n<title>56&#45;&gt;78</title>\n<path fill=\"none\" stroke=\"#000000\" d=\"M1535.4827,-712.9465C1545.7977,-703.6986 1557.0754,-693.5876 1567.7699,-683.9994\"/>\n<polygon fill=\"#000000\" stroke=\"#000000\" points=\"1570.3226,-686.4115 1575.4319,-677.13 1565.6498,-681.1995 1570.3226,-686.4115\"/>\n</g>\n<!-- 58 -->\n<g id=\"node59\" class=\"node\">\n<title>58</title>\n<polygon fill=\"none\" stroke=\"#000000\" points=\"1478,-573 1311,-573 1311,-505 1478,-505 1478,-573\"/>\n<text text-anchor=\"middle\" x=\"1394.5\" y=\"-557.8\" font-family=\"Times,serif\" font-size=\"14.00\" fill=\"#000000\">MonthlyIncome &lt;= 0.084</text>\n<text text-anchor=\"middle\" x=\"1394.5\" y=\"-542.8\" font-family=\"Times,serif\" font-size=\"14.00\" fill=\"#000000\">gini = 0.124</text>\n<text text-anchor=\"middle\" x=\"1394.5\" y=\"-527.8\" font-family=\"Times,serif\" font-size=\"14.00\" fill=\"#000000\">samples = 45</text>\n<text text-anchor=\"middle\" x=\"1394.5\" y=\"-512.8\" font-family=\"Times,serif\" font-size=\"14.00\" fill=\"#000000\">value = [42, 3]</text>\n</g>\n<!-- 57&#45;&gt;58 -->\n<g id=\"edge58\" class=\"edge\">\n<title>57&#45;&gt;58</title>\n<path fill=\"none\" stroke=\"#000000\" d=\"M1417.3671,-608.9465C1414.6373,-600.5965 1411.6774,-591.5427 1408.8211,-582.8056\"/>\n<polygon fill=\"#000000\" stroke=\"#000000\" points=\"1412.0921,-581.5473 1405.6579,-573.13 1405.4386,-583.7226 1412.0921,-581.5473\"/>\n</g>\n<!-- 71 -->\n<g id=\"node72\" class=\"node\">\n<title>71</title>\n<polygon fill=\"none\" stroke=\"#000000\" points=\"1705,-573 1496,-573 1496,-505 1705,-505 1705,-573\"/>\n<text text-anchor=\"middle\" x=\"1600.5\" y=\"-557.8\" font-family=\"Times,serif\" font-size=\"14.00\" fill=\"#000000\">YearsWithCurrManager &lt;= 0.088</text>\n<text text-anchor=\"middle\" x=\"1600.5\" y=\"-542.8\" font-family=\"Times,serif\" font-size=\"14.00\" fill=\"#000000\">gini = 0.013</text>\n<text text-anchor=\"middle\" x=\"1600.5\" y=\"-527.8\" font-family=\"Times,serif\" font-size=\"14.00\" fill=\"#000000\">samples = 153</text>\n<text text-anchor=\"middle\" x=\"1600.5\" y=\"-512.8\" font-family=\"Times,serif\" font-size=\"14.00\" fill=\"#000000\">value = [152, 1]</text>\n</g>\n<!-- 57&#45;&gt;71 -->\n<g id=\"edge71\" class=\"edge\">\n<title>57&#45;&gt;71</title>\n<path fill=\"none\" stroke=\"#000000\" d=\"M1484.8192,-608.9465C1501.0048,-599.1599 1518.789,-588.4066 1535.4552,-578.3294\"/>\n<polygon fill=\"#000000\" stroke=\"#000000\" points=\"1537.3079,-581.2993 1544.0542,-573.13 1533.6859,-575.3092 1537.3079,-581.2993\"/>\n</g>\n<!-- 59 -->\n<g id=\"node60\" class=\"node\">\n<title>59</title>\n<polygon fill=\"none\" stroke=\"#000000\" points=\"1291.5,-469 1101.5,-469 1101.5,-401 1291.5,-401 1291.5,-469\"/>\n<text text-anchor=\"middle\" x=\"1196.5\" y=\"-453.8\" font-family=\"Times,serif\" font-size=\"14.00\" fill=\"#000000\">DistanceFromHome &lt;= 0.089</text>\n<text text-anchor=\"middle\" x=\"1196.5\" y=\"-438.8\" font-family=\"Times,serif\" font-size=\"14.00\" fill=\"#000000\">gini = 0.091</text>\n<text text-anchor=\"middle\" x=\"1196.5\" y=\"-423.8\" font-family=\"Times,serif\" font-size=\"14.00\" fill=\"#000000\">samples = 42</text>\n<text text-anchor=\"middle\" x=\"1196.5\" y=\"-408.8\" font-family=\"Times,serif\" font-size=\"14.00\" fill=\"#000000\">value = [40, 2]</text>\n</g>\n<!-- 58&#45;&gt;59 -->\n<g id=\"edge59\" class=\"edge\">\n<title>58&#45;&gt;59</title>\n<path fill=\"none\" stroke=\"#000000\" d=\"M1329.6674,-504.9465C1310.7788,-495.0252 1289.9988,-484.1105 1270.5858,-473.9138\"/>\n<polygon fill=\"#000000\" stroke=\"#000000\" points=\"1271.9589,-470.6816 1261.4783,-469.13 1268.7038,-476.8787 1271.9589,-470.6816\"/>\n</g>\n<!-- 68 -->\n<g id=\"node69\" class=\"node\">\n<title>68</title>\n<polygon fill=\"none\" stroke=\"#000000\" points=\"1485.5,-469 1309.5,-469 1309.5,-401 1485.5,-401 1485.5,-469\"/>\n<text text-anchor=\"middle\" x=\"1397.5\" y=\"-453.8\" font-family=\"Times,serif\" font-size=\"14.00\" fill=\"#000000\">YearsAtCompany &lt;= 0.063</text>\n<text text-anchor=\"middle\" x=\"1397.5\" y=\"-438.8\" font-family=\"Times,serif\" font-size=\"14.00\" fill=\"#000000\">gini = 0.444</text>\n<text text-anchor=\"middle\" x=\"1397.5\" y=\"-423.8\" font-family=\"Times,serif\" font-size=\"14.00\" fill=\"#000000\">samples = 3</text>\n<text text-anchor=\"middle\" x=\"1397.5\" y=\"-408.8\" font-family=\"Times,serif\" font-size=\"14.00\" fill=\"#000000\">value = [2, 1]</text>\n</g>\n<!-- 58&#45;&gt;68 -->\n<g id=\"edge68\" class=\"edge\">\n<title>58&#45;&gt;68</title>\n<path fill=\"none\" stroke=\"#000000\" d=\"M1395.4823,-504.9465C1395.718,-496.776 1395.9731,-487.9318 1396.2201,-479.3697\"/>\n<polygon fill=\"#000000\" stroke=\"#000000\" points=\"1399.7256,-479.2268 1396.5155,-469.13 1392.7285,-479.0249 1399.7256,-479.2268\"/>\n</g>\n<!-- 60 -->\n<g id=\"node61\" class=\"node\">\n<title>60</title>\n<polygon fill=\"none\" stroke=\"#000000\" points=\"1193,-365 1026,-365 1026,-297 1193,-297 1193,-365\"/>\n<text text-anchor=\"middle\" x=\"1109.5\" y=\"-349.8\" font-family=\"Times,serif\" font-size=\"14.00\" fill=\"#000000\">MonthlyIncome &lt;= 0.071</text>\n<text text-anchor=\"middle\" x=\"1109.5\" y=\"-334.8\" font-family=\"Times,serif\" font-size=\"14.00\" fill=\"#000000\">gini = 0.26</text>\n<text text-anchor=\"middle\" x=\"1109.5\" y=\"-319.8\" font-family=\"Times,serif\" font-size=\"14.00\" fill=\"#000000\">samples = 13</text>\n<text text-anchor=\"middle\" x=\"1109.5\" y=\"-304.8\" font-family=\"Times,serif\" font-size=\"14.00\" fill=\"#000000\">value = [11, 2]</text>\n</g>\n<!-- 59&#45;&gt;60 -->\n<g id=\"edge60\" class=\"edge\">\n<title>59&#45;&gt;60</title>\n<path fill=\"none\" stroke=\"#000000\" d=\"M1168.0129,-400.9465C1160.5021,-391.968 1152.3105,-382.1758 1144.4995,-372.8385\"/>\n<polygon fill=\"#000000\" stroke=\"#000000\" points=\"1147.152,-370.5544 1138.0511,-365.13 1141.7829,-375.0459 1147.152,-370.5544\"/>\n</g>\n<!-- 67 -->\n<g id=\"node68\" class=\"node\">\n<title>67</title>\n<polygon fill=\"none\" stroke=\"#000000\" points=\"1312.5,-357.5 1210.5,-357.5 1210.5,-304.5 1312.5,-304.5 1312.5,-357.5\"/>\n<text text-anchor=\"middle\" x=\"1261.5\" y=\"-342.3\" font-family=\"Times,serif\" font-size=\"14.00\" fill=\"#000000\">gini = 0.0</text>\n<text text-anchor=\"middle\" x=\"1261.5\" y=\"-327.3\" font-family=\"Times,serif\" font-size=\"14.00\" fill=\"#000000\">samples = 29</text>\n<text text-anchor=\"middle\" x=\"1261.5\" y=\"-312.3\" font-family=\"Times,serif\" font-size=\"14.00\" fill=\"#000000\">value = [29, 0]</text>\n</g>\n<!-- 59&#45;&gt;67 -->\n<g id=\"edge67\" class=\"edge\">\n<title>59&#45;&gt;67</title>\n<path fill=\"none\" stroke=\"#000000\" d=\"M1217.7834,-400.9465C1224.7366,-389.8215 1232.4705,-377.4473 1239.4769,-366.237\"/>\n<polygon fill=\"#000000\" stroke=\"#000000\" points=\"1242.5791,-367.8772 1244.9111,-357.5422 1236.6431,-364.1671 1242.5791,-367.8772\"/>\n</g>\n<!-- 61 -->\n<g id=\"node62\" class=\"node\">\n<title>61</title>\n<polygon fill=\"none\" stroke=\"#000000\" points=\"1126.5,-261 926.5,-261 926.5,-193 1126.5,-193 1126.5,-261\"/>\n<text text-anchor=\"middle\" x=\"1026.5\" y=\"-245.8\" font-family=\"Times,serif\" font-size=\"14.00\" fill=\"#000000\">TrainingTimesLastYear &lt;= 0.25</text>\n<text text-anchor=\"middle\" x=\"1026.5\" y=\"-230.8\" font-family=\"Times,serif\" font-size=\"14.00\" fill=\"#000000\">gini = 0.153</text>\n<text text-anchor=\"middle\" x=\"1026.5\" y=\"-215.8\" font-family=\"Times,serif\" font-size=\"14.00\" fill=\"#000000\">samples = 12</text>\n<text text-anchor=\"middle\" x=\"1026.5\" y=\"-200.8\" font-family=\"Times,serif\" font-size=\"14.00\" fill=\"#000000\">value = [11, 1]</text>\n</g>\n<!-- 60&#45;&gt;61 -->\n<g id=\"edge61\" class=\"edge\">\n<title>60&#45;&gt;61</title>\n<path fill=\"none\" stroke=\"#000000\" d=\"M1082.3227,-296.9465C1075.2288,-288.0578 1067.4985,-278.3716 1060.114,-269.1188\"/>\n<polygon fill=\"#000000\" stroke=\"#000000\" points=\"1062.7118,-266.7628 1053.7384,-261.13 1057.2406,-271.1293 1062.7118,-266.7628\"/>\n</g>\n<!-- 66 -->\n<g id=\"node67\" class=\"node\">\n<title>66</title>\n<polygon fill=\"none\" stroke=\"#000000\" points=\"1240,-253.5 1145,-253.5 1145,-200.5 1240,-200.5 1240,-253.5\"/>\n<text text-anchor=\"middle\" x=\"1192.5\" y=\"-238.3\" font-family=\"Times,serif\" font-size=\"14.00\" fill=\"#000000\">gini = 0.0</text>\n<text text-anchor=\"middle\" x=\"1192.5\" y=\"-223.3\" font-family=\"Times,serif\" font-size=\"14.00\" fill=\"#000000\">samples = 1</text>\n<text text-anchor=\"middle\" x=\"1192.5\" y=\"-208.3\" font-family=\"Times,serif\" font-size=\"14.00\" fill=\"#000000\">value = [0, 1]</text>\n</g>\n<!-- 60&#45;&gt;66 -->\n<g id=\"edge66\" class=\"edge\">\n<title>60&#45;&gt;66</title>\n<path fill=\"none\" stroke=\"#000000\" d=\"M1136.6773,-296.9465C1145.7318,-285.6012 1155.823,-272.9567 1164.9086,-261.5724\"/>\n<polygon fill=\"#000000\" stroke=\"#000000\" points=\"1167.8151,-263.5414 1171.3173,-253.5422 1162.3439,-259.175 1167.8151,-263.5414\"/>\n</g>\n<!-- 62 -->\n<g id=\"node63\" class=\"node\">\n<title>62</title>\n<polygon fill=\"none\" stroke=\"#000000\" points=\"1034,-157 867,-157 867,-89 1034,-89 1034,-157\"/>\n<text text-anchor=\"middle\" x=\"950.5\" y=\"-141.8\" font-family=\"Times,serif\" font-size=\"14.00\" fill=\"#000000\">MonthlyIncome &lt;= 0.055</text>\n<text text-anchor=\"middle\" x=\"950.5\" y=\"-126.8\" font-family=\"Times,serif\" font-size=\"14.00\" fill=\"#000000\">gini = 0.5</text>\n<text text-anchor=\"middle\" x=\"950.5\" y=\"-111.8\" font-family=\"Times,serif\" font-size=\"14.00\" fill=\"#000000\">samples = 2</text>\n<text text-anchor=\"middle\" x=\"950.5\" y=\"-96.8\" font-family=\"Times,serif\" font-size=\"14.00\" fill=\"#000000\">value = [1, 1]</text>\n</g>\n<!-- 61&#45;&gt;62 -->\n<g id=\"edge62\" class=\"edge\">\n<title>61&#45;&gt;62</title>\n<path fill=\"none\" stroke=\"#000000\" d=\"M1001.6148,-192.9465C995.1847,-184.1475 988.1837,-174.5672 981.4841,-165.3993\"/>\n<polygon fill=\"#000000\" stroke=\"#000000\" points=\"984.1672,-163.1389 975.4412,-157.13 978.5155,-167.269 984.1672,-163.1389\"/>\n</g>\n<!-- 65 -->\n<g id=\"node66\" class=\"node\">\n<title>65</title>\n<polygon fill=\"none\" stroke=\"#000000\" points=\"1153.5,-149.5 1051.5,-149.5 1051.5,-96.5 1153.5,-96.5 1153.5,-149.5\"/>\n<text text-anchor=\"middle\" x=\"1102.5\" y=\"-134.3\" font-family=\"Times,serif\" font-size=\"14.00\" fill=\"#000000\">gini = 0.0</text>\n<text text-anchor=\"middle\" x=\"1102.5\" y=\"-119.3\" font-family=\"Times,serif\" font-size=\"14.00\" fill=\"#000000\">samples = 10</text>\n<text text-anchor=\"middle\" x=\"1102.5\" y=\"-104.3\" font-family=\"Times,serif\" font-size=\"14.00\" fill=\"#000000\">value = [10, 0]</text>\n</g>\n<!-- 61&#45;&gt;65 -->\n<g id=\"edge65\" class=\"edge\">\n<title>61&#45;&gt;65</title>\n<path fill=\"none\" stroke=\"#000000\" d=\"M1051.3852,-192.9465C1059.5956,-181.7113 1068.7369,-169.2021 1076.993,-157.9043\"/>\n<polygon fill=\"#000000\" stroke=\"#000000\" points=\"1080.0295,-159.6812 1083.1038,-149.5422 1074.3777,-155.551 1080.0295,-159.6812\"/>\n</g>\n<!-- 63 -->\n<g id=\"node64\" class=\"node\">\n<title>63</title>\n<polygon fill=\"none\" stroke=\"#000000\" points=\"942,-53 847,-53 847,0 942,0 942,-53\"/>\n<text text-anchor=\"middle\" x=\"894.5\" y=\"-37.8\" font-family=\"Times,serif\" font-size=\"14.00\" fill=\"#000000\">gini = 0.0</text>\n<text text-anchor=\"middle\" x=\"894.5\" y=\"-22.8\" font-family=\"Times,serif\" font-size=\"14.00\" fill=\"#000000\">samples = 1</text>\n<text text-anchor=\"middle\" x=\"894.5\" y=\"-7.8\" font-family=\"Times,serif\" font-size=\"14.00\" fill=\"#000000\">value = [1, 0]</text>\n</g>\n<!-- 62&#45;&gt;63 -->\n<g id=\"edge63\" class=\"edge\">\n<title>62&#45;&gt;63</title>\n<path fill=\"none\" stroke=\"#000000\" d=\"M930.7565,-88.9777C925.7083,-80.2786 920.2669,-70.9018 915.1734,-62.1247\"/>\n<polygon fill=\"#000000\" stroke=\"#000000\" points=\"918.0689,-60.1409 910.0224,-53.2485 912.0145,-63.6544 918.0689,-60.1409\"/>\n</g>\n<!-- 64 -->\n<g id=\"node65\" class=\"node\">\n<title>64</title>\n<polygon fill=\"none\" stroke=\"#000000\" points=\"1055,-53 960,-53 960,0 1055,0 1055,-53\"/>\n<text text-anchor=\"middle\" x=\"1007.5\" y=\"-37.8\" font-family=\"Times,serif\" font-size=\"14.00\" fill=\"#000000\">gini = 0.0</text>\n<text text-anchor=\"middle\" x=\"1007.5\" y=\"-22.8\" font-family=\"Times,serif\" font-size=\"14.00\" fill=\"#000000\">samples = 1</text>\n<text text-anchor=\"middle\" x=\"1007.5\" y=\"-7.8\" font-family=\"Times,serif\" font-size=\"14.00\" fill=\"#000000\">value = [0, 1]</text>\n</g>\n<!-- 62&#45;&gt;64 -->\n<g id=\"edge64\" class=\"edge\">\n<title>62&#45;&gt;64</title>\n<path fill=\"none\" stroke=\"#000000\" d=\"M970.5961,-88.9777C975.7344,-80.2786 981.273,-70.9018 986.4575,-62.1247\"/>\n<polygon fill=\"#000000\" stroke=\"#000000\" points=\"989.6281,-63.6387 991.7004,-53.2485 983.601,-60.0786 989.6281,-63.6387\"/>\n</g>\n<!-- 69 -->\n<g id=\"node70\" class=\"node\">\n<title>69</title>\n<polygon fill=\"none\" stroke=\"#000000\" points=\"1426,-357.5 1331,-357.5 1331,-304.5 1426,-304.5 1426,-357.5\"/>\n<text text-anchor=\"middle\" x=\"1378.5\" y=\"-342.3\" font-family=\"Times,serif\" font-size=\"14.00\" fill=\"#000000\">gini = 0.0</text>\n<text text-anchor=\"middle\" x=\"1378.5\" y=\"-327.3\" font-family=\"Times,serif\" font-size=\"14.00\" fill=\"#000000\">samples = 1</text>\n<text text-anchor=\"middle\" x=\"1378.5\" y=\"-312.3\" font-family=\"Times,serif\" font-size=\"14.00\" fill=\"#000000\">value = [0, 1]</text>\n</g>\n<!-- 68&#45;&gt;69 -->\n<g id=\"edge69\" class=\"edge\">\n<title>68&#45;&gt;69</title>\n<path fill=\"none\" stroke=\"#000000\" d=\"M1391.2787,-400.9465C1389.3267,-390.2621 1387.1643,-378.4254 1385.1818,-367.5742\"/>\n<polygon fill=\"#000000\" stroke=\"#000000\" points=\"1388.5893,-366.7503 1383.349,-357.5422 1381.7033,-368.0084 1388.5893,-366.7503\"/>\n</g>\n<!-- 70 -->\n<g id=\"node71\" class=\"node\">\n<title>70</title>\n<polygon fill=\"none\" stroke=\"#000000\" points=\"1539,-357.5 1444,-357.5 1444,-304.5 1539,-304.5 1539,-357.5\"/>\n<text text-anchor=\"middle\" x=\"1491.5\" y=\"-342.3\" font-family=\"Times,serif\" font-size=\"14.00\" fill=\"#000000\">gini = 0.0</text>\n<text text-anchor=\"middle\" x=\"1491.5\" y=\"-327.3\" font-family=\"Times,serif\" font-size=\"14.00\" fill=\"#000000\">samples = 2</text>\n<text text-anchor=\"middle\" x=\"1491.5\" y=\"-312.3\" font-family=\"Times,serif\" font-size=\"14.00\" fill=\"#000000\">value = [2, 0]</text>\n</g>\n<!-- 68&#45;&gt;70 -->\n<g id=\"edge70\" class=\"edge\">\n<title>68&#45;&gt;70</title>\n<path fill=\"none\" stroke=\"#000000\" d=\"M1428.2791,-400.9465C1438.6331,-389.491 1450.1842,-376.711 1460.5513,-365.2412\"/>\n<polygon fill=\"#000000\" stroke=\"#000000\" points=\"1463.4011,-367.3078 1467.51,-357.5422 1458.208,-362.614 1463.4011,-367.3078\"/>\n</g>\n<!-- 72 -->\n<g id=\"node73\" class=\"node\">\n<title>72</title>\n<polygon fill=\"none\" stroke=\"#000000\" points=\"1685.5,-469 1509.5,-469 1509.5,-401 1685.5,-401 1685.5,-469\"/>\n<text text-anchor=\"middle\" x=\"1597.5\" y=\"-453.8\" font-family=\"Times,serif\" font-size=\"14.00\" fill=\"#000000\">YearsAtCompany &lt;= 0.237</text>\n<text text-anchor=\"middle\" x=\"1597.5\" y=\"-438.8\" font-family=\"Times,serif\" font-size=\"14.00\" fill=\"#000000\">gini = 0.095</text>\n<text text-anchor=\"middle\" x=\"1597.5\" y=\"-423.8\" font-family=\"Times,serif\" font-size=\"14.00\" fill=\"#000000\">samples = 20</text>\n<text text-anchor=\"middle\" x=\"1597.5\" y=\"-408.8\" font-family=\"Times,serif\" font-size=\"14.00\" fill=\"#000000\">value = [19, 1]</text>\n</g>\n<!-- 71&#45;&gt;72 -->\n<g id=\"edge72\" class=\"edge\">\n<title>71&#45;&gt;72</title>\n<path fill=\"none\" stroke=\"#000000\" d=\"M1599.5177,-504.9465C1599.282,-496.776 1599.0269,-487.9318 1598.7799,-479.3697\"/>\n<polygon fill=\"#000000\" stroke=\"#000000\" points=\"1602.2715,-479.0249 1598.4845,-469.13 1595.2744,-479.2268 1602.2715,-479.0249\"/>\n</g>\n<!-- 77 -->\n<g id=\"node78\" class=\"node\">\n<title>77</title>\n<polygon fill=\"none\" stroke=\"#000000\" points=\"1813.5,-461.5 1703.5,-461.5 1703.5,-408.5 1813.5,-408.5 1813.5,-461.5\"/>\n<text text-anchor=\"middle\" x=\"1758.5\" y=\"-446.3\" font-family=\"Times,serif\" font-size=\"14.00\" fill=\"#000000\">gini = 0.0</text>\n<text text-anchor=\"middle\" x=\"1758.5\" y=\"-431.3\" font-family=\"Times,serif\" font-size=\"14.00\" fill=\"#000000\">samples = 133</text>\n<text text-anchor=\"middle\" x=\"1758.5\" y=\"-416.3\" font-family=\"Times,serif\" font-size=\"14.00\" fill=\"#000000\">value = [133, 0]</text>\n</g>\n<!-- 71&#45;&gt;77 -->\n<g id=\"edge77\" class=\"edge\">\n<title>71&#45;&gt;77</title>\n<path fill=\"none\" stroke=\"#000000\" d=\"M1652.2351,-504.9465C1670.6427,-492.8301 1691.3013,-479.232 1709.4751,-467.2696\"/>\n<polygon fill=\"#000000\" stroke=\"#000000\" points=\"1711.7478,-469.9638 1718.1763,-461.5422 1707.8991,-464.1168 1711.7478,-469.9638\"/>\n</g>\n<!-- 73 -->\n<g id=\"node74\" class=\"node\">\n<title>73</title>\n<polygon fill=\"none\" stroke=\"#000000\" points=\"1659.5,-357.5 1557.5,-357.5 1557.5,-304.5 1659.5,-304.5 1659.5,-357.5\"/>\n<text text-anchor=\"middle\" x=\"1608.5\" y=\"-342.3\" font-family=\"Times,serif\" font-size=\"14.00\" fill=\"#000000\">gini = 0.0</text>\n<text text-anchor=\"middle\" x=\"1608.5\" y=\"-327.3\" font-family=\"Times,serif\" font-size=\"14.00\" fill=\"#000000\">samples = 17</text>\n<text text-anchor=\"middle\" x=\"1608.5\" y=\"-312.3\" font-family=\"Times,serif\" font-size=\"14.00\" fill=\"#000000\">value = [17, 0]</text>\n</g>\n<!-- 72&#45;&gt;73 -->\n<g id=\"edge73\" class=\"edge\">\n<title>72&#45;&gt;73</title>\n<path fill=\"none\" stroke=\"#000000\" d=\"M1601.1018,-400.9465C1602.2319,-390.2621 1603.4838,-378.4254 1604.6316,-367.5742\"/>\n<polygon fill=\"#000000\" stroke=\"#000000\" points=\"1608.1213,-367.8549 1605.6927,-357.5422 1601.1602,-367.1185 1608.1213,-367.8549\"/>\n</g>\n<!-- 74 -->\n<g id=\"node75\" class=\"node\">\n<title>74</title>\n<polygon fill=\"none\" stroke=\"#000000\" points=\"1907.5,-365 1677.5,-365 1677.5,-297 1907.5,-297 1907.5,-365\"/>\n<text text-anchor=\"middle\" x=\"1792.5\" y=\"-349.8\" font-family=\"Times,serif\" font-size=\"14.00\" fill=\"#000000\">EducationField_Life Sciences &lt;= 0.5</text>\n<text text-anchor=\"middle\" x=\"1792.5\" y=\"-334.8\" font-family=\"Times,serif\" font-size=\"14.00\" fill=\"#000000\">gini = 0.444</text>\n<text text-anchor=\"middle\" x=\"1792.5\" y=\"-319.8\" font-family=\"Times,serif\" font-size=\"14.00\" fill=\"#000000\">samples = 3</text>\n<text text-anchor=\"middle\" x=\"1792.5\" y=\"-304.8\" font-family=\"Times,serif\" font-size=\"14.00\" fill=\"#000000\">value = [2, 1]</text>\n</g>\n<!-- 72&#45;&gt;74 -->\n<g id=\"edge74\" class=\"edge\">\n<title>72&#45;&gt;74</title>\n<path fill=\"none\" stroke=\"#000000\" d=\"M1661.3503,-400.9465C1679.9527,-391.0252 1700.4178,-380.1105 1719.5367,-369.9138\"/>\n<polygon fill=\"#000000\" stroke=\"#000000\" points=\"1721.3298,-372.9242 1728.5063,-365.13 1718.0356,-366.7477 1721.3298,-372.9242\"/>\n</g>\n<!-- 75 -->\n<g id=\"node76\" class=\"node\">\n<title>75</title>\n<polygon fill=\"none\" stroke=\"#000000\" points=\"1783,-253.5 1688,-253.5 1688,-200.5 1783,-200.5 1783,-253.5\"/>\n<text text-anchor=\"middle\" x=\"1735.5\" y=\"-238.3\" font-family=\"Times,serif\" font-size=\"14.00\" fill=\"#000000\">gini = 0.0</text>\n<text text-anchor=\"middle\" x=\"1735.5\" y=\"-223.3\" font-family=\"Times,serif\" font-size=\"14.00\" fill=\"#000000\">samples = 2</text>\n<text text-anchor=\"middle\" x=\"1735.5\" y=\"-208.3\" font-family=\"Times,serif\" font-size=\"14.00\" fill=\"#000000\">value = [2, 0]</text>\n</g>\n<!-- 74&#45;&gt;75 -->\n<g id=\"edge75\" class=\"edge\">\n<title>74&#45;&gt;75</title>\n<path fill=\"none\" stroke=\"#000000\" d=\"M1773.8361,-296.9465C1767.7991,-285.9316 1761.0909,-273.6922 1754.9953,-262.5703\"/>\n<polygon fill=\"#000000\" stroke=\"#000000\" points=\"1757.9227,-260.6292 1750.0471,-253.5422 1751.7842,-263.9936 1757.9227,-260.6292\"/>\n</g>\n<!-- 76 -->\n<g id=\"node77\" class=\"node\">\n<title>76</title>\n<polygon fill=\"none\" stroke=\"#000000\" points=\"1896,-253.5 1801,-253.5 1801,-200.5 1896,-200.5 1896,-253.5\"/>\n<text text-anchor=\"middle\" x=\"1848.5\" y=\"-238.3\" font-family=\"Times,serif\" font-size=\"14.00\" fill=\"#000000\">gini = 0.0</text>\n<text text-anchor=\"middle\" x=\"1848.5\" y=\"-223.3\" font-family=\"Times,serif\" font-size=\"14.00\" fill=\"#000000\">samples = 1</text>\n<text text-anchor=\"middle\" x=\"1848.5\" y=\"-208.3\" font-family=\"Times,serif\" font-size=\"14.00\" fill=\"#000000\">value = [0, 1]</text>\n</g>\n<!-- 74&#45;&gt;76 -->\n<g id=\"edge76\" class=\"edge\">\n<title>74&#45;&gt;76</title>\n<path fill=\"none\" stroke=\"#000000\" d=\"M1810.8365,-296.9465C1816.7676,-285.9316 1823.3581,-273.6922 1829.3468,-262.5703\"/>\n<polygon fill=\"#000000\" stroke=\"#000000\" points=\"1832.5487,-264.0063 1834.2081,-253.5422 1826.3854,-260.6875 1832.5487,-264.0063\"/>\n</g>\n<!-- 79 -->\n<g id=\"node80\" class=\"node\">\n<title>79</title>\n<polygon fill=\"none\" stroke=\"#000000\" points=\"1987.5,-573 1771.5,-573 1771.5,-505 1987.5,-505 1987.5,-573\"/>\n<text text-anchor=\"middle\" x=\"1879.5\" y=\"-557.8\" font-family=\"Times,serif\" font-size=\"14.00\" fill=\"#000000\">EnvironmentSatisfaction &lt;= 0.167</text>\n<text text-anchor=\"middle\" x=\"1879.5\" y=\"-542.8\" font-family=\"Times,serif\" font-size=\"14.00\" fill=\"#000000\">gini = 0.444</text>\n<text text-anchor=\"middle\" x=\"1879.5\" y=\"-527.8\" font-family=\"Times,serif\" font-size=\"14.00\" fill=\"#000000\">samples = 3</text>\n<text text-anchor=\"middle\" x=\"1879.5\" y=\"-512.8\" font-family=\"Times,serif\" font-size=\"14.00\" fill=\"#000000\">value = [1, 2]</text>\n</g>\n<!-- 78&#45;&gt;79 -->\n<g id=\"edge79\" class=\"edge\">\n<title>78&#45;&gt;79</title>\n<path fill=\"none\" stroke=\"#000000\" d=\"M1697.299,-610.2365C1724.5258,-599.5914 1754.955,-587.6943 1783.0299,-576.7176\"/>\n<polygon fill=\"#000000\" stroke=\"#000000\" points=\"1784.4137,-579.9347 1792.4527,-573.0335 1781.8648,-573.4152 1784.4137,-579.9347\"/>\n</g>\n<!-- 82 -->\n<g id=\"node83\" class=\"node\">\n<title>82</title>\n<polygon fill=\"none\" stroke=\"#000000\" points=\"2256.5,-573 2066.5,-573 2066.5,-505 2256.5,-505 2256.5,-573\"/>\n<text text-anchor=\"middle\" x=\"2161.5\" y=\"-557.8\" font-family=\"Times,serif\" font-size=\"14.00\" fill=\"#000000\">DistanceFromHome &lt;= 0.786</text>\n<text text-anchor=\"middle\" x=\"2161.5\" y=\"-542.8\" font-family=\"Times,serif\" font-size=\"14.00\" fill=\"#000000\">gini = 0.137</text>\n<text text-anchor=\"middle\" x=\"2161.5\" y=\"-527.8\" font-family=\"Times,serif\" font-size=\"14.00\" fill=\"#000000\">samples = 27</text>\n<text text-anchor=\"middle\" x=\"2161.5\" y=\"-512.8\" font-family=\"Times,serif\" font-size=\"14.00\" fill=\"#000000\">value = [25, 2]</text>\n</g>\n<!-- 78&#45;&gt;82 -->\n<g id=\"edge82\" class=\"edge\">\n<title>78&#45;&gt;82</title>\n<path fill=\"none\" stroke=\"#000000\" d=\"M1697.2342,-611.1487C1700.0096,-610.3834 1702.7699,-609.6639 1705.5,-609 1832.1291,-578.2074 1867.9113,-594.1675 1996.5,-573 2015.8802,-569.8097 2036.4469,-565.9536 2056.2438,-562.0005\"/>\n<polygon fill=\"#000000\" stroke=\"#000000\" points=\"2057.0923,-565.3999 2066.2025,-559.9912 2055.7078,-558.5381 2057.0923,-565.3999\"/>\n</g>\n<!-- 80 -->\n<g id=\"node81\" class=\"node\">\n<title>80</title>\n<polygon fill=\"none\" stroke=\"#000000\" points=\"1927,-461.5 1832,-461.5 1832,-408.5 1927,-408.5 1927,-461.5\"/>\n<text text-anchor=\"middle\" x=\"1879.5\" y=\"-446.3\" font-family=\"Times,serif\" font-size=\"14.00\" fill=\"#000000\">gini = 0.0</text>\n<text text-anchor=\"middle\" x=\"1879.5\" y=\"-431.3\" font-family=\"Times,serif\" font-size=\"14.00\" fill=\"#000000\">samples = 2</text>\n<text text-anchor=\"middle\" x=\"1879.5\" y=\"-416.3\" font-family=\"Times,serif\" font-size=\"14.00\" fill=\"#000000\">value = [0, 2]</text>\n</g>\n<!-- 79&#45;&gt;80 -->\n<g id=\"edge80\" class=\"edge\">\n<title>79&#45;&gt;80</title>\n<path fill=\"none\" stroke=\"#000000\" d=\"M1879.5,-504.9465C1879.5,-494.2621 1879.5,-482.4254 1879.5,-471.5742\"/>\n<polygon fill=\"#000000\" stroke=\"#000000\" points=\"1883.0001,-471.5421 1879.5,-461.5422 1876.0001,-471.5422 1883.0001,-471.5421\"/>\n</g>\n<!-- 81 -->\n<g id=\"node82\" class=\"node\">\n<title>81</title>\n<polygon fill=\"none\" stroke=\"#000000\" points=\"2040,-461.5 1945,-461.5 1945,-408.5 2040,-408.5 2040,-461.5\"/>\n<text text-anchor=\"middle\" x=\"1992.5\" y=\"-446.3\" font-family=\"Times,serif\" font-size=\"14.00\" fill=\"#000000\">gini = 0.0</text>\n<text text-anchor=\"middle\" x=\"1992.5\" y=\"-431.3\" font-family=\"Times,serif\" font-size=\"14.00\" fill=\"#000000\">samples = 1</text>\n<text text-anchor=\"middle\" x=\"1992.5\" y=\"-416.3\" font-family=\"Times,serif\" font-size=\"14.00\" fill=\"#000000\">value = [1, 0]</text>\n</g>\n<!-- 79&#45;&gt;81 -->\n<g id=\"edge81\" class=\"edge\">\n<title>79&#45;&gt;81</title>\n<path fill=\"none\" stroke=\"#000000\" d=\"M1916.5004,-504.9465C1929.1866,-493.2707 1943.3678,-480.219 1956.013,-468.5809\"/>\n<polygon fill=\"#000000\" stroke=\"#000000\" points=\"1958.6731,-470.8895 1963.6609,-461.5422 1953.9327,-465.7389 1958.6731,-470.8895\"/>\n</g>\n<!-- 83 -->\n<g id=\"node84\" class=\"node\">\n<title>83</title>\n<polygon fill=\"none\" stroke=\"#000000\" points=\"2265,-469 2058,-469 2058,-401 2265,-401 2265,-469\"/>\n<text text-anchor=\"middle\" x=\"2161.5\" y=\"-453.8\" font-family=\"Times,serif\" font-size=\"14.00\" fill=\"#000000\">TrainingTimesLastYear &lt;= 0.583</text>\n<text text-anchor=\"middle\" x=\"2161.5\" y=\"-438.8\" font-family=\"Times,serif\" font-size=\"14.00\" fill=\"#000000\">gini = 0.077</text>\n<text text-anchor=\"middle\" x=\"2161.5\" y=\"-423.8\" font-family=\"Times,serif\" font-size=\"14.00\" fill=\"#000000\">samples = 25</text>\n<text text-anchor=\"middle\" x=\"2161.5\" y=\"-408.8\" font-family=\"Times,serif\" font-size=\"14.00\" fill=\"#000000\">value = [24, 1]</text>\n</g>\n<!-- 82&#45;&gt;83 -->\n<g id=\"edge83\" class=\"edge\">\n<title>82&#45;&gt;83</title>\n<path fill=\"none\" stroke=\"#000000\" d=\"M2161.5,-504.9465C2161.5,-496.776 2161.5,-487.9318 2161.5,-479.3697\"/>\n<polygon fill=\"#000000\" stroke=\"#000000\" points=\"2165.0001,-479.13 2161.5,-469.13 2158.0001,-479.13 2165.0001,-479.13\"/>\n</g>\n<!-- 88 -->\n<g id=\"node89\" class=\"node\">\n<title>88</title>\n<polygon fill=\"none\" stroke=\"#000000\" points=\"2487.5,-469 2283.5,-469 2283.5,-401 2487.5,-401 2487.5,-469\"/>\n<text text-anchor=\"middle\" x=\"2385.5\" y=\"-453.8\" font-family=\"Times,serif\" font-size=\"14.00\" fill=\"#000000\">JobRole_Sales Executive &lt;= 0.5</text>\n<text text-anchor=\"middle\" x=\"2385.5\" y=\"-438.8\" font-family=\"Times,serif\" font-size=\"14.00\" fill=\"#000000\">gini = 0.5</text>\n<text text-anchor=\"middle\" x=\"2385.5\" y=\"-423.8\" font-family=\"Times,serif\" font-size=\"14.00\" fill=\"#000000\">samples = 2</text>\n<text text-anchor=\"middle\" x=\"2385.5\" y=\"-408.8\" font-family=\"Times,serif\" font-size=\"14.00\" fill=\"#000000\">value = [1, 1]</text>\n</g>\n<!-- 82&#45;&gt;88 -->\n<g id=\"edge88\" class=\"edge\">\n<title>82&#45;&gt;88</title>\n<path fill=\"none\" stroke=\"#000000\" d=\"M2234.846,-504.9465C2256.6017,-494.8457 2280.5752,-483.7151 2302.8767,-473.3608\"/>\n<polygon fill=\"#000000\" stroke=\"#000000\" points=\"2304.393,-476.5157 2311.9892,-469.13 2301.4452,-470.1666 2304.393,-476.5157\"/>\n</g>\n<!-- 84 -->\n<g id=\"node85\" class=\"node\">\n<title>84</title>\n<polygon fill=\"none\" stroke=\"#000000\" points=\"2072.5,-357.5 1970.5,-357.5 1970.5,-304.5 2072.5,-304.5 2072.5,-357.5\"/>\n<text text-anchor=\"middle\" x=\"2021.5\" y=\"-342.3\" font-family=\"Times,serif\" font-size=\"14.00\" fill=\"#000000\">gini = 0.0</text>\n<text text-anchor=\"middle\" x=\"2021.5\" y=\"-327.3\" font-family=\"Times,serif\" font-size=\"14.00\" fill=\"#000000\">samples = 21</text>\n<text text-anchor=\"middle\" x=\"2021.5\" y=\"-312.3\" font-family=\"Times,serif\" font-size=\"14.00\" fill=\"#000000\">value = [21, 0]</text>\n</g>\n<!-- 83&#45;&gt;84 -->\n<g id=\"edge84\" class=\"edge\">\n<title>83&#45;&gt;84</title>\n<path fill=\"none\" stroke=\"#000000\" d=\"M2115.6588,-400.9465C2099.4965,-388.9403 2081.3758,-375.4791 2065.3795,-363.5962\"/>\n<polygon fill=\"#000000\" stroke=\"#000000\" points=\"2067.3444,-360.6958 2057.2298,-357.5422 2063.1701,-366.3151 2067.3444,-360.6958\"/>\n</g>\n<!-- 85 -->\n<g id=\"node86\" class=\"node\">\n<title>85</title>\n<polygon fill=\"none\" stroke=\"#000000\" points=\"2266.5,-365 2090.5,-365 2090.5,-297 2266.5,-297 2266.5,-365\"/>\n<text text-anchor=\"middle\" x=\"2178.5\" y=\"-349.8\" font-family=\"Times,serif\" font-size=\"14.00\" fill=\"#000000\">YearsAtCompany &lt;= 0.237</text>\n<text text-anchor=\"middle\" x=\"2178.5\" y=\"-334.8\" font-family=\"Times,serif\" font-size=\"14.00\" fill=\"#000000\">gini = 0.375</text>\n<text text-anchor=\"middle\" x=\"2178.5\" y=\"-319.8\" font-family=\"Times,serif\" font-size=\"14.00\" fill=\"#000000\">samples = 4</text>\n<text text-anchor=\"middle\" x=\"2178.5\" y=\"-304.8\" font-family=\"Times,serif\" font-size=\"14.00\" fill=\"#000000\">value = [3, 1]</text>\n</g>\n<!-- 83&#45;&gt;85 -->\n<g id=\"edge85\" class=\"edge\">\n<title>83&#45;&gt;85</title>\n<path fill=\"none\" stroke=\"#000000\" d=\"M2167.0664,-400.9465C2168.4167,-392.6863 2169.8795,-383.7374 2171.2934,-375.0875\"/>\n<polygon fill=\"#000000\" stroke=\"#000000\" points=\"2174.7619,-375.5637 2172.9211,-365.13 2167.8536,-374.4344 2174.7619,-375.5637\"/>\n</g>\n<!-- 86 -->\n<g id=\"node87\" class=\"node\">\n<title>86</title>\n<polygon fill=\"none\" stroke=\"#000000\" points=\"2169,-253.5 2074,-253.5 2074,-200.5 2169,-200.5 2169,-253.5\"/>\n<text text-anchor=\"middle\" x=\"2121.5\" y=\"-238.3\" font-family=\"Times,serif\" font-size=\"14.00\" fill=\"#000000\">gini = 0.0</text>\n<text text-anchor=\"middle\" x=\"2121.5\" y=\"-223.3\" font-family=\"Times,serif\" font-size=\"14.00\" fill=\"#000000\">samples = 3</text>\n<text text-anchor=\"middle\" x=\"2121.5\" y=\"-208.3\" font-family=\"Times,serif\" font-size=\"14.00\" fill=\"#000000\">value = [3, 0]</text>\n</g>\n<!-- 85&#45;&gt;86 -->\n<g id=\"edge86\" class=\"edge\">\n<title>85&#45;&gt;86</title>\n<path fill=\"none\" stroke=\"#000000\" d=\"M2159.8361,-296.9465C2153.7991,-285.9316 2147.0909,-273.6922 2140.9953,-262.5703\"/>\n<polygon fill=\"#000000\" stroke=\"#000000\" points=\"2143.9227,-260.6292 2136.0471,-253.5422 2137.7842,-263.9936 2143.9227,-260.6292\"/>\n</g>\n<!-- 87 -->\n<g id=\"node88\" class=\"node\">\n<title>87</title>\n<polygon fill=\"none\" stroke=\"#000000\" points=\"2282,-253.5 2187,-253.5 2187,-200.5 2282,-200.5 2282,-253.5\"/>\n<text text-anchor=\"middle\" x=\"2234.5\" y=\"-238.3\" font-family=\"Times,serif\" font-size=\"14.00\" fill=\"#000000\">gini = 0.0</text>\n<text text-anchor=\"middle\" x=\"2234.5\" y=\"-223.3\" font-family=\"Times,serif\" font-size=\"14.00\" fill=\"#000000\">samples = 1</text>\n<text text-anchor=\"middle\" x=\"2234.5\" y=\"-208.3\" font-family=\"Times,serif\" font-size=\"14.00\" fill=\"#000000\">value = [0, 1]</text>\n</g>\n<!-- 85&#45;&gt;87 -->\n<g id=\"edge87\" class=\"edge\">\n<title>85&#45;&gt;87</title>\n<path fill=\"none\" stroke=\"#000000\" d=\"M2196.8365,-296.9465C2202.7676,-285.9316 2209.3581,-273.6922 2215.3468,-262.5703\"/>\n<polygon fill=\"#000000\" stroke=\"#000000\" points=\"2218.5487,-264.0063 2220.2081,-253.5422 2212.3854,-260.6875 2218.5487,-264.0063\"/>\n</g>\n<!-- 89 -->\n<g id=\"node90\" class=\"node\">\n<title>89</title>\n<polygon fill=\"none\" stroke=\"#000000\" points=\"2415,-357.5 2320,-357.5 2320,-304.5 2415,-304.5 2415,-357.5\"/>\n<text text-anchor=\"middle\" x=\"2367.5\" y=\"-342.3\" font-family=\"Times,serif\" font-size=\"14.00\" fill=\"#000000\">gini = 0.0</text>\n<text text-anchor=\"middle\" x=\"2367.5\" y=\"-327.3\" font-family=\"Times,serif\" font-size=\"14.00\" fill=\"#000000\">samples = 1</text>\n<text text-anchor=\"middle\" x=\"2367.5\" y=\"-312.3\" font-family=\"Times,serif\" font-size=\"14.00\" fill=\"#000000\">value = [0, 1]</text>\n</g>\n<!-- 88&#45;&gt;89 -->\n<g id=\"edge89\" class=\"edge\">\n<title>88&#45;&gt;89</title>\n<path fill=\"none\" stroke=\"#000000\" d=\"M2379.6061,-400.9465C2377.7569,-390.2621 2375.7082,-378.4254 2373.8302,-367.5742\"/>\n<polygon fill=\"#000000\" stroke=\"#000000\" points=\"2377.2481,-366.7987 2372.0938,-357.5422 2370.3506,-367.9926 2377.2481,-366.7987\"/>\n</g>\n<!-- 90 -->\n<g id=\"node91\" class=\"node\">\n<title>90</title>\n<polygon fill=\"none\" stroke=\"#000000\" points=\"2528,-357.5 2433,-357.5 2433,-304.5 2528,-304.5 2528,-357.5\"/>\n<text text-anchor=\"middle\" x=\"2480.5\" y=\"-342.3\" font-family=\"Times,serif\" font-size=\"14.00\" fill=\"#000000\">gini = 0.0</text>\n<text text-anchor=\"middle\" x=\"2480.5\" y=\"-327.3\" font-family=\"Times,serif\" font-size=\"14.00\" fill=\"#000000\">samples = 1</text>\n<text text-anchor=\"middle\" x=\"2480.5\" y=\"-312.3\" font-family=\"Times,serif\" font-size=\"14.00\" fill=\"#000000\">value = [1, 0]</text>\n</g>\n<!-- 88&#45;&gt;90 -->\n<g id=\"edge90\" class=\"edge\">\n<title>88&#45;&gt;90</title>\n<path fill=\"none\" stroke=\"#000000\" d=\"M2416.6066,-400.9465C2427.0707,-389.491 2438.7447,-376.711 2449.222,-365.2412\"/>\n<polygon fill=\"#000000\" stroke=\"#000000\" points=\"2452.0945,-367.2861 2456.2548,-357.5422 2446.9262,-362.565 2452.0945,-367.2861\"/>\n</g>\n<!-- 92 -->\n<g id=\"node93\" class=\"node\">\n<title>92</title>\n<polygon fill=\"none\" stroke=\"#000000\" points=\"1810,-669.5 1715,-669.5 1715,-616.5 1810,-616.5 1810,-669.5\"/>\n<text text-anchor=\"middle\" x=\"1762.5\" y=\"-654.3\" font-family=\"Times,serif\" font-size=\"14.00\" fill=\"#000000\">gini = 0.0</text>\n<text text-anchor=\"middle\" x=\"1762.5\" y=\"-639.3\" font-family=\"Times,serif\" font-size=\"14.00\" fill=\"#000000\">samples = 1</text>\n<text text-anchor=\"middle\" x=\"1762.5\" y=\"-624.3\" font-family=\"Times,serif\" font-size=\"14.00\" fill=\"#000000\">value = [0, 1]</text>\n</g>\n<!-- 91&#45;&gt;92 -->\n<g id=\"edge92\" class=\"edge\">\n<title>91&#45;&gt;92</title>\n<path fill=\"none\" stroke=\"#000000\" d=\"M1711.3852,-712.9465C1719.5956,-701.7113 1728.7369,-689.2021 1736.993,-677.9043\"/>\n<polygon fill=\"#000000\" stroke=\"#000000\" points=\"1740.0295,-679.6812 1743.1038,-669.5422 1734.3777,-675.551 1740.0295,-679.6812\"/>\n</g>\n<!-- 93 -->\n<g id=\"node94\" class=\"node\">\n<title>93</title>\n<polygon fill=\"none\" stroke=\"#000000\" points=\"1923,-669.5 1828,-669.5 1828,-616.5 1923,-616.5 1923,-669.5\"/>\n<text text-anchor=\"middle\" x=\"1875.5\" y=\"-654.3\" font-family=\"Times,serif\" font-size=\"14.00\" fill=\"#000000\">gini = 0.0</text>\n<text text-anchor=\"middle\" x=\"1875.5\" y=\"-639.3\" font-family=\"Times,serif\" font-size=\"14.00\" fill=\"#000000\">samples = 1</text>\n<text text-anchor=\"middle\" x=\"1875.5\" y=\"-624.3\" font-family=\"Times,serif\" font-size=\"14.00\" fill=\"#000000\">value = [1, 0]</text>\n</g>\n<!-- 91&#45;&gt;93 -->\n<g id=\"edge93\" class=\"edge\">\n<title>91&#45;&gt;93</title>\n<path fill=\"none\" stroke=\"#000000\" d=\"M1752.3146,-712.9304C1773.5615,-701.7103 1797.139,-689.0247 1818.5,-677 1819.8179,-676.2581 1821.1505,-675.503 1822.4927,-674.7378\"/>\n<polygon fill=\"#000000\" stroke=\"#000000\" points=\"1824.5258,-677.6057 1831.4401,-669.578 1821.0289,-671.5417 1824.5258,-677.6057\"/>\n</g>\n<!-- 95 -->\n<g id=\"node96\" class=\"node\">\n<title>95</title>\n<polygon fill=\"none\" stroke=\"#000000\" points=\"1833,-885 1626,-885 1626,-817 1833,-817 1833,-885\"/>\n<text text-anchor=\"middle\" x=\"1729.5\" y=\"-869.8\" font-family=\"Times,serif\" font-size=\"14.00\" fill=\"#000000\">YearsSinceLastPromotion &lt;= 0.3</text>\n<text text-anchor=\"middle\" x=\"1729.5\" y=\"-854.8\" font-family=\"Times,serif\" font-size=\"14.00\" fill=\"#000000\">gini = 0.298</text>\n<text text-anchor=\"middle\" x=\"1729.5\" y=\"-839.8\" font-family=\"Times,serif\" font-size=\"14.00\" fill=\"#000000\">samples = 11</text>\n<text text-anchor=\"middle\" x=\"1729.5\" y=\"-824.8\" font-family=\"Times,serif\" font-size=\"14.00\" fill=\"#000000\">value = [9, 2]</text>\n</g>\n<!-- 94&#45;&gt;95 -->\n<g id=\"edge95\" class=\"edge\">\n<title>94&#45;&gt;95</title>\n<path fill=\"none\" stroke=\"#000000\" d=\"M1790.7032,-920.9465C1782.847,-911.968 1774.2788,-902.1758 1766.1087,-892.8385\"/>\n<polygon fill=\"#000000\" stroke=\"#000000\" points=\"1768.5829,-890.351 1759.3637,-885.13 1763.3148,-894.9606 1768.5829,-890.351\"/>\n</g>\n<!-- 98 -->\n<g id=\"node99\" class=\"node\">\n<title>98</title>\n<polygon fill=\"none\" stroke=\"#000000\" points=\"1946,-877.5 1851,-877.5 1851,-824.5 1946,-824.5 1946,-877.5\"/>\n<text text-anchor=\"middle\" x=\"1898.5\" y=\"-862.3\" font-family=\"Times,serif\" font-size=\"14.00\" fill=\"#000000\">gini = 0.0</text>\n<text text-anchor=\"middle\" x=\"1898.5\" y=\"-847.3\" font-family=\"Times,serif\" font-size=\"14.00\" fill=\"#000000\">samples = 3</text>\n<text text-anchor=\"middle\" x=\"1898.5\" y=\"-832.3\" font-family=\"Times,serif\" font-size=\"14.00\" fill=\"#000000\">value = [0, 3]</text>\n</g>\n<!-- 94&#45;&gt;98 -->\n<g id=\"edge98\" class=\"edge\">\n<title>94&#45;&gt;98</title>\n<path fill=\"none\" stroke=\"#000000\" d=\"M1846.0401,-920.9465C1854.5491,-909.6012 1864.0325,-896.9567 1872.5707,-885.5724\"/>\n<polygon fill=\"#000000\" stroke=\"#000000\" points=\"1875.3933,-887.6422 1878.5934,-877.5422 1869.7933,-883.4422 1875.3933,-887.6422\"/>\n</g>\n<!-- 96 -->\n<g id=\"node97\" class=\"node\">\n<title>96</title>\n<polygon fill=\"none\" stroke=\"#000000\" points=\"1888,-773.5 1793,-773.5 1793,-720.5 1888,-720.5 1888,-773.5\"/>\n<text text-anchor=\"middle\" x=\"1840.5\" y=\"-758.3\" font-family=\"Times,serif\" font-size=\"14.00\" fill=\"#000000\">gini = 0.0</text>\n<text text-anchor=\"middle\" x=\"1840.5\" y=\"-743.3\" font-family=\"Times,serif\" font-size=\"14.00\" fill=\"#000000\">samples = 9</text>\n<text text-anchor=\"middle\" x=\"1840.5\" y=\"-728.3\" font-family=\"Times,serif\" font-size=\"14.00\" fill=\"#000000\">value = [9, 0]</text>\n</g>\n<!-- 95&#45;&gt;96 -->\n<g id=\"edge96\" class=\"edge\">\n<title>95&#45;&gt;96</title>\n<path fill=\"none\" stroke=\"#000000\" d=\"M1765.8456,-816.9465C1778.3072,-805.2707 1792.2374,-792.219 1804.6588,-780.5809\"/>\n<polygon fill=\"#000000\" stroke=\"#000000\" points=\"1807.2669,-782.9335 1812.1713,-773.5422 1802.4809,-777.8253 1807.2669,-782.9335\"/>\n</g>\n<!-- 97 -->\n<g id=\"node98\" class=\"node\">\n<title>97</title>\n<polygon fill=\"none\" stroke=\"#000000\" points=\"2001,-773.5 1906,-773.5 1906,-720.5 2001,-720.5 2001,-773.5\"/>\n<text text-anchor=\"middle\" x=\"1953.5\" y=\"-758.3\" font-family=\"Times,serif\" font-size=\"14.00\" fill=\"#000000\">gini = 0.0</text>\n<text text-anchor=\"middle\" x=\"1953.5\" y=\"-743.3\" font-family=\"Times,serif\" font-size=\"14.00\" fill=\"#000000\">samples = 2</text>\n<text text-anchor=\"middle\" x=\"1953.5\" y=\"-728.3\" font-family=\"Times,serif\" font-size=\"14.00\" fill=\"#000000\">value = [0, 2]</text>\n</g>\n<!-- 95&#45;&gt;97 -->\n<g id=\"edge97\" class=\"edge\">\n<title>95&#45;&gt;97</title>\n<path fill=\"none\" stroke=\"#000000\" d=\"M1817.2292,-816.9517C1843.1017,-806.1835 1871.241,-793.7474 1896.5,-781 1898.0559,-780.2148 1899.6269,-779.4037 1901.2058,-778.5725\"/>\n<polygon fill=\"#000000\" stroke=\"#000000\" points=\"1903.1737,-781.4864 1910.2848,-773.6326 1899.8281,-775.3376 1903.1737,-781.4864\"/>\n</g>\n<!-- 100 -->\n<g id=\"node101\" class=\"node\">\n<title>100</title>\n<polygon fill=\"none\" stroke=\"#000000\" points=\"2177.5,-989 1961.5,-989 1961.5,-921 2177.5,-921 2177.5,-989\"/>\n<text text-anchor=\"middle\" x=\"2069.5\" y=\"-973.8\" font-family=\"Times,serif\" font-size=\"14.00\" fill=\"#000000\">EnvironmentSatisfaction &lt;= 0.167</text>\n<text text-anchor=\"middle\" x=\"2069.5\" y=\"-958.8\" font-family=\"Times,serif\" font-size=\"14.00\" fill=\"#000000\">gini = 0.165</text>\n<text text-anchor=\"middle\" x=\"2069.5\" y=\"-943.8\" font-family=\"Times,serif\" font-size=\"14.00\" fill=\"#000000\">samples = 11</text>\n<text text-anchor=\"middle\" x=\"2069.5\" y=\"-928.8\" font-family=\"Times,serif\" font-size=\"14.00\" fill=\"#000000\">value = [10, 1]</text>\n</g>\n<!-- 99&#45;&gt;100 -->\n<g id=\"edge100\" class=\"edge\">\n<title>99&#45;&gt;100</title>\n<path fill=\"none\" stroke=\"#000000\" d=\"M2122.6324,-1024.9465C2115.8804,-1016.0578 2108.5226,-1006.3716 2101.4941,-997.1188\"/>\n<polygon fill=\"#000000\" stroke=\"#000000\" points=\"2104.2617,-994.976 2095.4257,-989.13 2098.6875,-999.2102 2104.2617,-994.976\"/>\n</g>\n<!-- 103 -->\n<g id=\"node104\" class=\"node\">\n<title>103</title>\n<polygon fill=\"none\" stroke=\"#000000\" points=\"2457,-989 2196,-989 2196,-921 2457,-921 2457,-989\"/>\n<text text-anchor=\"middle\" x=\"2326.5\" y=\"-973.8\" font-family=\"Times,serif\" font-size=\"14.00\" fill=\"#000000\">JobRole_Healthcare Representative &lt;= 0.5</text>\n<text text-anchor=\"middle\" x=\"2326.5\" y=\"-958.8\" font-family=\"Times,serif\" font-size=\"14.00\" fill=\"#000000\">gini = 0.012</text>\n<text text-anchor=\"middle\" x=\"2326.5\" y=\"-943.8\" font-family=\"Times,serif\" font-size=\"14.00\" fill=\"#000000\">samples = 167</text>\n<text text-anchor=\"middle\" x=\"2326.5\" y=\"-928.8\" font-family=\"Times,serif\" font-size=\"14.00\" fill=\"#000000\">value = [166, 1]</text>\n</g>\n<!-- 99&#45;&gt;103 -->\n<g id=\"edge103\" class=\"edge\">\n<title>99&#45;&gt;103</title>\n<path fill=\"none\" stroke=\"#000000\" d=\"M2206.7839,-1024.9465C2223.534,-1015.1599 2241.9386,-1004.4066 2259.1862,-994.3294\"/>\n<polygon fill=\"#000000\" stroke=\"#000000\" points=\"2261.2166,-997.1968 2268.0852,-989.13 2257.6852,-991.1528 2261.2166,-997.1968\"/>\n</g>\n<!-- 101 -->\n<g id=\"node102\" class=\"node\">\n<title>101</title>\n<polygon fill=\"none\" stroke=\"#000000\" points=\"2059,-877.5 1964,-877.5 1964,-824.5 2059,-824.5 2059,-877.5\"/>\n<text text-anchor=\"middle\" x=\"2011.5\" y=\"-862.3\" font-family=\"Times,serif\" font-size=\"14.00\" fill=\"#000000\">gini = 0.0</text>\n<text text-anchor=\"middle\" x=\"2011.5\" y=\"-847.3\" font-family=\"Times,serif\" font-size=\"14.00\" fill=\"#000000\">samples = 1</text>\n<text text-anchor=\"middle\" x=\"2011.5\" y=\"-832.3\" font-family=\"Times,serif\" font-size=\"14.00\" fill=\"#000000\">value = [0, 1]</text>\n</g>\n<!-- 100&#45;&gt;101 -->\n<g id=\"edge101\" class=\"edge\">\n<title>100&#45;&gt;101</title>\n<path fill=\"none\" stroke=\"#000000\" d=\"M2050.5086,-920.9465C2044.3657,-909.9316 2037.5399,-897.6922 2031.3373,-886.5703\"/>\n<polygon fill=\"#000000\" stroke=\"#000000\" points=\"2034.2299,-884.5711 2026.3024,-877.5422 2028.1163,-887.9806 2034.2299,-884.5711\"/>\n</g>\n<!-- 102 -->\n<g id=\"node103\" class=\"node\">\n<title>102</title>\n<polygon fill=\"none\" stroke=\"#000000\" points=\"2179.5,-877.5 2077.5,-877.5 2077.5,-824.5 2179.5,-824.5 2179.5,-877.5\"/>\n<text text-anchor=\"middle\" x=\"2128.5\" y=\"-862.3\" font-family=\"Times,serif\" font-size=\"14.00\" fill=\"#000000\">gini = 0.0</text>\n<text text-anchor=\"middle\" x=\"2128.5\" y=\"-847.3\" font-family=\"Times,serif\" font-size=\"14.00\" fill=\"#000000\">samples = 10</text>\n<text text-anchor=\"middle\" x=\"2128.5\" y=\"-832.3\" font-family=\"Times,serif\" font-size=\"14.00\" fill=\"#000000\">value = [10, 0]</text>\n</g>\n<!-- 100&#45;&gt;102 -->\n<g id=\"edge102\" class=\"edge\">\n<title>100&#45;&gt;102</title>\n<path fill=\"none\" stroke=\"#000000\" d=\"M2088.8188,-920.9465C2095.0676,-909.9316 2102.0112,-897.6922 2108.3207,-886.5703\"/>\n<polygon fill=\"#000000\" stroke=\"#000000\" points=\"2111.5523,-887.967 2113.4424,-877.5422 2105.4638,-884.513 2111.5523,-887.967\"/>\n</g>\n<!-- 104 -->\n<g id=\"node105\" class=\"node\">\n<title>104</title>\n<polygon fill=\"none\" stroke=\"#000000\" points=\"2307.5,-877.5 2197.5,-877.5 2197.5,-824.5 2307.5,-824.5 2307.5,-877.5\"/>\n<text text-anchor=\"middle\" x=\"2252.5\" y=\"-862.3\" font-family=\"Times,serif\" font-size=\"14.00\" fill=\"#000000\">gini = 0.0</text>\n<text text-anchor=\"middle\" x=\"2252.5\" y=\"-847.3\" font-family=\"Times,serif\" font-size=\"14.00\" fill=\"#000000\">samples = 147</text>\n<text text-anchor=\"middle\" x=\"2252.5\" y=\"-832.3\" font-family=\"Times,serif\" font-size=\"14.00\" fill=\"#000000\">value = [147, 0]</text>\n</g>\n<!-- 103&#45;&gt;104 -->\n<g id=\"edge104\" class=\"edge\">\n<title>103&#45;&gt;104</title>\n<path fill=\"none\" stroke=\"#000000\" d=\"M2302.2696,-920.9465C2294.2754,-909.7113 2285.3746,-897.2021 2277.3358,-885.9043\"/>\n<polygon fill=\"#000000\" stroke=\"#000000\" points=\"2280.0351,-883.6609 2271.3858,-877.5422 2274.3316,-887.7192 2280.0351,-883.6609\"/>\n</g>\n<!-- 105 -->\n<g id=\"node106\" class=\"node\">\n<title>105</title>\n<polygon fill=\"none\" stroke=\"#000000\" points=\"2515.5,-885 2325.5,-885 2325.5,-817 2515.5,-817 2515.5,-885\"/>\n<text text-anchor=\"middle\" x=\"2420.5\" y=\"-869.8\" font-family=\"Times,serif\" font-size=\"14.00\" fill=\"#000000\">DistanceFromHome &lt;= 0.696</text>\n<text text-anchor=\"middle\" x=\"2420.5\" y=\"-854.8\" font-family=\"Times,serif\" font-size=\"14.00\" fill=\"#000000\">gini = 0.095</text>\n<text text-anchor=\"middle\" x=\"2420.5\" y=\"-839.8\" font-family=\"Times,serif\" font-size=\"14.00\" fill=\"#000000\">samples = 20</text>\n<text text-anchor=\"middle\" x=\"2420.5\" y=\"-824.8\" font-family=\"Times,serif\" font-size=\"14.00\" fill=\"#000000\">value = [19, 1]</text>\n</g>\n<!-- 103&#45;&gt;105 -->\n<g id=\"edge105\" class=\"edge\">\n<title>103&#45;&gt;105</title>\n<path fill=\"none\" stroke=\"#000000\" d=\"M2357.2791,-920.9465C2365.4755,-911.8782 2374.422,-901.9799 2382.9375,-892.5585\"/>\n<polygon fill=\"#000000\" stroke=\"#000000\" points=\"2385.5429,-894.8957 2389.6517,-885.13 2380.3497,-890.2019 2385.5429,-894.8957\"/>\n</g>\n<!-- 106 -->\n<g id=\"node107\" class=\"node\">\n<title>106</title>\n<polygon fill=\"none\" stroke=\"#000000\" points=\"2284.5,-773.5 2182.5,-773.5 2182.5,-720.5 2284.5,-720.5 2284.5,-773.5\"/>\n<text text-anchor=\"middle\" x=\"2233.5\" y=\"-758.3\" font-family=\"Times,serif\" font-size=\"14.00\" fill=\"#000000\">gini = 0.0</text>\n<text text-anchor=\"middle\" x=\"2233.5\" y=\"-743.3\" font-family=\"Times,serif\" font-size=\"14.00\" fill=\"#000000\">samples = 18</text>\n<text text-anchor=\"middle\" x=\"2233.5\" y=\"-728.3\" font-family=\"Times,serif\" font-size=\"14.00\" fill=\"#000000\">value = [18, 0]</text>\n</g>\n<!-- 105&#45;&gt;106 -->\n<g id=\"edge106\" class=\"edge\">\n<title>105&#45;&gt;106</title>\n<path fill=\"none\" stroke=\"#000000\" d=\"M2358.4072,-816.9664C2337.7312,-805.5829 2314.5975,-792.7913 2293.5,-781 2292.027,-780.1768 2290.5344,-779.3411 2289.0287,-778.4969\"/>\n<polygon fill=\"#000000\" stroke=\"#000000\" points=\"2290.741,-775.4444 2280.3088,-773.5954 2287.311,-781.5465 2290.741,-775.4444\"/>\n</g>\n<!-- 107 -->\n<g id=\"node108\" class=\"node\">\n<title>107</title>\n<polygon fill=\"none\" stroke=\"#000000\" points=\"2516.5,-781 2302.5,-781 2302.5,-713 2516.5,-713 2516.5,-781\"/>\n<text text-anchor=\"middle\" x=\"2409.5\" y=\"-765.8\" font-family=\"Times,serif\" font-size=\"14.00\" fill=\"#000000\">NumCompaniesWorked &lt;= 0.333</text>\n<text text-anchor=\"middle\" x=\"2409.5\" y=\"-750.8\" font-family=\"Times,serif\" font-size=\"14.00\" fill=\"#000000\">gini = 0.5</text>\n<text text-anchor=\"middle\" x=\"2409.5\" y=\"-735.8\" font-family=\"Times,serif\" font-size=\"14.00\" fill=\"#000000\">samples = 2</text>\n<text text-anchor=\"middle\" x=\"2409.5\" y=\"-720.8\" font-family=\"Times,serif\" font-size=\"14.00\" fill=\"#000000\">value = [1, 1]</text>\n</g>\n<!-- 105&#45;&gt;107 -->\n<g id=\"edge107\" class=\"edge\">\n<title>105&#45;&gt;107</title>\n<path fill=\"none\" stroke=\"#000000\" d=\"M2416.8982,-816.9465C2416.0245,-808.6863 2415.078,-799.7374 2414.1631,-791.0875\"/>\n<polygon fill=\"#000000\" stroke=\"#000000\" points=\"2417.6424,-790.7064 2413.1099,-781.13 2410.6812,-791.4427 2417.6424,-790.7064\"/>\n</g>\n<!-- 108 -->\n<g id=\"node109\" class=\"node\">\n<title>108</title>\n<polygon fill=\"none\" stroke=\"#000000\" points=\"2400,-669.5 2305,-669.5 2305,-616.5 2400,-616.5 2400,-669.5\"/>\n<text text-anchor=\"middle\" x=\"2352.5\" y=\"-654.3\" font-family=\"Times,serif\" font-size=\"14.00\" fill=\"#000000\">gini = 0.0</text>\n<text text-anchor=\"middle\" x=\"2352.5\" y=\"-639.3\" font-family=\"Times,serif\" font-size=\"14.00\" fill=\"#000000\">samples = 1</text>\n<text text-anchor=\"middle\" x=\"2352.5\" y=\"-624.3\" font-family=\"Times,serif\" font-size=\"14.00\" fill=\"#000000\">value = [1, 0]</text>\n</g>\n<!-- 107&#45;&gt;108 -->\n<g id=\"edge108\" class=\"edge\">\n<title>107&#45;&gt;108</title>\n<path fill=\"none\" stroke=\"#000000\" d=\"M2390.8361,-712.9465C2384.7991,-701.9316 2378.0909,-689.6922 2371.9953,-678.5703\"/>\n<polygon fill=\"#000000\" stroke=\"#000000\" points=\"2374.9227,-676.6292 2367.0471,-669.5422 2368.7842,-679.9936 2374.9227,-676.6292\"/>\n</g>\n<!-- 109 -->\n<g id=\"node110\" class=\"node\">\n<title>109</title>\n<polygon fill=\"none\" stroke=\"#000000\" points=\"2513,-669.5 2418,-669.5 2418,-616.5 2513,-616.5 2513,-669.5\"/>\n<text text-anchor=\"middle\" x=\"2465.5\" y=\"-654.3\" font-family=\"Times,serif\" font-size=\"14.00\" fill=\"#000000\">gini = 0.0</text>\n<text text-anchor=\"middle\" x=\"2465.5\" y=\"-639.3\" font-family=\"Times,serif\" font-size=\"14.00\" fill=\"#000000\">samples = 1</text>\n<text text-anchor=\"middle\" x=\"2465.5\" y=\"-624.3\" font-family=\"Times,serif\" font-size=\"14.00\" fill=\"#000000\">value = [0, 1]</text>\n</g>\n<!-- 107&#45;&gt;109 -->\n<g id=\"edge109\" class=\"edge\">\n<title>107&#45;&gt;109</title>\n<path fill=\"none\" stroke=\"#000000\" d=\"M2427.8365,-712.9465C2433.7676,-701.9316 2440.3581,-689.6922 2446.3468,-678.5703\"/>\n<polygon fill=\"#000000\" stroke=\"#000000\" points=\"2449.5487,-680.0063 2451.2081,-669.5422 2443.3854,-676.6875 2449.5487,-680.0063\"/>\n</g>\n<!-- 111 -->\n<g id=\"node112\" class=\"node\">\n<title>111</title>\n<polygon fill=\"none\" stroke=\"#000000\" points=\"2540,-1085.5 2445,-1085.5 2445,-1032.5 2540,-1032.5 2540,-1085.5\"/>\n<text text-anchor=\"middle\" x=\"2492.5\" y=\"-1070.3\" font-family=\"Times,serif\" font-size=\"14.00\" fill=\"#000000\">gini = 0.0</text>\n<text text-anchor=\"middle\" x=\"2492.5\" y=\"-1055.3\" font-family=\"Times,serif\" font-size=\"14.00\" fill=\"#000000\">samples = 4</text>\n<text text-anchor=\"middle\" x=\"2492.5\" y=\"-1040.3\" font-family=\"Times,serif\" font-size=\"14.00\" fill=\"#000000\">value = [4, 0]</text>\n</g>\n<!-- 110&#45;&gt;111 -->\n<g id=\"edge111\" class=\"edge\">\n<title>110&#45;&gt;111</title>\n<path fill=\"none\" stroke=\"#000000\" d=\"M2530.1635,-1128.9465C2524.2324,-1117.9316 2517.6419,-1105.6922 2511.6532,-1094.5703\"/>\n<polygon fill=\"#000000\" stroke=\"#000000\" points=\"2514.6146,-1092.6875 2506.7919,-1085.5422 2508.4513,-1096.0063 2514.6146,-1092.6875\"/>\n</g>\n<!-- 112 -->\n<g id=\"node113\" class=\"node\">\n<title>112</title>\n<polygon fill=\"none\" stroke=\"#000000\" points=\"2653,-1085.5 2558,-1085.5 2558,-1032.5 2653,-1032.5 2653,-1085.5\"/>\n<text text-anchor=\"middle\" x=\"2605.5\" y=\"-1070.3\" font-family=\"Times,serif\" font-size=\"14.00\" fill=\"#000000\">gini = 0.0</text>\n<text text-anchor=\"middle\" x=\"2605.5\" y=\"-1055.3\" font-family=\"Times,serif\" font-size=\"14.00\" fill=\"#000000\">samples = 2</text>\n<text text-anchor=\"middle\" x=\"2605.5\" y=\"-1040.3\" font-family=\"Times,serif\" font-size=\"14.00\" fill=\"#000000\">value = [0, 2]</text>\n</g>\n<!-- 110&#45;&gt;112 -->\n<g id=\"edge112\" class=\"edge\">\n<title>110&#45;&gt;112</title>\n<path fill=\"none\" stroke=\"#000000\" d=\"M2567.1639,-1128.9465C2573.2009,-1117.9316 2579.9091,-1105.6922 2586.0047,-1094.5703\"/>\n<polygon fill=\"#000000\" stroke=\"#000000\" points=\"2589.2158,-1095.9936 2590.9529,-1085.5422 2583.0773,-1092.6292 2589.2158,-1095.9936\"/>\n</g>\n<!-- 114 -->\n<g id=\"node115\" class=\"node\">\n<title>114</title>\n<polygon fill=\"none\" stroke=\"#000000\" points=\"3087.5,-1197 2871.5,-1197 2871.5,-1129 3087.5,-1129 3087.5,-1197\"/>\n<text text-anchor=\"middle\" x=\"2979.5\" y=\"-1181.8\" font-family=\"Times,serif\" font-size=\"14.00\" fill=\"#000000\">EnvironmentSatisfaction &lt;= 0.833</text>\n<text text-anchor=\"middle\" x=\"2979.5\" y=\"-1166.8\" font-family=\"Times,serif\" font-size=\"14.00\" fill=\"#000000\">gini = 0.457</text>\n<text text-anchor=\"middle\" x=\"2979.5\" y=\"-1151.8\" font-family=\"Times,serif\" font-size=\"14.00\" fill=\"#000000\">samples = 51</text>\n<text text-anchor=\"middle\" x=\"2979.5\" y=\"-1136.8\" font-family=\"Times,serif\" font-size=\"14.00\" fill=\"#000000\">value = [33, 18]</text>\n</g>\n<!-- 113&#45;&gt;114 -->\n<g id=\"edge114\" class=\"edge\">\n<title>113&#45;&gt;114</title>\n<path fill=\"none\" stroke=\"#000000\" d=\"M2979.5,-1232.9465C2979.5,-1224.776 2979.5,-1215.9318 2979.5,-1207.3697\"/>\n<polygon fill=\"#000000\" stroke=\"#000000\" points=\"2983.0001,-1207.13 2979.5,-1197.13 2976.0001,-1207.13 2983.0001,-1207.13\"/>\n</g>\n<!-- 135 -->\n<g id=\"node136\" class=\"node\">\n<title>135</title>\n<polygon fill=\"none\" stroke=\"#000000\" points=\"3608.5,-1197 3386.5,-1197 3386.5,-1129 3608.5,-1129 3608.5,-1197\"/>\n<text text-anchor=\"middle\" x=\"3497.5\" y=\"-1181.8\" font-family=\"Times,serif\" font-size=\"14.00\" fill=\"#000000\">YearsSinceLastPromotion &lt;= 0.567</text>\n<text text-anchor=\"middle\" x=\"3497.5\" y=\"-1166.8\" font-family=\"Times,serif\" font-size=\"14.00\" fill=\"#000000\">gini = 0.14</text>\n<text text-anchor=\"middle\" x=\"3497.5\" y=\"-1151.8\" font-family=\"Times,serif\" font-size=\"14.00\" fill=\"#000000\">samples = 106</text>\n<text text-anchor=\"middle\" x=\"3497.5\" y=\"-1136.8\" font-family=\"Times,serif\" font-size=\"14.00\" fill=\"#000000\">value = [98, 8]</text>\n</g>\n<!-- 113&#45;&gt;135 -->\n<g id=\"edge135\" class=\"edge\">\n<title>113&#45;&gt;135</title>\n<path fill=\"none\" stroke=\"#000000\" d=\"M3038.1653,-1255.2216C3119.976,-1238.7963 3270.2342,-1208.6287 3376.589,-1187.2756\"/>\n<polygon fill=\"#000000\" stroke=\"#000000\" points=\"3377.3026,-1190.7022 3386.4179,-1185.3022 3375.9246,-1183.8392 3377.3026,-1190.7022\"/>\n</g>\n<!-- 115 -->\n<g id=\"node116\" class=\"node\">\n<title>115</title>\n<polygon fill=\"none\" stroke=\"#000000\" points=\"2983,-1093 2804,-1093 2804,-1025 2983,-1025 2983,-1093\"/>\n<text text-anchor=\"middle\" x=\"2893.5\" y=\"-1077.8\" font-family=\"Times,serif\" font-size=\"14.00\" fill=\"#000000\">MaritalStatus_Single &lt;= 0.5</text>\n<text text-anchor=\"middle\" x=\"2893.5\" y=\"-1062.8\" font-family=\"Times,serif\" font-size=\"14.00\" fill=\"#000000\">gini = 0.5</text>\n<text text-anchor=\"middle\" x=\"2893.5\" y=\"-1047.8\" font-family=\"Times,serif\" font-size=\"14.00\" fill=\"#000000\">samples = 34</text>\n<text text-anchor=\"middle\" x=\"2893.5\" y=\"-1032.8\" font-family=\"Times,serif\" font-size=\"14.00\" fill=\"#000000\">value = [17, 17]</text>\n</g>\n<!-- 114&#45;&gt;115 -->\n<g id=\"edge115\" class=\"edge\">\n<title>114&#45;&gt;115</title>\n<path fill=\"none\" stroke=\"#000000\" d=\"M2951.3404,-1128.9465C2943.9158,-1119.968 2935.8185,-1110.1758 2928.0972,-1100.8385\"/>\n<polygon fill=\"#000000\" stroke=\"#000000\" points=\"2930.7928,-1098.606 2921.7229,-1093.13 2925.3983,-1103.0669 2930.7928,-1098.606\"/>\n</g>\n<!-- 132 -->\n<g id=\"node133\" class=\"node\">\n<title>132</title>\n<polygon fill=\"none\" stroke=\"#000000\" points=\"3132,-1093 3001,-1093 3001,-1025 3132,-1025 3132,-1093\"/>\n<text text-anchor=\"middle\" x=\"3066.5\" y=\"-1077.8\" font-family=\"Times,serif\" font-size=\"14.00\" fill=\"#000000\">DailyRate &lt;= 0.946</text>\n<text text-anchor=\"middle\" x=\"3066.5\" y=\"-1062.8\" font-family=\"Times,serif\" font-size=\"14.00\" fill=\"#000000\">gini = 0.111</text>\n<text text-anchor=\"middle\" x=\"3066.5\" y=\"-1047.8\" font-family=\"Times,serif\" font-size=\"14.00\" fill=\"#000000\">samples = 17</text>\n<text text-anchor=\"middle\" x=\"3066.5\" y=\"-1032.8\" font-family=\"Times,serif\" font-size=\"14.00\" fill=\"#000000\">value = [16, 1]</text>\n</g>\n<!-- 114&#45;&gt;132 -->\n<g id=\"edge132\" class=\"edge\">\n<title>114&#45;&gt;132</title>\n<path fill=\"none\" stroke=\"#000000\" d=\"M3007.9871,-1128.9465C3015.4979,-1119.968 3023.6895,-1110.1758 3031.5005,-1100.8385\"/>\n<polygon fill=\"#000000\" stroke=\"#000000\" points=\"3034.2171,-1103.0459 3037.9489,-1093.13 3028.848,-1098.5544 3034.2171,-1103.0459\"/>\n</g>\n<!-- 116 -->\n<g id=\"node117\" class=\"node\">\n<title>116</title>\n<polygon fill=\"none\" stroke=\"#000000\" points=\"2802,-989 2635,-989 2635,-921 2802,-921 2802,-989\"/>\n<text text-anchor=\"middle\" x=\"2718.5\" y=\"-973.8\" font-family=\"Times,serif\" font-size=\"14.00\" fill=\"#000000\">MonthlyIncome &lt;= 0.076</text>\n<text text-anchor=\"middle\" x=\"2718.5\" y=\"-958.8\" font-family=\"Times,serif\" font-size=\"14.00\" fill=\"#000000\">gini = 0.401</text>\n<text text-anchor=\"middle\" x=\"2718.5\" y=\"-943.8\" font-family=\"Times,serif\" font-size=\"14.00\" fill=\"#000000\">samples = 18</text>\n<text text-anchor=\"middle\" x=\"2718.5\" y=\"-928.8\" font-family=\"Times,serif\" font-size=\"14.00\" fill=\"#000000\">value = [13, 5]</text>\n</g>\n<!-- 115&#45;&gt;116 -->\n<g id=\"edge116\" class=\"edge\">\n<title>115&#45;&gt;116</title>\n<path fill=\"none\" stroke=\"#000000\" d=\"M2836.1985,-1024.9465C2819.7306,-1015.1599 2801.6362,-1004.4066 2784.6793,-994.3294\"/>\n<polygon fill=\"#000000\" stroke=\"#000000\" points=\"2786.3149,-991.23 2775.9303,-989.13 2782.7387,-997.2476 2786.3149,-991.23\"/>\n</g>\n<!-- 125 -->\n<g id=\"node126\" class=\"node\">\n<title>125</title>\n<polygon fill=\"none\" stroke=\"#000000\" points=\"2987,-989 2820,-989 2820,-921 2987,-921 2987,-989\"/>\n<text text-anchor=\"middle\" x=\"2903.5\" y=\"-973.8\" font-family=\"Times,serif\" font-size=\"14.00\" fill=\"#000000\">JobInvolvement &lt;= 0.833</text>\n<text text-anchor=\"middle\" x=\"2903.5\" y=\"-958.8\" font-family=\"Times,serif\" font-size=\"14.00\" fill=\"#000000\">gini = 0.375</text>\n<text text-anchor=\"middle\" x=\"2903.5\" y=\"-943.8\" font-family=\"Times,serif\" font-size=\"14.00\" fill=\"#000000\">samples = 16</text>\n<text text-anchor=\"middle\" x=\"2903.5\" y=\"-928.8\" font-family=\"Times,serif\" font-size=\"14.00\" fill=\"#000000\">value = [4, 12]</text>\n</g>\n<!-- 115&#45;&gt;125 -->\n<g id=\"edge125\" class=\"edge\">\n<title>115&#45;&gt;125</title>\n<path fill=\"none\" stroke=\"#000000\" d=\"M2896.7744,-1024.9465C2897.5686,-1016.6863 2898.4291,-1007.7374 2899.2608,-999.0875\"/>\n<polygon fill=\"#000000\" stroke=\"#000000\" points=\"2902.745,-999.4191 2900.2183,-989.13 2895.7771,-998.7491 2902.745,-999.4191\"/>\n</g>\n<!-- 117 -->\n<g id=\"node118\" class=\"node\">\n<title>117</title>\n<polygon fill=\"none\" stroke=\"#000000\" points=\"2651,-877.5 2556,-877.5 2556,-824.5 2651,-824.5 2651,-877.5\"/>\n<text text-anchor=\"middle\" x=\"2603.5\" y=\"-862.3\" font-family=\"Times,serif\" font-size=\"14.00\" fill=\"#000000\">gini = 0.0</text>\n<text text-anchor=\"middle\" x=\"2603.5\" y=\"-847.3\" font-family=\"Times,serif\" font-size=\"14.00\" fill=\"#000000\">samples = 2</text>\n<text text-anchor=\"middle\" x=\"2603.5\" y=\"-832.3\" font-family=\"Times,serif\" font-size=\"14.00\" fill=\"#000000\">value = [0, 2]</text>\n</g>\n<!-- 116&#45;&gt;117 -->\n<g id=\"edge117\" class=\"edge\">\n<title>116&#45;&gt;117</title>\n<path fill=\"none\" stroke=\"#000000\" d=\"M2680.8447,-920.9465C2667.8122,-909.1606 2653.2294,-895.9726 2640.2689,-884.2519\"/>\n<polygon fill=\"#000000\" stroke=\"#000000\" points=\"2642.614,-881.6537 2632.8495,-877.5422 2637.9188,-886.8456 2642.614,-881.6537\"/>\n</g>\n<!-- 118 -->\n<g id=\"node119\" class=\"node\">\n<title>118</title>\n<polygon fill=\"none\" stroke=\"#000000\" points=\"2771.5,-885 2669.5,-885 2669.5,-817 2771.5,-817 2771.5,-885\"/>\n<text text-anchor=\"middle\" x=\"2720.5\" y=\"-869.8\" font-family=\"Times,serif\" font-size=\"14.00\" fill=\"#000000\">Age &lt;= 0.19</text>\n<text text-anchor=\"middle\" x=\"2720.5\" y=\"-854.8\" font-family=\"Times,serif\" font-size=\"14.00\" fill=\"#000000\">gini = 0.305</text>\n<text text-anchor=\"middle\" x=\"2720.5\" y=\"-839.8\" font-family=\"Times,serif\" font-size=\"14.00\" fill=\"#000000\">samples = 16</text>\n<text text-anchor=\"middle\" x=\"2720.5\" y=\"-824.8\" font-family=\"Times,serif\" font-size=\"14.00\" fill=\"#000000\">value = [13, 3]</text>\n</g>\n<!-- 116&#45;&gt;118 -->\n<g id=\"edge118\" class=\"edge\">\n<title>116&#45;&gt;118</title>\n<path fill=\"none\" stroke=\"#000000\" d=\"M2719.1549,-920.9465C2719.312,-912.776 2719.4821,-903.9318 2719.6467,-895.3697\"/>\n<polygon fill=\"#000000\" stroke=\"#000000\" points=\"2723.1506,-895.1955 2719.8437,-885.13 2716.1519,-895.0608 2723.1506,-895.1955\"/>\n</g>\n<!-- 119 -->\n<g id=\"node120\" class=\"node\">\n<title>119</title>\n<polygon fill=\"none\" stroke=\"#000000\" points=\"2630,-773.5 2535,-773.5 2535,-720.5 2630,-720.5 2630,-773.5\"/>\n<text text-anchor=\"middle\" x=\"2582.5\" y=\"-758.3\" font-family=\"Times,serif\" font-size=\"14.00\" fill=\"#000000\">gini = 0.0</text>\n<text text-anchor=\"middle\" x=\"2582.5\" y=\"-743.3\" font-family=\"Times,serif\" font-size=\"14.00\" fill=\"#000000\">samples = 1</text>\n<text text-anchor=\"middle\" x=\"2582.5\" y=\"-728.3\" font-family=\"Times,serif\" font-size=\"14.00\" fill=\"#000000\">value = [0, 1]</text>\n</g>\n<!-- 118&#45;&gt;119 -->\n<g id=\"edge119\" class=\"edge\">\n<title>118&#45;&gt;119</title>\n<path fill=\"none\" stroke=\"#000000\" d=\"M2675.3136,-816.9465C2659.3823,-804.9403 2641.5204,-791.4791 2625.7527,-779.5962\"/>\n<polygon fill=\"#000000\" stroke=\"#000000\" points=\"2627.812,-776.7656 2617.7194,-773.5422 2623.599,-782.3558 2627.812,-776.7656\"/>\n</g>\n<!-- 120 -->\n<g id=\"node121\" class=\"node\">\n<title>120</title>\n<polygon fill=\"none\" stroke=\"#000000\" points=\"2815,-781 2648,-781 2648,-713 2815,-713 2815,-781\"/>\n<text text-anchor=\"middle\" x=\"2731.5\" y=\"-765.8\" font-family=\"Times,serif\" font-size=\"14.00\" fill=\"#000000\">JobInvolvement &lt;= 0.167</text>\n<text text-anchor=\"middle\" x=\"2731.5\" y=\"-750.8\" font-family=\"Times,serif\" font-size=\"14.00\" fill=\"#000000\">gini = 0.231</text>\n<text text-anchor=\"middle\" x=\"2731.5\" y=\"-735.8\" font-family=\"Times,serif\" font-size=\"14.00\" fill=\"#000000\">samples = 15</text>\n<text text-anchor=\"middle\" x=\"2731.5\" y=\"-720.8\" font-family=\"Times,serif\" font-size=\"14.00\" fill=\"#000000\">value = [13, 2]</text>\n</g>\n<!-- 118&#45;&gt;120 -->\n<g id=\"edge120\" class=\"edge\">\n<title>118&#45;&gt;120</title>\n<path fill=\"none\" stroke=\"#000000\" d=\"M2724.1018,-816.9465C2724.9755,-808.6863 2725.922,-799.7374 2726.8369,-791.0875\"/>\n<polygon fill=\"#000000\" stroke=\"#000000\" points=\"2730.3188,-791.4427 2727.8901,-781.13 2723.3576,-790.7064 2730.3188,-791.4427\"/>\n</g>\n<!-- 121 -->\n<g id=\"node122\" class=\"node\">\n<title>121</title>\n<polygon fill=\"none\" stroke=\"#000000\" points=\"2713,-669.5 2618,-669.5 2618,-616.5 2713,-616.5 2713,-669.5\"/>\n<text text-anchor=\"middle\" x=\"2665.5\" y=\"-654.3\" font-family=\"Times,serif\" font-size=\"14.00\" fill=\"#000000\">gini = 0.0</text>\n<text text-anchor=\"middle\" x=\"2665.5\" y=\"-639.3\" font-family=\"Times,serif\" font-size=\"14.00\" fill=\"#000000\">samples = 1</text>\n<text text-anchor=\"middle\" x=\"2665.5\" y=\"-624.3\" font-family=\"Times,serif\" font-size=\"14.00\" fill=\"#000000\">value = [0, 1]</text>\n</g>\n<!-- 120&#45;&gt;121 -->\n<g id=\"edge121\" class=\"edge\">\n<title>120&#45;&gt;121</title>\n<path fill=\"none\" stroke=\"#000000\" d=\"M2709.8891,-712.9465C2702.829,-701.8215 2694.9761,-689.4473 2687.8619,-678.237\"/>\n<polygon fill=\"#000000\" stroke=\"#000000\" points=\"2690.6575,-676.1101 2682.3441,-669.5422 2684.7472,-679.8609 2690.6575,-676.1101\"/>\n</g>\n<!-- 122 -->\n<g id=\"node123\" class=\"node\">\n<title>122</title>\n<polygon fill=\"none\" stroke=\"#000000\" points=\"2864,-677 2731,-677 2731,-609 2864,-609 2864,-677\"/>\n<text text-anchor=\"middle\" x=\"2797.5\" y=\"-661.8\" font-family=\"Times,serif\" font-size=\"14.00\" fill=\"#000000\">Education &lt;= 0.875</text>\n<text text-anchor=\"middle\" x=\"2797.5\" y=\"-646.8\" font-family=\"Times,serif\" font-size=\"14.00\" fill=\"#000000\">gini = 0.133</text>\n<text text-anchor=\"middle\" x=\"2797.5\" y=\"-631.8\" font-family=\"Times,serif\" font-size=\"14.00\" fill=\"#000000\">samples = 14</text>\n<text text-anchor=\"middle\" x=\"2797.5\" y=\"-616.8\" font-family=\"Times,serif\" font-size=\"14.00\" fill=\"#000000\">value = [13, 1]</text>\n</g>\n<!-- 120&#45;&gt;122 -->\n<g id=\"edge122\" class=\"edge\">\n<title>120&#45;&gt;122</title>\n<path fill=\"none\" stroke=\"#000000\" d=\"M2753.1109,-712.9465C2758.6378,-704.2373 2764.6506,-694.7626 2770.4146,-685.6801\"/>\n<polygon fill=\"#000000\" stroke=\"#000000\" points=\"2773.4374,-687.4487 2775.8406,-677.13 2767.5271,-683.6979 2773.4374,-687.4487\"/>\n</g>\n<!-- 123 -->\n<g id=\"node124\" class=\"node\">\n<title>123</title>\n<polygon fill=\"none\" stroke=\"#000000\" points=\"2790.5,-565.5 2688.5,-565.5 2688.5,-512.5 2790.5,-512.5 2790.5,-565.5\"/>\n<text text-anchor=\"middle\" x=\"2739.5\" y=\"-550.3\" font-family=\"Times,serif\" font-size=\"14.00\" fill=\"#000000\">gini = 0.0</text>\n<text text-anchor=\"middle\" x=\"2739.5\" y=\"-535.3\" font-family=\"Times,serif\" font-size=\"14.00\" fill=\"#000000\">samples = 13</text>\n<text text-anchor=\"middle\" x=\"2739.5\" y=\"-520.3\" font-family=\"Times,serif\" font-size=\"14.00\" fill=\"#000000\">value = [13, 0]</text>\n</g>\n<!-- 122&#45;&gt;123 -->\n<g id=\"edge123\" class=\"edge\">\n<title>122&#45;&gt;123</title>\n<path fill=\"none\" stroke=\"#000000\" d=\"M2778.5086,-608.9465C2772.3657,-597.9316 2765.5399,-585.6922 2759.3373,-574.5703\"/>\n<polygon fill=\"#000000\" stroke=\"#000000\" points=\"2762.2299,-572.5711 2754.3024,-565.5422 2756.1163,-575.9806 2762.2299,-572.5711\"/>\n</g>\n<!-- 124 -->\n<g id=\"node125\" class=\"node\">\n<title>124</title>\n<polygon fill=\"none\" stroke=\"#000000\" points=\"2904,-565.5 2809,-565.5 2809,-512.5 2904,-512.5 2904,-565.5\"/>\n<text text-anchor=\"middle\" x=\"2856.5\" y=\"-550.3\" font-family=\"Times,serif\" font-size=\"14.00\" fill=\"#000000\">gini = 0.0</text>\n<text text-anchor=\"middle\" x=\"2856.5\" y=\"-535.3\" font-family=\"Times,serif\" font-size=\"14.00\" fill=\"#000000\">samples = 1</text>\n<text text-anchor=\"middle\" x=\"2856.5\" y=\"-520.3\" font-family=\"Times,serif\" font-size=\"14.00\" fill=\"#000000\">value = [0, 1]</text>\n</g>\n<!-- 122&#45;&gt;124 -->\n<g id=\"edge124\" class=\"edge\">\n<title>122&#45;&gt;124</title>\n<path fill=\"none\" stroke=\"#000000\" d=\"M2816.8188,-608.9465C2823.0676,-597.9316 2830.0112,-585.6922 2836.3207,-574.5703\"/>\n<polygon fill=\"#000000\" stroke=\"#000000\" points=\"2839.5523,-575.967 2841.4424,-565.5422 2833.4638,-572.513 2839.5523,-575.967\"/>\n</g>\n<!-- 126 -->\n<g id=\"node127\" class=\"node\">\n<title>126</title>\n<polygon fill=\"none\" stroke=\"#000000\" points=\"3006.5,-885 2792.5,-885 2792.5,-817 3006.5,-817 3006.5,-885\"/>\n<text text-anchor=\"middle\" x=\"2899.5\" y=\"-869.8\" font-family=\"Times,serif\" font-size=\"14.00\" fill=\"#000000\">NumCompaniesWorked &lt;= 0.944</text>\n<text text-anchor=\"middle\" x=\"2899.5\" y=\"-854.8\" font-family=\"Times,serif\" font-size=\"14.00\" fill=\"#000000\">gini = 0.245</text>\n<text text-anchor=\"middle\" x=\"2899.5\" y=\"-839.8\" font-family=\"Times,serif\" font-size=\"14.00\" fill=\"#000000\">samples = 14</text>\n<text text-anchor=\"middle\" x=\"2899.5\" y=\"-824.8\" font-family=\"Times,serif\" font-size=\"14.00\" fill=\"#000000\">value = [2, 12]</text>\n</g>\n<!-- 125&#45;&gt;126 -->\n<g id=\"edge126\" class=\"edge\">\n<title>125&#45;&gt;126</title>\n<path fill=\"none\" stroke=\"#000000\" d=\"M2902.1903,-920.9465C2901.876,-912.776 2901.5358,-903.9318 2901.2065,-895.3697\"/>\n<polygon fill=\"#000000\" stroke=\"#000000\" points=\"2904.6945,-894.9881 2900.8127,-885.13 2897.6997,-895.2572 2904.6945,-894.9881\"/>\n</g>\n<!-- 131 -->\n<g id=\"node132\" class=\"node\">\n<title>131</title>\n<polygon fill=\"none\" stroke=\"#000000\" points=\"3120,-877.5 3025,-877.5 3025,-824.5 3120,-824.5 3120,-877.5\"/>\n<text text-anchor=\"middle\" x=\"3072.5\" y=\"-862.3\" font-family=\"Times,serif\" font-size=\"14.00\" fill=\"#000000\">gini = 0.0</text>\n<text text-anchor=\"middle\" x=\"3072.5\" y=\"-847.3\" font-family=\"Times,serif\" font-size=\"14.00\" fill=\"#000000\">samples = 2</text>\n<text text-anchor=\"middle\" x=\"3072.5\" y=\"-832.3\" font-family=\"Times,serif\" font-size=\"14.00\" fill=\"#000000\">value = [2, 0]</text>\n</g>\n<!-- 125&#45;&gt;131 -->\n<g id=\"edge131\" class=\"edge\">\n<title>125&#45;&gt;131</title>\n<path fill=\"none\" stroke=\"#000000\" d=\"M2958.8369,-920.9465C2978.7051,-908.72 3001.0249,-894.9847 3020.5914,-882.9437\"/>\n<polygon fill=\"#000000\" stroke=\"#000000\" points=\"3022.6867,-885.764 3029.369,-877.5422 3019.018,-879.8024 3022.6867,-885.764\"/>\n</g>\n<!-- 127 -->\n<g id=\"node128\" class=\"node\">\n<title>127</title>\n<polygon fill=\"none\" stroke=\"#000000\" points=\"2934,-773.5 2833,-773.5 2833,-720.5 2934,-720.5 2934,-773.5\"/>\n<text text-anchor=\"middle\" x=\"2883.5\" y=\"-758.3\" font-family=\"Times,serif\" font-size=\"14.00\" fill=\"#000000\">gini = 0.0</text>\n<text text-anchor=\"middle\" x=\"2883.5\" y=\"-743.3\" font-family=\"Times,serif\" font-size=\"14.00\" fill=\"#000000\">samples = 11</text>\n<text text-anchor=\"middle\" x=\"2883.5\" y=\"-728.3\" font-family=\"Times,serif\" font-size=\"14.00\" fill=\"#000000\">value = [0, 11]</text>\n</g>\n<!-- 126&#45;&gt;127 -->\n<g id=\"edge127\" class=\"edge\">\n<title>126&#45;&gt;127</title>\n<path fill=\"none\" stroke=\"#000000\" d=\"M2894.261,-816.9465C2892.6172,-806.2621 2890.7962,-794.4254 2889.1268,-783.5742\"/>\n<polygon fill=\"#000000\" stroke=\"#000000\" points=\"2892.5634,-782.8937 2887.5834,-773.5422 2885.6448,-783.9581 2892.5634,-782.8937\"/>\n</g>\n<!-- 128 -->\n<g id=\"node129\" class=\"node\">\n<title>128</title>\n<polygon fill=\"none\" stroke=\"#000000\" points=\"3182.5,-781 2952.5,-781 2952.5,-713 3182.5,-713 3182.5,-781\"/>\n<text text-anchor=\"middle\" x=\"3067.5\" y=\"-765.8\" font-family=\"Times,serif\" font-size=\"14.00\" fill=\"#000000\">EducationField_Life Sciences &lt;= 0.5</text>\n<text text-anchor=\"middle\" x=\"3067.5\" y=\"-750.8\" font-family=\"Times,serif\" font-size=\"14.00\" fill=\"#000000\">gini = 0.444</text>\n<text text-anchor=\"middle\" x=\"3067.5\" y=\"-735.8\" font-family=\"Times,serif\" font-size=\"14.00\" fill=\"#000000\">samples = 3</text>\n<text text-anchor=\"middle\" x=\"3067.5\" y=\"-720.8\" font-family=\"Times,serif\" font-size=\"14.00\" fill=\"#000000\">value = [2, 1]</text>\n</g>\n<!-- 126&#45;&gt;128 -->\n<g id=\"edge128\" class=\"edge\">\n<title>126&#45;&gt;128</title>\n<path fill=\"none\" stroke=\"#000000\" d=\"M2954.5095,-816.9465C2970.1736,-807.2497 2987.3707,-796.6039 3003.5196,-786.6069\"/>\n<polygon fill=\"#000000\" stroke=\"#000000\" points=\"3005.7065,-789.3695 3012.3669,-781.13 3002.022,-783.4177 3005.7065,-789.3695\"/>\n</g>\n<!-- 129 -->\n<g id=\"node130\" class=\"node\">\n<title>129</title>\n<polygon fill=\"none\" stroke=\"#000000\" points=\"3046,-669.5 2951,-669.5 2951,-616.5 3046,-616.5 3046,-669.5\"/>\n<text text-anchor=\"middle\" x=\"2998.5\" y=\"-654.3\" font-family=\"Times,serif\" font-size=\"14.00\" fill=\"#000000\">gini = 0.0</text>\n<text text-anchor=\"middle\" x=\"2998.5\" y=\"-639.3\" font-family=\"Times,serif\" font-size=\"14.00\" fill=\"#000000\">samples = 2</text>\n<text text-anchor=\"middle\" x=\"2998.5\" y=\"-624.3\" font-family=\"Times,serif\" font-size=\"14.00\" fill=\"#000000\">value = [2, 0]</text>\n</g>\n<!-- 128&#45;&gt;129 -->\n<g id=\"edge129\" class=\"edge\">\n<title>128&#45;&gt;129</title>\n<path fill=\"none\" stroke=\"#000000\" d=\"M3044.9068,-712.9465C3037.4527,-701.7113 3029.1533,-689.2021 3021.6577,-677.9043\"/>\n<polygon fill=\"#000000\" stroke=\"#000000\" points=\"3024.5547,-675.94 3016.1097,-669.5422 3018.7218,-679.81 3024.5547,-675.94\"/>\n</g>\n<!-- 130 -->\n<g id=\"node131\" class=\"node\">\n<title>130</title>\n<polygon fill=\"none\" stroke=\"#000000\" points=\"3159,-669.5 3064,-669.5 3064,-616.5 3159,-616.5 3159,-669.5\"/>\n<text text-anchor=\"middle\" x=\"3111.5\" y=\"-654.3\" font-family=\"Times,serif\" font-size=\"14.00\" fill=\"#000000\">gini = 0.0</text>\n<text text-anchor=\"middle\" x=\"3111.5\" y=\"-639.3\" font-family=\"Times,serif\" font-size=\"14.00\" fill=\"#000000\">samples = 1</text>\n<text text-anchor=\"middle\" x=\"3111.5\" y=\"-624.3\" font-family=\"Times,serif\" font-size=\"14.00\" fill=\"#000000\">value = [0, 1]</text>\n</g>\n<!-- 128&#45;&gt;130 -->\n<g id=\"edge130\" class=\"edge\">\n<title>128&#45;&gt;130</title>\n<path fill=\"none\" stroke=\"#000000\" d=\"M3081.9072,-712.9465C3086.5208,-702.0418 3091.6421,-689.9368 3096.3097,-678.9043\"/>\n<polygon fill=\"#000000\" stroke=\"#000000\" points=\"3099.5976,-680.1156 3100.2706,-669.5422 3093.1508,-677.3881 3099.5976,-680.1156\"/>\n</g>\n<!-- 133 -->\n<g id=\"node134\" class=\"node\">\n<title>133</title>\n<polygon fill=\"none\" stroke=\"#000000\" points=\"3112.5,-981.5 3010.5,-981.5 3010.5,-928.5 3112.5,-928.5 3112.5,-981.5\"/>\n<text text-anchor=\"middle\" x=\"3061.5\" y=\"-966.3\" font-family=\"Times,serif\" font-size=\"14.00\" fill=\"#000000\">gini = 0.0</text>\n<text text-anchor=\"middle\" x=\"3061.5\" y=\"-951.3\" font-family=\"Times,serif\" font-size=\"14.00\" fill=\"#000000\">samples = 16</text>\n<text text-anchor=\"middle\" x=\"3061.5\" y=\"-936.3\" font-family=\"Times,serif\" font-size=\"14.00\" fill=\"#000000\">value = [16, 0]</text>\n</g>\n<!-- 132&#45;&gt;133 -->\n<g id=\"edge133\" class=\"edge\">\n<title>132&#45;&gt;133</title>\n<path fill=\"none\" stroke=\"#000000\" d=\"M3064.8628,-1024.9465C3064.3491,-1014.2621 3063.7801,-1002.4254 3063.2584,-991.5742\"/>\n<polygon fill=\"#000000\" stroke=\"#000000\" points=\"3066.7523,-991.3625 3062.7761,-981.5422 3059.7604,-991.6987 3066.7523,-991.3625\"/>\n</g>\n<!-- 134 -->\n<g id=\"node135\" class=\"node\">\n<title>134</title>\n<polygon fill=\"none\" stroke=\"#000000\" points=\"3226,-981.5 3131,-981.5 3131,-928.5 3226,-928.5 3226,-981.5\"/>\n<text text-anchor=\"middle\" x=\"3178.5\" y=\"-966.3\" font-family=\"Times,serif\" font-size=\"14.00\" fill=\"#000000\">gini = 0.0</text>\n<text text-anchor=\"middle\" x=\"3178.5\" y=\"-951.3\" font-family=\"Times,serif\" font-size=\"14.00\" fill=\"#000000\">samples = 1</text>\n<text text-anchor=\"middle\" x=\"3178.5\" y=\"-936.3\" font-family=\"Times,serif\" font-size=\"14.00\" fill=\"#000000\">value = [0, 1]</text>\n</g>\n<!-- 132&#45;&gt;134 -->\n<g id=\"edge134\" class=\"edge\">\n<title>132&#45;&gt;134</title>\n<path fill=\"none\" stroke=\"#000000\" d=\"M3103.173,-1024.9465C3115.7469,-1013.2707 3129.8026,-1000.219 3142.3359,-988.5809\"/>\n<polygon fill=\"#000000\" stroke=\"#000000\" points=\"3144.9698,-990.9115 3149.9161,-981.5422 3140.2066,-985.7819 3144.9698,-990.9115\"/>\n</g>\n<!-- 136 -->\n<g id=\"node137\" class=\"node\">\n<title>136</title>\n<polygon fill=\"none\" stroke=\"#000000\" points=\"3591.5,-1093 3403.5,-1093 3403.5,-1025 3591.5,-1025 3591.5,-1093\"/>\n<text text-anchor=\"middle\" x=\"3497.5\" y=\"-1077.8\" font-family=\"Times,serif\" font-size=\"14.00\" fill=\"#000000\">YearsInCurrentRole &lt;= 0.639</text>\n<text text-anchor=\"middle\" x=\"3497.5\" y=\"-1062.8\" font-family=\"Times,serif\" font-size=\"14.00\" fill=\"#000000\">gini = 0.079</text>\n<text text-anchor=\"middle\" x=\"3497.5\" y=\"-1047.8\" font-family=\"Times,serif\" font-size=\"14.00\" fill=\"#000000\">samples = 97</text>\n<text text-anchor=\"middle\" x=\"3497.5\" y=\"-1032.8\" font-family=\"Times,serif\" font-size=\"14.00\" fill=\"#000000\">value = [93, 4]</text>\n</g>\n<!-- 135&#45;&gt;136 -->\n<g id=\"edge136\" class=\"edge\">\n<title>135&#45;&gt;136</title>\n<path fill=\"none\" stroke=\"#000000\" d=\"M3497.5,-1128.9465C3497.5,-1120.776 3497.5,-1111.9318 3497.5,-1103.3697\"/>\n<polygon fill=\"#000000\" stroke=\"#000000\" points=\"3501.0001,-1103.13 3497.5,-1093.13 3494.0001,-1103.13 3501.0001,-1103.13\"/>\n</g>\n<!-- 153 -->\n<g id=\"node154\" class=\"node\">\n<title>153</title>\n<polygon fill=\"none\" stroke=\"#000000\" points=\"3814,-1093 3647,-1093 3647,-1025 3814,-1025 3814,-1093\"/>\n<text text-anchor=\"middle\" x=\"3730.5\" y=\"-1077.8\" font-family=\"Times,serif\" font-size=\"14.00\" fill=\"#000000\">MonthlyIncome &lt;= 0.679</text>\n<text text-anchor=\"middle\" x=\"3730.5\" y=\"-1062.8\" font-family=\"Times,serif\" font-size=\"14.00\" fill=\"#000000\">gini = 0.494</text>\n<text text-anchor=\"middle\" x=\"3730.5\" y=\"-1047.8\" font-family=\"Times,serif\" font-size=\"14.00\" fill=\"#000000\">samples = 9</text>\n<text text-anchor=\"middle\" x=\"3730.5\" y=\"-1032.8\" font-family=\"Times,serif\" font-size=\"14.00\" fill=\"#000000\">value = [5, 4]</text>\n</g>\n<!-- 135&#45;&gt;153 -->\n<g id=\"edge153\" class=\"edge\">\n<title>135&#45;&gt;153</title>\n<path fill=\"none\" stroke=\"#000000\" d=\"M3573.7929,-1128.9465C3596.5233,-1118.8008 3621.5812,-1107.6161 3644.8662,-1097.2228\"/>\n<polygon fill=\"#000000\" stroke=\"#000000\" points=\"3646.3306,-1100.4021 3654.0357,-1093.13 3643.4774,-1094.0099 3646.3306,-1100.4021\"/>\n</g>\n<!-- 137 -->\n<g id=\"node138\" class=\"node\">\n<title>137</title>\n<polygon fill=\"none\" stroke=\"#000000\" points=\"3548.5,-989 3372.5,-989 3372.5,-921 3548.5,-921 3548.5,-989\"/>\n<text text-anchor=\"middle\" x=\"3460.5\" y=\"-973.8\" font-family=\"Times,serif\" font-size=\"14.00\" fill=\"#000000\">YearsAtCompany &lt;= 0.475</text>\n<text text-anchor=\"middle\" x=\"3460.5\" y=\"-958.8\" font-family=\"Times,serif\" font-size=\"14.00\" fill=\"#000000\">gini = 0.061</text>\n<text text-anchor=\"middle\" x=\"3460.5\" y=\"-943.8\" font-family=\"Times,serif\" font-size=\"14.00\" fill=\"#000000\">samples = 95</text>\n<text text-anchor=\"middle\" x=\"3460.5\" y=\"-928.8\" font-family=\"Times,serif\" font-size=\"14.00\" fill=\"#000000\">value = [92, 3]</text>\n</g>\n<!-- 136&#45;&gt;137 -->\n<g id=\"edge137\" class=\"edge\">\n<title>136&#45;&gt;137</title>\n<path fill=\"none\" stroke=\"#000000\" d=\"M3485.3848,-1024.9465C3482.4141,-1016.5965 3479.1931,-1007.5427 3476.0847,-998.8056\"/>\n<polygon fill=\"#000000\" stroke=\"#000000\" points=\"3479.2919,-997.3783 3472.6424,-989.13 3472.6968,-999.7247 3479.2919,-997.3783\"/>\n</g>\n<!-- 150 -->\n<g id=\"node151\" class=\"node\">\n<title>150</title>\n<polygon fill=\"none\" stroke=\"#000000\" points=\"3664.5,-989 3566.5,-989 3566.5,-921 3664.5,-921 3664.5,-989\"/>\n<text text-anchor=\"middle\" x=\"3615.5\" y=\"-973.8\" font-family=\"Times,serif\" font-size=\"14.00\" fill=\"#000000\">Age &lt;= 0.536</text>\n<text text-anchor=\"middle\" x=\"3615.5\" y=\"-958.8\" font-family=\"Times,serif\" font-size=\"14.00\" fill=\"#000000\">gini = 0.5</text>\n<text text-anchor=\"middle\" x=\"3615.5\" y=\"-943.8\" font-family=\"Times,serif\" font-size=\"14.00\" fill=\"#000000\">samples = 2</text>\n<text text-anchor=\"middle\" x=\"3615.5\" y=\"-928.8\" font-family=\"Times,serif\" font-size=\"14.00\" fill=\"#000000\">value = [1, 1]</text>\n</g>\n<!-- 136&#45;&gt;150 -->\n<g id=\"edge150\" class=\"edge\">\n<title>136&#45;&gt;150</title>\n<path fill=\"none\" stroke=\"#000000\" d=\"M3536.1376,-1024.9465C3546.6304,-1015.6986 3558.1026,-1005.5876 3568.9814,-995.9994\"/>\n<polygon fill=\"#000000\" stroke=\"#000000\" points=\"3571.5877,-998.3678 3576.7756,-989.13 3566.9593,-993.1163 3571.5877,-998.3678\"/>\n</g>\n<!-- 138 -->\n<g id=\"node139\" class=\"node\">\n<title>138</title>\n<polygon fill=\"none\" stroke=\"#000000\" points=\"3514.5,-885 3284.5,-885 3284.5,-817 3514.5,-817 3514.5,-885\"/>\n<text text-anchor=\"middle\" x=\"3399.5\" y=\"-869.8\" font-family=\"Times,serif\" font-size=\"14.00\" fill=\"#000000\">JobRole_Sales Representative &lt;= 0.5</text>\n<text text-anchor=\"middle\" x=\"3399.5\" y=\"-854.8\" font-family=\"Times,serif\" font-size=\"14.00\" fill=\"#000000\">gini = 0.043</text>\n<text text-anchor=\"middle\" x=\"3399.5\" y=\"-839.8\" font-family=\"Times,serif\" font-size=\"14.00\" fill=\"#000000\">samples = 92</text>\n<text text-anchor=\"middle\" x=\"3399.5\" y=\"-824.8\" font-family=\"Times,serif\" font-size=\"14.00\" fill=\"#000000\">value = [90, 2]</text>\n</g>\n<!-- 137&#45;&gt;138 -->\n<g id=\"edge138\" class=\"edge\">\n<title>137&#45;&gt;138</title>\n<path fill=\"none\" stroke=\"#000000\" d=\"M3440.5263,-920.9465C3435.4707,-912.3271 3429.9753,-902.9579 3424.6983,-893.9611\"/>\n<polygon fill=\"#000000\" stroke=\"#000000\" points=\"3427.5969,-891.985 3419.5186,-885.13 3421.5589,-895.5265 3427.5969,-891.985\"/>\n</g>\n<!-- 147 -->\n<g id=\"node148\" class=\"node\">\n<title>147</title>\n<polygon fill=\"none\" stroke=\"#000000\" points=\"3722.5,-885 3532.5,-885 3532.5,-817 3722.5,-817 3722.5,-885\"/>\n<text text-anchor=\"middle\" x=\"3627.5\" y=\"-869.8\" font-family=\"Times,serif\" font-size=\"14.00\" fill=\"#000000\">DistanceFromHome &lt;= 0.071</text>\n<text text-anchor=\"middle\" x=\"3627.5\" y=\"-854.8\" font-family=\"Times,serif\" font-size=\"14.00\" fill=\"#000000\">gini = 0.444</text>\n<text text-anchor=\"middle\" x=\"3627.5\" y=\"-839.8\" font-family=\"Times,serif\" font-size=\"14.00\" fill=\"#000000\">samples = 3</text>\n<text text-anchor=\"middle\" x=\"3627.5\" y=\"-824.8\" font-family=\"Times,serif\" font-size=\"14.00\" fill=\"#000000\">value = [2, 1]</text>\n</g>\n<!-- 137&#45;&gt;147 -->\n<g id=\"edge147\" class=\"edge\">\n<title>137&#45;&gt;147</title>\n<path fill=\"none\" stroke=\"#000000\" d=\"M3515.182,-920.9465C3530.7529,-911.2497 3547.8476,-900.6039 3563.9004,-890.6069\"/>\n<polygon fill=\"#000000\" stroke=\"#000000\" points=\"3566.0568,-893.3873 3572.6951,-885.13 3562.3563,-887.4453 3566.0568,-893.3873\"/>\n</g>\n<!-- 139 -->\n<g id=\"node140\" class=\"node\">\n<title>139</title>\n<polygon fill=\"none\" stroke=\"#000000\" points=\"3450,-781 3201,-781 3201,-713 3450,-713 3450,-781\"/>\n<text text-anchor=\"middle\" x=\"3325.5\" y=\"-765.8\" font-family=\"Times,serif\" font-size=\"14.00\" fill=\"#000000\">JobRole_Manufacturing Director &lt;= 0.5</text>\n<text text-anchor=\"middle\" x=\"3325.5\" y=\"-750.8\" font-family=\"Times,serif\" font-size=\"14.00\" fill=\"#000000\">gini = 0.022</text>\n<text text-anchor=\"middle\" x=\"3325.5\" y=\"-735.8\" font-family=\"Times,serif\" font-size=\"14.00\" fill=\"#000000\">samples = 88</text>\n<text text-anchor=\"middle\" x=\"3325.5\" y=\"-720.8\" font-family=\"Times,serif\" font-size=\"14.00\" fill=\"#000000\">value = [87, 1]</text>\n</g>\n<!-- 138&#45;&gt;139 -->\n<g id=\"edge139\" class=\"edge\">\n<title>138&#45;&gt;139</title>\n<path fill=\"none\" stroke=\"#000000\" d=\"M3375.2696,-816.9465C3369.0088,-808.1475 3362.192,-798.5672 3355.6687,-789.3993\"/>\n<polygon fill=\"#000000\" stroke=\"#000000\" points=\"3358.4342,-787.2488 3349.7848,-781.13 3352.7306,-791.3071 3358.4342,-787.2488\"/>\n</g>\n<!-- 144 -->\n<g id=\"node145\" class=\"node\">\n<title>144</title>\n<polygon fill=\"none\" stroke=\"#000000\" points=\"3647,-781 3468,-781 3468,-713 3647,-713 3647,-781\"/>\n<text text-anchor=\"middle\" x=\"3557.5\" y=\"-765.8\" font-family=\"Times,serif\" font-size=\"14.00\" fill=\"#000000\">MaritalStatus_Single &lt;= 0.5</text>\n<text text-anchor=\"middle\" x=\"3557.5\" y=\"-750.8\" font-family=\"Times,serif\" font-size=\"14.00\" fill=\"#000000\">gini = 0.375</text>\n<text text-anchor=\"middle\" x=\"3557.5\" y=\"-735.8\" font-family=\"Times,serif\" font-size=\"14.00\" fill=\"#000000\">samples = 4</text>\n<text text-anchor=\"middle\" x=\"3557.5\" y=\"-720.8\" font-family=\"Times,serif\" font-size=\"14.00\" fill=\"#000000\">value = [3, 1]</text>\n</g>\n<!-- 138&#45;&gt;144 -->\n<g id=\"edge144\" class=\"edge\">\n<title>138&#45;&gt;144</title>\n<path fill=\"none\" stroke=\"#000000\" d=\"M3451.2351,-816.9465C3465.8304,-807.3395 3481.8409,-796.8009 3496.9058,-786.8848\"/>\n<polygon fill=\"#000000\" stroke=\"#000000\" points=\"3499.2201,-789.5517 3505.6487,-781.13 3495.3714,-783.7046 3499.2201,-789.5517\"/>\n</g>\n<!-- 140 -->\n<g id=\"node141\" class=\"node\">\n<title>140</title>\n<polygon fill=\"none\" stroke=\"#000000\" points=\"3284.5,-669.5 3182.5,-669.5 3182.5,-616.5 3284.5,-616.5 3284.5,-669.5\"/>\n<text text-anchor=\"middle\" x=\"3233.5\" y=\"-654.3\" font-family=\"Times,serif\" font-size=\"14.00\" fill=\"#000000\">gini = 0.0</text>\n<text text-anchor=\"middle\" x=\"3233.5\" y=\"-639.3\" font-family=\"Times,serif\" font-size=\"14.00\" fill=\"#000000\">samples = 80</text>\n<text text-anchor=\"middle\" x=\"3233.5\" y=\"-624.3\" font-family=\"Times,serif\" font-size=\"14.00\" fill=\"#000000\">value = [80, 0]</text>\n</g>\n<!-- 139&#45;&gt;140 -->\n<g id=\"edge140\" class=\"edge\">\n<title>139&#45;&gt;140</title>\n<path fill=\"none\" stroke=\"#000000\" d=\"M3295.3758,-712.9465C3285.242,-701.491 3273.9367,-688.711 3263.7903,-677.2412\"/>\n<polygon fill=\"#000000\" stroke=\"#000000\" points=\"3266.2269,-674.7131 3256.9796,-669.5422 3260.9839,-679.3512 3266.2269,-674.7131\"/>\n</g>\n<!-- 141 -->\n<g id=\"node142\" class=\"node\">\n<title>141</title>\n<polygon fill=\"none\" stroke=\"#000000\" points=\"3478.5,-677 3302.5,-677 3302.5,-609 3478.5,-609 3478.5,-677\"/>\n<text text-anchor=\"middle\" x=\"3390.5\" y=\"-661.8\" font-family=\"Times,serif\" font-size=\"14.00\" fill=\"#000000\">YearsAtCompany &lt;= 0.063</text>\n<text text-anchor=\"middle\" x=\"3390.5\" y=\"-646.8\" font-family=\"Times,serif\" font-size=\"14.00\" fill=\"#000000\">gini = 0.219</text>\n<text text-anchor=\"middle\" x=\"3390.5\" y=\"-631.8\" font-family=\"Times,serif\" font-size=\"14.00\" fill=\"#000000\">samples = 8</text>\n<text text-anchor=\"middle\" x=\"3390.5\" y=\"-616.8\" font-family=\"Times,serif\" font-size=\"14.00\" fill=\"#000000\">value = [7, 1]</text>\n</g>\n<!-- 139&#45;&gt;141 -->\n<g id=\"edge141\" class=\"edge\">\n<title>139&#45;&gt;141</title>\n<path fill=\"none\" stroke=\"#000000\" d=\"M3346.7834,-712.9465C3352.2267,-704.2373 3358.1484,-694.7626 3363.825,-685.6801\"/>\n<polygon fill=\"#000000\" stroke=\"#000000\" points=\"3366.8367,-687.465 3369.1688,-677.13 3360.9007,-683.755 3366.8367,-687.465\"/>\n</g>\n<!-- 142 -->\n<g id=\"node143\" class=\"node\">\n<title>142</title>\n<polygon fill=\"none\" stroke=\"#000000\" points=\"3382,-565.5 3287,-565.5 3287,-512.5 3382,-512.5 3382,-565.5\"/>\n<text text-anchor=\"middle\" x=\"3334.5\" y=\"-550.3\" font-family=\"Times,serif\" font-size=\"14.00\" fill=\"#000000\">gini = 0.0</text>\n<text text-anchor=\"middle\" x=\"3334.5\" y=\"-535.3\" font-family=\"Times,serif\" font-size=\"14.00\" fill=\"#000000\">samples = 1</text>\n<text text-anchor=\"middle\" x=\"3334.5\" y=\"-520.3\" font-family=\"Times,serif\" font-size=\"14.00\" fill=\"#000000\">value = [0, 1]</text>\n</g>\n<!-- 141&#45;&gt;142 -->\n<g id=\"edge142\" class=\"edge\">\n<title>141&#45;&gt;142</title>\n<path fill=\"none\" stroke=\"#000000\" d=\"M3372.1635,-608.9465C3366.2324,-597.9316 3359.6419,-585.6922 3353.6532,-574.5703\"/>\n<polygon fill=\"#000000\" stroke=\"#000000\" points=\"3356.6146,-572.6875 3348.7919,-565.5422 3350.4513,-576.0063 3356.6146,-572.6875\"/>\n</g>\n<!-- 143 -->\n<g id=\"node144\" class=\"node\">\n<title>143</title>\n<polygon fill=\"none\" stroke=\"#000000\" points=\"3495,-565.5 3400,-565.5 3400,-512.5 3495,-512.5 3495,-565.5\"/>\n<text text-anchor=\"middle\" x=\"3447.5\" y=\"-550.3\" font-family=\"Times,serif\" font-size=\"14.00\" fill=\"#000000\">gini = 0.0</text>\n<text text-anchor=\"middle\" x=\"3447.5\" y=\"-535.3\" font-family=\"Times,serif\" font-size=\"14.00\" fill=\"#000000\">samples = 7</text>\n<text text-anchor=\"middle\" x=\"3447.5\" y=\"-520.3\" font-family=\"Times,serif\" font-size=\"14.00\" fill=\"#000000\">value = [7, 0]</text>\n</g>\n<!-- 141&#45;&gt;143 -->\n<g id=\"edge143\" class=\"edge\">\n<title>141&#45;&gt;143</title>\n<path fill=\"none\" stroke=\"#000000\" d=\"M3409.1639,-608.9465C3415.2009,-597.9316 3421.9091,-585.6922 3428.0047,-574.5703\"/>\n<polygon fill=\"#000000\" stroke=\"#000000\" points=\"3431.2158,-575.9936 3432.9529,-565.5422 3425.0773,-572.6292 3431.2158,-575.9936\"/>\n</g>\n<!-- 145 -->\n<g id=\"node146\" class=\"node\">\n<title>145</title>\n<polygon fill=\"none\" stroke=\"#000000\" points=\"3602,-669.5 3507,-669.5 3507,-616.5 3602,-616.5 3602,-669.5\"/>\n<text text-anchor=\"middle\" x=\"3554.5\" y=\"-654.3\" font-family=\"Times,serif\" font-size=\"14.00\" fill=\"#000000\">gini = 0.0</text>\n<text text-anchor=\"middle\" x=\"3554.5\" y=\"-639.3\" font-family=\"Times,serif\" font-size=\"14.00\" fill=\"#000000\">samples = 3</text>\n<text text-anchor=\"middle\" x=\"3554.5\" y=\"-624.3\" font-family=\"Times,serif\" font-size=\"14.00\" fill=\"#000000\">value = [3, 0]</text>\n</g>\n<!-- 144&#45;&gt;145 -->\n<g id=\"edge145\" class=\"edge\">\n<title>144&#45;&gt;145</title>\n<path fill=\"none\" stroke=\"#000000\" d=\"M3556.5177,-712.9465C3556.2095,-702.2621 3555.868,-690.4254 3555.555,-679.5742\"/>\n<polygon fill=\"#000000\" stroke=\"#000000\" points=\"3559.0526,-679.4371 3555.2656,-669.5422 3552.0555,-679.639 3559.0526,-679.4371\"/>\n</g>\n<!-- 146 -->\n<g id=\"node147\" class=\"node\">\n<title>146</title>\n<polygon fill=\"none\" stroke=\"#000000\" points=\"3715,-669.5 3620,-669.5 3620,-616.5 3715,-616.5 3715,-669.5\"/>\n<text text-anchor=\"middle\" x=\"3667.5\" y=\"-654.3\" font-family=\"Times,serif\" font-size=\"14.00\" fill=\"#000000\">gini = 0.0</text>\n<text text-anchor=\"middle\" x=\"3667.5\" y=\"-639.3\" font-family=\"Times,serif\" font-size=\"14.00\" fill=\"#000000\">samples = 1</text>\n<text text-anchor=\"middle\" x=\"3667.5\" y=\"-624.3\" font-family=\"Times,serif\" font-size=\"14.00\" fill=\"#000000\">value = [0, 1]</text>\n</g>\n<!-- 144&#45;&gt;146 -->\n<g id=\"edge146\" class=\"edge\">\n<title>144&#45;&gt;146</title>\n<path fill=\"none\" stroke=\"#000000\" d=\"M3593.5181,-712.9465C3605.8675,-701.2707 3619.6722,-688.219 3631.9817,-676.5809\"/>\n<polygon fill=\"#000000\" stroke=\"#000000\" points=\"3634.5646,-678.9556 3639.4266,-669.5422 3629.7555,-673.869 3634.5646,-678.9556\"/>\n</g>\n<!-- 148 -->\n<g id=\"node149\" class=\"node\">\n<title>148</title>\n<polygon fill=\"none\" stroke=\"#000000\" points=\"3760,-773.5 3665,-773.5 3665,-720.5 3760,-720.5 3760,-773.5\"/>\n<text text-anchor=\"middle\" x=\"3712.5\" y=\"-758.3\" font-family=\"Times,serif\" font-size=\"14.00\" fill=\"#000000\">gini = 0.0</text>\n<text text-anchor=\"middle\" x=\"3712.5\" y=\"-743.3\" font-family=\"Times,serif\" font-size=\"14.00\" fill=\"#000000\">samples = 1</text>\n<text text-anchor=\"middle\" x=\"3712.5\" y=\"-728.3\" font-family=\"Times,serif\" font-size=\"14.00\" fill=\"#000000\">value = [0, 1]</text>\n</g>\n<!-- 147&#45;&gt;148 -->\n<g id=\"edge148\" class=\"edge\">\n<title>147&#45;&gt;148</title>\n<path fill=\"none\" stroke=\"#000000\" d=\"M3655.3322,-816.9465C3664.6048,-805.6012 3674.9392,-792.9567 3684.2437,-781.5724\"/>\n<polygon fill=\"#000000\" stroke=\"#000000\" points=\"3687.1885,-783.5 3690.8069,-773.5422 3681.7685,-779.0701 3687.1885,-783.5\"/>\n</g>\n<!-- 149 -->\n<g id=\"node150\" class=\"node\">\n<title>149</title>\n<polygon fill=\"none\" stroke=\"#000000\" points=\"3873,-773.5 3778,-773.5 3778,-720.5 3873,-720.5 3873,-773.5\"/>\n<text text-anchor=\"middle\" x=\"3825.5\" y=\"-758.3\" font-family=\"Times,serif\" font-size=\"14.00\" fill=\"#000000\">gini = 0.0</text>\n<text text-anchor=\"middle\" x=\"3825.5\" y=\"-743.3\" font-family=\"Times,serif\" font-size=\"14.00\" fill=\"#000000\">samples = 2</text>\n<text text-anchor=\"middle\" x=\"3825.5\" y=\"-728.3\" font-family=\"Times,serif\" font-size=\"14.00\" fill=\"#000000\">value = [2, 0]</text>\n</g>\n<!-- 147&#45;&gt;149 -->\n<g id=\"edge149\" class=\"edge\">\n<title>147&#45;&gt;149</title>\n<path fill=\"none\" stroke=\"#000000\" d=\"M3698.6955,-816.9826C3721.2111,-805.8714 3746.0665,-793.2357 3768.5,-781 3769.9952,-780.1845 3771.5078,-779.3498 3773.0308,-778.5008\"/>\n<polygon fill=\"#000000\" stroke=\"#000000\" points=\"3774.8462,-781.495 3781.818,-773.5173 3771.3929,-775.4061 3774.8462,-781.495\"/>\n</g>\n<!-- 151 -->\n<g id=\"node152\" class=\"node\">\n<title>151</title>\n<polygon fill=\"none\" stroke=\"#000000\" points=\"3836,-877.5 3741,-877.5 3741,-824.5 3836,-824.5 3836,-877.5\"/>\n<text text-anchor=\"middle\" x=\"3788.5\" y=\"-862.3\" font-family=\"Times,serif\" font-size=\"14.00\" fill=\"#000000\">gini = 0.0</text>\n<text text-anchor=\"middle\" x=\"3788.5\" y=\"-847.3\" font-family=\"Times,serif\" font-size=\"14.00\" fill=\"#000000\">samples = 1</text>\n<text text-anchor=\"middle\" x=\"3788.5\" y=\"-832.3\" font-family=\"Times,serif\" font-size=\"14.00\" fill=\"#000000\">value = [0, 1]</text>\n</g>\n<!-- 150&#45;&gt;151 -->\n<g id=\"edge151\" class=\"edge\">\n<title>150&#45;&gt;151</title>\n<path fill=\"none\" stroke=\"#000000\" d=\"M3664.6121,-925.476C3686.7475,-912.1691 3712.9277,-896.4307 3735.5057,-882.8579\"/>\n<polygon fill=\"#000000\" stroke=\"#000000\" points=\"3737.5213,-885.73 3744.2886,-877.578 3733.9147,-879.7306 3737.5213,-885.73\"/>\n</g>\n<!-- 152 -->\n<g id=\"node153\" class=\"node\">\n<title>152</title>\n<polygon fill=\"none\" stroke=\"#000000\" points=\"3949,-877.5 3854,-877.5 3854,-824.5 3949,-824.5 3949,-877.5\"/>\n<text text-anchor=\"middle\" x=\"3901.5\" y=\"-862.3\" font-family=\"Times,serif\" font-size=\"14.00\" fill=\"#000000\">gini = 0.0</text>\n<text text-anchor=\"middle\" x=\"3901.5\" y=\"-847.3\" font-family=\"Times,serif\" font-size=\"14.00\" fill=\"#000000\">samples = 1</text>\n<text text-anchor=\"middle\" x=\"3901.5\" y=\"-832.3\" font-family=\"Times,serif\" font-size=\"14.00\" fill=\"#000000\">value = [1, 0]</text>\n</g>\n<!-- 150&#45;&gt;152 -->\n<g id=\"edge152\" class=\"edge\">\n<title>150&#45;&gt;152</title>\n<path fill=\"none\" stroke=\"#000000\" d=\"M3664.6442,-924.7825C3667.5959,-923.411 3670.5605,-922.1363 3673.5,-921 3745.9422,-892.9976 3772.165,-913.2781 3844.5,-885 3846.8476,-884.0823 3849.2101,-883.0731 3851.568,-881.9949\"/>\n<polygon fill=\"#000000\" stroke=\"#000000\" points=\"3853.1775,-885.1036 3860.5973,-877.5408 3850.0807,-878.8259 3853.1775,-885.1036\"/>\n</g>\n<!-- 154 -->\n<g id=\"node155\" class=\"node\">\n<title>154</title>\n<polygon fill=\"none\" stroke=\"#000000\" points=\"3778,-981.5 3683,-981.5 3683,-928.5 3778,-928.5 3778,-981.5\"/>\n<text text-anchor=\"middle\" x=\"3730.5\" y=\"-966.3\" font-family=\"Times,serif\" font-size=\"14.00\" fill=\"#000000\">gini = 0.0</text>\n<text text-anchor=\"middle\" x=\"3730.5\" y=\"-951.3\" font-family=\"Times,serif\" font-size=\"14.00\" fill=\"#000000\">samples = 4</text>\n<text text-anchor=\"middle\" x=\"3730.5\" y=\"-936.3\" font-family=\"Times,serif\" font-size=\"14.00\" fill=\"#000000\">value = [0, 4]</text>\n</g>\n<!-- 153&#45;&gt;154 -->\n<g id=\"edge154\" class=\"edge\">\n<title>153&#45;&gt;154</title>\n<path fill=\"none\" stroke=\"#000000\" d=\"M3730.5,-1024.9465C3730.5,-1014.2621 3730.5,-1002.4254 3730.5,-991.5742\"/>\n<polygon fill=\"#000000\" stroke=\"#000000\" points=\"3734.0001,-991.5421 3730.5,-981.5422 3727.0001,-991.5422 3734.0001,-991.5421\"/>\n</g>\n<!-- 155 -->\n<g id=\"node156\" class=\"node\">\n<title>155</title>\n<polygon fill=\"none\" stroke=\"#000000\" points=\"3891,-981.5 3796,-981.5 3796,-928.5 3891,-928.5 3891,-981.5\"/>\n<text text-anchor=\"middle\" x=\"3843.5\" y=\"-966.3\" font-family=\"Times,serif\" font-size=\"14.00\" fill=\"#000000\">gini = 0.0</text>\n<text text-anchor=\"middle\" x=\"3843.5\" y=\"-951.3\" font-family=\"Times,serif\" font-size=\"14.00\" fill=\"#000000\">samples = 5</text>\n<text text-anchor=\"middle\" x=\"3843.5\" y=\"-936.3\" font-family=\"Times,serif\" font-size=\"14.00\" fill=\"#000000\">value = [5, 0]</text>\n</g>\n<!-- 153&#45;&gt;155 -->\n<g id=\"edge155\" class=\"edge\">\n<title>153&#45;&gt;155</title>\n<path fill=\"none\" stroke=\"#000000\" d=\"M3767.5004,-1024.9465C3780.1866,-1013.2707 3794.3678,-1000.219 3807.013,-988.5809\"/>\n<polygon fill=\"#000000\" stroke=\"#000000\" points=\"3809.6731,-990.8895 3814.6609,-981.5422 3804.9327,-985.7389 3809.6731,-990.8895\"/>\n</g>\n<!-- 157 -->\n<g id=\"node158\" class=\"node\">\n<title>157</title>\n<polygon fill=\"none\" stroke=\"#000000\" points=\"4377.5,-1405 4189.5,-1405 4189.5,-1337 4377.5,-1337 4377.5,-1405\"/>\n<text text-anchor=\"middle\" x=\"4283.5\" y=\"-1389.8\" font-family=\"Times,serif\" font-size=\"14.00\" fill=\"#000000\">YearsInCurrentRole &lt;= 0.028</text>\n<text text-anchor=\"middle\" x=\"4283.5\" y=\"-1374.8\" font-family=\"Times,serif\" font-size=\"14.00\" fill=\"#000000\">gini = 0.492</text>\n<text text-anchor=\"middle\" x=\"4283.5\" y=\"-1359.8\" font-family=\"Times,serif\" font-size=\"14.00\" fill=\"#000000\">samples = 103</text>\n<text text-anchor=\"middle\" x=\"4283.5\" y=\"-1344.8\" font-family=\"Times,serif\" font-size=\"14.00\" fill=\"#000000\">value = [45, 58]</text>\n</g>\n<!-- 156&#45;&gt;157 -->\n<g id=\"edge157\" class=\"edge\">\n<title>156&#45;&gt;157</title>\n<path fill=\"none\" stroke=\"#000000\" d=\"M4283.5,-1440.9465C4283.5,-1432.776 4283.5,-1423.9318 4283.5,-1415.3697\"/>\n<polygon fill=\"#000000\" stroke=\"#000000\" points=\"4287.0001,-1415.13 4283.5,-1405.13 4280.0001,-1415.13 4287.0001,-1415.13\"/>\n</g>\n<!-- 200 -->\n<g id=\"node201\" class=\"node\">\n<title>200</title>\n<polygon fill=\"none\" stroke=\"#000000\" points=\"5755.5,-1405 5565.5,-1405 5565.5,-1337 5755.5,-1337 5755.5,-1405\"/>\n<text text-anchor=\"middle\" x=\"5660.5\" y=\"-1389.8\" font-family=\"Times,serif\" font-size=\"14.00\" fill=\"#000000\">DistanceFromHome &lt;= 0.375</text>\n<text text-anchor=\"middle\" x=\"5660.5\" y=\"-1374.8\" font-family=\"Times,serif\" font-size=\"14.00\" fill=\"#000000\">gini = 0.289</text>\n<text text-anchor=\"middle\" x=\"5660.5\" y=\"-1359.8\" font-family=\"Times,serif\" font-size=\"14.00\" fill=\"#000000\">samples = 188</text>\n<text text-anchor=\"middle\" x=\"5660.5\" y=\"-1344.8\" font-family=\"Times,serif\" font-size=\"14.00\" fill=\"#000000\">value = [155, 33]</text>\n</g>\n<!-- 156&#45;&gt;200 -->\n<g id=\"edge200\" class=\"edge\">\n<title>156&#45;&gt;200</title>\n<path fill=\"none\" stroke=\"#000000\" d=\"M4367.0499,-1468.6898C4605.8234,-1450.656 5290.9132,-1398.9136 5554.9613,-1378.971\"/>\n<polygon fill=\"#000000\" stroke=\"#000000\" points=\"5555.6086,-1382.4321 5565.3166,-1378.1889 5555.0813,-1375.452 5555.6086,-1382.4321\"/>\n</g>\n<!-- 158 -->\n<g id=\"node159\" class=\"node\">\n<title>158</title>\n<polygon fill=\"none\" stroke=\"#000000\" points=\"4262,-1301 4095,-1301 4095,-1233 4262,-1233 4262,-1301\"/>\n<text text-anchor=\"middle\" x=\"4178.5\" y=\"-1285.8\" font-family=\"Times,serif\" font-size=\"14.00\" fill=\"#000000\">JobInvolvement &lt;= 0.833</text>\n<text text-anchor=\"middle\" x=\"4178.5\" y=\"-1270.8\" font-family=\"Times,serif\" font-size=\"14.00\" fill=\"#000000\">gini = 0.287</text>\n<text text-anchor=\"middle\" x=\"4178.5\" y=\"-1255.8\" font-family=\"Times,serif\" font-size=\"14.00\" fill=\"#000000\">samples = 23</text>\n<text text-anchor=\"middle\" x=\"4178.5\" y=\"-1240.8\" font-family=\"Times,serif\" font-size=\"14.00\" fill=\"#000000\">value = [4, 19]</text>\n</g>\n<!-- 157&#45;&gt;158 -->\n<g id=\"edge158\" class=\"edge\">\n<title>157&#45;&gt;158</title>\n<path fill=\"none\" stroke=\"#000000\" d=\"M4249.1191,-1336.9465C4239.8729,-1327.7884 4229.7721,-1317.7838 4220.1757,-1308.2788\"/>\n<polygon fill=\"#000000\" stroke=\"#000000\" points=\"4222.526,-1305.6805 4212.9582,-1301.13 4217.6,-1310.6539 4222.526,-1305.6805\"/>\n</g>\n<!-- 165 -->\n<g id=\"node166\" class=\"node\">\n<title>165</title>\n<polygon fill=\"none\" stroke=\"#000000\" points=\"4496.5,-1301 4280.5,-1301 4280.5,-1233 4496.5,-1233 4496.5,-1301\"/>\n<text text-anchor=\"middle\" x=\"4388.5\" y=\"-1285.8\" font-family=\"Times,serif\" font-size=\"14.00\" fill=\"#000000\">EnvironmentSatisfaction &lt;= 0.167</text>\n<text text-anchor=\"middle\" x=\"4388.5\" y=\"-1270.8\" font-family=\"Times,serif\" font-size=\"14.00\" fill=\"#000000\">gini = 0.5</text>\n<text text-anchor=\"middle\" x=\"4388.5\" y=\"-1255.8\" font-family=\"Times,serif\" font-size=\"14.00\" fill=\"#000000\">samples = 80</text>\n<text text-anchor=\"middle\" x=\"4388.5\" y=\"-1240.8\" font-family=\"Times,serif\" font-size=\"14.00\" fill=\"#000000\">value = [41, 39]</text>\n</g>\n<!-- 157&#45;&gt;165 -->\n<g id=\"edge165\" class=\"edge\">\n<title>157&#45;&gt;165</title>\n<path fill=\"none\" stroke=\"#000000\" d=\"M4317.8809,-1336.9465C4327.1271,-1327.7884 4337.2279,-1317.7838 4346.8243,-1308.2788\"/>\n<polygon fill=\"#000000\" stroke=\"#000000\" points=\"4349.4,-1310.6539 4354.0418,-1301.13 4344.474,-1305.6805 4349.4,-1310.6539\"/>\n</g>\n<!-- 159 -->\n<g id=\"node160\" class=\"node\">\n<title>159</title>\n<polygon fill=\"none\" stroke=\"#000000\" points=\"4128.5,-1197 3938.5,-1197 3938.5,-1129 4128.5,-1129 4128.5,-1197\"/>\n<text text-anchor=\"middle\" x=\"4033.5\" y=\"-1181.8\" font-family=\"Times,serif\" font-size=\"14.00\" fill=\"#000000\">DistanceFromHome &lt;= 0.018</text>\n<text text-anchor=\"middle\" x=\"4033.5\" y=\"-1166.8\" font-family=\"Times,serif\" font-size=\"14.00\" fill=\"#000000\">gini = 0.095</text>\n<text text-anchor=\"middle\" x=\"4033.5\" y=\"-1151.8\" font-family=\"Times,serif\" font-size=\"14.00\" fill=\"#000000\">samples = 20</text>\n<text text-anchor=\"middle\" x=\"4033.5\" y=\"-1136.8\" font-family=\"Times,serif\" font-size=\"14.00\" fill=\"#000000\">value = [1, 19]</text>\n</g>\n<!-- 158&#45;&gt;159 -->\n<g id=\"edge159\" class=\"edge\">\n<title>158&#45;&gt;159</title>\n<path fill=\"none\" stroke=\"#000000\" d=\"M4131.0216,-1232.9465C4117.7523,-1223.4293 4103.2085,-1212.9978 4089.4965,-1203.163\"/>\n<polygon fill=\"#000000\" stroke=\"#000000\" points=\"4091.251,-1200.1142 4081.0851,-1197.13 4087.1712,-1205.8024 4091.251,-1200.1142\"/>\n</g>\n<!-- 164 -->\n<g id=\"node165\" class=\"node\">\n<title>164</title>\n<polygon fill=\"none\" stroke=\"#000000\" points=\"4242,-1189.5 4147,-1189.5 4147,-1136.5 4242,-1136.5 4242,-1189.5\"/>\n<text text-anchor=\"middle\" x=\"4194.5\" y=\"-1174.3\" font-family=\"Times,serif\" font-size=\"14.00\" fill=\"#000000\">gini = 0.0</text>\n<text text-anchor=\"middle\" x=\"4194.5\" y=\"-1159.3\" font-family=\"Times,serif\" font-size=\"14.00\" fill=\"#000000\">samples = 3</text>\n<text text-anchor=\"middle\" x=\"4194.5\" y=\"-1144.3\" font-family=\"Times,serif\" font-size=\"14.00\" fill=\"#000000\">value = [3, 0]</text>\n</g>\n<!-- 158&#45;&gt;164 -->\n<g id=\"edge164\" class=\"edge\">\n<title>158&#45;&gt;164</title>\n<path fill=\"none\" stroke=\"#000000\" d=\"M4183.739,-1232.9465C4185.3828,-1222.2621 4187.2038,-1210.4254 4188.8732,-1199.5742\"/>\n<polygon fill=\"#000000\" stroke=\"#000000\" points=\"4192.3552,-1199.9581 4190.4166,-1189.5422 4185.4366,-1198.8937 4192.3552,-1199.9581\"/>\n</g>\n<!-- 160 -->\n<g id=\"node161\" class=\"node\">\n<title>160</title>\n<polygon fill=\"none\" stroke=\"#000000\" points=\"4072,-1093 3855,-1093 3855,-1025 4072,-1025 4072,-1093\"/>\n<text text-anchor=\"middle\" x=\"3963.5\" y=\"-1077.8\" font-family=\"Times,serif\" font-size=\"14.00\" fill=\"#000000\">JobRole_Research Scientist &lt;= 0.5</text>\n<text text-anchor=\"middle\" x=\"3963.5\" y=\"-1062.8\" font-family=\"Times,serif\" font-size=\"14.00\" fill=\"#000000\">gini = 0.5</text>\n<text text-anchor=\"middle\" x=\"3963.5\" y=\"-1047.8\" font-family=\"Times,serif\" font-size=\"14.00\" fill=\"#000000\">samples = 2</text>\n<text text-anchor=\"middle\" x=\"3963.5\" y=\"-1032.8\" font-family=\"Times,serif\" font-size=\"14.00\" fill=\"#000000\">value = [1, 1]</text>\n</g>\n<!-- 159&#45;&gt;160 -->\n<g id=\"edge160\" class=\"edge\">\n<title>159&#45;&gt;160</title>\n<path fill=\"none\" stroke=\"#000000\" d=\"M4010.5794,-1128.9465C4004.7174,-1120.2373 3998.3402,-1110.7626 3992.227,-1101.6801\"/>\n<polygon fill=\"#000000\" stroke=\"#000000\" points=\"3994.9595,-1099.4716 3986.4721,-1093.13 3989.1524,-1103.3802 3994.9595,-1099.4716\"/>\n</g>\n<!-- 163 -->\n<g id=\"node164\" class=\"node\">\n<title>163</title>\n<polygon fill=\"none\" stroke=\"#000000\" points=\"4192.5,-1085.5 4090.5,-1085.5 4090.5,-1032.5 4192.5,-1032.5 4192.5,-1085.5\"/>\n<text text-anchor=\"middle\" x=\"4141.5\" y=\"-1070.3\" font-family=\"Times,serif\" font-size=\"14.00\" fill=\"#000000\">gini = 0.0</text>\n<text text-anchor=\"middle\" x=\"4141.5\" y=\"-1055.3\" font-family=\"Times,serif\" font-size=\"14.00\" fill=\"#000000\">samples = 18</text>\n<text text-anchor=\"middle\" x=\"4141.5\" y=\"-1040.3\" font-family=\"Times,serif\" font-size=\"14.00\" fill=\"#000000\">value = [0, 18]</text>\n</g>\n<!-- 159&#45;&gt;163 -->\n<g id=\"edge163\" class=\"edge\">\n<title>159&#45;&gt;163</title>\n<path fill=\"none\" stroke=\"#000000\" d=\"M4068.8632,-1128.9465C4080.9881,-1117.2707 4094.5418,-1104.219 4106.6275,-1092.5809\"/>\n<polygon fill=\"#000000\" stroke=\"#000000\" points=\"4109.1615,-1094.9997 4113.937,-1085.5422 4104.306,-1089.9575 4109.1615,-1094.9997\"/>\n</g>\n<!-- 161 -->\n<g id=\"node162\" class=\"node\">\n<title>161</title>\n<polygon fill=\"none\" stroke=\"#000000\" points=\"4004,-981.5 3909,-981.5 3909,-928.5 4004,-928.5 4004,-981.5\"/>\n<text text-anchor=\"middle\" x=\"3956.5\" y=\"-966.3\" font-family=\"Times,serif\" font-size=\"14.00\" fill=\"#000000\">gini = 0.0</text>\n<text text-anchor=\"middle\" x=\"3956.5\" y=\"-951.3\" font-family=\"Times,serif\" font-size=\"14.00\" fill=\"#000000\">samples = 1</text>\n<text text-anchor=\"middle\" x=\"3956.5\" y=\"-936.3\" font-family=\"Times,serif\" font-size=\"14.00\" fill=\"#000000\">value = [0, 1]</text>\n</g>\n<!-- 160&#45;&gt;161 -->\n<g id=\"edge161\" class=\"edge\">\n<title>160&#45;&gt;161</title>\n<path fill=\"none\" stroke=\"#000000\" d=\"M3961.2079,-1024.9465C3960.4888,-1014.2621 3959.6921,-1002.4254 3958.9617,-991.5742\"/>\n<polygon fill=\"#000000\" stroke=\"#000000\" points=\"3962.4502,-991.2845 3958.2865,-981.5422 3955.466,-991.7547 3962.4502,-991.2845\"/>\n</g>\n<!-- 162 -->\n<g id=\"node163\" class=\"node\">\n<title>162</title>\n<polygon fill=\"none\" stroke=\"#000000\" points=\"4117,-981.5 4022,-981.5 4022,-928.5 4117,-928.5 4117,-981.5\"/>\n<text text-anchor=\"middle\" x=\"4069.5\" y=\"-966.3\" font-family=\"Times,serif\" font-size=\"14.00\" fill=\"#000000\">gini = 0.0</text>\n<text text-anchor=\"middle\" x=\"4069.5\" y=\"-951.3\" font-family=\"Times,serif\" font-size=\"14.00\" fill=\"#000000\">samples = 1</text>\n<text text-anchor=\"middle\" x=\"4069.5\" y=\"-936.3\" font-family=\"Times,serif\" font-size=\"14.00\" fill=\"#000000\">value = [1, 0]</text>\n</g>\n<!-- 160&#45;&gt;162 -->\n<g id=\"edge162\" class=\"edge\">\n<title>160&#45;&gt;162</title>\n<path fill=\"none\" stroke=\"#000000\" d=\"M3998.2084,-1024.9465C4010.1087,-1013.2707 4023.4114,-1000.219 4035.2733,-988.5809\"/>\n<polygon fill=\"#000000\" stroke=\"#000000\" points=\"4037.7605,-991.0439 4042.4474,-981.5422 4032.8581,-986.0473 4037.7605,-991.0439\"/>\n</g>\n<!-- 166 -->\n<g id=\"node167\" class=\"node\">\n<title>166</title>\n<polygon fill=\"none\" stroke=\"#000000\" points=\"4452.5,-1197 4292.5,-1197 4292.5,-1129 4452.5,-1129 4452.5,-1197\"/>\n<text text-anchor=\"middle\" x=\"4372.5\" y=\"-1181.8\" font-family=\"Times,serif\" font-size=\"14.00\" fill=\"#000000\">WorkLifeBalance &lt;= 0.5</text>\n<text text-anchor=\"middle\" x=\"4372.5\" y=\"-1166.8\" font-family=\"Times,serif\" font-size=\"14.00\" fill=\"#000000\">gini = 0.245</text>\n<text text-anchor=\"middle\" x=\"4372.5\" y=\"-1151.8\" font-family=\"Times,serif\" font-size=\"14.00\" fill=\"#000000\">samples = 14</text>\n<text text-anchor=\"middle\" x=\"4372.5\" y=\"-1136.8\" font-family=\"Times,serif\" font-size=\"14.00\" fill=\"#000000\">value = [2, 12]</text>\n</g>\n<!-- 165&#45;&gt;166 -->\n<g id=\"edge166\" class=\"edge\">\n<title>165&#45;&gt;166</title>\n<path fill=\"none\" stroke=\"#000000\" d=\"M4383.261,-1232.9465C4381.9902,-1224.6863 4380.6134,-1215.7374 4379.2827,-1207.0875\"/>\n<polygon fill=\"#000000\" stroke=\"#000000\" points=\"4382.7307,-1206.4815 4377.7508,-1197.13 4375.8121,-1207.5459 4382.7307,-1206.4815\"/>\n</g>\n<!-- 169 -->\n<g id=\"node170\" class=\"node\">\n<title>169</title>\n<polygon fill=\"none\" stroke=\"#000000\" points=\"4602,-1197 4471,-1197 4471,-1129 4602,-1129 4602,-1197\"/>\n<text text-anchor=\"middle\" x=\"4536.5\" y=\"-1181.8\" font-family=\"Times,serif\" font-size=\"14.00\" fill=\"#000000\">DailyRate &lt;= 0.735</text>\n<text text-anchor=\"middle\" x=\"4536.5\" y=\"-1166.8\" font-family=\"Times,serif\" font-size=\"14.00\" fill=\"#000000\">gini = 0.483</text>\n<text text-anchor=\"middle\" x=\"4536.5\" y=\"-1151.8\" font-family=\"Times,serif\" font-size=\"14.00\" fill=\"#000000\">samples = 66</text>\n<text text-anchor=\"middle\" x=\"4536.5\" y=\"-1136.8\" font-family=\"Times,serif\" font-size=\"14.00\" fill=\"#000000\">value = [39, 27]</text>\n</g>\n<!-- 165&#45;&gt;169 -->\n<g id=\"edge169\" class=\"edge\">\n<title>165&#45;&gt;169</title>\n<path fill=\"none\" stroke=\"#000000\" d=\"M4436.9607,-1232.9465C4450.6323,-1223.3395 4465.6294,-1212.8009 4479.7409,-1202.8848\"/>\n<polygon fill=\"#000000\" stroke=\"#000000\" points=\"4481.7608,-1205.7432 4487.9304,-1197.13 4477.7361,-1200.0158 4481.7608,-1205.7432\"/>\n</g>\n<!-- 167 -->\n<g id=\"node168\" class=\"node\">\n<title>167</title>\n<polygon fill=\"none\" stroke=\"#000000\" points=\"4310,-1085.5 4215,-1085.5 4215,-1032.5 4310,-1032.5 4310,-1085.5\"/>\n<text text-anchor=\"middle\" x=\"4262.5\" y=\"-1070.3\" font-family=\"Times,serif\" font-size=\"14.00\" fill=\"#000000\">gini = 0.0</text>\n<text text-anchor=\"middle\" x=\"4262.5\" y=\"-1055.3\" font-family=\"Times,serif\" font-size=\"14.00\" fill=\"#000000\">samples = 2</text>\n<text text-anchor=\"middle\" x=\"4262.5\" y=\"-1040.3\" font-family=\"Times,serif\" font-size=\"14.00\" fill=\"#000000\">value = [2, 0]</text>\n</g>\n<!-- 166&#45;&gt;167 -->\n<g id=\"edge167\" class=\"edge\">\n<title>166&#45;&gt;167</title>\n<path fill=\"none\" stroke=\"#000000\" d=\"M4336.4819,-1128.9465C4324.1325,-1117.2707 4310.3278,-1104.219 4298.0183,-1092.5809\"/>\n<polygon fill=\"#000000\" stroke=\"#000000\" points=\"4300.2445,-1089.869 4290.5734,-1085.5422 4295.4354,-1094.9556 4300.2445,-1089.869\"/>\n</g>\n<!-- 168 -->\n<g id=\"node169\" class=\"node\">\n<title>168</title>\n<polygon fill=\"none\" stroke=\"#000000\" points=\"4430.5,-1085.5 4328.5,-1085.5 4328.5,-1032.5 4430.5,-1032.5 4430.5,-1085.5\"/>\n<text text-anchor=\"middle\" x=\"4379.5\" y=\"-1070.3\" font-family=\"Times,serif\" font-size=\"14.00\" fill=\"#000000\">gini = 0.0</text>\n<text text-anchor=\"middle\" x=\"4379.5\" y=\"-1055.3\" font-family=\"Times,serif\" font-size=\"14.00\" fill=\"#000000\">samples = 12</text>\n<text text-anchor=\"middle\" x=\"4379.5\" y=\"-1040.3\" font-family=\"Times,serif\" font-size=\"14.00\" fill=\"#000000\">value = [0, 12]</text>\n</g>\n<!-- 166&#45;&gt;168 -->\n<g id=\"edge168\" class=\"edge\">\n<title>166&#45;&gt;168</title>\n<path fill=\"none\" stroke=\"#000000\" d=\"M4374.7921,-1128.9465C4375.5112,-1118.2621 4376.3079,-1106.4254 4377.0383,-1095.5742\"/>\n<polygon fill=\"#000000\" stroke=\"#000000\" points=\"4380.534,-1095.7547 4377.7135,-1085.5422 4373.5498,-1095.2845 4380.534,-1095.7547\"/>\n</g>\n<!-- 170 -->\n<g id=\"node171\" class=\"node\">\n<title>170</title>\n<polygon fill=\"none\" stroke=\"#000000\" points=\"4596,-1093 4463,-1093 4463,-1025 4596,-1025 4596,-1093\"/>\n<text text-anchor=\"middle\" x=\"4529.5\" y=\"-1077.8\" font-family=\"Times,serif\" font-size=\"14.00\" fill=\"#000000\">Education &lt;= 0.375</text>\n<text text-anchor=\"middle\" x=\"4529.5\" y=\"-1062.8\" font-family=\"Times,serif\" font-size=\"14.00\" fill=\"#000000\">gini = 0.5</text>\n<text text-anchor=\"middle\" x=\"4529.5\" y=\"-1047.8\" font-family=\"Times,serif\" font-size=\"14.00\" fill=\"#000000\">samples = 47</text>\n<text text-anchor=\"middle\" x=\"4529.5\" y=\"-1032.8\" font-family=\"Times,serif\" font-size=\"14.00\" fill=\"#000000\">value = [23, 24]</text>\n</g>\n<!-- 169&#45;&gt;170 -->\n<g id=\"edge170\" class=\"edge\">\n<title>169&#45;&gt;170</title>\n<path fill=\"none\" stroke=\"#000000\" d=\"M4534.2079,-1128.9465C4533.658,-1120.776 4533.0627,-1111.9318 4532.4864,-1103.3697\"/>\n<polygon fill=\"#000000\" stroke=\"#000000\" points=\"4535.961,-1102.8723 4531.7972,-1093.13 4528.9768,-1103.3425 4535.961,-1102.8723\"/>\n</g>\n<!-- 193 -->\n<g id=\"node194\" class=\"node\">\n<title>193</title>\n<polygon fill=\"none\" stroke=\"#000000\" points=\"4873.5,-1093 4629.5,-1093 4629.5,-1025 4873.5,-1025 4873.5,-1093\"/>\n<text text-anchor=\"middle\" x=\"4751.5\" y=\"-1077.8\" font-family=\"Times,serif\" font-size=\"14.00\" fill=\"#000000\">JobRole_Laboratory Technician &lt;= 0.5</text>\n<text text-anchor=\"middle\" x=\"4751.5\" y=\"-1062.8\" font-family=\"Times,serif\" font-size=\"14.00\" fill=\"#000000\">gini = 0.266</text>\n<text text-anchor=\"middle\" x=\"4751.5\" y=\"-1047.8\" font-family=\"Times,serif\" font-size=\"14.00\" fill=\"#000000\">samples = 19</text>\n<text text-anchor=\"middle\" x=\"4751.5\" y=\"-1032.8\" font-family=\"Times,serif\" font-size=\"14.00\" fill=\"#000000\">value = [16, 3]</text>\n</g>\n<!-- 169&#45;&gt;193 -->\n<g id=\"edge193\" class=\"edge\">\n<title>169&#45;&gt;193</title>\n<path fill=\"none\" stroke=\"#000000\" d=\"M4602.1753,-1131.2315C4624.1973,-1120.579 4648.9936,-1108.5845 4671.9602,-1097.4751\"/>\n<polygon fill=\"#000000\" stroke=\"#000000\" points=\"4673.5206,-1100.6083 4680.9986,-1093.103 4670.4724,-1094.3068 4673.5206,-1100.6083\"/>\n</g>\n<!-- 171 -->\n<g id=\"node172\" class=\"node\">\n<title>171</title>\n<polygon fill=\"none\" stroke=\"#000000\" points=\"4335.5,-989 4135.5,-989 4135.5,-921 4335.5,-921 4335.5,-989\"/>\n<text text-anchor=\"middle\" x=\"4235.5\" y=\"-973.8\" font-family=\"Times,serif\" font-size=\"14.00\" fill=\"#000000\">EducationField_Medical &lt;= 0.5</text>\n<text text-anchor=\"middle\" x=\"4235.5\" y=\"-958.8\" font-family=\"Times,serif\" font-size=\"14.00\" fill=\"#000000\">gini = 0.432</text>\n<text text-anchor=\"middle\" x=\"4235.5\" y=\"-943.8\" font-family=\"Times,serif\" font-size=\"14.00\" fill=\"#000000\">samples = 19</text>\n<text text-anchor=\"middle\" x=\"4235.5\" y=\"-928.8\" font-family=\"Times,serif\" font-size=\"14.00\" fill=\"#000000\">value = [13, 6]</text>\n</g>\n<!-- 170&#45;&gt;171 -->\n<g id=\"edge171\" class=\"edge\">\n<title>170&#45;&gt;171</title>\n<path fill=\"none\" stroke=\"#000000\" d=\"M4462.7434,-1033.5207C4454.9207,-1030.6121 4447.0425,-1027.718 4439.5,-1025 4409.0647,-1014.0323 4375.9366,-1002.4944 4345.3999,-992.0205\"/>\n<polygon fill=\"#000000\" stroke=\"#000000\" points=\"4346.1778,-988.5874 4335.5832,-988.6593 4343.9102,-995.21 4346.1778,-988.5874\"/>\n</g>\n<!-- 178 -->\n<g id=\"node179\" class=\"node\">\n<title>178</title>\n<polygon fill=\"none\" stroke=\"#000000\" points=\"4622,-989 4437,-989 4437,-921 4622,-921 4622,-989\"/>\n<text text-anchor=\"middle\" x=\"4529.5\" y=\"-973.8\" font-family=\"Times,serif\" font-size=\"14.00\" fill=\"#000000\">TotalWorkingYears &lt;= 0.163</text>\n<text text-anchor=\"middle\" x=\"4529.5\" y=\"-958.8\" font-family=\"Times,serif\" font-size=\"14.00\" fill=\"#000000\">gini = 0.459</text>\n<text text-anchor=\"middle\" x=\"4529.5\" y=\"-943.8\" font-family=\"Times,serif\" font-size=\"14.00\" fill=\"#000000\">samples = 28</text>\n<text text-anchor=\"middle\" x=\"4529.5\" y=\"-928.8\" font-family=\"Times,serif\" font-size=\"14.00\" fill=\"#000000\">value = [10, 18]</text>\n</g>\n<!-- 170&#45;&gt;178 -->\n<g id=\"edge178\" class=\"edge\">\n<title>170&#45;&gt;178</title>\n<path fill=\"none\" stroke=\"#000000\" d=\"M4529.5,-1024.9465C4529.5,-1016.776 4529.5,-1007.9318 4529.5,-999.3697\"/>\n<polygon fill=\"#000000\" stroke=\"#000000\" points=\"4533.0001,-999.13 4529.5,-989.13 4526.0001,-999.13 4533.0001,-999.13\"/>\n</g>\n<!-- 172 -->\n<g id=\"node173\" class=\"node\">\n<title>172</title>\n<polygon fill=\"none\" stroke=\"#000000\" points=\"4125.5,-877.5 4023.5,-877.5 4023.5,-824.5 4125.5,-824.5 4125.5,-877.5\"/>\n<text text-anchor=\"middle\" x=\"4074.5\" y=\"-862.3\" font-family=\"Times,serif\" font-size=\"14.00\" fill=\"#000000\">gini = 0.0</text>\n<text text-anchor=\"middle\" x=\"4074.5\" y=\"-847.3\" font-family=\"Times,serif\" font-size=\"14.00\" fill=\"#000000\">samples = 10</text>\n<text text-anchor=\"middle\" x=\"4074.5\" y=\"-832.3\" font-family=\"Times,serif\" font-size=\"14.00\" fill=\"#000000\">value = [10, 0]</text>\n</g>\n<!-- 171&#45;&gt;172 -->\n<g id=\"edge172\" class=\"edge\">\n<title>171&#45;&gt;172</title>\n<path fill=\"none\" stroke=\"#000000\" d=\"M4182.7826,-920.9465C4163.9402,-908.775 4142.7832,-895.1084 4124.2034,-883.1066\"/>\n<polygon fill=\"#000000\" stroke=\"#000000\" points=\"4125.8883,-880.0283 4115.5893,-877.5422 4122.0901,-885.9082 4125.8883,-880.0283\"/>\n</g>\n<!-- 173 -->\n<g id=\"node174\" class=\"node\">\n<title>173</title>\n<polygon fill=\"none\" stroke=\"#000000\" points=\"4319,-885 4144,-885 4144,-817 4319,-817 4319,-885\"/>\n<text text-anchor=\"middle\" x=\"4231.5\" y=\"-869.8\" font-family=\"Times,serif\" font-size=\"14.00\" fill=\"#000000\">WorkLifeBalance &lt;= 0.833</text>\n<text text-anchor=\"middle\" x=\"4231.5\" y=\"-854.8\" font-family=\"Times,serif\" font-size=\"14.00\" fill=\"#000000\">gini = 0.444</text>\n<text text-anchor=\"middle\" x=\"4231.5\" y=\"-839.8\" font-family=\"Times,serif\" font-size=\"14.00\" fill=\"#000000\">samples = 9</text>\n<text text-anchor=\"middle\" x=\"4231.5\" y=\"-824.8\" font-family=\"Times,serif\" font-size=\"14.00\" fill=\"#000000\">value = [3, 6]</text>\n</g>\n<!-- 171&#45;&gt;173 -->\n<g id=\"edge173\" class=\"edge\">\n<title>171&#45;&gt;173</title>\n<path fill=\"none\" stroke=\"#000000\" d=\"M4234.1903,-920.9465C4233.876,-912.776 4233.5358,-903.9318 4233.2065,-895.3697\"/>\n<polygon fill=\"#000000\" stroke=\"#000000\" points=\"4236.6945,-894.9881 4232.8127,-885.13 4229.6997,-895.2572 4236.6945,-894.9881\"/>\n</g>\n<!-- 174 -->\n<g id=\"node175\" class=\"node\">\n<title>174</title>\n<polygon fill=\"none\" stroke=\"#000000\" points=\"4148.5,-781 3936.5,-781 3936.5,-713 4148.5,-713 4148.5,-781\"/>\n<text text-anchor=\"middle\" x=\"4042.5\" y=\"-765.8\" font-family=\"Times,serif\" font-size=\"14.00\" fill=\"#000000\">RelationshipSatisfaction &lt;= 0.833</text>\n<text text-anchor=\"middle\" x=\"4042.5\" y=\"-750.8\" font-family=\"Times,serif\" font-size=\"14.00\" fill=\"#000000\">gini = 0.245</text>\n<text text-anchor=\"middle\" x=\"4042.5\" y=\"-735.8\" font-family=\"Times,serif\" font-size=\"14.00\" fill=\"#000000\">samples = 7</text>\n<text text-anchor=\"middle\" x=\"4042.5\" y=\"-720.8\" font-family=\"Times,serif\" font-size=\"14.00\" fill=\"#000000\">value = [1, 6]</text>\n</g>\n<!-- 173&#45;&gt;174 -->\n<g id=\"edge174\" class=\"edge\">\n<title>173&#45;&gt;174</title>\n<path fill=\"none\" stroke=\"#000000\" d=\"M4169.6143,-816.9465C4151.6659,-807.0701 4131.9284,-796.2093 4113.4699,-786.0522\"/>\n<polygon fill=\"#000000\" stroke=\"#000000\" points=\"4114.9733,-782.8846 4104.5247,-781.13 4111.5985,-789.0174 4114.9733,-782.8846\"/>\n</g>\n<!-- 177 -->\n<g id=\"node178\" class=\"node\">\n<title>177</title>\n<polygon fill=\"none\" stroke=\"#000000\" points=\"4262,-773.5 4167,-773.5 4167,-720.5 4262,-720.5 4262,-773.5\"/>\n<text text-anchor=\"middle\" x=\"4214.5\" y=\"-758.3\" font-family=\"Times,serif\" font-size=\"14.00\" fill=\"#000000\">gini = 0.0</text>\n<text text-anchor=\"middle\" x=\"4214.5\" y=\"-743.3\" font-family=\"Times,serif\" font-size=\"14.00\" fill=\"#000000\">samples = 2</text>\n<text text-anchor=\"middle\" x=\"4214.5\" y=\"-728.3\" font-family=\"Times,serif\" font-size=\"14.00\" fill=\"#000000\">value = [2, 0]</text>\n</g>\n<!-- 173&#45;&gt;177 -->\n<g id=\"edge177\" class=\"edge\">\n<title>173&#45;&gt;177</title>\n<path fill=\"none\" stroke=\"#000000\" d=\"M4225.9336,-816.9465C4224.1871,-806.2621 4222.2522,-794.4254 4220.4785,-783.5742\"/>\n<polygon fill=\"#000000\" stroke=\"#000000\" points=\"4223.9061,-782.8465 4218.8386,-773.5422 4216.9978,-783.9758 4223.9061,-782.8465\"/>\n</g>\n<!-- 175 -->\n<g id=\"node176\" class=\"node\">\n<title>175</title>\n<polygon fill=\"none\" stroke=\"#000000\" points=\"3995,-669.5 3900,-669.5 3900,-616.5 3995,-616.5 3995,-669.5\"/>\n<text text-anchor=\"middle\" x=\"3947.5\" y=\"-654.3\" font-family=\"Times,serif\" font-size=\"14.00\" fill=\"#000000\">gini = 0.0</text>\n<text text-anchor=\"middle\" x=\"3947.5\" y=\"-639.3\" font-family=\"Times,serif\" font-size=\"14.00\" fill=\"#000000\">samples = 6</text>\n<text text-anchor=\"middle\" x=\"3947.5\" y=\"-624.3\" font-family=\"Times,serif\" font-size=\"14.00\" fill=\"#000000\">value = [0, 6]</text>\n</g>\n<!-- 174&#45;&gt;175 -->\n<g id=\"edge175\" class=\"edge\">\n<title>174&#45;&gt;175</title>\n<path fill=\"none\" stroke=\"#000000\" d=\"M4011.3934,-712.9465C4000.9293,-701.491 3989.2553,-688.711 3978.778,-677.2412\"/>\n<polygon fill=\"#000000\" stroke=\"#000000\" points=\"3981.0738,-674.565 3971.7452,-669.5422 3975.9055,-679.2861 3981.0738,-674.565\"/>\n</g>\n<!-- 176 -->\n<g id=\"node177\" class=\"node\">\n<title>176</title>\n<polygon fill=\"none\" stroke=\"#000000\" points=\"4108,-669.5 4013,-669.5 4013,-616.5 4108,-616.5 4108,-669.5\"/>\n<text text-anchor=\"middle\" x=\"4060.5\" y=\"-654.3\" font-family=\"Times,serif\" font-size=\"14.00\" fill=\"#000000\">gini = 0.0</text>\n<text text-anchor=\"middle\" x=\"4060.5\" y=\"-639.3\" font-family=\"Times,serif\" font-size=\"14.00\" fill=\"#000000\">samples = 1</text>\n<text text-anchor=\"middle\" x=\"4060.5\" y=\"-624.3\" font-family=\"Times,serif\" font-size=\"14.00\" fill=\"#000000\">value = [1, 0]</text>\n</g>\n<!-- 174&#45;&gt;176 -->\n<g id=\"edge176\" class=\"edge\">\n<title>174&#45;&gt;176</title>\n<path fill=\"none\" stroke=\"#000000\" d=\"M4048.3939,-712.9465C4050.2431,-702.2621 4052.2918,-690.4254 4054.1698,-679.5742\"/>\n<polygon fill=\"#000000\" stroke=\"#000000\" points=\"4057.6494,-679.9926 4055.9062,-669.5422 4050.7519,-678.7987 4057.6494,-679.9926\"/>\n</g>\n<!-- 179 -->\n<g id=\"node180\" class=\"node\">\n<title>179</title>\n<polygon fill=\"none\" stroke=\"#000000\" points=\"4588,-885 4371,-885 4371,-817 4588,-817 4588,-885\"/>\n<text text-anchor=\"middle\" x=\"4479.5\" y=\"-869.8\" font-family=\"Times,serif\" font-size=\"14.00\" fill=\"#000000\">JobRole_Research Scientist &lt;= 0.5</text>\n<text text-anchor=\"middle\" x=\"4479.5\" y=\"-854.8\" font-family=\"Times,serif\" font-size=\"14.00\" fill=\"#000000\">gini = 0.498</text>\n<text text-anchor=\"middle\" x=\"4479.5\" y=\"-839.8\" font-family=\"Times,serif\" font-size=\"14.00\" fill=\"#000000\">samples = 15</text>\n<text text-anchor=\"middle\" x=\"4479.5\" y=\"-824.8\" font-family=\"Times,serif\" font-size=\"14.00\" fill=\"#000000\">value = [8, 7]</text>\n</g>\n<!-- 178&#45;&gt;179 -->\n<g id=\"edge179\" class=\"edge\">\n<title>178&#45;&gt;179</title>\n<path fill=\"none\" stroke=\"#000000\" d=\"M4513.1281,-920.9465C4509.0274,-912.4169 4504.5736,-903.153 4500.2896,-894.2424\"/>\n<polygon fill=\"#000000\" stroke=\"#000000\" points=\"4503.396,-892.626 4495.9087,-885.13 4497.0873,-895.6591 4503.396,-892.626\"/>\n</g>\n<!-- 188 -->\n<g id=\"node189\" class=\"node\">\n<title>188</title>\n<polygon fill=\"none\" stroke=\"#000000\" points=\"4887,-885 4606,-885 4606,-817 4887,-817 4887,-885\"/>\n<text text-anchor=\"middle\" x=\"4746.5\" y=\"-869.8\" font-family=\"Times,serif\" font-size=\"14.00\" fill=\"#000000\">Department_Research &amp; Development &lt;= 0.5</text>\n<text text-anchor=\"middle\" x=\"4746.5\" y=\"-854.8\" font-family=\"Times,serif\" font-size=\"14.00\" fill=\"#000000\">gini = 0.26</text>\n<text text-anchor=\"middle\" x=\"4746.5\" y=\"-839.8\" font-family=\"Times,serif\" font-size=\"14.00\" fill=\"#000000\">samples = 13</text>\n<text text-anchor=\"middle\" x=\"4746.5\" y=\"-824.8\" font-family=\"Times,serif\" font-size=\"14.00\" fill=\"#000000\">value = [2, 11]</text>\n</g>\n<!-- 178&#45;&gt;188 -->\n<g id=\"edge188\" class=\"edge\">\n<title>178&#45;&gt;188</title>\n<path fill=\"none\" stroke=\"#000000\" d=\"M4600.5539,-920.9465C4621.5361,-910.8906 4644.6477,-899.814 4666.1705,-889.4989\"/>\n<polygon fill=\"#000000\" stroke=\"#000000\" points=\"4667.7813,-892.6082 4675.2865,-885.13 4664.7559,-886.2957 4667.7813,-892.6082\"/>\n</g>\n<!-- 180 -->\n<g id=\"node181\" class=\"node\">\n<title>180</title>\n<polygon fill=\"none\" stroke=\"#000000\" points=\"4411,-781 4280,-781 4280,-713 4411,-713 4411,-781\"/>\n<text text-anchor=\"middle\" x=\"4345.5\" y=\"-765.8\" font-family=\"Times,serif\" font-size=\"14.00\" fill=\"#000000\">DailyRate &lt;= 0.433</text>\n<text text-anchor=\"middle\" x=\"4345.5\" y=\"-750.8\" font-family=\"Times,serif\" font-size=\"14.00\" fill=\"#000000\">gini = 0.375</text>\n<text text-anchor=\"middle\" x=\"4345.5\" y=\"-735.8\" font-family=\"Times,serif\" font-size=\"14.00\" fill=\"#000000\">samples = 8</text>\n<text text-anchor=\"middle\" x=\"4345.5\" y=\"-720.8\" font-family=\"Times,serif\" font-size=\"14.00\" fill=\"#000000\">value = [2, 6]</text>\n</g>\n<!-- 179&#45;&gt;180 -->\n<g id=\"edge180\" class=\"edge\">\n<title>179&#45;&gt;180</title>\n<path fill=\"none\" stroke=\"#000000\" d=\"M4435.6234,-816.9465C4423.4765,-807.519 4410.1738,-797.1946 4397.6073,-787.4415\"/>\n<polygon fill=\"#000000\" stroke=\"#000000\" points=\"4399.521,-784.4963 4389.4752,-781.13 4395.2291,-790.0262 4399.521,-784.4963\"/>\n</g>\n<!-- 185 -->\n<g id=\"node186\" class=\"node\">\n<title>185</title>\n<polygon fill=\"none\" stroke=\"#000000\" points=\"4651.5,-781 4429.5,-781 4429.5,-713 4651.5,-713 4651.5,-781\"/>\n<text text-anchor=\"middle\" x=\"4540.5\" y=\"-765.8\" font-family=\"Times,serif\" font-size=\"14.00\" fill=\"#000000\">YearsSinceLastPromotion &lt;= 0.167</text>\n<text text-anchor=\"middle\" x=\"4540.5\" y=\"-750.8\" font-family=\"Times,serif\" font-size=\"14.00\" fill=\"#000000\">gini = 0.245</text>\n<text text-anchor=\"middle\" x=\"4540.5\" y=\"-735.8\" font-family=\"Times,serif\" font-size=\"14.00\" fill=\"#000000\">samples = 7</text>\n<text text-anchor=\"middle\" x=\"4540.5\" y=\"-720.8\" font-family=\"Times,serif\" font-size=\"14.00\" fill=\"#000000\">value = [6, 1]</text>\n</g>\n<!-- 179&#45;&gt;185 -->\n<g id=\"edge185\" class=\"edge\">\n<title>179&#45;&gt;185</title>\n<path fill=\"none\" stroke=\"#000000\" d=\"M4499.4737,-816.9465C4504.5293,-808.3271 4510.0247,-798.9579 4515.3017,-789.9611\"/>\n<polygon fill=\"#000000\" stroke=\"#000000\" points=\"4518.4411,-791.5265 4520.4814,-781.13 4512.4031,-787.985 4518.4411,-791.5265\"/>\n</g>\n<!-- 181 -->\n<g id=\"node182\" class=\"node\">\n<title>181</title>\n<polygon fill=\"none\" stroke=\"#000000\" points=\"4245,-669.5 4150,-669.5 4150,-616.5 4245,-616.5 4245,-669.5\"/>\n<text text-anchor=\"middle\" x=\"4197.5\" y=\"-654.3\" font-family=\"Times,serif\" font-size=\"14.00\" fill=\"#000000\">gini = 0.0</text>\n<text text-anchor=\"middle\" x=\"4197.5\" y=\"-639.3\" font-family=\"Times,serif\" font-size=\"14.00\" fill=\"#000000\">samples = 5</text>\n<text text-anchor=\"middle\" x=\"4197.5\" y=\"-624.3\" font-family=\"Times,serif\" font-size=\"14.00\" fill=\"#000000\">value = [0, 5]</text>\n</g>\n<!-- 180&#45;&gt;181 -->\n<g id=\"edge181\" class=\"edge\">\n<title>180&#45;&gt;181</title>\n<path fill=\"none\" stroke=\"#000000\" d=\"M4297.0393,-712.9465C4279.9535,-700.9403 4260.7972,-687.4791 4243.887,-675.5962\"/>\n<polygon fill=\"#000000\" stroke=\"#000000\" points=\"4245.4658,-672.428 4235.2715,-669.5422 4241.4412,-678.1553 4245.4658,-672.428\"/>\n</g>\n<!-- 182 -->\n<g id=\"node183\" class=\"node\">\n<title>182</title>\n<polygon fill=\"none\" stroke=\"#000000\" points=\"4438,-677 4263,-677 4263,-609 4438,-609 4438,-677\"/>\n<text text-anchor=\"middle\" x=\"4350.5\" y=\"-661.8\" font-family=\"Times,serif\" font-size=\"14.00\" fill=\"#000000\">WorkLifeBalance &lt;= 0.833</text>\n<text text-anchor=\"middle\" x=\"4350.5\" y=\"-646.8\" font-family=\"Times,serif\" font-size=\"14.00\" fill=\"#000000\">gini = 0.444</text>\n<text text-anchor=\"middle\" x=\"4350.5\" y=\"-631.8\" font-family=\"Times,serif\" font-size=\"14.00\" fill=\"#000000\">samples = 3</text>\n<text text-anchor=\"middle\" x=\"4350.5\" y=\"-616.8\" font-family=\"Times,serif\" font-size=\"14.00\" fill=\"#000000\">value = [2, 1]</text>\n</g>\n<!-- 180&#45;&gt;182 -->\n<g id=\"edge182\" class=\"edge\">\n<title>180&#45;&gt;182</title>\n<path fill=\"none\" stroke=\"#000000\" d=\"M4347.1372,-712.9465C4347.53,-704.776 4347.9552,-695.9318 4348.3668,-687.3697\"/>\n<polygon fill=\"#000000\" stroke=\"#000000\" points=\"4351.8748,-687.2866 4348.8591,-677.13 4344.8829,-686.9504 4351.8748,-687.2866\"/>\n</g>\n<!-- 183 -->\n<g id=\"node184\" class=\"node\">\n<title>183</title>\n<polygon fill=\"none\" stroke=\"#000000\" points=\"4341,-565.5 4246,-565.5 4246,-512.5 4341,-512.5 4341,-565.5\"/>\n<text text-anchor=\"middle\" x=\"4293.5\" y=\"-550.3\" font-family=\"Times,serif\" font-size=\"14.00\" fill=\"#000000\">gini = 0.0</text>\n<text text-anchor=\"middle\" x=\"4293.5\" y=\"-535.3\" font-family=\"Times,serif\" font-size=\"14.00\" fill=\"#000000\">samples = 2</text>\n<text text-anchor=\"middle\" x=\"4293.5\" y=\"-520.3\" font-family=\"Times,serif\" font-size=\"14.00\" fill=\"#000000\">value = [2, 0]</text>\n</g>\n<!-- 182&#45;&gt;183 -->\n<g id=\"edge183\" class=\"edge\">\n<title>182&#45;&gt;183</title>\n<path fill=\"none\" stroke=\"#000000\" d=\"M4331.8361,-608.9465C4325.7991,-597.9316 4319.0909,-585.6922 4312.9953,-574.5703\"/>\n<polygon fill=\"#000000\" stroke=\"#000000\" points=\"4315.9227,-572.6292 4308.0471,-565.5422 4309.7842,-575.9936 4315.9227,-572.6292\"/>\n</g>\n<!-- 184 -->\n<g id=\"node185\" class=\"node\">\n<title>184</title>\n<polygon fill=\"none\" stroke=\"#000000\" points=\"4454,-565.5 4359,-565.5 4359,-512.5 4454,-512.5 4454,-565.5\"/>\n<text text-anchor=\"middle\" x=\"4406.5\" y=\"-550.3\" font-family=\"Times,serif\" font-size=\"14.00\" fill=\"#000000\">gini = 0.0</text>\n<text text-anchor=\"middle\" x=\"4406.5\" y=\"-535.3\" font-family=\"Times,serif\" font-size=\"14.00\" fill=\"#000000\">samples = 1</text>\n<text text-anchor=\"middle\" x=\"4406.5\" y=\"-520.3\" font-family=\"Times,serif\" font-size=\"14.00\" fill=\"#000000\">value = [0, 1]</text>\n</g>\n<!-- 182&#45;&gt;184 -->\n<g id=\"edge184\" class=\"edge\">\n<title>182&#45;&gt;184</title>\n<path fill=\"none\" stroke=\"#000000\" d=\"M4368.8365,-608.9465C4374.7676,-597.9316 4381.3581,-585.6922 4387.3468,-574.5703\"/>\n<polygon fill=\"#000000\" stroke=\"#000000\" points=\"4390.5487,-576.0063 4392.2081,-565.5422 4384.3854,-572.6875 4390.5487,-576.0063\"/>\n</g>\n<!-- 186 -->\n<g id=\"node187\" class=\"node\">\n<title>186</title>\n<polygon fill=\"none\" stroke=\"#000000\" points=\"4571,-669.5 4476,-669.5 4476,-616.5 4571,-616.5 4571,-669.5\"/>\n<text text-anchor=\"middle\" x=\"4523.5\" y=\"-654.3\" font-family=\"Times,serif\" font-size=\"14.00\" fill=\"#000000\">gini = 0.0</text>\n<text text-anchor=\"middle\" x=\"4523.5\" y=\"-639.3\" font-family=\"Times,serif\" font-size=\"14.00\" fill=\"#000000\">samples = 6</text>\n<text text-anchor=\"middle\" x=\"4523.5\" y=\"-624.3\" font-family=\"Times,serif\" font-size=\"14.00\" fill=\"#000000\">value = [6, 0]</text>\n</g>\n<!-- 185&#45;&gt;186 -->\n<g id=\"edge186\" class=\"edge\">\n<title>185&#45;&gt;186</title>\n<path fill=\"none\" stroke=\"#000000\" d=\"M4534.9336,-712.9465C4533.1871,-702.2621 4531.2522,-690.4254 4529.4785,-679.5742\"/>\n<polygon fill=\"#000000\" stroke=\"#000000\" points=\"4532.9061,-678.8465 4527.8386,-669.5422 4525.9978,-679.9758 4532.9061,-678.8465\"/>\n</g>\n<!-- 187 -->\n<g id=\"node188\" class=\"node\">\n<title>187</title>\n<polygon fill=\"none\" stroke=\"#000000\" points=\"4684,-669.5 4589,-669.5 4589,-616.5 4684,-616.5 4684,-669.5\"/>\n<text text-anchor=\"middle\" x=\"4636.5\" y=\"-654.3\" font-family=\"Times,serif\" font-size=\"14.00\" fill=\"#000000\">gini = 0.0</text>\n<text text-anchor=\"middle\" x=\"4636.5\" y=\"-639.3\" font-family=\"Times,serif\" font-size=\"14.00\" fill=\"#000000\">samples = 1</text>\n<text text-anchor=\"middle\" x=\"4636.5\" y=\"-624.3\" font-family=\"Times,serif\" font-size=\"14.00\" fill=\"#000000\">value = [0, 1]</text>\n</g>\n<!-- 185&#45;&gt;187 -->\n<g id=\"edge187\" class=\"edge\">\n<title>185&#45;&gt;187</title>\n<path fill=\"none\" stroke=\"#000000\" d=\"M4571.934,-712.9465C4582.61,-701.3809 4594.5322,-688.4652 4605.1978,-676.9107\"/>\n<polygon fill=\"#000000\" stroke=\"#000000\" points=\"4607.7885,-679.2642 4611.9995,-669.5422 4602.6449,-674.5162 4607.7885,-679.2642\"/>\n</g>\n<!-- 189 -->\n<g id=\"node190\" class=\"node\">\n<title>189</title>\n<polygon fill=\"none\" stroke=\"#000000\" points=\"4859.5,-781 4669.5,-781 4669.5,-713 4859.5,-713 4859.5,-781\"/>\n<text text-anchor=\"middle\" x=\"4764.5\" y=\"-765.8\" font-family=\"Times,serif\" font-size=\"14.00\" fill=\"#000000\">DistanceFromHome &lt;= 0.518</text>\n<text text-anchor=\"middle\" x=\"4764.5\" y=\"-750.8\" font-family=\"Times,serif\" font-size=\"14.00\" fill=\"#000000\">gini = 0.444</text>\n<text text-anchor=\"middle\" x=\"4764.5\" y=\"-735.8\" font-family=\"Times,serif\" font-size=\"14.00\" fill=\"#000000\">samples = 3</text>\n<text text-anchor=\"middle\" x=\"4764.5\" y=\"-720.8\" font-family=\"Times,serif\" font-size=\"14.00\" fill=\"#000000\">value = [2, 1]</text>\n</g>\n<!-- 188&#45;&gt;189 -->\n<g id=\"edge189\" class=\"edge\">\n<title>188&#45;&gt;189</title>\n<path fill=\"none\" stroke=\"#000000\" d=\"M4752.3939,-816.9465C4753.8235,-808.6863 4755.3724,-799.7374 4756.8695,-791.0875\"/>\n<polygon fill=\"#000000\" stroke=\"#000000\" points=\"4760.3361,-791.5804 4758.5929,-781.13 4753.4387,-790.3866 4760.3361,-791.5804\"/>\n</g>\n<!-- 192 -->\n<g id=\"node193\" class=\"node\">\n<title>192</title>\n<polygon fill=\"none\" stroke=\"#000000\" points=\"4979.5,-773.5 4877.5,-773.5 4877.5,-720.5 4979.5,-720.5 4979.5,-773.5\"/>\n<text text-anchor=\"middle\" x=\"4928.5\" y=\"-758.3\" font-family=\"Times,serif\" font-size=\"14.00\" fill=\"#000000\">gini = 0.0</text>\n<text text-anchor=\"middle\" x=\"4928.5\" y=\"-743.3\" font-family=\"Times,serif\" font-size=\"14.00\" fill=\"#000000\">samples = 10</text>\n<text text-anchor=\"middle\" x=\"4928.5\" y=\"-728.3\" font-family=\"Times,serif\" font-size=\"14.00\" fill=\"#000000\">value = [0, 10]</text>\n</g>\n<!-- 188&#45;&gt;192 -->\n<g id=\"edge192\" class=\"edge\">\n<title>188&#45;&gt;192</title>\n<path fill=\"none\" stroke=\"#000000\" d=\"M4806.0936,-816.9465C4827.6828,-804.6098 4851.9601,-790.7371 4873.1672,-778.6187\"/>\n<polygon fill=\"#000000\" stroke=\"#000000\" points=\"4875.1053,-781.5425 4882.0512,-773.5422 4871.6323,-775.4647 4875.1053,-781.5425\"/>\n</g>\n<!-- 190 -->\n<g id=\"node191\" class=\"node\">\n<title>190</title>\n<polygon fill=\"none\" stroke=\"#000000\" points=\"4807,-669.5 4712,-669.5 4712,-616.5 4807,-616.5 4807,-669.5\"/>\n<text text-anchor=\"middle\" x=\"4759.5\" y=\"-654.3\" font-family=\"Times,serif\" font-size=\"14.00\" fill=\"#000000\">gini = 0.0</text>\n<text text-anchor=\"middle\" x=\"4759.5\" y=\"-639.3\" font-family=\"Times,serif\" font-size=\"14.00\" fill=\"#000000\">samples = 2</text>\n<text text-anchor=\"middle\" x=\"4759.5\" y=\"-624.3\" font-family=\"Times,serif\" font-size=\"14.00\" fill=\"#000000\">value = [2, 0]</text>\n</g>\n<!-- 189&#45;&gt;190 -->\n<g id=\"edge190\" class=\"edge\">\n<title>189&#45;&gt;190</title>\n<path fill=\"none\" stroke=\"#000000\" d=\"M4762.8628,-712.9465C4762.3491,-702.2621 4761.7801,-690.4254 4761.2584,-679.5742\"/>\n<polygon fill=\"#000000\" stroke=\"#000000\" points=\"4764.7523,-679.3625 4760.7761,-669.5422 4757.7604,-679.6987 4764.7523,-679.3625\"/>\n</g>\n<!-- 191 -->\n<g id=\"node192\" class=\"node\">\n<title>191</title>\n<polygon fill=\"none\" stroke=\"#000000\" points=\"4920,-669.5 4825,-669.5 4825,-616.5 4920,-616.5 4920,-669.5\"/>\n<text text-anchor=\"middle\" x=\"4872.5\" y=\"-654.3\" font-family=\"Times,serif\" font-size=\"14.00\" fill=\"#000000\">gini = 0.0</text>\n<text text-anchor=\"middle\" x=\"4872.5\" y=\"-639.3\" font-family=\"Times,serif\" font-size=\"14.00\" fill=\"#000000\">samples = 1</text>\n<text text-anchor=\"middle\" x=\"4872.5\" y=\"-624.3\" font-family=\"Times,serif\" font-size=\"14.00\" fill=\"#000000\">value = [0, 1]</text>\n</g>\n<!-- 189&#45;&gt;191 -->\n<g id=\"edge191\" class=\"edge\">\n<title>189&#45;&gt;191</title>\n<path fill=\"none\" stroke=\"#000000\" d=\"M4799.8632,-712.9465C4811.9881,-701.2707 4825.5418,-688.219 4837.6275,-676.5809\"/>\n<polygon fill=\"#000000\" stroke=\"#000000\" points=\"4840.1615,-678.9997 4844.937,-669.5422 4835.306,-673.9575 4840.1615,-678.9997\"/>\n</g>\n<!-- 194 -->\n<g id=\"node195\" class=\"node\">\n<title>194</title>\n<polygon fill=\"none\" stroke=\"#000000\" points=\"4802.5,-981.5 4700.5,-981.5 4700.5,-928.5 4802.5,-928.5 4802.5,-981.5\"/>\n<text text-anchor=\"middle\" x=\"4751.5\" y=\"-966.3\" font-family=\"Times,serif\" font-size=\"14.00\" fill=\"#000000\">gini = 0.0</text>\n<text text-anchor=\"middle\" x=\"4751.5\" y=\"-951.3\" font-family=\"Times,serif\" font-size=\"14.00\" fill=\"#000000\">samples = 14</text>\n<text text-anchor=\"middle\" x=\"4751.5\" y=\"-936.3\" font-family=\"Times,serif\" font-size=\"14.00\" fill=\"#000000\">value = [14, 0]</text>\n</g>\n<!-- 193&#45;&gt;194 -->\n<g id=\"edge194\" class=\"edge\">\n<title>193&#45;&gt;194</title>\n<path fill=\"none\" stroke=\"#000000\" d=\"M4751.5,-1024.9465C4751.5,-1014.2621 4751.5,-1002.4254 4751.5,-991.5742\"/>\n<polygon fill=\"#000000\" stroke=\"#000000\" points=\"4755.0001,-991.5421 4751.5,-981.5422 4748.0001,-991.5422 4755.0001,-991.5421\"/>\n</g>\n<!-- 195 -->\n<g id=\"node196\" class=\"node\">\n<title>195</title>\n<polygon fill=\"none\" stroke=\"#000000\" points=\"5040.5,-989 4864.5,-989 4864.5,-921 5040.5,-921 5040.5,-989\"/>\n<text text-anchor=\"middle\" x=\"4952.5\" y=\"-973.8\" font-family=\"Times,serif\" font-size=\"14.00\" fill=\"#000000\">YearsAtCompany &lt;= 0.088</text>\n<text text-anchor=\"middle\" x=\"4952.5\" y=\"-958.8\" font-family=\"Times,serif\" font-size=\"14.00\" fill=\"#000000\">gini = 0.48</text>\n<text text-anchor=\"middle\" x=\"4952.5\" y=\"-943.8\" font-family=\"Times,serif\" font-size=\"14.00\" fill=\"#000000\">samples = 5</text>\n<text text-anchor=\"middle\" x=\"4952.5\" y=\"-928.8\" font-family=\"Times,serif\" font-size=\"14.00\" fill=\"#000000\">value = [2, 3]</text>\n</g>\n<!-- 193&#45;&gt;195 -->\n<g id=\"edge195\" class=\"edge\">\n<title>193&#45;&gt;195</title>\n<path fill=\"none\" stroke=\"#000000\" d=\"M4817.3149,-1024.9465C4836.5765,-1014.9803 4857.7755,-1004.0117 4877.5591,-993.7754\"/>\n<polygon fill=\"#000000\" stroke=\"#000000\" points=\"4879.2641,-996.834 4886.5372,-989.13 4876.0472,-990.6169 4879.2641,-996.834\"/>\n</g>\n<!-- 196 -->\n<g id=\"node197\" class=\"node\">\n<title>196</title>\n<polygon fill=\"none\" stroke=\"#000000\" points=\"5000,-877.5 4905,-877.5 4905,-824.5 5000,-824.5 5000,-877.5\"/>\n<text text-anchor=\"middle\" x=\"4952.5\" y=\"-862.3\" font-family=\"Times,serif\" font-size=\"14.00\" fill=\"#000000\">gini = 0.0</text>\n<text text-anchor=\"middle\" x=\"4952.5\" y=\"-847.3\" font-family=\"Times,serif\" font-size=\"14.00\" fill=\"#000000\">samples = 2</text>\n<text text-anchor=\"middle\" x=\"4952.5\" y=\"-832.3\" font-family=\"Times,serif\" font-size=\"14.00\" fill=\"#000000\">value = [0, 2]</text>\n</g>\n<!-- 195&#45;&gt;196 -->\n<g id=\"edge196\" class=\"edge\">\n<title>195&#45;&gt;196</title>\n<path fill=\"none\" stroke=\"#000000\" d=\"M4952.5,-920.9465C4952.5,-910.2621 4952.5,-898.4254 4952.5,-887.5742\"/>\n<polygon fill=\"#000000\" stroke=\"#000000\" points=\"4956.0001,-887.5421 4952.5,-877.5422 4949.0001,-887.5422 4956.0001,-887.5421\"/>\n</g>\n<!-- 197 -->\n<g id=\"node198\" class=\"node\">\n<title>197</title>\n<polygon fill=\"none\" stroke=\"#000000\" points=\"5272.5,-885 5018.5,-885 5018.5,-817 5272.5,-817 5272.5,-885\"/>\n<text text-anchor=\"middle\" x=\"5145.5\" y=\"-869.8\" font-family=\"Times,serif\" font-size=\"14.00\" fill=\"#000000\">EducationField_Technical Degree &lt;= 0.5</text>\n<text text-anchor=\"middle\" x=\"5145.5\" y=\"-854.8\" font-family=\"Times,serif\" font-size=\"14.00\" fill=\"#000000\">gini = 0.444</text>\n<text text-anchor=\"middle\" x=\"5145.5\" y=\"-839.8\" font-family=\"Times,serif\" font-size=\"14.00\" fill=\"#000000\">samples = 3</text>\n<text text-anchor=\"middle\" x=\"5145.5\" y=\"-824.8\" font-family=\"Times,serif\" font-size=\"14.00\" fill=\"#000000\">value = [2, 1]</text>\n</g>\n<!-- 195&#45;&gt;197 -->\n<g id=\"edge197\" class=\"edge\">\n<title>195&#45;&gt;197</title>\n<path fill=\"none\" stroke=\"#000000\" d=\"M5015.6954,-920.9465C5034.107,-911.0252 5054.3623,-900.1105 5073.285,-889.9138\"/>\n<polygon fill=\"#000000\" stroke=\"#000000\" points=\"5075.0197,-892.9549 5082.1626,-885.13 5071.699,-886.7926 5075.0197,-892.9549\"/>\n</g>\n<!-- 198 -->\n<g id=\"node199\" class=\"node\">\n<title>198</title>\n<polygon fill=\"none\" stroke=\"#000000\" points=\"5173,-773.5 5078,-773.5 5078,-720.5 5173,-720.5 5173,-773.5\"/>\n<text text-anchor=\"middle\" x=\"5125.5\" y=\"-758.3\" font-family=\"Times,serif\" font-size=\"14.00\" fill=\"#000000\">gini = 0.0</text>\n<text text-anchor=\"middle\" x=\"5125.5\" y=\"-743.3\" font-family=\"Times,serif\" font-size=\"14.00\" fill=\"#000000\">samples = 2</text>\n<text text-anchor=\"middle\" x=\"5125.5\" y=\"-728.3\" font-family=\"Times,serif\" font-size=\"14.00\" fill=\"#000000\">value = [2, 0]</text>\n</g>\n<!-- 197&#45;&gt;198 -->\n<g id=\"edge198\" class=\"edge\">\n<title>197&#45;&gt;198</title>\n<path fill=\"none\" stroke=\"#000000\" d=\"M5138.9513,-816.9465C5136.8965,-806.2621 5134.6203,-794.4254 5132.5335,-783.5742\"/>\n<polygon fill=\"#000000\" stroke=\"#000000\" points=\"5135.9298,-782.7012 5130.6043,-773.5422 5129.0558,-784.0232 5135.9298,-782.7012\"/>\n</g>\n<!-- 199 -->\n<g id=\"node200\" class=\"node\">\n<title>199</title>\n<polygon fill=\"none\" stroke=\"#000000\" points=\"5286,-773.5 5191,-773.5 5191,-720.5 5286,-720.5 5286,-773.5\"/>\n<text text-anchor=\"middle\" x=\"5238.5\" y=\"-758.3\" font-family=\"Times,serif\" font-size=\"14.00\" fill=\"#000000\">gini = 0.0</text>\n<text text-anchor=\"middle\" x=\"5238.5\" y=\"-743.3\" font-family=\"Times,serif\" font-size=\"14.00\" fill=\"#000000\">samples = 1</text>\n<text text-anchor=\"middle\" x=\"5238.5\" y=\"-728.3\" font-family=\"Times,serif\" font-size=\"14.00\" fill=\"#000000\">value = [0, 1]</text>\n</g>\n<!-- 197&#45;&gt;199 -->\n<g id=\"edge199\" class=\"edge\">\n<title>197&#45;&gt;199</title>\n<path fill=\"none\" stroke=\"#000000\" d=\"M5175.9517,-816.9465C5186.1955,-805.491 5197.6238,-792.711 5207.8805,-781.2412\"/>\n<polygon fill=\"#000000\" stroke=\"#000000\" points=\"5210.7083,-783.3295 5214.7652,-773.5422 5205.4903,-778.6634 5210.7083,-783.3295\"/>\n</g>\n<!-- 201 -->\n<g id=\"node202\" class=\"node\">\n<title>201</title>\n<polygon fill=\"none\" stroke=\"#000000\" points=\"5767.5,-1301 5553.5,-1301 5553.5,-1233 5767.5,-1233 5767.5,-1301\"/>\n<text text-anchor=\"middle\" x=\"5660.5\" y=\"-1285.8\" font-family=\"Times,serif\" font-size=\"14.00\" fill=\"#000000\">NumCompaniesWorked &lt;= 0.722</text>\n<text text-anchor=\"middle\" x=\"5660.5\" y=\"-1270.8\" font-family=\"Times,serif\" font-size=\"14.00\" fill=\"#000000\">gini = 0.165</text>\n<text text-anchor=\"middle\" x=\"5660.5\" y=\"-1255.8\" font-family=\"Times,serif\" font-size=\"14.00\" fill=\"#000000\">samples = 121</text>\n<text text-anchor=\"middle\" x=\"5660.5\" y=\"-1240.8\" font-family=\"Times,serif\" font-size=\"14.00\" fill=\"#000000\">value = [110, 11]</text>\n</g>\n<!-- 200&#45;&gt;201 -->\n<g id=\"edge201\" class=\"edge\">\n<title>200&#45;&gt;201</title>\n<path fill=\"none\" stroke=\"#000000\" d=\"M5660.5,-1336.9465C5660.5,-1328.776 5660.5,-1319.9318 5660.5,-1311.3697\"/>\n<polygon fill=\"#000000\" stroke=\"#000000\" points=\"5664.0001,-1311.13 5660.5,-1301.13 5657.0001,-1311.13 5664.0001,-1311.13\"/>\n</g>\n<!-- 220 -->\n<g id=\"node221\" class=\"node\">\n<title>220</title>\n<polygon fill=\"none\" stroke=\"#000000\" points=\"6415.5,-1301 6211.5,-1301 6211.5,-1233 6415.5,-1233 6415.5,-1301\"/>\n<text text-anchor=\"middle\" x=\"6313.5\" y=\"-1285.8\" font-family=\"Times,serif\" font-size=\"14.00\" fill=\"#000000\">JobRole_Sales Executive &lt;= 0.5</text>\n<text text-anchor=\"middle\" x=\"6313.5\" y=\"-1270.8\" font-family=\"Times,serif\" font-size=\"14.00\" fill=\"#000000\">gini = 0.441</text>\n<text text-anchor=\"middle\" x=\"6313.5\" y=\"-1255.8\" font-family=\"Times,serif\" font-size=\"14.00\" fill=\"#000000\">samples = 67</text>\n<text text-anchor=\"middle\" x=\"6313.5\" y=\"-1240.8\" font-family=\"Times,serif\" font-size=\"14.00\" fill=\"#000000\">value = [45, 22]</text>\n</g>\n<!-- 200&#45;&gt;220 -->\n<g id=\"edge220\" class=\"edge\">\n<title>200&#45;&gt;220</title>\n<path fill=\"none\" stroke=\"#000000\" d=\"M5755.8012,-1355.8219C5874.1045,-1336.9803 6075.5804,-1304.8923 6201.2454,-1284.8782\"/>\n<polygon fill=\"#000000\" stroke=\"#000000\" points=\"6201.9599,-1288.3086 6211.285,-1283.2793 6200.8589,-1281.3957 6201.9599,-1288.3086\"/>\n</g>\n<!-- 202 -->\n<g id=\"node203\" class=\"node\">\n<title>202</title>\n<polygon fill=\"none\" stroke=\"#000000\" points=\"5647,-1197 5480,-1197 5480,-1129 5647,-1129 5647,-1197\"/>\n<text text-anchor=\"middle\" x=\"5563.5\" y=\"-1181.8\" font-family=\"Times,serif\" font-size=\"14.00\" fill=\"#000000\">MonthlyIncome &lt;= 0.992</text>\n<text text-anchor=\"middle\" x=\"5563.5\" y=\"-1166.8\" font-family=\"Times,serif\" font-size=\"14.00\" fill=\"#000000\">gini = 0.106</text>\n<text text-anchor=\"middle\" x=\"5563.5\" y=\"-1151.8\" font-family=\"Times,serif\" font-size=\"14.00\" fill=\"#000000\">samples = 107</text>\n<text text-anchor=\"middle\" x=\"5563.5\" y=\"-1136.8\" font-family=\"Times,serif\" font-size=\"14.00\" fill=\"#000000\">value = [101, 6]</text>\n</g>\n<!-- 201&#45;&gt;202 -->\n<g id=\"edge202\" class=\"edge\">\n<title>201&#45;&gt;202</title>\n<path fill=\"none\" stroke=\"#000000\" d=\"M5628.7386,-1232.9465C5620.2806,-1223.8782 5611.0486,-1213.9799 5602.2613,-1204.5585\"/>\n<polygon fill=\"#000000\" stroke=\"#000000\" points=\"5604.713,-1202.0557 5595.3328,-1197.13 5599.594,-1206.8302 5604.713,-1202.0557\"/>\n</g>\n<!-- 215 -->\n<g id=\"node216\" class=\"node\">\n<title>215</title>\n<polygon fill=\"none\" stroke=\"#000000\" points=\"5850,-1197 5665,-1197 5665,-1129 5850,-1129 5850,-1197\"/>\n<text text-anchor=\"middle\" x=\"5757.5\" y=\"-1181.8\" font-family=\"Times,serif\" font-size=\"14.00\" fill=\"#000000\">TotalWorkingYears &lt;= 0.312</text>\n<text text-anchor=\"middle\" x=\"5757.5\" y=\"-1166.8\" font-family=\"Times,serif\" font-size=\"14.00\" fill=\"#000000\">gini = 0.459</text>\n<text text-anchor=\"middle\" x=\"5757.5\" y=\"-1151.8\" font-family=\"Times,serif\" font-size=\"14.00\" fill=\"#000000\">samples = 14</text>\n<text text-anchor=\"middle\" x=\"5757.5\" y=\"-1136.8\" font-family=\"Times,serif\" font-size=\"14.00\" fill=\"#000000\">value = [9, 5]</text>\n</g>\n<!-- 201&#45;&gt;215 -->\n<g id=\"edge215\" class=\"edge\">\n<title>201&#45;&gt;215</title>\n<path fill=\"none\" stroke=\"#000000\" d=\"M5692.2614,-1232.9465C5700.7194,-1223.8782 5709.9514,-1213.9799 5718.7387,-1204.5585\"/>\n<polygon fill=\"#000000\" stroke=\"#000000\" points=\"5721.406,-1206.8302 5725.6672,-1197.13 5716.287,-1202.0557 5721.406,-1206.8302\"/>\n</g>\n<!-- 203 -->\n<g id=\"node204\" class=\"node\">\n<title>203</title>\n<polygon fill=\"none\" stroke=\"#000000\" points=\"5534,-1093 5367,-1093 5367,-1025 5534,-1025 5534,-1093\"/>\n<text text-anchor=\"middle\" x=\"5450.5\" y=\"-1077.8\" font-family=\"Times,serif\" font-size=\"14.00\" fill=\"#000000\">JobInvolvement &lt;= 0.167</text>\n<text text-anchor=\"middle\" x=\"5450.5\" y=\"-1062.8\" font-family=\"Times,serif\" font-size=\"14.00\" fill=\"#000000\">gini = 0.09</text>\n<text text-anchor=\"middle\" x=\"5450.5\" y=\"-1047.8\" font-family=\"Times,serif\" font-size=\"14.00\" fill=\"#000000\">samples = 106</text>\n<text text-anchor=\"middle\" x=\"5450.5\" y=\"-1032.8\" font-family=\"Times,serif\" font-size=\"14.00\" fill=\"#000000\">value = [101, 5]</text>\n</g>\n<!-- 202&#45;&gt;203 -->\n<g id=\"edge203\" class=\"edge\">\n<title>202&#45;&gt;203</title>\n<path fill=\"none\" stroke=\"#000000\" d=\"M5526.4996,-1128.9465C5516.4514,-1119.6986 5505.4653,-1109.5876 5495.0474,-1099.9994\"/>\n<polygon fill=\"#000000\" stroke=\"#000000\" points=\"5497.3118,-1097.3267 5487.5836,-1093.13 5492.5714,-1102.4773 5497.3118,-1097.3267\"/>\n</g>\n<!-- 214 -->\n<g id=\"node215\" class=\"node\">\n<title>214</title>\n<polygon fill=\"none\" stroke=\"#000000\" points=\"5647,-1085.5 5552,-1085.5 5552,-1032.5 5647,-1032.5 5647,-1085.5\"/>\n<text text-anchor=\"middle\" x=\"5599.5\" y=\"-1070.3\" font-family=\"Times,serif\" font-size=\"14.00\" fill=\"#000000\">gini = 0.0</text>\n<text text-anchor=\"middle\" x=\"5599.5\" y=\"-1055.3\" font-family=\"Times,serif\" font-size=\"14.00\" fill=\"#000000\">samples = 1</text>\n<text text-anchor=\"middle\" x=\"5599.5\" y=\"-1040.3\" font-family=\"Times,serif\" font-size=\"14.00\" fill=\"#000000\">value = [0, 1]</text>\n</g>\n<!-- 202&#45;&gt;214 -->\n<g id=\"edge214\" class=\"edge\">\n<title>202&#45;&gt;214</title>\n<path fill=\"none\" stroke=\"#000000\" d=\"M5575.2877,-1128.9465C5579.0243,-1118.1519 5583.168,-1106.1813 5586.9558,-1095.2389\"/>\n<polygon fill=\"#000000\" stroke=\"#000000\" points=\"5590.3486,-1096.1369 5590.3123,-1085.5422 5583.7337,-1093.8471 5590.3486,-1096.1369\"/>\n</g>\n<!-- 204 -->\n<g id=\"node205\" class=\"node\">\n<title>204</title>\n<polygon fill=\"none\" stroke=\"#000000\" points=\"5555.5,-989 5339.5,-989 5339.5,-921 5555.5,-921 5555.5,-989\"/>\n<text text-anchor=\"middle\" x=\"5447.5\" y=\"-973.8\" font-family=\"Times,serif\" font-size=\"14.00\" fill=\"#000000\">EnvironmentSatisfaction &lt;= 0.167</text>\n<text text-anchor=\"middle\" x=\"5447.5\" y=\"-958.8\" font-family=\"Times,serif\" font-size=\"14.00\" fill=\"#000000\">gini = 0.444</text>\n<text text-anchor=\"middle\" x=\"5447.5\" y=\"-943.8\" font-family=\"Times,serif\" font-size=\"14.00\" fill=\"#000000\">samples = 9</text>\n<text text-anchor=\"middle\" x=\"5447.5\" y=\"-928.8\" font-family=\"Times,serif\" font-size=\"14.00\" fill=\"#000000\">value = [6, 3]</text>\n</g>\n<!-- 203&#45;&gt;204 -->\n<g id=\"edge204\" class=\"edge\">\n<title>203&#45;&gt;204</title>\n<path fill=\"none\" stroke=\"#000000\" d=\"M5449.5177,-1024.9465C5449.282,-1016.776 5449.0269,-1007.9318 5448.7799,-999.3697\"/>\n<polygon fill=\"#000000\" stroke=\"#000000\" points=\"5452.2715,-999.0249 5448.4845,-989.13 5445.2744,-999.2268 5452.2715,-999.0249\"/>\n</g>\n<!-- 209 -->\n<g id=\"node210\" class=\"node\">\n<title>209</title>\n<polygon fill=\"none\" stroke=\"#000000\" points=\"5675.5,-989 5573.5,-989 5573.5,-921 5675.5,-921 5675.5,-989\"/>\n<text text-anchor=\"middle\" x=\"5624.5\" y=\"-973.8\" font-family=\"Times,serif\" font-size=\"14.00\" fill=\"#000000\">Age &lt;= 0.202</text>\n<text text-anchor=\"middle\" x=\"5624.5\" y=\"-958.8\" font-family=\"Times,serif\" font-size=\"14.00\" fill=\"#000000\">gini = 0.04</text>\n<text text-anchor=\"middle\" x=\"5624.5\" y=\"-943.8\" font-family=\"Times,serif\" font-size=\"14.00\" fill=\"#000000\">samples = 97</text>\n<text text-anchor=\"middle\" x=\"5624.5\" y=\"-928.8\" font-family=\"Times,serif\" font-size=\"14.00\" fill=\"#000000\">value = [95, 2]</text>\n</g>\n<!-- 203&#45;&gt;209 -->\n<g id=\"edge209\" class=\"edge\">\n<title>203&#45;&gt;209</title>\n<path fill=\"none\" stroke=\"#000000\" d=\"M5507.4741,-1024.9465C5525.7844,-1014.0024 5546.1172,-1001.8495 5564.6291,-990.7849\"/>\n<polygon fill=\"#000000\" stroke=\"#000000\" points=\"5566.4841,-993.7538 5573.272,-985.619 5562.8927,-987.7452 5566.4841,-993.7538\"/>\n</g>\n<!-- 205 -->\n<g id=\"node206\" class=\"node\">\n<title>205</title>\n<polygon fill=\"none\" stroke=\"#000000\" points=\"5386,-877.5 5291,-877.5 5291,-824.5 5386,-824.5 5386,-877.5\"/>\n<text text-anchor=\"middle\" x=\"5338.5\" y=\"-862.3\" font-family=\"Times,serif\" font-size=\"14.00\" fill=\"#000000\">gini = 0.0</text>\n<text text-anchor=\"middle\" x=\"5338.5\" y=\"-847.3\" font-family=\"Times,serif\" font-size=\"14.00\" fill=\"#000000\">samples = 2</text>\n<text text-anchor=\"middle\" x=\"5338.5\" y=\"-832.3\" font-family=\"Times,serif\" font-size=\"14.00\" fill=\"#000000\">value = [0, 2]</text>\n</g>\n<!-- 204&#45;&gt;205 -->\n<g id=\"edge205\" class=\"edge\">\n<title>204&#45;&gt;205</title>\n<path fill=\"none\" stroke=\"#000000\" d=\"M5411.8093,-920.9465C5399.5722,-909.2707 5385.893,-896.219 5373.6954,-884.5809\"/>\n<polygon fill=\"#000000\" stroke=\"#000000\" points=\"5375.9694,-881.9131 5366.3182,-877.5422 5371.1372,-886.9777 5375.9694,-881.9131\"/>\n</g>\n<!-- 206 -->\n<g id=\"node207\" class=\"node\">\n<title>206</title>\n<polygon fill=\"none\" stroke=\"#000000\" points=\"5502.5,-885 5404.5,-885 5404.5,-817 5502.5,-817 5502.5,-885\"/>\n<text text-anchor=\"middle\" x=\"5453.5\" y=\"-869.8\" font-family=\"Times,serif\" font-size=\"14.00\" fill=\"#000000\">Age &lt;= 0.369</text>\n<text text-anchor=\"middle\" x=\"5453.5\" y=\"-854.8\" font-family=\"Times,serif\" font-size=\"14.00\" fill=\"#000000\">gini = 0.245</text>\n<text text-anchor=\"middle\" x=\"5453.5\" y=\"-839.8\" font-family=\"Times,serif\" font-size=\"14.00\" fill=\"#000000\">samples = 7</text>\n<text text-anchor=\"middle\" x=\"5453.5\" y=\"-824.8\" font-family=\"Times,serif\" font-size=\"14.00\" fill=\"#000000\">value = [6, 1]</text>\n</g>\n<!-- 204&#45;&gt;206 -->\n<g id=\"edge206\" class=\"edge\">\n<title>204&#45;&gt;206</title>\n<path fill=\"none\" stroke=\"#000000\" d=\"M5449.4646,-920.9465C5449.936,-912.776 5450.4462,-903.9318 5450.9402,-895.3697\"/>\n<polygon fill=\"#000000\" stroke=\"#000000\" points=\"5454.4491,-895.315 5451.531,-885.13 5447.4607,-894.9118 5454.4491,-895.315\"/>\n</g>\n<!-- 207 -->\n<g id=\"node208\" class=\"node\">\n<title>207</title>\n<polygon fill=\"none\" stroke=\"#000000\" points=\"5408,-773.5 5313,-773.5 5313,-720.5 5408,-720.5 5408,-773.5\"/>\n<text text-anchor=\"middle\" x=\"5360.5\" y=\"-758.3\" font-family=\"Times,serif\" font-size=\"14.00\" fill=\"#000000\">gini = 0.0</text>\n<text text-anchor=\"middle\" x=\"5360.5\" y=\"-743.3\" font-family=\"Times,serif\" font-size=\"14.00\" fill=\"#000000\">samples = 1</text>\n<text text-anchor=\"middle\" x=\"5360.5\" y=\"-728.3\" font-family=\"Times,serif\" font-size=\"14.00\" fill=\"#000000\">value = [0, 1]</text>\n</g>\n<!-- 206&#45;&gt;207 -->\n<g id=\"edge207\" class=\"edge\">\n<title>206&#45;&gt;207</title>\n<path fill=\"none\" stroke=\"#000000\" d=\"M5423.0483,-816.9465C5412.8045,-805.491 5401.3762,-792.711 5391.1195,-781.2412\"/>\n<polygon fill=\"#000000\" stroke=\"#000000\" points=\"5393.5097,-778.6634 5384.2348,-773.5422 5388.2917,-783.3295 5393.5097,-778.6634\"/>\n</g>\n<!-- 208 -->\n<g id=\"node209\" class=\"node\">\n<title>208</title>\n<polygon fill=\"none\" stroke=\"#000000\" points=\"5521,-773.5 5426,-773.5 5426,-720.5 5521,-720.5 5521,-773.5\"/>\n<text text-anchor=\"middle\" x=\"5473.5\" y=\"-758.3\" font-family=\"Times,serif\" font-size=\"14.00\" fill=\"#000000\">gini = 0.0</text>\n<text text-anchor=\"middle\" x=\"5473.5\" y=\"-743.3\" font-family=\"Times,serif\" font-size=\"14.00\" fill=\"#000000\">samples = 6</text>\n<text text-anchor=\"middle\" x=\"5473.5\" y=\"-728.3\" font-family=\"Times,serif\" font-size=\"14.00\" fill=\"#000000\">value = [6, 0]</text>\n</g>\n<!-- 206&#45;&gt;208 -->\n<g id=\"edge208\" class=\"edge\">\n<title>206&#45;&gt;208</title>\n<path fill=\"none\" stroke=\"#000000\" d=\"M5460.0487,-816.9465C5462.1035,-806.2621 5464.3797,-794.4254 5466.4665,-783.5742\"/>\n<polygon fill=\"#000000\" stroke=\"#000000\" points=\"5469.9442,-784.0232 5468.3957,-773.5422 5463.0702,-782.7012 5469.9442,-784.0232\"/>\n</g>\n<!-- 210 -->\n<g id=\"node211\" class=\"node\">\n<title>210</title>\n<polygon fill=\"none\" stroke=\"#000000\" points=\"5720.5,-885 5520.5,-885 5520.5,-817 5720.5,-817 5720.5,-885\"/>\n<text text-anchor=\"middle\" x=\"5620.5\" y=\"-869.8\" font-family=\"Times,serif\" font-size=\"14.00\" fill=\"#000000\">TrainingTimesLastYear &lt;= 0.25</text>\n<text text-anchor=\"middle\" x=\"5620.5\" y=\"-854.8\" font-family=\"Times,serif\" font-size=\"14.00\" fill=\"#000000\">gini = 0.375</text>\n<text text-anchor=\"middle\" x=\"5620.5\" y=\"-839.8\" font-family=\"Times,serif\" font-size=\"14.00\" fill=\"#000000\">samples = 8</text>\n<text text-anchor=\"middle\" x=\"5620.5\" y=\"-824.8\" font-family=\"Times,serif\" font-size=\"14.00\" fill=\"#000000\">value = [6, 2]</text>\n</g>\n<!-- 209&#45;&gt;210 -->\n<g id=\"edge210\" class=\"edge\">\n<title>209&#45;&gt;210</title>\n<path fill=\"none\" stroke=\"#000000\" d=\"M5623.1903,-920.9465C5622.876,-912.776 5622.5358,-903.9318 5622.2065,-895.3697\"/>\n<polygon fill=\"#000000\" stroke=\"#000000\" points=\"5625.6945,-894.9881 5621.8127,-885.13 5618.6997,-895.2572 5625.6945,-894.9881\"/>\n</g>\n<!-- 213 -->\n<g id=\"node214\" class=\"node\">\n<title>213</title>\n<polygon fill=\"none\" stroke=\"#000000\" points=\"5840.5,-877.5 5738.5,-877.5 5738.5,-824.5 5840.5,-824.5 5840.5,-877.5\"/>\n<text text-anchor=\"middle\" x=\"5789.5\" y=\"-862.3\" font-family=\"Times,serif\" font-size=\"14.00\" fill=\"#000000\">gini = 0.0</text>\n<text text-anchor=\"middle\" x=\"5789.5\" y=\"-847.3\" font-family=\"Times,serif\" font-size=\"14.00\" fill=\"#000000\">samples = 89</text>\n<text text-anchor=\"middle\" x=\"5789.5\" y=\"-832.3\" font-family=\"Times,serif\" font-size=\"14.00\" fill=\"#000000\">value = [89, 0]</text>\n</g>\n<!-- 209&#45;&gt;213 -->\n<g id=\"edge213\" class=\"edge\">\n<title>209&#45;&gt;213</title>\n<path fill=\"none\" stroke=\"#000000\" d=\"M5675.8026,-922.6638C5695.8275,-910.0421 5718.7282,-895.6077 5738.7041,-883.0168\"/>\n<polygon fill=\"#000000\" stroke=\"#000000\" points=\"5740.7679,-885.8532 5747.3614,-877.5601 5737.0354,-879.9314 5740.7679,-885.8532\"/>\n</g>\n<!-- 211 -->\n<g id=\"node212\" class=\"node\">\n<title>211</title>\n<polygon fill=\"none\" stroke=\"#000000\" points=\"5651,-773.5 5556,-773.5 5556,-720.5 5651,-720.5 5651,-773.5\"/>\n<text text-anchor=\"middle\" x=\"5603.5\" y=\"-758.3\" font-family=\"Times,serif\" font-size=\"14.00\" fill=\"#000000\">gini = 0.0</text>\n<text text-anchor=\"middle\" x=\"5603.5\" y=\"-743.3\" font-family=\"Times,serif\" font-size=\"14.00\" fill=\"#000000\">samples = 2</text>\n<text text-anchor=\"middle\" x=\"5603.5\" y=\"-728.3\" font-family=\"Times,serif\" font-size=\"14.00\" fill=\"#000000\">value = [0, 2]</text>\n</g>\n<!-- 210&#45;&gt;211 -->\n<g id=\"edge211\" class=\"edge\">\n<title>210&#45;&gt;211</title>\n<path fill=\"none\" stroke=\"#000000\" d=\"M5614.9336,-816.9465C5613.1871,-806.2621 5611.2522,-794.4254 5609.4785,-783.5742\"/>\n<polygon fill=\"#000000\" stroke=\"#000000\" points=\"5612.9061,-782.8465 5607.8386,-773.5422 5605.9978,-783.9758 5612.9061,-782.8465\"/>\n</g>\n<!-- 212 -->\n<g id=\"node213\" class=\"node\">\n<title>212</title>\n<polygon fill=\"none\" stroke=\"#000000\" points=\"5764,-773.5 5669,-773.5 5669,-720.5 5764,-720.5 5764,-773.5\"/>\n<text text-anchor=\"middle\" x=\"5716.5\" y=\"-758.3\" font-family=\"Times,serif\" font-size=\"14.00\" fill=\"#000000\">gini = 0.0</text>\n<text text-anchor=\"middle\" x=\"5716.5\" y=\"-743.3\" font-family=\"Times,serif\" font-size=\"14.00\" fill=\"#000000\">samples = 6</text>\n<text text-anchor=\"middle\" x=\"5716.5\" y=\"-728.3\" font-family=\"Times,serif\" font-size=\"14.00\" fill=\"#000000\">value = [6, 0]</text>\n</g>\n<!-- 210&#45;&gt;212 -->\n<g id=\"edge212\" class=\"edge\">\n<title>210&#45;&gt;212</title>\n<path fill=\"none\" stroke=\"#000000\" d=\"M5651.934,-816.9465C5662.61,-805.3809 5674.5322,-792.4652 5685.1978,-780.9107\"/>\n<polygon fill=\"#000000\" stroke=\"#000000\" points=\"5687.7885,-783.2642 5691.9995,-773.5422 5682.6449,-778.5162 5687.7885,-783.2642\"/>\n</g>\n<!-- 216 -->\n<g id=\"node217\" class=\"node\">\n<title>216</title>\n<polygon fill=\"none\" stroke=\"#000000\" points=\"5769,-1085.5 5674,-1085.5 5674,-1032.5 5769,-1032.5 5769,-1085.5\"/>\n<text text-anchor=\"middle\" x=\"5721.5\" y=\"-1070.3\" font-family=\"Times,serif\" font-size=\"14.00\" fill=\"#000000\">gini = 0.0</text>\n<text text-anchor=\"middle\" x=\"5721.5\" y=\"-1055.3\" font-family=\"Times,serif\" font-size=\"14.00\" fill=\"#000000\">samples = 3</text>\n<text text-anchor=\"middle\" x=\"5721.5\" y=\"-1040.3\" font-family=\"Times,serif\" font-size=\"14.00\" fill=\"#000000\">value = [0, 3]</text>\n</g>\n<!-- 215&#45;&gt;216 -->\n<g id=\"edge216\" class=\"edge\">\n<title>215&#45;&gt;216</title>\n<path fill=\"none\" stroke=\"#000000\" d=\"M5745.7123,-1128.9465C5741.9757,-1118.1519 5737.832,-1106.1813 5734.0442,-1095.2389\"/>\n<polygon fill=\"#000000\" stroke=\"#000000\" points=\"5737.2663,-1093.8471 5730.6877,-1085.5422 5730.6514,-1096.1369 5737.2663,-1093.8471\"/>\n</g>\n<!-- 217 -->\n<g id=\"node218\" class=\"node\">\n<title>217</title>\n<polygon fill=\"none\" stroke=\"#000000\" points=\"5972,-1093 5787,-1093 5787,-1025 5972,-1025 5972,-1093\"/>\n<text text-anchor=\"middle\" x=\"5879.5\" y=\"-1077.8\" font-family=\"Times,serif\" font-size=\"14.00\" fill=\"#000000\">TotalWorkingYears &lt;= 0.737</text>\n<text text-anchor=\"middle\" x=\"5879.5\" y=\"-1062.8\" font-family=\"Times,serif\" font-size=\"14.00\" fill=\"#000000\">gini = 0.298</text>\n<text text-anchor=\"middle\" x=\"5879.5\" y=\"-1047.8\" font-family=\"Times,serif\" font-size=\"14.00\" fill=\"#000000\">samples = 11</text>\n<text text-anchor=\"middle\" x=\"5879.5\" y=\"-1032.8\" font-family=\"Times,serif\" font-size=\"14.00\" fill=\"#000000\">value = [9, 2]</text>\n</g>\n<!-- 215&#45;&gt;217 -->\n<g id=\"edge217\" class=\"edge\">\n<title>215&#45;&gt;217</title>\n<path fill=\"none\" stroke=\"#000000\" d=\"M5797.4474,-1128.9465C5808.4012,-1119.6088 5820.3873,-1109.3911 5831.732,-1099.7203\"/>\n<polygon fill=\"#000000\" stroke=\"#000000\" points=\"5834.1233,-1102.2809 5839.4629,-1093.13 5829.5821,-1096.9538 5834.1233,-1102.2809\"/>\n</g>\n<!-- 218 -->\n<g id=\"node219\" class=\"node\">\n<title>218</title>\n<polygon fill=\"none\" stroke=\"#000000\" points=\"5816,-981.5 5721,-981.5 5721,-928.5 5816,-928.5 5816,-981.5\"/>\n<text text-anchor=\"middle\" x=\"5768.5\" y=\"-966.3\" font-family=\"Times,serif\" font-size=\"14.00\" fill=\"#000000\">gini = 0.0</text>\n<text text-anchor=\"middle\" x=\"5768.5\" y=\"-951.3\" font-family=\"Times,serif\" font-size=\"14.00\" fill=\"#000000\">samples = 9</text>\n<text text-anchor=\"middle\" x=\"5768.5\" y=\"-936.3\" font-family=\"Times,serif\" font-size=\"14.00\" fill=\"#000000\">value = [9, 0]</text>\n</g>\n<!-- 217&#45;&gt;218 -->\n<g id=\"edge218\" class=\"edge\">\n<title>217&#45;&gt;218</title>\n<path fill=\"none\" stroke=\"#000000\" d=\"M5843.1544,-1024.9465C5830.6928,-1013.2707 5816.7626,-1000.219 5804.3412,-988.5809\"/>\n<polygon fill=\"#000000\" stroke=\"#000000\" points=\"5806.5191,-985.8253 5796.8287,-981.5422 5801.7331,-990.9335 5806.5191,-985.8253\"/>\n</g>\n<!-- 219 -->\n<g id=\"node220\" class=\"node\">\n<title>219</title>\n<polygon fill=\"none\" stroke=\"#000000\" points=\"5929,-981.5 5834,-981.5 5834,-928.5 5929,-928.5 5929,-981.5\"/>\n<text text-anchor=\"middle\" x=\"5881.5\" y=\"-966.3\" font-family=\"Times,serif\" font-size=\"14.00\" fill=\"#000000\">gini = 0.0</text>\n<text text-anchor=\"middle\" x=\"5881.5\" y=\"-951.3\" font-family=\"Times,serif\" font-size=\"14.00\" fill=\"#000000\">samples = 2</text>\n<text text-anchor=\"middle\" x=\"5881.5\" y=\"-936.3\" font-family=\"Times,serif\" font-size=\"14.00\" fill=\"#000000\">value = [0, 2]</text>\n</g>\n<!-- 217&#45;&gt;219 -->\n<g id=\"edge219\" class=\"edge\">\n<title>217&#45;&gt;219</title>\n<path fill=\"none\" stroke=\"#000000\" d=\"M5880.1549,-1024.9465C5880.3603,-1014.2621 5880.588,-1002.4254 5880.7966,-991.5742\"/>\n<polygon fill=\"#000000\" stroke=\"#000000\" points=\"5884.2966,-991.6076 5880.9896,-981.5422 5877.2979,-991.473 5884.2966,-991.6076\"/>\n</g>\n<!-- 221 -->\n<g id=\"node222\" class=\"node\">\n<title>221</title>\n<polygon fill=\"none\" stroke=\"#000000\" points=\"6420.5,-1197 6206.5,-1197 6206.5,-1129 6420.5,-1129 6420.5,-1197\"/>\n<text text-anchor=\"middle\" x=\"6313.5\" y=\"-1181.8\" font-family=\"Times,serif\" font-size=\"14.00\" fill=\"#000000\">NumCompaniesWorked &lt;= 0.722</text>\n<text text-anchor=\"middle\" x=\"6313.5\" y=\"-1166.8\" font-family=\"Times,serif\" font-size=\"14.00\" fill=\"#000000\">gini = 0.273</text>\n<text text-anchor=\"middle\" x=\"6313.5\" y=\"-1151.8\" font-family=\"Times,serif\" font-size=\"14.00\" fill=\"#000000\">samples = 43</text>\n<text text-anchor=\"middle\" x=\"6313.5\" y=\"-1136.8\" font-family=\"Times,serif\" font-size=\"14.00\" fill=\"#000000\">value = [36, 7]</text>\n</g>\n<!-- 220&#45;&gt;221 -->\n<g id=\"edge221\" class=\"edge\">\n<title>220&#45;&gt;221</title>\n<path fill=\"none\" stroke=\"#000000\" d=\"M6313.5,-1232.9465C6313.5,-1224.776 6313.5,-1215.9318 6313.5,-1207.3697\"/>\n<polygon fill=\"#000000\" stroke=\"#000000\" points=\"6317.0001,-1207.13 6313.5,-1197.13 6310.0001,-1207.13 6317.0001,-1207.13\"/>\n</g>\n<!-- 236 -->\n<g id=\"node237\" class=\"node\">\n<title>236</title>\n<polygon fill=\"none\" stroke=\"#000000\" points=\"6796,-1197 6589,-1197 6589,-1129 6796,-1129 6796,-1197\"/>\n<text text-anchor=\"middle\" x=\"6692.5\" y=\"-1181.8\" font-family=\"Times,serif\" font-size=\"14.00\" fill=\"#000000\">YearsSinceLastPromotion &lt;= 0.1</text>\n<text text-anchor=\"middle\" x=\"6692.5\" y=\"-1166.8\" font-family=\"Times,serif\" font-size=\"14.00\" fill=\"#000000\">gini = 0.469</text>\n<text text-anchor=\"middle\" x=\"6692.5\" y=\"-1151.8\" font-family=\"Times,serif\" font-size=\"14.00\" fill=\"#000000\">samples = 24</text>\n<text text-anchor=\"middle\" x=\"6692.5\" y=\"-1136.8\" font-family=\"Times,serif\" font-size=\"14.00\" fill=\"#000000\">value = [9, 15]</text>\n</g>\n<!-- 220&#45;&gt;236 -->\n<g id=\"edge236\" class=\"edge\">\n<title>220&#45;&gt;236</title>\n<path fill=\"none\" stroke=\"#000000\" d=\"M6415.5636,-1238.9931C6466.0267,-1225.1457 6527.0849,-1208.391 6579.0142,-1194.1412\"/>\n<polygon fill=\"#000000\" stroke=\"#000000\" points=\"6580.2183,-1197.4403 6588.9356,-1191.4187 6578.3659,-1190.6898 6580.2183,-1197.4403\"/>\n</g>\n<!-- 222 -->\n<g id=\"node223\" class=\"node\">\n<title>222</title>\n<polygon fill=\"none\" stroke=\"#000000\" points=\"6318.5,-1093 6096.5,-1093 6096.5,-1025 6318.5,-1025 6318.5,-1093\"/>\n<text text-anchor=\"middle\" x=\"6207.5\" y=\"-1077.8\" font-family=\"Times,serif\" font-size=\"14.00\" fill=\"#000000\">YearsSinceLastPromotion &lt;= 0.367</text>\n<text text-anchor=\"middle\" x=\"6207.5\" y=\"-1062.8\" font-family=\"Times,serif\" font-size=\"14.00\" fill=\"#000000\">gini = 0.188</text>\n<text text-anchor=\"middle\" x=\"6207.5\" y=\"-1047.8\" font-family=\"Times,serif\" font-size=\"14.00\" fill=\"#000000\">samples = 38</text>\n<text text-anchor=\"middle\" x=\"6207.5\" y=\"-1032.8\" font-family=\"Times,serif\" font-size=\"14.00\" fill=\"#000000\">value = [34, 4]</text>\n</g>\n<!-- 221&#45;&gt;222 -->\n<g id=\"edge222\" class=\"edge\">\n<title>221&#45;&gt;222</title>\n<path fill=\"none\" stroke=\"#000000\" d=\"M6278.7916,-1128.9465C6269.4574,-1119.7884 6259.2604,-1109.7838 6249.5727,-1100.2788\"/>\n<polygon fill=\"#000000\" stroke=\"#000000\" points=\"6251.8757,-1097.6351 6242.2863,-1093.13 6246.9733,-1102.6318 6251.8757,-1097.6351\"/>\n</g>\n<!-- 233 -->\n<g id=\"node234\" class=\"node\">\n<title>233</title>\n<polygon fill=\"none\" stroke=\"#000000\" points=\"6504,-1093 6337,-1093 6337,-1025 6504,-1025 6504,-1093\"/>\n<text text-anchor=\"middle\" x=\"6420.5\" y=\"-1077.8\" font-family=\"Times,serif\" font-size=\"14.00\" fill=\"#000000\">MonthlyIncome &lt;= 0.267</text>\n<text text-anchor=\"middle\" x=\"6420.5\" y=\"-1062.8\" font-family=\"Times,serif\" font-size=\"14.00\" fill=\"#000000\">gini = 0.48</text>\n<text text-anchor=\"middle\" x=\"6420.5\" y=\"-1047.8\" font-family=\"Times,serif\" font-size=\"14.00\" fill=\"#000000\">samples = 5</text>\n<text text-anchor=\"middle\" x=\"6420.5\" y=\"-1032.8\" font-family=\"Times,serif\" font-size=\"14.00\" fill=\"#000000\">value = [2, 3]</text>\n</g>\n<!-- 221&#45;&gt;233 -->\n<g id=\"edge233\" class=\"edge\">\n<title>221&#45;&gt;233</title>\n<path fill=\"none\" stroke=\"#000000\" d=\"M6348.5358,-1128.9465C6357.9581,-1119.7884 6368.2513,-1109.7838 6378.0304,-1100.2788\"/>\n<polygon fill=\"#000000\" stroke=\"#000000\" points=\"6380.654,-1102.6097 6385.3855,-1093.13 6375.7751,-1097.59 6380.654,-1102.6097\"/>\n</g>\n<!-- 223 -->\n<g id=\"node224\" class=\"node\">\n<title>223</title>\n<polygon fill=\"none\" stroke=\"#000000\" points=\"6164.5,-989 5964.5,-989 5964.5,-921 6164.5,-921 6164.5,-989\"/>\n<text text-anchor=\"middle\" x=\"6064.5\" y=\"-973.8\" font-family=\"Times,serif\" font-size=\"14.00\" fill=\"#000000\">TrainingTimesLastYear &lt;= 0.25</text>\n<text text-anchor=\"middle\" x=\"6064.5\" y=\"-958.8\" font-family=\"Times,serif\" font-size=\"14.00\" fill=\"#000000\">gini = 0.064</text>\n<text text-anchor=\"middle\" x=\"6064.5\" y=\"-943.8\" font-family=\"Times,serif\" font-size=\"14.00\" fill=\"#000000\">samples = 30</text>\n<text text-anchor=\"middle\" x=\"6064.5\" y=\"-928.8\" font-family=\"Times,serif\" font-size=\"14.00\" fill=\"#000000\">value = [29, 1]</text>\n</g>\n<!-- 222&#45;&gt;223 -->\n<g id=\"edge223\" class=\"edge\">\n<title>222&#45;&gt;223</title>\n<path fill=\"none\" stroke=\"#000000\" d=\"M6160.6765,-1024.9465C6147.5902,-1015.4293 6133.247,-1004.9978 6119.7241,-995.163\"/>\n<polygon fill=\"#000000\" stroke=\"#000000\" points=\"6121.5747,-992.1812 6111.4287,-989.13 6117.4575,-997.8423 6121.5747,-992.1812\"/>\n</g>\n<!-- 228 -->\n<g id=\"node229\" class=\"node\">\n<title>228</title>\n<polygon fill=\"none\" stroke=\"#000000\" points=\"6314,-989 6183,-989 6183,-921 6314,-921 6314,-989\"/>\n<text text-anchor=\"middle\" x=\"6248.5\" y=\"-973.8\" font-family=\"Times,serif\" font-size=\"14.00\" fill=\"#000000\">DailyRate &lt;= 0.428</text>\n<text text-anchor=\"middle\" x=\"6248.5\" y=\"-958.8\" font-family=\"Times,serif\" font-size=\"14.00\" fill=\"#000000\">gini = 0.469</text>\n<text text-anchor=\"middle\" x=\"6248.5\" y=\"-943.8\" font-family=\"Times,serif\" font-size=\"14.00\" fill=\"#000000\">samples = 8</text>\n<text text-anchor=\"middle\" x=\"6248.5\" y=\"-928.8\" font-family=\"Times,serif\" font-size=\"14.00\" fill=\"#000000\">value = [5, 3]</text>\n</g>\n<!-- 222&#45;&gt;228 -->\n<g id=\"edge228\" class=\"edge\">\n<title>222&#45;&gt;228</title>\n<path fill=\"none\" stroke=\"#000000\" d=\"M6220.9249,-1024.9465C6224.2522,-1016.5067 6227.8628,-1007.3479 6231.3416,-998.5239\"/>\n<polygon fill=\"#000000\" stroke=\"#000000\" points=\"6234.6334,-999.7168 6235.0449,-989.13 6228.1211,-997.1495 6234.6334,-999.7168\"/>\n</g>\n<!-- 224 -->\n<g id=\"node225\" class=\"node\">\n<title>224</title>\n<polygon fill=\"none\" stroke=\"#000000\" points=\"6010.5,-885 5858.5,-885 5858.5,-817 6010.5,-817 6010.5,-885\"/>\n<text text-anchor=\"middle\" x=\"5934.5\" y=\"-869.8\" font-family=\"Times,serif\" font-size=\"14.00\" fill=\"#000000\">JobInvolvement &lt;= 0.5</text>\n<text text-anchor=\"middle\" x=\"5934.5\" y=\"-854.8\" font-family=\"Times,serif\" font-size=\"14.00\" fill=\"#000000\">gini = 0.444</text>\n<text text-anchor=\"middle\" x=\"5934.5\" y=\"-839.8\" font-family=\"Times,serif\" font-size=\"14.00\" fill=\"#000000\">samples = 3</text>\n<text text-anchor=\"middle\" x=\"5934.5\" y=\"-824.8\" font-family=\"Times,serif\" font-size=\"14.00\" fill=\"#000000\">value = [2, 1]</text>\n</g>\n<!-- 223&#45;&gt;224 -->\n<g id=\"edge224\" class=\"edge\">\n<title>223&#45;&gt;224</title>\n<path fill=\"none\" stroke=\"#000000\" d=\"M6021.9331,-920.9465C6010.1488,-911.519 5997.2432,-901.1946 5985.0519,-891.4415\"/>\n<polygon fill=\"#000000\" stroke=\"#000000\" points=\"5987.1577,-888.6439 5977.1625,-885.13 5982.7848,-894.11 5987.1577,-888.6439\"/>\n</g>\n<!-- 227 -->\n<g id=\"node228\" class=\"node\">\n<title>227</title>\n<polygon fill=\"none\" stroke=\"#000000\" points=\"6130.5,-877.5 6028.5,-877.5 6028.5,-824.5 6130.5,-824.5 6130.5,-877.5\"/>\n<text text-anchor=\"middle\" x=\"6079.5\" y=\"-862.3\" font-family=\"Times,serif\" font-size=\"14.00\" fill=\"#000000\">gini = 0.0</text>\n<text text-anchor=\"middle\" x=\"6079.5\" y=\"-847.3\" font-family=\"Times,serif\" font-size=\"14.00\" fill=\"#000000\">samples = 27</text>\n<text text-anchor=\"middle\" x=\"6079.5\" y=\"-832.3\" font-family=\"Times,serif\" font-size=\"14.00\" fill=\"#000000\">value = [27, 0]</text>\n</g>\n<!-- 223&#45;&gt;227 -->\n<g id=\"edge227\" class=\"edge\">\n<title>223&#45;&gt;227</title>\n<path fill=\"none\" stroke=\"#000000\" d=\"M6069.4116,-920.9465C6070.9526,-910.2621 6072.6598,-898.4254 6074.2249,-887.5742\"/>\n<polygon fill=\"#000000\" stroke=\"#000000\" points=\"6077.7083,-887.9394 6075.6718,-877.5422 6070.78,-886.9401 6077.7083,-887.9394\"/>\n</g>\n<!-- 225 -->\n<g id=\"node226\" class=\"node\">\n<title>225</title>\n<polygon fill=\"none\" stroke=\"#000000\" points=\"5930,-773.5 5835,-773.5 5835,-720.5 5930,-720.5 5930,-773.5\"/>\n<text text-anchor=\"middle\" x=\"5882.5\" y=\"-758.3\" font-family=\"Times,serif\" font-size=\"14.00\" fill=\"#000000\">gini = 0.0</text>\n<text text-anchor=\"middle\" x=\"5882.5\" y=\"-743.3\" font-family=\"Times,serif\" font-size=\"14.00\" fill=\"#000000\">samples = 1</text>\n<text text-anchor=\"middle\" x=\"5882.5\" y=\"-728.3\" font-family=\"Times,serif\" font-size=\"14.00\" fill=\"#000000\">value = [0, 1]</text>\n</g>\n<!-- 224&#45;&gt;225 -->\n<g id=\"edge225\" class=\"edge\">\n<title>224&#45;&gt;225</title>\n<path fill=\"none\" stroke=\"#000000\" d=\"M5917.4733,-816.9465C5911.9658,-805.9316 5905.8461,-793.6922 5900.2851,-782.5703\"/>\n<polygon fill=\"#000000\" stroke=\"#000000\" points=\"5903.3738,-780.9212 5895.7711,-773.5422 5897.1128,-784.0517 5903.3738,-780.9212\"/>\n</g>\n<!-- 226 -->\n<g id=\"node227\" class=\"node\">\n<title>226</title>\n<polygon fill=\"none\" stroke=\"#000000\" points=\"6043,-773.5 5948,-773.5 5948,-720.5 6043,-720.5 6043,-773.5\"/>\n<text text-anchor=\"middle\" x=\"5995.5\" y=\"-758.3\" font-family=\"Times,serif\" font-size=\"14.00\" fill=\"#000000\">gini = 0.0</text>\n<text text-anchor=\"middle\" x=\"5995.5\" y=\"-743.3\" font-family=\"Times,serif\" font-size=\"14.00\" fill=\"#000000\">samples = 2</text>\n<text text-anchor=\"middle\" x=\"5995.5\" y=\"-728.3\" font-family=\"Times,serif\" font-size=\"14.00\" fill=\"#000000\">value = [2, 0]</text>\n</g>\n<!-- 224&#45;&gt;226 -->\n<g id=\"edge226\" class=\"edge\">\n<title>224&#45;&gt;226</title>\n<path fill=\"none\" stroke=\"#000000\" d=\"M5954.4737,-816.9465C5960.999,-805.8215 5968.2569,-793.4473 5974.8322,-782.237\"/>\n<polygon fill=\"#000000\" stroke=\"#000000\" points=\"5977.8916,-783.9387 5979.932,-773.5422 5971.8536,-780.3971 5977.8916,-783.9387\"/>\n</g>\n<!-- 229 -->\n<g id=\"node230\" class=\"node\">\n<title>229</title>\n<polygon fill=\"none\" stroke=\"#000000\" points=\"6348.5,-885 6148.5,-885 6148.5,-817 6348.5,-817 6348.5,-885\"/>\n<text text-anchor=\"middle\" x=\"6248.5\" y=\"-869.8\" font-family=\"Times,serif\" font-size=\"14.00\" fill=\"#000000\">TrainingTimesLastYear &lt;= 0.75</text>\n<text text-anchor=\"middle\" x=\"6248.5\" y=\"-854.8\" font-family=\"Times,serif\" font-size=\"14.00\" fill=\"#000000\">gini = 0.375</text>\n<text text-anchor=\"middle\" x=\"6248.5\" y=\"-839.8\" font-family=\"Times,serif\" font-size=\"14.00\" fill=\"#000000\">samples = 4</text>\n<text text-anchor=\"middle\" x=\"6248.5\" y=\"-824.8\" font-family=\"Times,serif\" font-size=\"14.00\" fill=\"#000000\">value = [1, 3]</text>\n</g>\n<!-- 228&#45;&gt;229 -->\n<g id=\"edge229\" class=\"edge\">\n<title>228&#45;&gt;229</title>\n<path fill=\"none\" stroke=\"#000000\" d=\"M6248.5,-920.9465C6248.5,-912.776 6248.5,-903.9318 6248.5,-895.3697\"/>\n<polygon fill=\"#000000\" stroke=\"#000000\" points=\"6252.0001,-895.13 6248.5,-885.13 6245.0001,-895.13 6252.0001,-895.13\"/>\n</g>\n<!-- 232 -->\n<g id=\"node233\" class=\"node\">\n<title>232</title>\n<polygon fill=\"none\" stroke=\"#000000\" points=\"6462,-877.5 6367,-877.5 6367,-824.5 6462,-824.5 6462,-877.5\"/>\n<text text-anchor=\"middle\" x=\"6414.5\" y=\"-862.3\" font-family=\"Times,serif\" font-size=\"14.00\" fill=\"#000000\">gini = 0.0</text>\n<text text-anchor=\"middle\" x=\"6414.5\" y=\"-847.3\" font-family=\"Times,serif\" font-size=\"14.00\" fill=\"#000000\">samples = 4</text>\n<text text-anchor=\"middle\" x=\"6414.5\" y=\"-832.3\" font-family=\"Times,serif\" font-size=\"14.00\" fill=\"#000000\">value = [4, 0]</text>\n</g>\n<!-- 228&#45;&gt;232 -->\n<g id=\"edge232\" class=\"edge\">\n<title>228&#45;&gt;232</title>\n<path fill=\"none\" stroke=\"#000000\" d=\"M6302.8546,-920.9465C6322.3701,-908.72 6344.2937,-894.9847 6363.5129,-882.9437\"/>\n<polygon fill=\"#000000\" stroke=\"#000000\" points=\"6365.5186,-885.8174 6372.1346,-877.5422 6361.8021,-879.8854 6365.5186,-885.8174\"/>\n</g>\n<!-- 230 -->\n<g id=\"node231\" class=\"node\">\n<title>230</title>\n<polygon fill=\"none\" stroke=\"#000000\" points=\"6252,-773.5 6157,-773.5 6157,-720.5 6252,-720.5 6252,-773.5\"/>\n<text text-anchor=\"middle\" x=\"6204.5\" y=\"-758.3\" font-family=\"Times,serif\" font-size=\"14.00\" fill=\"#000000\">gini = 0.0</text>\n<text text-anchor=\"middle\" x=\"6204.5\" y=\"-743.3\" font-family=\"Times,serif\" font-size=\"14.00\" fill=\"#000000\">samples = 3</text>\n<text text-anchor=\"middle\" x=\"6204.5\" y=\"-728.3\" font-family=\"Times,serif\" font-size=\"14.00\" fill=\"#000000\">value = [0, 3]</text>\n</g>\n<!-- 229&#45;&gt;230 -->\n<g id=\"edge230\" class=\"edge\">\n<title>229&#45;&gt;230</title>\n<path fill=\"none\" stroke=\"#000000\" d=\"M6234.0928,-816.9465C6229.4792,-806.0418 6224.3579,-793.9368 6219.6903,-782.9043\"/>\n<polygon fill=\"#000000\" stroke=\"#000000\" points=\"6222.8492,-781.3881 6215.7294,-773.5422 6216.4024,-784.1156 6222.8492,-781.3881\"/>\n</g>\n<!-- 231 -->\n<g id=\"node232\" class=\"node\">\n<title>231</title>\n<polygon fill=\"none\" stroke=\"#000000\" points=\"6365,-773.5 6270,-773.5 6270,-720.5 6365,-720.5 6365,-773.5\"/>\n<text text-anchor=\"middle\" x=\"6317.5\" y=\"-758.3\" font-family=\"Times,serif\" font-size=\"14.00\" fill=\"#000000\">gini = 0.0</text>\n<text text-anchor=\"middle\" x=\"6317.5\" y=\"-743.3\" font-family=\"Times,serif\" font-size=\"14.00\" fill=\"#000000\">samples = 1</text>\n<text text-anchor=\"middle\" x=\"6317.5\" y=\"-728.3\" font-family=\"Times,serif\" font-size=\"14.00\" fill=\"#000000\">value = [1, 0]</text>\n</g>\n<!-- 229&#45;&gt;231 -->\n<g id=\"edge231\" class=\"edge\">\n<title>229&#45;&gt;231</title>\n<path fill=\"none\" stroke=\"#000000\" d=\"M6271.0932,-816.9465C6278.5473,-805.7113 6286.8467,-793.2021 6294.3423,-781.9043\"/>\n<polygon fill=\"#000000\" stroke=\"#000000\" points=\"6297.2782,-783.81 6299.8903,-773.5422 6291.4453,-779.94 6297.2782,-783.81\"/>\n</g>\n<!-- 234 -->\n<g id=\"node235\" class=\"node\">\n<title>234</title>\n<polygon fill=\"none\" stroke=\"#000000\" points=\"6427,-981.5 6332,-981.5 6332,-928.5 6427,-928.5 6427,-981.5\"/>\n<text text-anchor=\"middle\" x=\"6379.5\" y=\"-966.3\" font-family=\"Times,serif\" font-size=\"14.00\" fill=\"#000000\">gini = 0.0</text>\n<text text-anchor=\"middle\" x=\"6379.5\" y=\"-951.3\" font-family=\"Times,serif\" font-size=\"14.00\" fill=\"#000000\">samples = 2</text>\n<text text-anchor=\"middle\" x=\"6379.5\" y=\"-936.3\" font-family=\"Times,serif\" font-size=\"14.00\" fill=\"#000000\">value = [2, 0]</text>\n</g>\n<!-- 233&#45;&gt;234 -->\n<g id=\"edge234\" class=\"edge\">\n<title>233&#45;&gt;234</title>\n<path fill=\"none\" stroke=\"#000000\" d=\"M6407.0751,-1024.9465C6402.7761,-1014.0418 6398.0039,-1001.9368 6393.6546,-990.9043\"/>\n<polygon fill=\"#000000\" stroke=\"#000000\" points=\"6396.8875,-989.5617 6389.9637,-981.5422 6390.3753,-992.129 6396.8875,-989.5617\"/>\n</g>\n<!-- 235 -->\n<g id=\"node236\" class=\"node\">\n<title>235</title>\n<polygon fill=\"none\" stroke=\"#000000\" points=\"6540,-981.5 6445,-981.5 6445,-928.5 6540,-928.5 6540,-981.5\"/>\n<text text-anchor=\"middle\" x=\"6492.5\" y=\"-966.3\" font-family=\"Times,serif\" font-size=\"14.00\" fill=\"#000000\">gini = 0.0</text>\n<text text-anchor=\"middle\" x=\"6492.5\" y=\"-951.3\" font-family=\"Times,serif\" font-size=\"14.00\" fill=\"#000000\">samples = 3</text>\n<text text-anchor=\"middle\" x=\"6492.5\" y=\"-936.3\" font-family=\"Times,serif\" font-size=\"14.00\" fill=\"#000000\">value = [0, 3]</text>\n</g>\n<!-- 233&#45;&gt;235 -->\n<g id=\"edge235\" class=\"edge\">\n<title>233&#45;&gt;235</title>\n<path fill=\"none\" stroke=\"#000000\" d=\"M6444.0755,-1024.9465C6451.8537,-1013.7113 6460.5139,-1001.2021 6468.3355,-989.9043\"/>\n<polygon fill=\"#000000\" stroke=\"#000000\" points=\"6471.3102,-991.7564 6474.1247,-981.5422 6465.5548,-987.7719 6471.3102,-991.7564\"/>\n</g>\n<!-- 237 -->\n<g id=\"node238\" class=\"node\">\n<title>237</title>\n<polygon fill=\"none\" stroke=\"#000000\" points=\"6787.5,-1093 6597.5,-1093 6597.5,-1025 6787.5,-1025 6787.5,-1093\"/>\n<text text-anchor=\"middle\" x=\"6692.5\" y=\"-1077.8\" font-family=\"Times,serif\" font-size=\"14.00\" fill=\"#000000\">DistanceFromHome &lt;= 0.821</text>\n<text text-anchor=\"middle\" x=\"6692.5\" y=\"-1062.8\" font-family=\"Times,serif\" font-size=\"14.00\" fill=\"#000000\">gini = 0.49</text>\n<text text-anchor=\"middle\" x=\"6692.5\" y=\"-1047.8\" font-family=\"Times,serif\" font-size=\"14.00\" fill=\"#000000\">samples = 14</text>\n<text text-anchor=\"middle\" x=\"6692.5\" y=\"-1032.8\" font-family=\"Times,serif\" font-size=\"14.00\" fill=\"#000000\">value = [8, 6]</text>\n</g>\n<!-- 236&#45;&gt;237 -->\n<g id=\"edge237\" class=\"edge\">\n<title>236&#45;&gt;237</title>\n<path fill=\"none\" stroke=\"#000000\" d=\"M6692.5,-1128.9465C6692.5,-1120.776 6692.5,-1111.9318 6692.5,-1103.3697\"/>\n<polygon fill=\"#000000\" stroke=\"#000000\" points=\"6696.0001,-1103.13 6692.5,-1093.13 6689.0001,-1103.13 6696.0001,-1103.13\"/>\n</g>\n<!-- 244 -->\n<g id=\"node245\" class=\"node\">\n<title>244</title>\n<polygon fill=\"none\" stroke=\"#000000\" points=\"7026,-1093 6841,-1093 6841,-1025 7026,-1025 7026,-1093\"/>\n<text text-anchor=\"middle\" x=\"6933.5\" y=\"-1077.8\" font-family=\"Times,serif\" font-size=\"14.00\" fill=\"#000000\">TotalWorkingYears &lt;= 0.562</text>\n<text text-anchor=\"middle\" x=\"6933.5\" y=\"-1062.8\" font-family=\"Times,serif\" font-size=\"14.00\" fill=\"#000000\">gini = 0.18</text>\n<text text-anchor=\"middle\" x=\"6933.5\" y=\"-1047.8\" font-family=\"Times,serif\" font-size=\"14.00\" fill=\"#000000\">samples = 10</text>\n<text text-anchor=\"middle\" x=\"6933.5\" y=\"-1032.8\" font-family=\"Times,serif\" font-size=\"14.00\" fill=\"#000000\">value = [1, 9]</text>\n</g>\n<!-- 236&#45;&gt;244 -->\n<g id=\"edge244\" class=\"edge\">\n<title>236&#45;&gt;244</title>\n<path fill=\"none\" stroke=\"#000000\" d=\"M6771.4124,-1128.9465C6794.9232,-1118.8008 6820.8415,-1107.6161 6844.926,-1097.2228\"/>\n<polygon fill=\"#000000\" stroke=\"#000000\" points=\"6846.6155,-1100.3058 6854.4103,-1093.13 6843.8419,-1093.8787 6846.6155,-1100.3058\"/>\n</g>\n<!-- 238 -->\n<g id=\"node239\" class=\"node\">\n<title>238</title>\n<polygon fill=\"none\" stroke=\"#000000\" points=\"6755,-989 6558,-989 6558,-921 6755,-921 6755,-989\"/>\n<text text-anchor=\"middle\" x=\"6656.5\" y=\"-973.8\" font-family=\"Times,serif\" font-size=\"14.00\" fill=\"#000000\">RelationshipSatisfaction &lt;= 0.5</text>\n<text text-anchor=\"middle\" x=\"6656.5\" y=\"-958.8\" font-family=\"Times,serif\" font-size=\"14.00\" fill=\"#000000\">gini = 0.397</text>\n<text text-anchor=\"middle\" x=\"6656.5\" y=\"-943.8\" font-family=\"Times,serif\" font-size=\"14.00\" fill=\"#000000\">samples = 11</text>\n<text text-anchor=\"middle\" x=\"6656.5\" y=\"-928.8\" font-family=\"Times,serif\" font-size=\"14.00\" fill=\"#000000\">value = [8, 3]</text>\n</g>\n<!-- 237&#45;&gt;238 -->\n<g id=\"edge238\" class=\"edge\">\n<title>237&#45;&gt;238</title>\n<path fill=\"none\" stroke=\"#000000\" d=\"M6680.7123,-1024.9465C6677.8219,-1016.5965 6674.6879,-1007.5427 6671.6635,-998.8056\"/>\n<polygon fill=\"#000000\" stroke=\"#000000\" points=\"6674.8929,-997.435 6668.3142,-989.13 6668.2779,-999.7248 6674.8929,-997.435\"/>\n</g>\n<!-- 243 -->\n<g id=\"node244\" class=\"node\">\n<title>243</title>\n<polygon fill=\"none\" stroke=\"#000000\" points=\"6868,-981.5 6773,-981.5 6773,-928.5 6868,-928.5 6868,-981.5\"/>\n<text text-anchor=\"middle\" x=\"6820.5\" y=\"-966.3\" font-family=\"Times,serif\" font-size=\"14.00\" fill=\"#000000\">gini = 0.0</text>\n<text text-anchor=\"middle\" x=\"6820.5\" y=\"-951.3\" font-family=\"Times,serif\" font-size=\"14.00\" fill=\"#000000\">samples = 3</text>\n<text text-anchor=\"middle\" x=\"6820.5\" y=\"-936.3\" font-family=\"Times,serif\" font-size=\"14.00\" fill=\"#000000\">value = [0, 3]</text>\n</g>\n<!-- 237&#45;&gt;243 -->\n<g id=\"edge243\" class=\"edge\">\n<title>237&#45;&gt;243</title>\n<path fill=\"none\" stroke=\"#000000\" d=\"M6734.412,-1024.9465C6749.0533,-1013.0504 6765.4526,-999.726 6779.9785,-987.9237\"/>\n<polygon fill=\"#000000\" stroke=\"#000000\" points=\"6782.2786,-990.5645 6787.8327,-981.5422 6777.8645,-985.1317 6782.2786,-990.5645\"/>\n</g>\n<!-- 239 -->\n<g id=\"node240\" class=\"node\">\n<title>239</title>\n<polygon fill=\"none\" stroke=\"#000000\" points=\"6639,-877.5 6544,-877.5 6544,-824.5 6639,-824.5 6639,-877.5\"/>\n<text text-anchor=\"middle\" x=\"6591.5\" y=\"-862.3\" font-family=\"Times,serif\" font-size=\"14.00\" fill=\"#000000\">gini = 0.0</text>\n<text text-anchor=\"middle\" x=\"6591.5\" y=\"-847.3\" font-family=\"Times,serif\" font-size=\"14.00\" fill=\"#000000\">samples = 2</text>\n<text text-anchor=\"middle\" x=\"6591.5\" y=\"-832.3\" font-family=\"Times,serif\" font-size=\"14.00\" fill=\"#000000\">value = [0, 2]</text>\n</g>\n<!-- 238&#45;&gt;239 -->\n<g id=\"edge239\" class=\"edge\">\n<title>238&#45;&gt;239</title>\n<path fill=\"none\" stroke=\"#000000\" d=\"M6635.2166,-920.9465C6628.2634,-909.8215 6620.5295,-897.4473 6613.5231,-886.237\"/>\n<polygon fill=\"#000000\" stroke=\"#000000\" points=\"6616.3569,-884.1671 6608.0889,-877.5422 6610.4209,-887.8772 6616.3569,-884.1671\"/>\n</g>\n<!-- 240 -->\n<g id=\"node241\" class=\"node\">\n<title>240</title>\n<polygon fill=\"none\" stroke=\"#000000\" points=\"6824,-885 6657,-885 6657,-817 6824,-817 6824,-885\"/>\n<text text-anchor=\"middle\" x=\"6740.5\" y=\"-869.8\" font-family=\"Times,serif\" font-size=\"14.00\" fill=\"#000000\">MonthlyIncome &lt;= 0.374</text>\n<text text-anchor=\"middle\" x=\"6740.5\" y=\"-854.8\" font-family=\"Times,serif\" font-size=\"14.00\" fill=\"#000000\">gini = 0.198</text>\n<text text-anchor=\"middle\" x=\"6740.5\" y=\"-839.8\" font-family=\"Times,serif\" font-size=\"14.00\" fill=\"#000000\">samples = 9</text>\n<text text-anchor=\"middle\" x=\"6740.5\" y=\"-824.8\" font-family=\"Times,serif\" font-size=\"14.00\" fill=\"#000000\">value = [8, 1]</text>\n</g>\n<!-- 238&#45;&gt;240 -->\n<g id=\"edge240\" class=\"edge\">\n<title>238&#45;&gt;240</title>\n<path fill=\"none\" stroke=\"#000000\" d=\"M6684.0047,-920.9465C6691.1841,-912.0578 6699.0076,-902.3716 6706.481,-893.1188\"/>\n<polygon fill=\"#000000\" stroke=\"#000000\" points=\"6709.3729,-895.1086 6712.9335,-885.13 6703.9273,-890.7102 6709.3729,-895.1086\"/>\n</g>\n<!-- 241 -->\n<g id=\"node242\" class=\"node\">\n<title>241</title>\n<polygon fill=\"none\" stroke=\"#000000\" points=\"6731,-773.5 6636,-773.5 6636,-720.5 6731,-720.5 6731,-773.5\"/>\n<text text-anchor=\"middle\" x=\"6683.5\" y=\"-758.3\" font-family=\"Times,serif\" font-size=\"14.00\" fill=\"#000000\">gini = 0.0</text>\n<text text-anchor=\"middle\" x=\"6683.5\" y=\"-743.3\" font-family=\"Times,serif\" font-size=\"14.00\" fill=\"#000000\">samples = 8</text>\n<text text-anchor=\"middle\" x=\"6683.5\" y=\"-728.3\" font-family=\"Times,serif\" font-size=\"14.00\" fill=\"#000000\">value = [8, 0]</text>\n</g>\n<!-- 240&#45;&gt;241 -->\n<g id=\"edge241\" class=\"edge\">\n<title>240&#45;&gt;241</title>\n<path fill=\"none\" stroke=\"#000000\" d=\"M6721.8361,-816.9465C6715.7991,-805.9316 6709.0909,-793.6922 6702.9953,-782.5703\"/>\n<polygon fill=\"#000000\" stroke=\"#000000\" points=\"6705.9227,-780.6292 6698.0471,-773.5422 6699.7842,-783.9936 6705.9227,-780.6292\"/>\n</g>\n<!-- 242 -->\n<g id=\"node243\" class=\"node\">\n<title>242</title>\n<polygon fill=\"none\" stroke=\"#000000\" points=\"6844,-773.5 6749,-773.5 6749,-720.5 6844,-720.5 6844,-773.5\"/>\n<text text-anchor=\"middle\" x=\"6796.5\" y=\"-758.3\" font-family=\"Times,serif\" font-size=\"14.00\" fill=\"#000000\">gini = 0.0</text>\n<text text-anchor=\"middle\" x=\"6796.5\" y=\"-743.3\" font-family=\"Times,serif\" font-size=\"14.00\" fill=\"#000000\">samples = 1</text>\n<text text-anchor=\"middle\" x=\"6796.5\" y=\"-728.3\" font-family=\"Times,serif\" font-size=\"14.00\" fill=\"#000000\">value = [0, 1]</text>\n</g>\n<!-- 240&#45;&gt;242 -->\n<g id=\"edge242\" class=\"edge\">\n<title>240&#45;&gt;242</title>\n<path fill=\"none\" stroke=\"#000000\" d=\"M6758.8365,-816.9465C6764.7676,-805.9316 6771.3581,-793.6922 6777.3468,-782.5703\"/>\n<polygon fill=\"#000000\" stroke=\"#000000\" points=\"6780.5487,-784.0063 6782.2081,-773.5422 6774.3854,-780.6875 6780.5487,-784.0063\"/>\n</g>\n<!-- 245 -->\n<g id=\"node246\" class=\"node\">\n<title>245</title>\n<polygon fill=\"none\" stroke=\"#000000\" points=\"6981,-981.5 6886,-981.5 6886,-928.5 6981,-928.5 6981,-981.5\"/>\n<text text-anchor=\"middle\" x=\"6933.5\" y=\"-966.3\" font-family=\"Times,serif\" font-size=\"14.00\" fill=\"#000000\">gini = 0.0</text>\n<text text-anchor=\"middle\" x=\"6933.5\" y=\"-951.3\" font-family=\"Times,serif\" font-size=\"14.00\" fill=\"#000000\">samples = 9</text>\n<text text-anchor=\"middle\" x=\"6933.5\" y=\"-936.3\" font-family=\"Times,serif\" font-size=\"14.00\" fill=\"#000000\">value = [0, 9]</text>\n</g>\n<!-- 244&#45;&gt;245 -->\n<g id=\"edge245\" class=\"edge\">\n<title>244&#45;&gt;245</title>\n<path fill=\"none\" stroke=\"#000000\" d=\"M6933.5,-1024.9465C6933.5,-1014.2621 6933.5,-1002.4254 6933.5,-991.5742\"/>\n<polygon fill=\"#000000\" stroke=\"#000000\" points=\"6937.0001,-991.5421 6933.5,-981.5422 6930.0001,-991.5422 6937.0001,-991.5421\"/>\n</g>\n<!-- 246 -->\n<g id=\"node247\" class=\"node\">\n<title>246</title>\n<polygon fill=\"none\" stroke=\"#000000\" points=\"7094,-981.5 6999,-981.5 6999,-928.5 7094,-928.5 7094,-981.5\"/>\n<text text-anchor=\"middle\" x=\"7046.5\" y=\"-966.3\" font-family=\"Times,serif\" font-size=\"14.00\" fill=\"#000000\">gini = 0.0</text>\n<text text-anchor=\"middle\" x=\"7046.5\" y=\"-951.3\" font-family=\"Times,serif\" font-size=\"14.00\" fill=\"#000000\">samples = 1</text>\n<text text-anchor=\"middle\" x=\"7046.5\" y=\"-936.3\" font-family=\"Times,serif\" font-size=\"14.00\" fill=\"#000000\">value = [1, 0]</text>\n</g>\n<!-- 244&#45;&gt;246 -->\n<g id=\"edge246\" class=\"edge\">\n<title>244&#45;&gt;246</title>\n<path fill=\"none\" stroke=\"#000000\" d=\"M6970.5004,-1024.9465C6983.1866,-1013.2707 6997.3678,-1000.219 7010.013,-988.5809\"/>\n<polygon fill=\"#000000\" stroke=\"#000000\" points=\"7012.6731,-990.8895 7017.6609,-981.5422 7007.9327,-985.7389 7012.6731,-990.8895\"/>\n</g>\n</g>\n</svg>\n",
            "text/plain": [
              "<graphviz.files.Source at 0x7f07c5cf2d10>"
            ]
          },
          "metadata": {
            "tags": []
          },
          "execution_count": 21
        }
      ]
    },
    {
      "cell_type": "markdown",
      "metadata": {
        "id": "nWX-1InxMLbU"
      },
      "source": [
        "**1.2.6 Look at the visualization, what is the most important factor to decide if an employee is going to leave or not? (0.4 points)**"
      ]
    },
    {
      "cell_type": "code",
      "metadata": {
        "id": "9mwt0Sc4MLbc"
      },
      "source": [
        ""
      ],
      "execution_count": null,
      "outputs": []
    },
    {
      "cell_type": "markdown",
      "metadata": {
        "id": "zEFpbEYHMLb2"
      },
      "source": [
        "**<font color='red'>Answer: I'd would say that the most important factor is the TotalWorkingYears, and MonthlyIncome.</font>**"
      ]
    },
    {
      "cell_type": "markdown",
      "metadata": {
        "id": "Puw9lIlbMLb9"
      },
      "source": [
        "\n",
        "**1.2.7 Plot the classification report for the same decision tree. Which evaluation metrics out of precision and recall, would you consider for this specific case-study? Please elaborate your answer. (0.4 points)**"
      ]
    },
    {
      "cell_type": "code",
      "metadata": {
        "colab": {
          "base_uri": "https://localhost:8080/",
          "height": 316
        },
        "id": "TfQz4VSNMLcH",
        "outputId": "83fe3a41-9fb5-4539-fe8f-bf0a5f8017cc"
      },
      "source": [
        "from sklearn.metrics import precision_recall_curve\n",
        "from sklearn.metrics import plot_precision_recall_curve\n",
        "import matplotlib.pyplot as plt\n",
        "from sklearn.metrics import average_precision_score\n",
        "\n",
        "average_precision = average_precision_score(y_test, y_pred)\n",
        "\n",
        "print('Average precision-recall score: {0:0.2f}'.format(\n",
        "      average_precision))\n",
        "\n",
        "# Compute precision-recall pairs for different probability thresholds.\n",
        "disp = plot_precision_recall_curve(model, X_test, y_test,label=\"AP= \"+str(average_precision));\n",
        "disp.ax_.set_title('2-class Precision-Recall curve: '\n",
        "                   'AP={0:0.2f}'.format(average_precision));\n",
        "plt.legend();\n"
      ],
      "execution_count": null,
      "outputs": [
        {
          "output_type": "stream",
          "text": [
            "Average precision-recall score: 0.20\n"
          ],
          "name": "stdout"
        },
        {
          "output_type": "display_data",
          "data": {
            "image/png": "[encoded data removed]",
            "text/plain": [
              "<Figure size 432x288 with 1 Axes>"
            ]
          },
          "metadata": {
            "tags": []
          }
        }
      ]
    },
    {
      "cell_type": "markdown",
      "metadata": {
        "id": "z4QrRGORMLci"
      },
      "source": [
        "**<font color='red'>Answer:</font>** \n"
      ]
    },
    {
      "cell_type": "markdown",
      "metadata": {
        "id": "3cyKqrkDMLcs"
      },
      "source": [
        "**1.2.8 Calculate the F1 score of the model in training data and compare it with the F1 score in test  data. What is the phenomenon known as? (0.4 points)**"
      ]
    },
    {
      "cell_type": "code",
      "metadata": {
        "colab": {
          "base_uri": "https://localhost:8080/"
        },
        "id": "Cnx2h53qMLc1",
        "outputId": "f9c95d64-1f48-4a3d-c2aa-83225083d2c3"
      },
      "source": [
        "from sklearn.metrics import f1_score\n",
        "y_train_pred = model.predict(X_train)\n",
        "print(f\"F1_score macro of train data: {f1_score(y_train, y_train_pred, average='macro')}, and test data: {f1_score(y_test, y_pred, average='macro')}\")\n",
        "print(f\"\\nF1_score micro of train data: {f1_score(y_train, y_train_pred, average='micro')}, and test data: {f1_score(y_test, y_pred, average='micro')}\")\n",
        "print(f\"\\nF1_score weighted of train data: {f1_score(y_train, y_train_pred, average='weighted')}, and test data: {f1_score(y_test, y_pred, average='weighted')}\")"
      ],
      "execution_count": null,
      "outputs": [
        {
          "output_type": "stream",
          "text": [
            "F1_score macro of train data: 1.0, and test data: 0.5804984553501055\n",
            "\n",
            "F1_score micro of train data: 1.0, and test data: 0.7619047619047619\n",
            "\n",
            "F1_score weighted of train data: 1.0, and test data: 0.7687856907740764\n"
          ],
          "name": "stdout"
        }
      ]
    },
    {
      "cell_type": "markdown",
      "metadata": {
        "id": "I2WYaL4kMLdU"
      },
      "source": [
        "**<font color='red'>Answer: This is called underfitting because the model performs well on the training data but doesn't perform as good on the test data.</font>**"
      ]
    },
    {
      "cell_type": "markdown",
      "metadata": {
        "id": "iRsrRj76CjjB"
      },
      "source": [
        "**1.2.9 Use cross validation score to ensure that our model is generalizing well. Try different combinations of maximum depth parameters for the decision tree and choose the best while using cross validation. Please complete the code below and report the best maximum depth. (0.5 points)**"
      ]
    },
    {
      "cell_type": "code",
      "metadata": {
        "colab": {
          "base_uri": "https://localhost:8080/"
        },
        "id": "d8jBr23zDzMn",
        "outputId": "c1162941-c140-41f6-f942-9c9dcf444672"
      },
      "source": [
        "from sklearn.model_selection import KFold\n",
        "from sklearn.model_selection import cross_val_score\n",
        "from sklearn.model_selection import cross_validate\n",
        "from numpy import mean\n",
        "from numpy import std\n",
        "\n",
        "best_score = 0\n",
        "best_depth = 0\n",
        "\n",
        "for i in range(2,12):\n",
        "    clf = DT(max_depth=i, random_state = 0)\n",
        "    #TODO: Perform 5-fold cross validation. \n",
        "    cv = KFold(n_splits = 5, shuffle = True, random_state = 1)\n",
        "    #set scoring metrics to f1\n",
        "    scores = cross_validate(clf, X, y, cv=3,scoring=('f1'),return_train_score=True)\n",
        "    #TODO: calculate the mean score (f1)\n",
        "    mean_score = scores['test_score']\n",
        "    #TODO: compare the mea scores to find the best depth\n",
        "    print('Mean score', mean_score)\n",
        "    best_depth = mean_score\n",
        "print('\\n The best tree depth is: ', best_depth )"
      ],
      "execution_count": null,
      "outputs": [
        {
          "output_type": "stream",
          "text": [
            "Mean score [0.29357798 0.35087719 0.31578947]\n",
            "Mean score [0.16666667 0.2745098  0.31858407]\n",
            "Mean score [0.36220472 0.38983051 0.40625   ]\n",
            "Mean score [0.35772358 0.41935484 0.3220339 ]\n",
            "Mean score [0.3125     0.46268657 0.390625  ]\n",
            "Mean score [0.288      0.47142857 0.39416058]\n",
            "Mean score [0.36986301 0.41891892 0.34532374]\n",
            "Mean score [0.37086093 0.38356164 0.39716312]\n",
            "Mean score [0.36363636 0.38926174 0.35211268]\n",
            "Mean score [0.37908497 0.44       0.38410596]\n",
            "\n",
            " The best tree depth is:  [0.37908497 0.44       0.38410596]\n"
          ],
          "name": "stdout"
        }
      ]
    },
    {
      "cell_type": "markdown",
      "metadata": {
        "id": "zFTtDD7GMLda"
      },
      "source": [
        "**1.2.10 Use SVM with default parameters to classify test data and report accuracy, recall, precision, f1-score and AUC. Set the random_state equal to 0. (0.4 points)**"
      ]
    },
    {
      "cell_type": "code",
      "metadata": {
        "colab": {
          "base_uri": "https://localhost:8080/"
        },
        "id": "w23rLdVpMLd7",
        "outputId": "e8b9eb1d-c117-4970-e8df-cd760ca901d6"
      },
      "source": [
        "from sklearn.svm import SVC\n",
        "from sklearn.metrics import average_precision_score\n",
        "from sklearn.metrics import auc\n",
        "from sklearn.metrics import roc_curve\n",
        "\n",
        "\n",
        "svm_model = SVC(random_state=0)\n",
        "\n",
        "#TODO: train the model\n",
        "\n",
        "svm_model.fit(X_train,y_train)\n",
        "#TODO: predict on test set\n",
        "preds = svm_model.predict(X_test)\n",
        "#TODO: calculate the metrics\n",
        "confusion_materix = metrics.confusion_matrix(y_test,preds)\n",
        "\n",
        "\n",
        "TP = confusion_materix[0][0]\n",
        "FP = confusion_materix[0][1] \n",
        "FN = confusion_materix[1][0]\n",
        "TN = confusion_materix[1][1]\n",
        "\n",
        "acc = (TP+TN)/(TP+FP+FN+TN)\n",
        "rec = TP/(TP+FN)\n",
        "prec = TP/(TP+FP)\n",
        "f1_score = 2*((rec*prec)/(rec+prec))\n",
        "\n",
        "print('Accuracy: ', acc)\n",
        "print('Recall: ', rec)\n",
        "print('Precision: ', prec)\n",
        "print('F1_score: ', f1_score)\n",
        "print('AUC: ', auc)\n"
      ],
      "execution_count": null,
      "outputs": [
        {
          "output_type": "stream",
          "text": [
            "Accuracy:  0.8684807256235828\n",
            "Recall:  0.8699763593380615\n",
            "Precision:  0.9919137466307277\n",
            "F1_score:  0.9269521410579347\n",
            "AUC:  <function auc at 0x7f07c94394d0>\n"
          ],
          "name": "stdout"
        }
      ]
    },
    {
      "cell_type": "markdown",
      "metadata": {
        "id": "Y3NxlOM0MLeL"
      },
      "source": [
        "**1.2.11 Use Logistic Regression with default parameters to classify test data and report accuracy, recall, precision, f1-score, AUC. Set the random_state equal to 0 (0.4 points)**"
      ]
    },
    {
      "cell_type": "code",
      "metadata": {
        "colab": {
          "base_uri": "https://localhost:8080/"
        },
        "id": "tg2_nAivMLeT",
        "outputId": "4cddb5c7-e689-48de-b759-915736e72faa"
      },
      "source": [
        "from sklearn.linear_model import LogisticRegression\n",
        "lr = LogisticRegression(random_state=0)\n",
        "\n",
        "#TODO: train the model\n",
        "lr.fit(X_train, y_train)\n",
        "#TODO: predict on test set\n",
        "lr.predict(X_test)\n",
        "#TODO: calculate the metrics\n",
        "\n",
        "confusion_matrix = metrics.confusion_matrix(y_test, y_pred)\n",
        "\n",
        "TP = confusion_materix[0][0]\n",
        "FP = confusion_materix[0][1] \n",
        "FN = confusion_materix[1][0]\n",
        "TN = confusion_materix[1][1]\n",
        "\n",
        "acc = (TP+TN)/(TP+FP+FN+TN)\n",
        "rec = TP/(TP+FN)\n",
        "prec = TP/(TP+FP)\n",
        "f1_score = 2*((rec*prec)/(rec+prec))\n",
        "\n",
        "\n",
        "print('Accuracy: ', acc)\n",
        "print('Recall: ', rec)\n",
        "print('Precision: ', prec)\n",
        "print('F1_score: ', f1_score)\n",
        "print('AUC: ', auc)"
      ],
      "execution_count": null,
      "outputs": [
        {
          "output_type": "stream",
          "text": [
            "Accuracy:  0.8684807256235828\n",
            "Recall:  0.8699763593380615\n",
            "Precision:  0.9919137466307277\n",
            "F1_score:  0.9269521410579347\n",
            "AUC:  <function auc at 0x7f07c94394d0>\n"
          ],
          "name": "stdout"
        }
      ]
    },
    {
      "cell_type": "markdown",
      "metadata": {
        "id": "ouBtSaYTJBcL"
      },
      "source": [
        "**1.2.12 One of the parameters for the Logistic regression is tol which sets the tolerance for the stopping criteria. We are going to calculate the log loss metric for different values of tol. Please fill in the code below and plot the log loss values. Which one of tol values is better for our model based on log loss? (0.5 points)**\n"
      ]
    },
    {
      "cell_type": "code",
      "metadata": {
        "colab": {
          "base_uri": "https://localhost:8080/",
          "height": 300
        },
        "id": "CQpm6s2SJxJG",
        "outputId": "43934a63-cf20-4b99-de9a-0a180d91dea0"
      },
      "source": [
        "from sklearn.linear_model import LogisticRegression as LR\n",
        "from sklearn.metrics import log_loss\n",
        "import matplotlib.pyplot as plt\n",
        "\n",
        "log_loss_list = []\n",
        "for tol in [0.9, 0.5, 0.1,  0.001, 0.0001, 0.000001, 0.000001]:\n",
        "    \n",
        "    #TODO: initialize the model\n",
        "    lr_model = LR(tol=tol)\n",
        "    #TODO: train the model\n",
        "    result = lr_model.fit(X_train, y_train)\n",
        "    #TODO: predict on test set\n",
        "    probs = lr_model.predict(X_test)\n",
        "    #TODO: calculate logloss\n",
        "    loss = log_loss(y_test, probs)\n",
        "    #TODO: use log_loss list to store the different logloss for different tol\n",
        "    log_loss_list.append(loss)\n",
        "tol = [0.9, 0.5, 0.1,  0.001, 0.0001, 0.000001, 0.000001]\n",
        "plt.plot(tol, log_loss_list)\n",
        "plt.ylabel(\"Log Loss\")\n",
        "plt.xlabel(\"tol\")\n",
        "plt.show()\n",
        "\n",
        "\n",
        "#Findidng out the best tolerance value\n",
        "min_index=(log_loss_list.index(min(log_loss_list)))\n",
        "print(\"Best Tolerance, tol, Value: \", tol[min_index])"
      ],
      "execution_count": null,
      "outputs": [
        {
          "output_type": "display_data",
          "data": {
            "image/png": "[encoded data removed]",
            "text/plain": [
              "<Figure size 432x288 with 1 Axes>"
            ]
          },
          "metadata": {
            "tags": []
          }
        },
        {
          "output_type": "stream",
          "text": [
            "Best Tolerance, tol, Value:  0.5\n"
          ],
          "name": "stdout"
        }
      ]
    },
    {
      "cell_type": "markdown",
      "metadata": {
        "id": "E2z05iMlMLep"
      },
      "source": [
        "**1.2.13 Use Random Forest with default parameters to classify test data and report accuracy, recall, precision and f1-score and AUC. Set the random_state equal to 0. Please build as well a classification report separately which shows the metrics for each class. (0.4 points)**"
      ]
    },
    {
      "cell_type": "code",
      "metadata": {
        "colab": {
          "base_uri": "https://localhost:8080/"
        },
        "id": "EWibHlLAMLew",
        "outputId": "ca2b99e0-93aa-410e-853c-cd0999770cfd"
      },
      "source": [
        "from sklearn.ensemble import RandomForestClassifier\n",
        "\n",
        "rf_model = RandomForestClassifier(random_state=0)\n",
        "\n",
        "#TODO: train the model\n",
        "rf_model.fit(X_train, y_train)\n",
        "#TODO: predict on test set\n",
        "probs = rf_model.predict(X_test)\n",
        "#TODO: classification report\n",
        "metrics.classification_report(y_test, probs)\n",
        "accuracy = metrics.accuracy_score(y_test, probs)\n",
        "print('Accuracy of Random Forest classifier on test set: ', accuracy)\n",
        "\n",
        "confusion_materix = metrics.confusion_matrix(y_test,preds)\n",
        "print('Confusion materix of Random Forest classifier on test set: \\n', confusion_materix)\n"
      ],
      "execution_count": null,
      "outputs": [
        {
          "output_type": "stream",
          "text": [
            "Accuracy of Random Forest classifier on test set:  0.8526077097505669\n",
            "Confusion materix of Random Forest classifier on test set: \n",
            " [[368   3]\n",
            " [ 55  15]]\n"
          ],
          "name": "stdout"
        }
      ]
    },
    {
      "cell_type": "markdown",
      "metadata": {
        "id": "UJrqNiijMfjW"
      },
      "source": [
        "**1.2.14 Use the model from ```1.2.13```, calculate the predicted probability on test set. Threshold the probabilities such that it will output the class 'No'  only if the probability is 70% or higher. Otherwise, it will predict 'Yes'. (0.3 points)**\n"
      ]
    },
    {
      "cell_type": "code",
      "metadata": {
        "colab": {
          "base_uri": "https://localhost:8080/",
          "height": 223
        },
        "id": "9GpWHAWvNWZL",
        "outputId": "b407f464-0158-430f-f9de-27beb6081f19"
      },
      "source": [
        "#TODO: predict probability on test set\n",
        "y_pred = rf_model.predict_proba(X_test)\n",
        "#TODO: threshold probability\n",
        "\n",
        "y_pred_threshold = pd.DataFrame(y_pred)\n",
        "\n",
        "if y_pred_threshold > 0.70:\n",
        "  print('No')\n",
        "else:\n",
        "  print('yes')\n",
        "\n"
      ],
      "execution_count": null,
      "outputs": [
        {
          "output_type": "error",
          "ename": "NameError",
          "evalue": "ignored",
          "traceback": [
            "\u001b[0;31m---------------------------------------------------------------------------\u001b[0m",
            "\u001b[0;31mNameError\u001b[0m                                 Traceback (most recent call last)",
            "\u001b[0;32m<ipython-input-3-324876ff0d3e>\u001b[0m in \u001b[0;36m<module>\u001b[0;34m()\u001b[0m\n\u001b[1;32m      1\u001b[0m \u001b[0;31m#TODO: predict probability on test set\u001b[0m\u001b[0;34m\u001b[0m\u001b[0;34m\u001b[0m\u001b[0;34m\u001b[0m\u001b[0m\n\u001b[0;32m----> 2\u001b[0;31m \u001b[0my_pred\u001b[0m \u001b[0;34m=\u001b[0m \u001b[0mrf_model\u001b[0m\u001b[0;34m.\u001b[0m\u001b[0mpredict_proba\u001b[0m\u001b[0;34m(\u001b[0m\u001b[0mX_test\u001b[0m\u001b[0;34m)\u001b[0m\u001b[0;34m\u001b[0m\u001b[0;34m\u001b[0m\u001b[0m\n\u001b[0m\u001b[1;32m      3\u001b[0m \u001b[0;31m#TODO: threshold probability\u001b[0m\u001b[0;34m\u001b[0m\u001b[0;34m\u001b[0m\u001b[0;34m\u001b[0m\u001b[0m\n\u001b[1;32m      4\u001b[0m \u001b[0;34m\u001b[0m\u001b[0m\n\u001b[1;32m      5\u001b[0m \u001b[0my_pred_threshold\u001b[0m \u001b[0;34m=\u001b[0m \u001b[0mpd\u001b[0m\u001b[0;34m.\u001b[0m\u001b[0mDataFrame\u001b[0m\u001b[0;34m(\u001b[0m\u001b[0my_pred\u001b[0m\u001b[0;34m)\u001b[0m\u001b[0;34m\u001b[0m\u001b[0;34m\u001b[0m\u001b[0m\n",
            "\u001b[0;31mNameError\u001b[0m: name 'rf_model' is not defined"
          ]
        }
      ]
    },
    {
      "cell_type": "markdown",
      "metadata": {
        "id": "zk80i4XKNX6W"
      },
      "source": [
        "**1.2.15 Print the classification report agian. Do you think there were some improvements regarding the classification for class Yes? Explain your answer briefly. (0.4 points)**"
      ]
    },
    {
      "cell_type": "code",
      "metadata": {
        "id": "4C48fb3jNW4d"
      },
      "source": [
        "print(metrics.classification_report(y_test, y_pred_threshold))"
      ],
      "execution_count": null,
      "outputs": []
    },
    {
      "cell_type": "markdown",
      "metadata": {
        "id": "Am9hDnA5OMX6"
      },
      "source": [
        "**<font color='red'>Answer:</font>** "
      ]
    },
    {
      "cell_type": "markdown",
      "metadata": {
        "id": "Nge1WamEMLfJ"
      },
      "source": [
        "**1.2.16 Use XGBoost with default parameters to classify test data and report accuracy, recall, precision, f1-score and AUC. (0.3 points)**"
      ]
    },
    {
      "cell_type": "code",
      "metadata": {
        "id": "MO5l5l03MLfO",
        "colab": {
          "base_uri": "https://localhost:8080/"
        },
        "outputId": "558d7944-5b38-4250-b3dd-6bc5ecae759a"
      },
      "source": [
        "from xgboost import XGBClassifier\n",
        "\n",
        "xgb_model = XGBClassifier()\n",
        "\n",
        "#TODO: train the model\n",
        "xgb_model.fit(X_train, y_train)\n",
        "#TODO: predict on test set\n",
        "y_pred = xgb_model.predict(X_test)\n",
        "#TODO: calculate the metrics\n",
        "\n",
        "confusion_matrix = metrics.confusion_matrix(y_test, y_pred)\n",
        "\n",
        "TP = confusion_materix[0][0]\n",
        "FP = confusion_materix[0][1] \n",
        "FN = confusion_materix[1][0]\n",
        "TN = confusion_materix[1][1]\n",
        "\n",
        "acc = (TP+TN)/(TP+FP+FN+TN)\n",
        "rec = TP/(TP+FN)\n",
        "prec = TP/(TP+FP)\n",
        "f1_score = 2*((rec*prec)/(rec+prec))\n",
        "\n",
        "print('Accuracy: ', acc)\n",
        "print('Recall: ', rec)\n",
        "print('Precision: ', prec)\n",
        "print('F1_score: ', f1_score)\n",
        "print('AUC: ', auc)"
      ],
      "execution_count": null,
      "outputs": [
        {
          "output_type": "stream",
          "text": [
            "Accuracy:  0.8684807256235828\n",
            "Recall:  0.8699763593380615\n",
            "Precision:  0.9919137466307277\n",
            "F1_score:  0.9269521410579347\n",
            "AUC:  <function auc at 0x7f07c94394d0>\n"
          ],
          "name": "stdout"
        }
      ]
    },
    {
      "cell_type": "markdown",
      "metadata": {
        "id": "W41zIM_iMLfo"
      },
      "source": [
        "**1.2.17 For unbalanced datasets, choose the best classifier (based on evaluation metrics that seems good for this case-study) and plot its feature importances in decreasing order. Were the 3 most important features as you expected, you can use ```1.2.5``` as reference? Please explain why. (0.5 points)**"
      ]
    },
    {
      "cell_type": "code",
      "metadata": {
        "id": "TNhXkEyhZs_j",
        "colab": {
          "base_uri": "https://localhost:8080/"
        },
        "outputId": "f147f0ad-3bfb-4d71-f26c-88263e1b2db7"
      },
      "source": [
        "#TODO: choose a model\n",
        "from sklearn.ensemble import AdaBoostClassifier\n",
        "#TODO: train the model\n",
        "model = AdaBoostClassifier()\n",
        "model.fit(X_train,y_train)\n",
        "#TODO: predict on test set\n",
        "preds = model.predict(X_test)\n",
        "#TODO: calculate the metrics\n",
        "accuracy = metrics.accuracy_score(y_test, preds)\n",
        "print('Accuracy of AdaBoostClassifier on test set: ', accuracy)\n",
        "#TODO: feature importance calculation\n",
        "confusion_matrix = metrics.confusion_matrix(y_test, preds)\n",
        "\n",
        "TP = confusion_materix[0][0]\n",
        "FP = confusion_materix[0][1] \n",
        "FN = confusion_materix[1][0]\n",
        "TN = confusion_materix[1][1]\n",
        "\n",
        "acc = (TP+TN)/(TP+FP+FN+TN)\n",
        "rec = TP/(TP+FN)\n",
        "prec = TP/(TP+FP)\n",
        "f1_score = 2*((rec*prec)/(rec+prec))\n",
        "\n",
        "print('Accuracy: ', acc)\n",
        "print('Recall: ', rec)\n",
        "print('Precision: ', prec)\n",
        "print('F1_score: ', f1_score)\n",
        "\n",
        "\n",
        "\n"
      ],
      "execution_count": null,
      "outputs": [
        {
          "output_type": "stream",
          "text": [
            "Accuracy of AdaBoostClassifier on test set:  0.8526077097505669\n",
            "Accuracy:  0.8684807256235828\n",
            "Recall:  0.8699763593380615\n",
            "Precision:  0.9919137466307277\n",
            "F1_score:  0.9269521410579347\n"
          ],
          "name": "stdout"
        }
      ]
    },
    {
      "cell_type": "markdown",
      "metadata": {
        "id": "khLM_PzmMLfv"
      },
      "source": [
        "** italicized text<font color='red'>Answer: I choose it for better results and higher accuracy.</font>**"
      ]
    },
    {
      "cell_type": "markdown",
      "metadata": {
        "id": "0GBmXXe8MLf2"
      },
      "source": [
        "# 2. Improving classification (2 points)"
      ]
    },
    {
      "cell_type": "markdown",
      "metadata": {
        "id": "jjqzAyR4MLgM"
      },
      "source": [
        "**2.1 Do you think it is better to try oversampling or downsampling in this case study and why ? (0.4 points)** "
      ]
    },
    {
      "cell_type": "markdown",
      "metadata": {
        "id": "CDkfyTzhMLgR"
      },
      "source": [
        "**<font color='red'>Answer: It's crucial to try both techniques [Oversampling & Downsampling] for unbalanced datasets. Then check the results to see which one of these two gives us better rresults. Although that the oversampling techniques cases overfitting, when it comes to the downsampling could case loss of the information. But still this impletation importnat with unbalanced datasets.</font>** "
      ]
    },
    {
      "cell_type": "markdown",
      "metadata": {
        "id": "YaYBgnPLMLgY"
      },
      "source": [
        "**2.2 Apply oversampling to the data while keeping random_state equal to 0. (0.2 points)**"
      ]
    },
    {
      "cell_type": "code",
      "metadata": {
        "id": "Aj2QLJR8MLgn"
      },
      "source": [
        "from imblearn.over_sampling import RandomOverSampler\n",
        "#TODO: apply oversampling\n",
        "# Classes count\n",
        "count_class_0, count_class_1 = df['Attrition'].value_counts()\n",
        "\n",
        "# Divide df by class\n",
        "df_class_0 = df[df['Attrition'] == 0]\n",
        "df_class_1 = df[df['Attrition'] == 1]\n",
        "\n",
        "df_class_1_over = df_class_1.sample(count_class_0, replace=True)\n",
        "df_test_over = pd.concat([df_class_0, df_class_1_over], axis=0)\n",
        "\n",
        "print('Random over-sampling:')\n",
        "print(df_test_over.Attrition.value_counts())\n",
        "\n",
        "df_test_over.Attrition.value_counts().plot(kind='bar', title='Count (target)',color=colors);"
      ],
      "execution_count": null,
      "outputs": []
    },
    {
      "cell_type": "code",
      "metadata": {
        "id": "PqcYFhYyjQRm"
      },
      "source": [
        "#Convertin the predictor variable in a binary numeric variable\n",
        "df_test_over['Attrition'].replace(to_replace='Yes', value=1, inplace=True)\n",
        "df_test_over['Attrition'].replace(to_replace='No',  value=0, inplace=True)\n",
        "df_test_over.head()\n",
        "\n",
        "Feature = df_test_over[['DistanceFromHome','NumCompaniesWorked','WorkLifeBalance','EnvironmentSatisfaction',\n",
        "           'JobSatisfaction','JobInvolvement','YearsAtCompany','YearsWithCurrManager','TotalWorkingYears']]\n",
        "Feature = pd.concat([Feature,pd.get_dummies(df_test_over['JobInvolvement'])], axis=1)\n",
        "X = Feature[['DistanceFromHome','NumCompaniesWorked','WorkLifeBalance','EnvironmentSatisfaction',\n",
        "           'JobSatisfaction','JobInvolvement','YearsAtCompany','YearsWithCurrManager','TotalWorkingYears']]\n",
        "#X\n",
        "\n",
        "from sklearn import preprocessing\n",
        "X = preprocessing.StandardScaler().fit(X).transform(X)\n",
        "#X[0:5]\n",
        "\n",
        "# Target label, \n",
        "y = df_test_over['Attrition']\n",
        "#y"
      ],
      "execution_count": null,
      "outputs": []
    },
    {
      "cell_type": "code",
      "metadata": {
        "id": "V1aedpJajQak"
      },
      "source": [
        "from xgboost import XGBClassifier\n",
        "from sklearn.model_selection import train_test_split\n",
        "from sklearn.metrics import accuracy_score\n",
        "\n",
        "X_train, X_test, y_train, y_test = train_test_split(X, y, test_size=0.2, random_state=0)\n",
        "\n",
        "model = XGBClassifier()\n",
        "model.fit(X_train, y_train)\n",
        "y_pred = model.predict(X_test)\n",
        "\n",
        "accuracy = accuracy_score(y_test, y_pred)\n",
        "print(\"Accuracy: %.2f%%\" % (accuracy * 100.0))\n"
      ],
      "execution_count": null,
      "outputs": []
    },
    {
      "cell_type": "markdown",
      "metadata": {
        "id": "Kx-bFmqpMLhP"
      },
      "source": [
        "**2.3 Split the data into train/test set with a ratio 80/20. Keep a random_state equal to 0. Train a random forest model, test it and report accuracy, precision, recall, f1-score and AUC. (0.5 points)** "
      ]
    },
    {
      "cell_type": "code",
      "metadata": {
        "id": "zQVlRIJvMLhX"
      },
      "source": [
        "from sklearn import metrics\n",
        "from mlxtend.plotting import plot_confusion_matrix\n",
        "\n",
        "#TODO: train the model\n",
        "lr.fit(X_train, y_train)\n",
        "#TODO: predict on test set\n",
        "lr.predict(X_test)\n",
        "#TODO: calculate the metrics\n",
        "\n",
        "confusion_materix = metrics.confusion_matrix(y_test, y_pred)\n",
        "\n",
        "TP = confusion_materix[0][0]\n",
        "FP = confusion_materix[0][1] \n",
        "FN = confusion_materix[1][0]\n",
        "TN = confusion_materix[1][1]\n",
        "\n",
        "acc = (TP+TN)/(TP+FP+FN+TN)\n",
        "rec = TP/(TP+FN)\n",
        "prec = TP/(TP+FP)\n",
        "f1_score = 2*((rec*prec)/(rec+prec))\n",
        "\n",
        "\n",
        "print('Accuracy: ', acc)\n",
        "print('Recall: ', rec)\n",
        "print('Precision: ', prec)\n",
        "print('F1_score: ', f1_score)"
      ],
      "execution_count": null,
      "outputs": []
    },
    {
      "cell_type": "markdown",
      "metadata": {
        "id": "cWxZ0WobMLhm"
      },
      "source": [
        "**2.4 Apply undersampling to the data while keeping random_state equal to 0. (0.2 points)**"
      ]
    },
    {
      "cell_type": "code",
      "metadata": {
        "id": "rPIbRaRIMLhp"
      },
      "source": [
        "from imblearn.under_sampling import RandomUnderSampler\n",
        "#TODO: apply undersampling\n",
        "\n",
        "colors = [ '#66CDAA',  '#6495ED']\n",
        "\n",
        "# class 1: minority class\n",
        "# class 0: majority class\n",
        "# samples of the majority class\n",
        "\n",
        "df_class_0_under = df_class_0.sample(count_class_1)\n",
        "df_test_under = pd.concat([df_class_0_under, df_class_1], axis=0)\n",
        "\n",
        "print('Random under-sampling:')\n",
        "print(df_test_under.Attrition.value_counts())\n",
        "\n",
        "df_test_under.Attrition.value_counts().plot(kind='bar', title='Count (target)',color=colors);"
      ],
      "execution_count": null,
      "outputs": []
    },
    {
      "cell_type": "code",
      "metadata": {
        "id": "IEkXSfCyi16n"
      },
      "source": [
        "#Convertin the predictor variable in a binary numeric variable\n",
        "df_test_under['Attrition'].replace(to_replace='Yes', value=1, inplace=True)\n",
        "df_test_under['Attrition'].replace(to_replace='No',  value=0, inplace=True)\n",
        "df_test_under.head()\n",
        "\n",
        "Feature = df_test_over[['DistanceFromHome','NumCompaniesWorked','WorkLifeBalance','EnvironmentSatisfaction',\n",
        "           'JobSatisfaction','JobInvolvement','YearsAtCompany','YearsWithCurrManager','TotalWorkingYears']]\n",
        "Feature = pd.concat([Feature,pd.get_dummies(df_test_over['JobInvolvement'])], axis=1)\n",
        "X = Feature[['DistanceFromHome','NumCompaniesWorked','WorkLifeBalance','EnvironmentSatisfaction',\n",
        "           'JobSatisfaction','JobInvolvement','YearsAtCompany','YearsWithCurrManager','TotalWorkingYears']]\n",
        "\n",
        "\n",
        "from sklearn import preprocessing\n",
        "X = preprocessing.StandardScaler().fit(X).transform(X)\n",
        "\n",
        "# Target label, \n",
        "y = df_test_over['Attrition']"
      ],
      "execution_count": null,
      "outputs": []
    },
    {
      "cell_type": "code",
      "metadata": {
        "id": "rFIHrUxii35V"
      },
      "source": [
        "from xgboost import XGBClassifier\n",
        "from sklearn.model_selection import train_test_split\n",
        "from sklearn.metrics import accuracy_score\n",
        "\n",
        "X_train, X_test, y_train, y_test = train_test_split(X, y, test_size=0.2, random_state=0)\n",
        "\n",
        "model = XGBClassifier()\n",
        "model.fit(X_train, y_train)\n",
        "y_pred = model.predict(X_test)\n",
        "\n",
        "accuracy = accuracy_score(y_test, y_pred)\n",
        "print(\"Accuracy: %.2f%%\" % (accuracy * 100.0))"
      ],
      "execution_count": null,
      "outputs": []
    },
    {
      "cell_type": "markdown",
      "metadata": {
        "id": "TsQzm2JmMLiC"
      },
      "source": [
        "**2.5 Split the data into train/test set with a ratio 80/20. Keep a random_state equal to 0. Use the algorithm chosen in 1.2.12 to classify the test data and report accuracy, precision, recall, f1-score and AUC. (0.5 points)** "
      ]
    },
    {
      "cell_type": "code",
      "metadata": {
        "id": "RKi4p2MVMLiK"
      },
      "source": [
        "from sklearn import metrics\n",
        "from mlxtend.plotting import plot_confusion_matrix\n",
        "\n",
        "#TODO: train the model\n",
        "lr.fit(X_train, y_train)\n",
        "#TODO: predict on test set\n",
        "lr.predict(X_test)\n",
        "#TODO: calculate the metrics\n",
        "\n",
        "confusion_materix = metrics.confusion_matrix(y_test, y_pred)\n",
        "\n",
        "TP = confusion_materix[0][0]\n",
        "FP = confusion_materix[0][1] \n",
        "FN = confusion_materix[1][0]\n",
        "TN = confusion_materix[1][1]\n",
        "\n",
        "acc = (TP+TN)/(TP+FP+FN+TN)\n",
        "rec = TP/(TP+FN)\n",
        "prec = TP/(TP+FP)\n",
        "f1_score = 2*((rec*prec)/(rec+prec))\n",
        "\n",
        "\n",
        "print('Accuracy: ', acc)\n",
        "print('Recall: ', rec)\n",
        "print('Precision: ', prec)\n",
        "print('F1_score: ', f1_score)"
      ],
      "execution_count": null,
      "outputs": []
    },
    {
      "cell_type": "markdown",
      "metadata": {
        "id": "pUys5JOCZs_l"
      },
      "source": [
        "**2.6 Which one performed better between over and under sampling (0.2 points)** "
      ]
    },
    {
      "cell_type": "markdown",
      "metadata": {
        "id": "cn0V-iHeZs_l"
      },
      "source": [
        "<font color='red'> **Answer: Both of the techniques gave me the same results, so applying any of them will be sufficient!!**</font>"
      ]
    },
    {
      "cell_type": "markdown",
      "metadata": {
        "id": "on8nnIjpMLjE"
      },
      "source": [
        "## How long did it take you to solve the homework?\n",
        "\n",
        "* Please answer as precisely as you can. It does not affect your points or grade in any way. It is okay, if it took 0.5 hours or 24 hours. The collected information will be used to improve future homeworks.\n",
        "\n",
        "<font color='red'> **Answer:**</font>\n",
        "\n",
        "\n",
        "\n",
        "## What is the level of difficulty for this homework?\n",
        "you can put only number between $0:10$ ($0:$ easy, $10:$ difficult)\n",
        "\n",
        "<font color='red'> **Answer:** </font>"
      ]
    },
    {
      "cell_type": "code",
      "metadata": {
        "id": "jF-RRO5QMLjL"
      },
      "source": [
        ""
      ],
      "execution_count": null,
      "outputs": []
    }
  ]
}
